{
 "cells": [
  {
   "cell_type": "markdown",
   "id": "innocent-humanity",
   "metadata": {},
   "source": [
    "<img src=\"img/Logo_OpenClassrooms.png\" width=100 />"
   ]
  },
  {
   "cell_type": "markdown",
   "id": "identified-sensitivity",
   "metadata": {},
   "source": [
    "# OpenClassrooms Projet 5: Segmentez des clients d'un site e-commerce\n",
    "# Modélisation\n",
    "\n",
    "Olist souhaite que vous fournissiez à ses équipes d'e-commerce une segmentation des clients qu’elles pourront utiliser au quotidien pour leurs campagnes de communication.\n",
    "\n",
    "Votre objectif est de comprendre les différents types d’utilisateurs grâce à leur comportement et à leurs données personnelles.\n",
    "\n",
    "Vous devrez fournir à l’équipe marketing une description actionable de votre segmentation et de sa logique sous-jacente pour une utilisation optimale, ainsi qu’une proposition de contrat de maintenance basée sur une analyse de la stabilité des segments au cours du temps.\n",
    "\n",
    "### Les données\n",
    "Pour cette mission, Olist vous fournit une base de données anonymisée comportant des informations sur l’historique de commandes, les produits achetés, les commentaires de satisfaction, et la localisation des clients depuis janvier 2017.\n",
    "\n",
    "### Votre mission\n",
    "Votre mission est d’aider les équipes d’Olist à comprendre les différents types d'utilisateurs. Vous utiliserez donc des méthodes non supervisées pour regrouper ensemble des clients de profils similaires. Ces catégories pourront être utilisées par l’équipe marketing pour mieux communiquer.\n",
    "\n",
    "Pour des raisons de confidentialité, Olist ne fournit pas beaucoup de données, à vous de fouiller dans celles dont vous disposez et de créer les meilleures features pour les exploiter.\n",
    "\n",
    "Enfin, votre client, Olist, a spécifié sa demande ainsi :\n",
    "\n",
    "- La segmentation proposée doit être exploitable et facile d’utilisation pour l’équipe marketing.\n",
    "- Vous évaluerez la fréquence à laquelle la segmentation doit être mise à jour, afin de pouvoir effectuer un devis de contrat de maintenance.\n",
    "- Le code fourni doit respecter la convention PEP8, pour être utilisable par Olist.\n"
   ]
  },
  {
   "cell_type": "markdown",
   "id": "reserved-maple",
   "metadata": {},
   "source": [
    "# Sommaire\n",
    "### [Bibliothèques](#bibli)\n",
    "### [Fonctions](#funcs)\n",
    "### [Données](#donnees)\n",
    "### [Centrage des données](#scaling)\n",
    "### [Analyse en composantes principales](#PCA)\n",
    "### [t-SNE](#tsne)\n",
    "### [k-Means](#kmeans)"
   ]
  },
  {
   "cell_type": "markdown",
   "id": "alive-struggle",
   "metadata": {},
   "source": [
    "<a id='bibli'></a>\n",
    "# Import de bibliothèques 📚"
   ]
  },
  {
   "cell_type": "code",
   "execution_count": 67,
   "id": "unique-saint",
   "metadata": {},
   "outputs": [],
   "source": [
    "import pandas as pd\n",
    "pd.set_option(\"mode.chained_assignment\", None)\n",
    "import numpy as np\n",
    "import matplotlib.pyplot as plt\n",
    "\n",
    "from sklearn.preprocessing import StandardScaler\n",
    "from sklearn import decomposition\n",
    "from sklearn import manifold\n",
    "from sklearn.cluster import KMeans\n",
    "from sklearn import metrics\n",
    "\n",
    "import mlflow\n",
    "\n",
    "import time"
   ]
  },
  {
   "cell_type": "markdown",
   "id": "advanced-breathing",
   "metadata": {},
   "source": [
    "<a id='funcs'></a>"
   ]
  },
  {
   "cell_type": "markdown",
   "id": "dependent-mailman",
   "metadata": {},
   "source": [
    "# Fonctions ⚙️"
   ]
  },
  {
   "cell_type": "code",
   "execution_count": null,
   "id": "distinct-authentication",
   "metadata": {},
   "outputs": [],
   "source": []
  },
  {
   "cell_type": "markdown",
   "id": "domestic-screening",
   "metadata": {},
   "source": [
    "<a id='donnees'></a>"
   ]
  },
  {
   "cell_type": "markdown",
   "id": "authorized-argument",
   "metadata": {},
   "source": [
    "# Données 🎁"
   ]
  },
  {
   "cell_type": "markdown",
   "id": "molecular-herald",
   "metadata": {},
   "source": [
    "<img src=\"img/structure.png\" width=500 />"
   ]
  },
  {
   "cell_type": "markdown",
   "id": "bulgarian-statement",
   "metadata": {},
   "source": [
    "Les données ont été travaillées pour etre rassemblées dans une base propre ayant pour index les ids des clients ayant fait 2 commandes ou plus. Les varaiables ont été crées pour représenter leurs comportemenst, leur satisfactions et leurs expériences"
   ]
  },
  {
   "cell_type": "code",
   "execution_count": 2,
   "id": "therapeutic-challenge",
   "metadata": {},
   "outputs": [],
   "source": [
    "data = pd.read_csv(\"data/customer_data.csv\", index_col=[0])"
   ]
  },
  {
   "cell_type": "code",
   "execution_count": 3,
   "id": "effective-jumping",
   "metadata": {},
   "outputs": [
    {
     "data": {
      "text/html": [
       "<div>\n",
       "<style scoped>\n",
       "    .dataframe tbody tr th:only-of-type {\n",
       "        vertical-align: middle;\n",
       "    }\n",
       "\n",
       "    .dataframe tbody tr th {\n",
       "        vertical-align: top;\n",
       "    }\n",
       "\n",
       "    .dataframe thead th {\n",
       "        text-align: right;\n",
       "    }\n",
       "</style>\n",
       "<table border=\"1\" class=\"dataframe\">\n",
       "  <thead>\n",
       "    <tr style=\"text-align: right;\">\n",
       "      <th></th>\n",
       "      <th>nb_orders</th>\n",
       "      <th>days_since_first_order</th>\n",
       "      <th>days_since_last_order</th>\n",
       "      <th>frequency</th>\n",
       "      <th>sum_orders</th>\n",
       "      <th>nb_reviews</th>\n",
       "      <th>average_review_score</th>\n",
       "      <th>average_delivery_time</th>\n",
       "      <th>delay_rate</th>\n",
       "      <th>advance_rate</th>\n",
       "      <th>...</th>\n",
       "      <th>stationery</th>\n",
       "      <th>tablets_printing_image</th>\n",
       "      <th>telephony</th>\n",
       "      <th>tools</th>\n",
       "      <th>toys</th>\n",
       "      <th>watches_gifts</th>\n",
       "      <th>cash</th>\n",
       "      <th>credit_card</th>\n",
       "      <th>debit_card</th>\n",
       "      <th>voucher</th>\n",
       "    </tr>\n",
       "    <tr>\n",
       "      <th>customer_unique_id</th>\n",
       "      <th></th>\n",
       "      <th></th>\n",
       "      <th></th>\n",
       "      <th></th>\n",
       "      <th></th>\n",
       "      <th></th>\n",
       "      <th></th>\n",
       "      <th></th>\n",
       "      <th></th>\n",
       "      <th></th>\n",
       "      <th></th>\n",
       "      <th></th>\n",
       "      <th></th>\n",
       "      <th></th>\n",
       "      <th></th>\n",
       "      <th></th>\n",
       "      <th></th>\n",
       "      <th></th>\n",
       "      <th></th>\n",
       "      <th></th>\n",
       "      <th></th>\n",
       "    </tr>\n",
       "  </thead>\n",
       "  <tbody>\n",
       "    <tr>\n",
       "      <th>00172711b30d52eea8b313a7f2cced02</th>\n",
       "      <td>2</td>\n",
       "      <td>81</td>\n",
       "      <td>65</td>\n",
       "      <td>0.751543</td>\n",
       "      <td>74.50</td>\n",
       "      <td>2.0</td>\n",
       "      <td>4.0</td>\n",
       "      <td>11</td>\n",
       "      <td>0.0</td>\n",
       "      <td>1.0</td>\n",
       "      <td>...</td>\n",
       "      <td>1</td>\n",
       "      <td>0</td>\n",
       "      <td>0</td>\n",
       "      <td>0</td>\n",
       "      <td>0</td>\n",
       "      <td>0</td>\n",
       "      <td>0</td>\n",
       "      <td>0</td>\n",
       "      <td>0</td>\n",
       "      <td>1</td>\n",
       "    </tr>\n",
       "    <tr>\n",
       "      <th>004288347e5e88a27ded2bb23747066c</th>\n",
       "      <td>2</td>\n",
       "      <td>447</td>\n",
       "      <td>276</td>\n",
       "      <td>0.136186</td>\n",
       "      <td>317.89</td>\n",
       "      <td>2.0</td>\n",
       "      <td>5.0</td>\n",
       "      <td>7</td>\n",
       "      <td>0.0</td>\n",
       "      <td>1.0</td>\n",
       "      <td>...</td>\n",
       "      <td>0</td>\n",
       "      <td>0</td>\n",
       "      <td>0</td>\n",
       "      <td>0</td>\n",
       "      <td>0</td>\n",
       "      <td>0</td>\n",
       "      <td>0</td>\n",
       "      <td>1</td>\n",
       "      <td>0</td>\n",
       "      <td>0</td>\n",
       "    </tr>\n",
       "    <tr>\n",
       "      <th>004b45ec5c64187465168251cd1c9c2f</th>\n",
       "      <td>2</td>\n",
       "      <td>411</td>\n",
       "      <td>143</td>\n",
       "      <td>0.148114</td>\n",
       "      <td>86.90</td>\n",
       "      <td>2.0</td>\n",
       "      <td>3.0</td>\n",
       "      <td>22</td>\n",
       "      <td>0.0</td>\n",
       "      <td>1.0</td>\n",
       "      <td>...</td>\n",
       "      <td>0</td>\n",
       "      <td>0</td>\n",
       "      <td>0</td>\n",
       "      <td>1</td>\n",
       "      <td>0</td>\n",
       "      <td>0</td>\n",
       "      <td>1</td>\n",
       "      <td>0</td>\n",
       "      <td>0</td>\n",
       "      <td>0</td>\n",
       "    </tr>\n",
       "    <tr>\n",
       "      <th>0058f300f57d7b93c477a131a59b36c3</th>\n",
       "      <td>2</td>\n",
       "      <td>240</td>\n",
       "      <td>208</td>\n",
       "      <td>0.253646</td>\n",
       "      <td>132.48</td>\n",
       "      <td>2.0</td>\n",
       "      <td>3.0</td>\n",
       "      <td>13</td>\n",
       "      <td>0.0</td>\n",
       "      <td>1.0</td>\n",
       "      <td>...</td>\n",
       "      <td>0</td>\n",
       "      <td>0</td>\n",
       "      <td>0</td>\n",
       "      <td>0</td>\n",
       "      <td>0</td>\n",
       "      <td>0</td>\n",
       "      <td>0</td>\n",
       "      <td>0</td>\n",
       "      <td>0</td>\n",
       "      <td>1</td>\n",
       "    </tr>\n",
       "    <tr>\n",
       "      <th>00a39521eb40f7012db50455bf083460</th>\n",
       "      <td>2</td>\n",
       "      <td>146</td>\n",
       "      <td>136</td>\n",
       "      <td>0.416952</td>\n",
       "      <td>81.45</td>\n",
       "      <td>2.0</td>\n",
       "      <td>4.0</td>\n",
       "      <td>18</td>\n",
       "      <td>0.0</td>\n",
       "      <td>1.0</td>\n",
       "      <td>...</td>\n",
       "      <td>0</td>\n",
       "      <td>0</td>\n",
       "      <td>0</td>\n",
       "      <td>0</td>\n",
       "      <td>0</td>\n",
       "      <td>0</td>\n",
       "      <td>0</td>\n",
       "      <td>1</td>\n",
       "      <td>0</td>\n",
       "      <td>0</td>\n",
       "    </tr>\n",
       "  </tbody>\n",
       "</table>\n",
       "<p>5 rows × 51 columns</p>\n",
       "</div>"
      ],
      "text/plain": [
       "                                  nb_orders  days_since_first_order  \\\n",
       "customer_unique_id                                                    \n",
       "00172711b30d52eea8b313a7f2cced02          2                      81   \n",
       "004288347e5e88a27ded2bb23747066c          2                     447   \n",
       "004b45ec5c64187465168251cd1c9c2f          2                     411   \n",
       "0058f300f57d7b93c477a131a59b36c3          2                     240   \n",
       "00a39521eb40f7012db50455bf083460          2                     146   \n",
       "\n",
       "                                  days_since_last_order  frequency  \\\n",
       "customer_unique_id                                                   \n",
       "00172711b30d52eea8b313a7f2cced02                     65   0.751543   \n",
       "004288347e5e88a27ded2bb23747066c                    276   0.136186   \n",
       "004b45ec5c64187465168251cd1c9c2f                    143   0.148114   \n",
       "0058f300f57d7b93c477a131a59b36c3                    208   0.253646   \n",
       "00a39521eb40f7012db50455bf083460                    136   0.416952   \n",
       "\n",
       "                                  sum_orders  nb_reviews  \\\n",
       "customer_unique_id                                         \n",
       "00172711b30d52eea8b313a7f2cced02       74.50         2.0   \n",
       "004288347e5e88a27ded2bb23747066c      317.89         2.0   \n",
       "004b45ec5c64187465168251cd1c9c2f       86.90         2.0   \n",
       "0058f300f57d7b93c477a131a59b36c3      132.48         2.0   \n",
       "00a39521eb40f7012db50455bf083460       81.45         2.0   \n",
       "\n",
       "                                  average_review_score  average_delivery_time  \\\n",
       "customer_unique_id                                                              \n",
       "00172711b30d52eea8b313a7f2cced02                   4.0                     11   \n",
       "004288347e5e88a27ded2bb23747066c                   5.0                      7   \n",
       "004b45ec5c64187465168251cd1c9c2f                   3.0                     22   \n",
       "0058f300f57d7b93c477a131a59b36c3                   3.0                     13   \n",
       "00a39521eb40f7012db50455bf083460                   4.0                     18   \n",
       "\n",
       "                                  delay_rate  advance_rate  ...  stationery  \\\n",
       "customer_unique_id                                          ...               \n",
       "00172711b30d52eea8b313a7f2cced02         0.0           1.0  ...           1   \n",
       "004288347e5e88a27ded2bb23747066c         0.0           1.0  ...           0   \n",
       "004b45ec5c64187465168251cd1c9c2f         0.0           1.0  ...           0   \n",
       "0058f300f57d7b93c477a131a59b36c3         0.0           1.0  ...           0   \n",
       "00a39521eb40f7012db50455bf083460         0.0           1.0  ...           0   \n",
       "\n",
       "                                  tablets_printing_image  telephony  tools  \\\n",
       "customer_unique_id                                                           \n",
       "00172711b30d52eea8b313a7f2cced02                       0          0      0   \n",
       "004288347e5e88a27ded2bb23747066c                       0          0      0   \n",
       "004b45ec5c64187465168251cd1c9c2f                       0          0      1   \n",
       "0058f300f57d7b93c477a131a59b36c3                       0          0      0   \n",
       "00a39521eb40f7012db50455bf083460                       0          0      0   \n",
       "\n",
       "                                  toys  watches_gifts  cash  credit_card  \\\n",
       "customer_unique_id                                                         \n",
       "00172711b30d52eea8b313a7f2cced02     0              0     0            0   \n",
       "004288347e5e88a27ded2bb23747066c     0              0     0            1   \n",
       "004b45ec5c64187465168251cd1c9c2f     0              0     1            0   \n",
       "0058f300f57d7b93c477a131a59b36c3     0              0     0            0   \n",
       "00a39521eb40f7012db50455bf083460     0              0     0            1   \n",
       "\n",
       "                                  debit_card  voucher  \n",
       "customer_unique_id                                     \n",
       "00172711b30d52eea8b313a7f2cced02           0        1  \n",
       "004288347e5e88a27ded2bb23747066c           0        0  \n",
       "004b45ec5c64187465168251cd1c9c2f           0        0  \n",
       "0058f300f57d7b93c477a131a59b36c3           0        1  \n",
       "00a39521eb40f7012db50455bf083460           0        0  \n",
       "\n",
       "[5 rows x 51 columns]"
      ]
     },
     "execution_count": 3,
     "metadata": {},
     "output_type": "execute_result"
    }
   ],
   "source": [
    "data.head()"
   ]
  },
  {
   "cell_type": "code",
   "execution_count": 4,
   "id": "acknowledged-sample",
   "metadata": {},
   "outputs": [
    {
     "data": {
      "text/plain": [
       "(2997, 51)"
      ]
     },
     "execution_count": 4,
     "metadata": {},
     "output_type": "execute_result"
    }
   ],
   "source": [
    "data.shape"
   ]
  },
  {
   "cell_type": "code",
   "execution_count": 5,
   "id": "direct-conversion",
   "metadata": {},
   "outputs": [
    {
     "data": {
      "text/plain": [
       "Index(['nb_orders', 'days_since_first_order', 'days_since_last_order',\n",
       "       'frequency', 'sum_orders', 'nb_reviews', 'average_review_score',\n",
       "       'average_delivery_time', 'delay_rate', 'advance_rate',\n",
       "       'cancelation_rate', 'air_conditioning', 'appliances',\n",
       "       'arts_and_craftmanship', 'audio', 'auto', 'baby', 'books',\n",
       "       'christmas_supplies', 'cine_photo', 'computers', 'consoles_games',\n",
       "       'cool_stuff', 'diapers_and_hygiene', 'dvds_blu_ray', 'electronics',\n",
       "       'fashion', 'food_drink', 'furniture', 'health_beauty', 'home_confort',\n",
       "       'home_construction', 'housewares', 'industry', 'luggage_accessories',\n",
       "       'market_place', 'music', 'other', 'pet_shop', 'signaling_and_security',\n",
       "       'sports_leisure', 'stationery', 'tablets_printing_image', 'telephony',\n",
       "       'tools', 'toys', 'watches_gifts', 'cash', 'credit_card', 'debit_card',\n",
       "       'voucher'],\n",
       "      dtype='object')"
      ]
     },
     "execution_count": 5,
     "metadata": {},
     "output_type": "execute_result"
    }
   ],
   "source": [
    "data.columns"
   ]
  },
  {
   "cell_type": "code",
   "execution_count": 6,
   "id": "confused-sacramento",
   "metadata": {},
   "outputs": [],
   "source": [
    "cols_numeric = data.loc[:,:'cancelation_rate'].columns\n",
    "cols_categ = data.loc[:,'air_conditioning':].columns"
   ]
  },
  {
   "cell_type": "markdown",
   "id": "corrected-state",
   "metadata": {},
   "source": [
    "<a id='scaling'></a>\n",
    "# Centrage des données 📊"
   ]
  },
  {
   "cell_type": "markdown",
   "id": "numeric-district",
   "metadata": {},
   "source": [
    "D'après la théorie de l'analyse en composante principale, pour pouvoir projeter nos données dans une base orthonormée de plus faible dimension alors la matrice des données doit être normée elle aussi"
   ]
  },
  {
   "cell_type": "code",
   "execution_count": 7,
   "id": "covered-capital",
   "metadata": {},
   "outputs": [],
   "source": [
    "scaler = StandardScaler()"
   ]
  },
  {
   "cell_type": "code",
   "execution_count": 8,
   "id": "saved-carry",
   "metadata": {},
   "outputs": [
    {
     "data": {
      "text/plain": [
       "StandardScaler()"
      ]
     },
     "execution_count": 8,
     "metadata": {},
     "output_type": "execute_result"
    }
   ],
   "source": [
    "scaler.fit(data[cols_numeric])"
   ]
  },
  {
   "cell_type": "code",
   "execution_count": 9,
   "id": "played-creator",
   "metadata": {},
   "outputs": [
    {
     "data": {
      "text/plain": [
       "(2997, 11)"
      ]
     },
     "execution_count": 9,
     "metadata": {},
     "output_type": "execute_result"
    }
   ],
   "source": [
    "scaler.transform(data[cols_numeric]).shape"
   ]
  },
  {
   "cell_type": "code",
   "execution_count": 10,
   "id": "suited-pontiac",
   "metadata": {},
   "outputs": [],
   "source": [
    "data_scale = pd.concat([pd.DataFrame(data=scaler.transform(data[cols_numeric]), index=data.index, columns=cols_numeric), data[cols_categ]], axis=1)"
   ]
  },
  {
   "cell_type": "code",
   "execution_count": 11,
   "id": "defined-christian",
   "metadata": {},
   "outputs": [
    {
     "data": {
      "text/html": [
       "<div>\n",
       "<style scoped>\n",
       "    .dataframe tbody tr th:only-of-type {\n",
       "        vertical-align: middle;\n",
       "    }\n",
       "\n",
       "    .dataframe tbody tr th {\n",
       "        vertical-align: top;\n",
       "    }\n",
       "\n",
       "    .dataframe thead th {\n",
       "        text-align: right;\n",
       "    }\n",
       "</style>\n",
       "<table border=\"1\" class=\"dataframe\">\n",
       "  <thead>\n",
       "    <tr style=\"text-align: right;\">\n",
       "      <th></th>\n",
       "      <th>nb_orders</th>\n",
       "      <th>days_since_first_order</th>\n",
       "      <th>days_since_last_order</th>\n",
       "      <th>frequency</th>\n",
       "      <th>sum_orders</th>\n",
       "      <th>nb_reviews</th>\n",
       "      <th>average_review_score</th>\n",
       "      <th>average_delivery_time</th>\n",
       "      <th>delay_rate</th>\n",
       "      <th>advance_rate</th>\n",
       "      <th>...</th>\n",
       "      <th>stationery</th>\n",
       "      <th>tablets_printing_image</th>\n",
       "      <th>telephony</th>\n",
       "      <th>tools</th>\n",
       "      <th>toys</th>\n",
       "      <th>watches_gifts</th>\n",
       "      <th>cash</th>\n",
       "      <th>credit_card</th>\n",
       "      <th>debit_card</th>\n",
       "      <th>voucher</th>\n",
       "    </tr>\n",
       "    <tr>\n",
       "      <th>customer_unique_id</th>\n",
       "      <th></th>\n",
       "      <th></th>\n",
       "      <th></th>\n",
       "      <th></th>\n",
       "      <th></th>\n",
       "      <th></th>\n",
       "      <th></th>\n",
       "      <th></th>\n",
       "      <th></th>\n",
       "      <th></th>\n",
       "      <th></th>\n",
       "      <th></th>\n",
       "      <th></th>\n",
       "      <th></th>\n",
       "      <th></th>\n",
       "      <th></th>\n",
       "      <th></th>\n",
       "      <th></th>\n",
       "      <th></th>\n",
       "      <th></th>\n",
       "      <th></th>\n",
       "    </tr>\n",
       "  </thead>\n",
       "  <tbody>\n",
       "    <tr>\n",
       "      <th>00172711b30d52eea8b313a7f2cced02</th>\n",
       "      <td>-0.224803</td>\n",
       "      <td>-1.852280</td>\n",
       "      <td>-1.398262</td>\n",
       "      <td>3.087087</td>\n",
       "      <td>-0.600943</td>\n",
       "      <td>-0.389069</td>\n",
       "      <td>-0.085903</td>\n",
       "      <td>-0.131181</td>\n",
       "      <td>-0.300228</td>\n",
       "      <td>0.398466</td>\n",
       "      <td>...</td>\n",
       "      <td>1</td>\n",
       "      <td>0</td>\n",
       "      <td>0</td>\n",
       "      <td>0</td>\n",
       "      <td>0</td>\n",
       "      <td>0</td>\n",
       "      <td>0</td>\n",
       "      <td>0</td>\n",
       "      <td>0</td>\n",
       "      <td>1</td>\n",
       "    </tr>\n",
       "    <tr>\n",
       "      <th>004288347e5e88a27ded2bb23747066c</th>\n",
       "      <td>-0.224803</td>\n",
       "      <td>0.617311</td>\n",
       "      <td>0.053624</td>\n",
       "      <td>-0.585370</td>\n",
       "      <td>0.188105</td>\n",
       "      <td>-0.389069</td>\n",
       "      <td>0.783741</td>\n",
       "      <td>-0.691820</td>\n",
       "      <td>-0.300228</td>\n",
       "      <td>0.398466</td>\n",
       "      <td>...</td>\n",
       "      <td>0</td>\n",
       "      <td>0</td>\n",
       "      <td>0</td>\n",
       "      <td>0</td>\n",
       "      <td>0</td>\n",
       "      <td>0</td>\n",
       "      <td>0</td>\n",
       "      <td>1</td>\n",
       "      <td>0</td>\n",
       "      <td>0</td>\n",
       "    </tr>\n",
       "    <tr>\n",
       "      <th>004b45ec5c64187465168251cd1c9c2f</th>\n",
       "      <td>-0.224803</td>\n",
       "      <td>0.374401</td>\n",
       "      <td>-0.861546</td>\n",
       "      <td>-0.514179</td>\n",
       "      <td>-0.560744</td>\n",
       "      <td>-0.389069</td>\n",
       "      <td>-0.955547</td>\n",
       "      <td>1.410577</td>\n",
       "      <td>-0.300228</td>\n",
       "      <td>0.398466</td>\n",
       "      <td>...</td>\n",
       "      <td>0</td>\n",
       "      <td>0</td>\n",
       "      <td>0</td>\n",
       "      <td>1</td>\n",
       "      <td>0</td>\n",
       "      <td>0</td>\n",
       "      <td>1</td>\n",
       "      <td>0</td>\n",
       "      <td>0</td>\n",
       "      <td>0</td>\n",
       "    </tr>\n",
       "    <tr>\n",
       "      <th>0058f300f57d7b93c477a131a59b36c3</th>\n",
       "      <td>-0.224803</td>\n",
       "      <td>-0.779425</td>\n",
       "      <td>-0.414282</td>\n",
       "      <td>0.115633</td>\n",
       "      <td>-0.412978</td>\n",
       "      <td>-0.389069</td>\n",
       "      <td>-0.955547</td>\n",
       "      <td>0.149139</td>\n",
       "      <td>-0.300228</td>\n",
       "      <td>0.398466</td>\n",
       "      <td>...</td>\n",
       "      <td>0</td>\n",
       "      <td>0</td>\n",
       "      <td>0</td>\n",
       "      <td>0</td>\n",
       "      <td>0</td>\n",
       "      <td>0</td>\n",
       "      <td>0</td>\n",
       "      <td>0</td>\n",
       "      <td>0</td>\n",
       "      <td>1</td>\n",
       "    </tr>\n",
       "    <tr>\n",
       "      <th>00a39521eb40f7012db50455bf083460</th>\n",
       "      <td>-0.224803</td>\n",
       "      <td>-1.413691</td>\n",
       "      <td>-0.909712</td>\n",
       "      <td>1.090245</td>\n",
       "      <td>-0.578412</td>\n",
       "      <td>-0.389069</td>\n",
       "      <td>-0.085903</td>\n",
       "      <td>0.849938</td>\n",
       "      <td>-0.300228</td>\n",
       "      <td>0.398466</td>\n",
       "      <td>...</td>\n",
       "      <td>0</td>\n",
       "      <td>0</td>\n",
       "      <td>0</td>\n",
       "      <td>0</td>\n",
       "      <td>0</td>\n",
       "      <td>0</td>\n",
       "      <td>0</td>\n",
       "      <td>1</td>\n",
       "      <td>0</td>\n",
       "      <td>0</td>\n",
       "    </tr>\n",
       "    <tr>\n",
       "      <th>...</th>\n",
       "      <td>...</td>\n",
       "      <td>...</td>\n",
       "      <td>...</td>\n",
       "      <td>...</td>\n",
       "      <td>...</td>\n",
       "      <td>...</td>\n",
       "      <td>...</td>\n",
       "      <td>...</td>\n",
       "      <td>...</td>\n",
       "      <td>...</td>\n",
       "      <td>...</td>\n",
       "      <td>...</td>\n",
       "      <td>...</td>\n",
       "      <td>...</td>\n",
       "      <td>...</td>\n",
       "      <td>...</td>\n",
       "      <td>...</td>\n",
       "      <td>...</td>\n",
       "      <td>...</td>\n",
       "      <td>...</td>\n",
       "      <td>...</td>\n",
       "    </tr>\n",
       "    <tr>\n",
       "      <th>ff36be26206fffe1eb37afd54c70e18b</th>\n",
       "      <td>1.711215</td>\n",
       "      <td>-1.852280</td>\n",
       "      <td>-1.467072</td>\n",
       "      <td>5.329693</td>\n",
       "      <td>-0.589921</td>\n",
       "      <td>1.027748</td>\n",
       "      <td>-0.955547</td>\n",
       "      <td>0.008979</td>\n",
       "      <td>-0.300228</td>\n",
       "      <td>-3.952728</td>\n",
       "      <td>...</td>\n",
       "      <td>0</td>\n",
       "      <td>0</td>\n",
       "      <td>0</td>\n",
       "      <td>0</td>\n",
       "      <td>0</td>\n",
       "      <td>0</td>\n",
       "      <td>0</td>\n",
       "      <td>0</td>\n",
       "      <td>0</td>\n",
       "      <td>1</td>\n",
       "    </tr>\n",
       "    <tr>\n",
       "      <th>ff44401d0d8f5b9c54a47374eb48c1b8</th>\n",
       "      <td>-0.224803</td>\n",
       "      <td>1.076142</td>\n",
       "      <td>1.698178</td>\n",
       "      <td>-0.692685</td>\n",
       "      <td>-0.713438</td>\n",
       "      <td>-0.389069</td>\n",
       "      <td>-0.955547</td>\n",
       "      <td>0.008979</td>\n",
       "      <td>-0.300228</td>\n",
       "      <td>0.398466</td>\n",
       "      <td>...</td>\n",
       "      <td>0</td>\n",
       "      <td>0</td>\n",
       "      <td>0</td>\n",
       "      <td>0</td>\n",
       "      <td>0</td>\n",
       "      <td>0</td>\n",
       "      <td>0</td>\n",
       "      <td>0</td>\n",
       "      <td>0</td>\n",
       "      <td>1</td>\n",
       "    </tr>\n",
       "    <tr>\n",
       "      <th>ff8892f7c26aa0446da53d01b18df463</th>\n",
       "      <td>-0.224803</td>\n",
       "      <td>1.049152</td>\n",
       "      <td>0.383911</td>\n",
       "      <td>-0.687163</td>\n",
       "      <td>0.058623</td>\n",
       "      <td>1.027748</td>\n",
       "      <td>-1.245428</td>\n",
       "      <td>3.512974</td>\n",
       "      <td>2.654544</td>\n",
       "      <td>-1.777131</td>\n",
       "      <td>...</td>\n",
       "      <td>0</td>\n",
       "      <td>0</td>\n",
       "      <td>0</td>\n",
       "      <td>0</td>\n",
       "      <td>0</td>\n",
       "      <td>1</td>\n",
       "      <td>0</td>\n",
       "      <td>1</td>\n",
       "      <td>0</td>\n",
       "      <td>0</td>\n",
       "    </tr>\n",
       "    <tr>\n",
       "      <th>ff922bdd6bafcdf99cb90d7f39cea5b3</th>\n",
       "      <td>1.711215</td>\n",
       "      <td>1.663176</td>\n",
       "      <td>0.893103</td>\n",
       "      <td>-0.492888</td>\n",
       "      <td>-0.535165</td>\n",
       "      <td>1.027748</td>\n",
       "      <td>0.203978</td>\n",
       "      <td>0.709778</td>\n",
       "      <td>1.669620</td>\n",
       "      <td>-1.051932</td>\n",
       "      <td>...</td>\n",
       "      <td>0</td>\n",
       "      <td>0</td>\n",
       "      <td>0</td>\n",
       "      <td>0</td>\n",
       "      <td>0</td>\n",
       "      <td>0</td>\n",
       "      <td>0</td>\n",
       "      <td>1</td>\n",
       "      <td>0</td>\n",
       "      <td>0</td>\n",
       "    </tr>\n",
       "    <tr>\n",
       "      <th>ffe254cc039740e17dd15a5305035928</th>\n",
       "      <td>-0.224803</td>\n",
       "      <td>1.400023</td>\n",
       "      <td>2.028465</td>\n",
       "      <td>-0.752829</td>\n",
       "      <td>-0.676869</td>\n",
       "      <td>-0.389069</td>\n",
       "      <td>-0.955547</td>\n",
       "      <td>0.709778</td>\n",
       "      <td>-0.300228</td>\n",
       "      <td>0.398466</td>\n",
       "      <td>...</td>\n",
       "      <td>0</td>\n",
       "      <td>0</td>\n",
       "      <td>0</td>\n",
       "      <td>0</td>\n",
       "      <td>0</td>\n",
       "      <td>0</td>\n",
       "      <td>0</td>\n",
       "      <td>1</td>\n",
       "      <td>0</td>\n",
       "      <td>0</td>\n",
       "    </tr>\n",
       "  </tbody>\n",
       "</table>\n",
       "<p>2997 rows × 51 columns</p>\n",
       "</div>"
      ],
      "text/plain": [
       "                                  nb_orders  days_since_first_order  \\\n",
       "customer_unique_id                                                    \n",
       "00172711b30d52eea8b313a7f2cced02  -0.224803               -1.852280   \n",
       "004288347e5e88a27ded2bb23747066c  -0.224803                0.617311   \n",
       "004b45ec5c64187465168251cd1c9c2f  -0.224803                0.374401   \n",
       "0058f300f57d7b93c477a131a59b36c3  -0.224803               -0.779425   \n",
       "00a39521eb40f7012db50455bf083460  -0.224803               -1.413691   \n",
       "...                                     ...                     ...   \n",
       "ff36be26206fffe1eb37afd54c70e18b   1.711215               -1.852280   \n",
       "ff44401d0d8f5b9c54a47374eb48c1b8  -0.224803                1.076142   \n",
       "ff8892f7c26aa0446da53d01b18df463  -0.224803                1.049152   \n",
       "ff922bdd6bafcdf99cb90d7f39cea5b3   1.711215                1.663176   \n",
       "ffe254cc039740e17dd15a5305035928  -0.224803                1.400023   \n",
       "\n",
       "                                  days_since_last_order  frequency  \\\n",
       "customer_unique_id                                                   \n",
       "00172711b30d52eea8b313a7f2cced02              -1.398262   3.087087   \n",
       "004288347e5e88a27ded2bb23747066c               0.053624  -0.585370   \n",
       "004b45ec5c64187465168251cd1c9c2f              -0.861546  -0.514179   \n",
       "0058f300f57d7b93c477a131a59b36c3              -0.414282   0.115633   \n",
       "00a39521eb40f7012db50455bf083460              -0.909712   1.090245   \n",
       "...                                                 ...        ...   \n",
       "ff36be26206fffe1eb37afd54c70e18b              -1.467072   5.329693   \n",
       "ff44401d0d8f5b9c54a47374eb48c1b8               1.698178  -0.692685   \n",
       "ff8892f7c26aa0446da53d01b18df463               0.383911  -0.687163   \n",
       "ff922bdd6bafcdf99cb90d7f39cea5b3               0.893103  -0.492888   \n",
       "ffe254cc039740e17dd15a5305035928               2.028465  -0.752829   \n",
       "\n",
       "                                  sum_orders  nb_reviews  \\\n",
       "customer_unique_id                                         \n",
       "00172711b30d52eea8b313a7f2cced02   -0.600943   -0.389069   \n",
       "004288347e5e88a27ded2bb23747066c    0.188105   -0.389069   \n",
       "004b45ec5c64187465168251cd1c9c2f   -0.560744   -0.389069   \n",
       "0058f300f57d7b93c477a131a59b36c3   -0.412978   -0.389069   \n",
       "00a39521eb40f7012db50455bf083460   -0.578412   -0.389069   \n",
       "...                                      ...         ...   \n",
       "ff36be26206fffe1eb37afd54c70e18b   -0.589921    1.027748   \n",
       "ff44401d0d8f5b9c54a47374eb48c1b8   -0.713438   -0.389069   \n",
       "ff8892f7c26aa0446da53d01b18df463    0.058623    1.027748   \n",
       "ff922bdd6bafcdf99cb90d7f39cea5b3   -0.535165    1.027748   \n",
       "ffe254cc039740e17dd15a5305035928   -0.676869   -0.389069   \n",
       "\n",
       "                                  average_review_score  average_delivery_time  \\\n",
       "customer_unique_id                                                              \n",
       "00172711b30d52eea8b313a7f2cced02             -0.085903              -0.131181   \n",
       "004288347e5e88a27ded2bb23747066c              0.783741              -0.691820   \n",
       "004b45ec5c64187465168251cd1c9c2f             -0.955547               1.410577   \n",
       "0058f300f57d7b93c477a131a59b36c3             -0.955547               0.149139   \n",
       "00a39521eb40f7012db50455bf083460             -0.085903               0.849938   \n",
       "...                                                ...                    ...   \n",
       "ff36be26206fffe1eb37afd54c70e18b             -0.955547               0.008979   \n",
       "ff44401d0d8f5b9c54a47374eb48c1b8             -0.955547               0.008979   \n",
       "ff8892f7c26aa0446da53d01b18df463             -1.245428               3.512974   \n",
       "ff922bdd6bafcdf99cb90d7f39cea5b3              0.203978               0.709778   \n",
       "ffe254cc039740e17dd15a5305035928             -0.955547               0.709778   \n",
       "\n",
       "                                  delay_rate  advance_rate  ...  stationery  \\\n",
       "customer_unique_id                                          ...               \n",
       "00172711b30d52eea8b313a7f2cced02   -0.300228      0.398466  ...           1   \n",
       "004288347e5e88a27ded2bb23747066c   -0.300228      0.398466  ...           0   \n",
       "004b45ec5c64187465168251cd1c9c2f   -0.300228      0.398466  ...           0   \n",
       "0058f300f57d7b93c477a131a59b36c3   -0.300228      0.398466  ...           0   \n",
       "00a39521eb40f7012db50455bf083460   -0.300228      0.398466  ...           0   \n",
       "...                                      ...           ...  ...         ...   \n",
       "ff36be26206fffe1eb37afd54c70e18b   -0.300228     -3.952728  ...           0   \n",
       "ff44401d0d8f5b9c54a47374eb48c1b8   -0.300228      0.398466  ...           0   \n",
       "ff8892f7c26aa0446da53d01b18df463    2.654544     -1.777131  ...           0   \n",
       "ff922bdd6bafcdf99cb90d7f39cea5b3    1.669620     -1.051932  ...           0   \n",
       "ffe254cc039740e17dd15a5305035928   -0.300228      0.398466  ...           0   \n",
       "\n",
       "                                  tablets_printing_image  telephony  tools  \\\n",
       "customer_unique_id                                                           \n",
       "00172711b30d52eea8b313a7f2cced02                       0          0      0   \n",
       "004288347e5e88a27ded2bb23747066c                       0          0      0   \n",
       "004b45ec5c64187465168251cd1c9c2f                       0          0      1   \n",
       "0058f300f57d7b93c477a131a59b36c3                       0          0      0   \n",
       "00a39521eb40f7012db50455bf083460                       0          0      0   \n",
       "...                                                  ...        ...    ...   \n",
       "ff36be26206fffe1eb37afd54c70e18b                       0          0      0   \n",
       "ff44401d0d8f5b9c54a47374eb48c1b8                       0          0      0   \n",
       "ff8892f7c26aa0446da53d01b18df463                       0          0      0   \n",
       "ff922bdd6bafcdf99cb90d7f39cea5b3                       0          0      0   \n",
       "ffe254cc039740e17dd15a5305035928                       0          0      0   \n",
       "\n",
       "                                  toys  watches_gifts  cash  credit_card  \\\n",
       "customer_unique_id                                                         \n",
       "00172711b30d52eea8b313a7f2cced02     0              0     0            0   \n",
       "004288347e5e88a27ded2bb23747066c     0              0     0            1   \n",
       "004b45ec5c64187465168251cd1c9c2f     0              0     1            0   \n",
       "0058f300f57d7b93c477a131a59b36c3     0              0     0            0   \n",
       "00a39521eb40f7012db50455bf083460     0              0     0            1   \n",
       "...                                ...            ...   ...          ...   \n",
       "ff36be26206fffe1eb37afd54c70e18b     0              0     0            0   \n",
       "ff44401d0d8f5b9c54a47374eb48c1b8     0              0     0            0   \n",
       "ff8892f7c26aa0446da53d01b18df463     0              1     0            1   \n",
       "ff922bdd6bafcdf99cb90d7f39cea5b3     0              0     0            1   \n",
       "ffe254cc039740e17dd15a5305035928     0              0     0            1   \n",
       "\n",
       "                                  debit_card  voucher  \n",
       "customer_unique_id                                     \n",
       "00172711b30d52eea8b313a7f2cced02           0        1  \n",
       "004288347e5e88a27ded2bb23747066c           0        0  \n",
       "004b45ec5c64187465168251cd1c9c2f           0        0  \n",
       "0058f300f57d7b93c477a131a59b36c3           0        1  \n",
       "00a39521eb40f7012db50455bf083460           0        0  \n",
       "...                                      ...      ...  \n",
       "ff36be26206fffe1eb37afd54c70e18b           0        1  \n",
       "ff44401d0d8f5b9c54a47374eb48c1b8           0        1  \n",
       "ff8892f7c26aa0446da53d01b18df463           0        0  \n",
       "ff922bdd6bafcdf99cb90d7f39cea5b3           0        0  \n",
       "ffe254cc039740e17dd15a5305035928           0        0  \n",
       "\n",
       "[2997 rows x 51 columns]"
      ]
     },
     "execution_count": 11,
     "metadata": {},
     "output_type": "execute_result"
    }
   ],
   "source": [
    "data_scale"
   ]
  },
  {
   "cell_type": "markdown",
   "id": "complex-bathroom",
   "metadata": {},
   "source": [
    "<a id='PCA'></a>\n",
    "# Analyse en composantes principales ☘️"
   ]
  },
  {
   "cell_type": "markdown",
   "id": "valued-purpose",
   "metadata": {},
   "source": [
    "Sans les données catégoriques"
   ]
  },
  {
   "cell_type": "code",
   "execution_count": 12,
   "id": "circular-hebrew",
   "metadata": {},
   "outputs": [
    {
     "name": "stdout",
     "output_type": "stream",
     "text": [
      "[0.23364062 0.45150694 0.61880425]\n"
     ]
    }
   ],
   "source": [
    "pca_simple = decomposition.PCA(n_components=3)\n",
    "pca_simple.fit(data_scale[cols_numeric])\n",
    "print(pca_simple.explained_variance_ratio_.cumsum())"
   ]
  },
  {
   "cell_type": "markdown",
   "id": "committed-liability",
   "metadata": {},
   "source": [
    "Avec les données catégoriques"
   ]
  },
  {
   "cell_type": "code",
   "execution_count": 13,
   "id": "adolescent-nirvana",
   "metadata": {},
   "outputs": [
    {
     "name": "stdout",
     "output_type": "stream",
     "text": [
      "[0.20835307 0.4027918  0.55198789]\n"
     ]
    }
   ],
   "source": [
    "pca = decomposition.PCA(n_components=3)\n",
    "pca.fit(data_scale)\n",
    "print(pca.explained_variance_ratio_.cumsum())"
   ]
  },
  {
   "cell_type": "markdown",
   "id": "searching-ranch",
   "metadata": {},
   "source": [
    "On explique 55% de la variance avec trois composantes principales"
   ]
  },
  {
   "cell_type": "code",
   "execution_count": 14,
   "id": "demographic-olive",
   "metadata": {},
   "outputs": [
    {
     "data": {
      "text/plain": [
       "[<matplotlib.lines.Line2D at 0x211a3652fa0>]"
      ]
     },
     "execution_count": 14,
     "metadata": {},
     "output_type": "execute_result"
    },
    {
     "data": {
      "image/png": "[encoded data removed]",
      "text/plain": [
       "<Figure size 576x396 with 1 Axes>"
      ]
     },
     "metadata": {},
     "output_type": "display_data"
    }
   ],
   "source": [
    "pca_scree = decomposition.PCA(n_components=data_scale.shape[1])\n",
    "pca_scree.fit(data_scale)\n",
    "plt.style.use('seaborn')\n",
    "plt.xlabel('Nb de Composantes Principales')\n",
    "plt.ylabel('Pourcentage de variance expliquée (cumulée)')\n",
    "plt.title('Scree plot PCA')\n",
    "plt.plot(np.arange(1, pca_scree.n_components_ + 1), pca_scree.explained_variance_ratio_.cumsum()*100)"
   ]
  },
  {
   "cell_type": "markdown",
   "id": "advance-hours",
   "metadata": {},
   "source": [
    "<a id='tsne'></a>\n",
    "# t-SNE ✨"
   ]
  },
  {
   "cell_type": "markdown",
   "id": "vulnerable-saver",
   "metadata": {},
   "source": [
    "Données non standardisées"
   ]
  },
  {
   "cell_type": "code",
   "execution_count": 15,
   "id": "portuguese-grill",
   "metadata": {},
   "outputs": [
    {
     "name": "stdout",
     "output_type": "stream",
     "text": [
      "Wall time: 24.3 s\n"
     ]
    }
   ],
   "source": [
    "%%time\n",
    "tsne = manifold.TSNE(random_state=41)\n",
    "data_tsne = tsne.fit_transform(data)"
   ]
  },
  {
   "cell_type": "code",
   "execution_count": 16,
   "id": "minor-current",
   "metadata": {},
   "outputs": [
    {
     "data": {
      "image/png": "[encoded data removed]",
      "text/plain": [
       "<Figure size 576x576 with 1 Axes>"
      ]
     },
     "metadata": {},
     "output_type": "display_data"
    },
    {
     "name": "stdout",
     "output_type": "stream",
     "text": [
      "0.8501572012901306\n"
     ]
    }
   ],
   "source": [
    "x = [point[0] for point in data_tsne]\n",
    "y = [point[1] for point in data_tsne]\n",
    "plt.style.use('seaborn')\n",
    "plt.figure(figsize=(8,8))\n",
    "plt.axis('equal')\n",
    "plt.scatter(x, y, marker='.', s=5)\n",
    "plt.show()\n",
    "print(tsne.kl_divergence_)"
   ]
  },
  {
   "cell_type": "markdown",
   "id": "spread-stable",
   "metadata": {},
   "source": [
    "Données Standardisées"
   ]
  },
  {
   "cell_type": "code",
   "execution_count": 17,
   "id": "decimal-respect",
   "metadata": {},
   "outputs": [
    {
     "name": "stdout",
     "output_type": "stream",
     "text": [
      "Wall time: 27.7 s\n"
     ]
    }
   ],
   "source": [
    "%%time\n",
    "tsne = manifold.TSNE(init='pca', random_state=41, n_jobs=-1)\n",
    "data_tsne = tsne.fit_transform(data_scale)"
   ]
  },
  {
   "cell_type": "code",
   "execution_count": 18,
   "id": "unknown-leisure",
   "metadata": {},
   "outputs": [
    {
     "data": {
      "image/png": "[encoded data removed]",
      "text/plain": [
       "<Figure size 576x576 with 1 Axes>"
      ]
     },
     "metadata": {},
     "output_type": "display_data"
    },
    {
     "name": "stdout",
     "output_type": "stream",
     "text": [
      "1.30453360080719\n"
     ]
    }
   ],
   "source": [
    "x = [point[0] for point in data_tsne]\n",
    "y = [point[1] for point in data_tsne]\n",
    "plt.style.use('seaborn')\n",
    "plt.figure(figsize=(8,8))\n",
    "plt.axis('equal')\n",
    "plt.scatter(x, y, marker='.', s=5)\n",
    "plt.show()\n",
    "print(tsne.kl_divergence_)"
   ]
  },
  {
   "cell_type": "markdown",
   "id": "french-suggestion",
   "metadata": {},
   "source": [
    "On voit bien ici l'intéret de travailler sur des données standardisées"
   ]
  },
  {
   "cell_type": "markdown",
   "id": "married-yellow",
   "metadata": {},
   "source": [
    "Fit un kmeans et colorier les points avec les etiquettes du kmeans et vérifier la cohérence du t-sne vis à vis du kmeans. Ensuite essayer la perplexité"
   ]
  },
  {
   "cell_type": "markdown",
   "id": "central-pastor",
   "metadata": {},
   "source": [
    "<a id='kmeans'></a>\n",
    "# k-Means 🧶"
   ]
  },
  {
   "cell_type": "code",
   "execution_count": 70,
   "id": "downtown-segment",
   "metadata": {},
   "outputs": [],
   "source": [
    "def launch_kmeans(data, params, run_name):\n",
    "    \n",
    "    with mlflow.start_run(run_name=run_name):\n",
    "        #Create an estimator\n",
    "        model = KMeans(**params)\n",
    "        #Save params\n",
    "        for param, value in model.get_params().items():\n",
    "            mlflow.log_param(param, value)\n",
    "        #Fit\n",
    "        start = time.time()\n",
    "        model.fit(data)\n",
    "        elapsed = time.time() - start\n",
    "        \n",
    "        \n",
    "        #Save metrics\n",
    "        mlflow.log_metric('inertia', model.inertia_)\n",
    "        mlflow.log_metric('nb_iter', model.n_iter_)\n",
    "        mlflow.log_metric('training_time', elapsed)\n",
    "        mlflow.log_metric('silhouette_score', metrics.silhouette_score(data, model.labels_))\n",
    "        \n",
    "        #Save model\n",
    "        mlflow.sklearn.log_model(model, \"model\")\n",
    "        \n",
    "        mlflow.end_run()"
   ]
  },
  {
   "cell_type": "code",
   "execution_count": 51,
   "id": "alone-lobby",
   "metadata": {},
   "outputs": [],
   "source": [
    "launch_kmeans(data_scale, {'n_clusters':10, 'random_state':41}, 'test')"
   ]
  },
  {
   "cell_type": "code",
   "execution_count": 77,
   "id": "activated-monthly",
   "metadata": {},
   "outputs": [],
   "source": [
    "for n_clusters in np.arange(2,11):\n",
    "    launch_kmeans(data_scale, {'n_clusters':n_clusters, 'random_state':41}, 'GS_sil_{}'.format(n_clusters))"
   ]
  },
  {
   "cell_type": "code",
   "execution_count": 80,
   "id": "incredible-cedar",
   "metadata": {},
   "outputs": [],
   "source": [
    "runs = mlflow.search_runs('1')"
   ]
  },
  {
   "cell_type": "code",
   "execution_count": 85,
   "id": "covered-yukon",
   "metadata": {},
   "outputs": [
    {
     "data": {
      "text/html": [
       "<div>\n",
       "<style scoped>\n",
       "    .dataframe tbody tr th:only-of-type {\n",
       "        vertical-align: middle;\n",
       "    }\n",
       "\n",
       "    .dataframe tbody tr th {\n",
       "        vertical-align: top;\n",
       "    }\n",
       "\n",
       "    .dataframe thead th {\n",
       "        text-align: right;\n",
       "    }\n",
       "</style>\n",
       "<table border=\"1\" class=\"dataframe\">\n",
       "  <thead>\n",
       "    <tr style=\"text-align: right;\">\n",
       "      <th></th>\n",
       "      <th>tags.mlflow.runName</th>\n",
       "      <th>params.n_clusters</th>\n",
       "      <th>metrics.inertia</th>\n",
       "      <th>metrics.silhouette_score</th>\n",
       "    </tr>\n",
       "  </thead>\n",
       "  <tbody>\n",
       "    <tr>\n",
       "      <th>8</th>\n",
       "      <td>GS_sil_2</td>\n",
       "      <td>2</td>\n",
       "      <td>31150.634832</td>\n",
       "      <td>0.369910</td>\n",
       "    </tr>\n",
       "    <tr>\n",
       "      <th>5</th>\n",
       "      <td>GS_sil_5</td>\n",
       "      <td>5</td>\n",
       "      <td>21633.441276</td>\n",
       "      <td>0.193952</td>\n",
       "    </tr>\n",
       "    <tr>\n",
       "      <th>6</th>\n",
       "      <td>GS_sil_4</td>\n",
       "      <td>4</td>\n",
       "      <td>24247.857397</td>\n",
       "      <td>0.189334</td>\n",
       "    </tr>\n",
       "    <tr>\n",
       "      <th>7</th>\n",
       "      <td>GS_sil_3</td>\n",
       "      <td>3</td>\n",
       "      <td>26977.036396</td>\n",
       "      <td>0.186324</td>\n",
       "    </tr>\n",
       "    <tr>\n",
       "      <th>0</th>\n",
       "      <td>GS_sil_10</td>\n",
       "      <td>10</td>\n",
       "      <td>16584.659060</td>\n",
       "      <td>0.158375</td>\n",
       "    </tr>\n",
       "    <tr>\n",
       "      <th>...</th>\n",
       "      <td>...</td>\n",
       "      <td>...</td>\n",
       "      <td>...</td>\n",
       "      <td>...</td>\n",
       "    </tr>\n",
       "    <tr>\n",
       "      <th>204</th>\n",
       "      <td>GS_5</td>\n",
       "      <td>5</td>\n",
       "      <td>21633.441276</td>\n",
       "      <td>NaN</td>\n",
       "    </tr>\n",
       "    <tr>\n",
       "      <th>205</th>\n",
       "      <td>GS_4</td>\n",
       "      <td>4</td>\n",
       "      <td>24247.857397</td>\n",
       "      <td>NaN</td>\n",
       "    </tr>\n",
       "    <tr>\n",
       "      <th>206</th>\n",
       "      <td>GS_3</td>\n",
       "      <td>3</td>\n",
       "      <td>26977.036396</td>\n",
       "      <td>NaN</td>\n",
       "    </tr>\n",
       "    <tr>\n",
       "      <th>207</th>\n",
       "      <td>GS_2</td>\n",
       "      <td>2</td>\n",
       "      <td>31150.634832</td>\n",
       "      <td>NaN</td>\n",
       "    </tr>\n",
       "    <tr>\n",
       "      <th>208</th>\n",
       "      <td>GS_1</td>\n",
       "      <td>1</td>\n",
       "      <td>36994.289957</td>\n",
       "      <td>NaN</td>\n",
       "    </tr>\n",
       "  </tbody>\n",
       "</table>\n",
       "<p>209 rows × 4 columns</p>\n",
       "</div>"
      ],
      "text/plain": [
       "    tags.mlflow.runName params.n_clusters  metrics.inertia  \\\n",
       "8              GS_sil_2                 2     31150.634832   \n",
       "5              GS_sil_5                 5     21633.441276   \n",
       "6              GS_sil_4                 4     24247.857397   \n",
       "7              GS_sil_3                 3     26977.036396   \n",
       "0             GS_sil_10                10     16584.659060   \n",
       "..                  ...               ...              ...   \n",
       "204                GS_5                 5     21633.441276   \n",
       "205                GS_4                 4     24247.857397   \n",
       "206                GS_3                 3     26977.036396   \n",
       "207                GS_2                 2     31150.634832   \n",
       "208                GS_1                 1     36994.289957   \n",
       "\n",
       "     metrics.silhouette_score  \n",
       "8                    0.369910  \n",
       "5                    0.193952  \n",
       "6                    0.189334  \n",
       "7                    0.186324  \n",
       "0                    0.158375  \n",
       "..                        ...  \n",
       "204                       NaN  \n",
       "205                       NaN  \n",
       "206                       NaN  \n",
       "207                       NaN  \n",
       "208                       NaN  \n",
       "\n",
       "[209 rows x 4 columns]"
      ]
     },
     "execution_count": 85,
     "metadata": {},
     "output_type": "execute_result"
    }
   ],
   "source": [
    "runs[runs['tags.mlflow.runName']!='test'][['tags.mlflow.runName', 'params.n_clusters', 'metrics.inertia', 'metrics.silhouette_score']].sort_values('metrics.silhouette_score', ascending=False)"
   ]
  },
  {
   "cell_type": "code",
   "execution_count": null,
   "id": "binding-blank",
   "metadata": {},
   "outputs": [],
   "source": []
  },
  {
   "cell_type": "code",
   "execution_count": null,
   "id": "continued-holmes",
   "metadata": {},
   "outputs": [],
   "source": []
  },
  {
   "cell_type": "code",
   "execution_count": null,
   "id": "italian-richardson",
   "metadata": {},
   "outputs": [],
   "source": []
  },
  {
   "cell_type": "code",
   "execution_count": null,
   "id": "complex-moses",
   "metadata": {},
   "outputs": [],
   "source": []
  },
  {
   "cell_type": "code",
   "execution_count": null,
   "id": "established-railway",
   "metadata": {},
   "outputs": [],
   "source": []
  },
  {
   "cell_type": "markdown",
   "id": "military-mobile",
   "metadata": {},
   "source": [
    "Essayons plusieurs valeurs de perplexité"
   ]
  },
  {
   "cell_type": "code",
   "execution_count": null,
   "id": "excessive-society",
   "metadata": {},
   "outputs": [],
   "source": []
  }
 ],
 "metadata": {
  "kernelspec": {
   "display_name": "OC_P05_env",
   "language": "python",
   "name": "oc_p05_env"
  },
  "language_info": {
   "codemirror_mode": {
    "name": "ipython",
    "version": 3
   },
   "file_extension": ".py",
   "mimetype": "text/x-python",
   "name": "python",
   "nbconvert_exporter": "python",
   "pygments_lexer": "ipython3",
   "version": "3.8.5"
  }
 },
 "nbformat": 4,
 "nbformat_minor": 5
}
