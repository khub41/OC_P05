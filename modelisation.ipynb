{
 "cells": [
  {
   "cell_type": "markdown",
   "id": "brown-telling",
   "metadata": {},
   "source": [
    "<img src=\"img/Logo_OpenClassrooms.png\" width=100 />"
   ]
  },
  {
   "cell_type": "markdown",
   "id": "second-immigration",
   "metadata": {},
   "source": [
    "# OpenClassrooms Projet 5: Segmentez des clients d'un site e-commerce\n",
    "# Modélisation\n",
    "\n",
    "Olist souhaite que vous fournissiez à ses équipes d'e-commerce une segmentation des clients qu’elles pourront utiliser au quotidien pour leurs campagnes de communication.\n",
    "\n",
    "Votre objectif est de comprendre les différents types d’utilisateurs grâce à leur comportement et à leurs données personnelles.\n",
    "\n",
    "Vous devrez fournir à l’équipe marketing une description actionable de votre segmentation et de sa logique sous-jacente pour une utilisation optimale, ainsi qu’une proposition de contrat de maintenance basée sur une analyse de la stabilité des segments au cours du temps.\n",
    "\n",
    "### Les données\n",
    "Pour cette mission, Olist vous fournit une base de données anonymisée comportant des informations sur l’historique de commandes, les produits achetés, les commentaires de satisfaction, et la localisation des clients depuis janvier 2017.\n",
    "\n",
    "### Votre mission\n",
    "Votre mission est d’aider les équipes d’Olist à comprendre les différents types d'utilisateurs. Vous utiliserez donc des méthodes non supervisées pour regrouper ensemble des clients de profils similaires. Ces catégories pourront être utilisées par l’équipe marketing pour mieux communiquer.\n",
    "\n",
    "Pour des raisons de confidentialité, Olist ne fournit pas beaucoup de données, à vous de fouiller dans celles dont vous disposez et de créer les meilleures features pour les exploiter.\n",
    "\n",
    "Enfin, votre client, Olist, a spécifié sa demande ainsi :\n",
    "\n",
    "- La segmentation proposée doit être exploitable et facile d’utilisation pour l’équipe marketing.\n",
    "- Vous évaluerez la fréquence à laquelle la segmentation doit être mise à jour, afin de pouvoir effectuer un devis de contrat de maintenance.\n",
    "- Le code fourni doit respecter la convention PEP8, pour être utilisable par Olist.\n"
   ]
  },
  {
   "cell_type": "markdown",
   "id": "administrative-mailman",
   "metadata": {},
   "source": [
    "# Sommaire\n",
    "### [Bibliothèques](#bibli)\n",
    "### [Fonctions](#funcs)\n",
    "### [Données](#donnees)\n",
    "### [Centrage des données](#scaling)\n",
    "### [Analyse en composantes principales](#PCA)"
   ]
  },
  {
   "cell_type": "markdown",
   "id": "designed-burst",
   "metadata": {},
   "source": [
    "<a id='bibli'></a>\n",
    "# Import de bibliothèques 📚"
   ]
  },
  {
   "cell_type": "code",
   "execution_count": 7,
   "id": "southwest-spoke",
   "metadata": {},
   "outputs": [],
   "source": [
    "import pandas as pd\n",
    "pd.set_option(\"mode.chained_assignment\", None)\n",
    "import numpy as np\n",
    "import matplotlib.pyplot as plt\n",
    "\n",
    "from sklearn.preprocessing import StandardScaler\n",
    "from sklearn import decomposition\n",
    "from sklearn import manifold"
   ]
  },
  {
   "cell_type": "markdown",
   "id": "broke-geneva",
   "metadata": {},
   "source": [
    "<a id='funcs'></a>"
   ]
  },
  {
   "cell_type": "markdown",
   "id": "advance-nelson",
   "metadata": {},
   "source": [
    "# Fonctions ⚙️"
   ]
  },
  {
   "cell_type": "code",
   "execution_count": null,
   "id": "surprised-spray",
   "metadata": {},
   "outputs": [],
   "source": []
  },
  {
   "cell_type": "markdown",
   "id": "oriental-companion",
   "metadata": {},
   "source": [
    "<a id='donnees'></a>"
   ]
  },
  {
   "cell_type": "markdown",
   "id": "metric-poland",
   "metadata": {},
   "source": [
    "# Données 🎁"
   ]
  },
  {
   "cell_type": "markdown",
   "id": "funky-judge",
   "metadata": {},
   "source": [
    "<img src=\"img/structure.png\" width=500 />"
   ]
  },
  {
   "cell_type": "markdown",
   "id": "arctic-mainstream",
   "metadata": {},
   "source": [
    "Les données ont été travaillées pour etre rassemblées dans une base propre ayant pour index les ids des clients ayant fait 2 commandes ou plus. Les varaiables ont été crées pour représenter leurs comportemenst, leur satisfactions et leurs expériences"
   ]
  },
  {
   "cell_type": "code",
   "execution_count": 4,
   "id": "suspected-bench",
   "metadata": {},
   "outputs": [],
   "source": [
    "data = pd.read_csv(\"data/customer_data.csv\", index_col=[0])"
   ]
  },
  {
   "cell_type": "code",
   "execution_count": 5,
   "id": "becoming-claim",
   "metadata": {},
   "outputs": [
    {
     "data": {
      "text/html": [
       "<div>\n",
       "<style scoped>\n",
       "    .dataframe tbody tr th:only-of-type {\n",
       "        vertical-align: middle;\n",
       "    }\n",
       "\n",
       "    .dataframe tbody tr th {\n",
       "        vertical-align: top;\n",
       "    }\n",
       "\n",
       "    .dataframe thead th {\n",
       "        text-align: right;\n",
       "    }\n",
       "</style>\n",
       "<table border=\"1\" class=\"dataframe\">\n",
       "  <thead>\n",
       "    <tr style=\"text-align: right;\">\n",
       "      <th></th>\n",
       "      <th>nb_orders</th>\n",
       "      <th>days_since_first_order</th>\n",
       "      <th>days_since_last_order</th>\n",
       "      <th>frequency</th>\n",
       "      <th>sum_orders</th>\n",
       "      <th>nb_reviews</th>\n",
       "      <th>average_review_score</th>\n",
       "      <th>average_delivery_time</th>\n",
       "      <th>delay_rate</th>\n",
       "      <th>advance_rate</th>\n",
       "      <th>...</th>\n",
       "      <th>stationery</th>\n",
       "      <th>tablets_printing_image</th>\n",
       "      <th>telephony</th>\n",
       "      <th>toys</th>\n",
       "      <th>watches_gifts</th>\n",
       "      <th>cash</th>\n",
       "      <th>credit_card</th>\n",
       "      <th>debit_card</th>\n",
       "      <th>not_defined</th>\n",
       "      <th>voucher</th>\n",
       "    </tr>\n",
       "    <tr>\n",
       "      <th>customer_unique_id</th>\n",
       "      <th></th>\n",
       "      <th></th>\n",
       "      <th></th>\n",
       "      <th></th>\n",
       "      <th></th>\n",
       "      <th></th>\n",
       "      <th></th>\n",
       "      <th></th>\n",
       "      <th></th>\n",
       "      <th></th>\n",
       "      <th></th>\n",
       "      <th></th>\n",
       "      <th></th>\n",
       "      <th></th>\n",
       "      <th></th>\n",
       "      <th></th>\n",
       "      <th></th>\n",
       "      <th></th>\n",
       "      <th></th>\n",
       "      <th></th>\n",
       "      <th></th>\n",
       "    </tr>\n",
       "  </thead>\n",
       "  <tbody>\n",
       "    <tr>\n",
       "      <th>00172711b30d52eea8b313a7f2cced02</th>\n",
       "      <td>2</td>\n",
       "      <td>81</td>\n",
       "      <td>65</td>\n",
       "      <td>0.751543</td>\n",
       "      <td>74.50</td>\n",
       "      <td>2.0</td>\n",
       "      <td>4.0</td>\n",
       "      <td>11</td>\n",
       "      <td>0.0</td>\n",
       "      <td>1.0</td>\n",
       "      <td>...</td>\n",
       "      <td>1</td>\n",
       "      <td>0</td>\n",
       "      <td>0</td>\n",
       "      <td>0</td>\n",
       "      <td>0</td>\n",
       "      <td>0</td>\n",
       "      <td>0</td>\n",
       "      <td>0</td>\n",
       "      <td>0</td>\n",
       "      <td>1</td>\n",
       "    </tr>\n",
       "    <tr>\n",
       "      <th>004288347e5e88a27ded2bb23747066c</th>\n",
       "      <td>2</td>\n",
       "      <td>447</td>\n",
       "      <td>276</td>\n",
       "      <td>0.136186</td>\n",
       "      <td>317.89</td>\n",
       "      <td>2.0</td>\n",
       "      <td>5.0</td>\n",
       "      <td>7</td>\n",
       "      <td>0.0</td>\n",
       "      <td>1.0</td>\n",
       "      <td>...</td>\n",
       "      <td>0</td>\n",
       "      <td>0</td>\n",
       "      <td>0</td>\n",
       "      <td>0</td>\n",
       "      <td>0</td>\n",
       "      <td>0</td>\n",
       "      <td>1</td>\n",
       "      <td>0</td>\n",
       "      <td>0</td>\n",
       "      <td>0</td>\n",
       "    </tr>\n",
       "    <tr>\n",
       "      <th>004b45ec5c64187465168251cd1c9c2f</th>\n",
       "      <td>2</td>\n",
       "      <td>411</td>\n",
       "      <td>143</td>\n",
       "      <td>0.148114</td>\n",
       "      <td>86.90</td>\n",
       "      <td>2.0</td>\n",
       "      <td>3.0</td>\n",
       "      <td>22</td>\n",
       "      <td>0.0</td>\n",
       "      <td>1.0</td>\n",
       "      <td>...</td>\n",
       "      <td>0</td>\n",
       "      <td>0</td>\n",
       "      <td>0</td>\n",
       "      <td>0</td>\n",
       "      <td>0</td>\n",
       "      <td>1</td>\n",
       "      <td>0</td>\n",
       "      <td>0</td>\n",
       "      <td>0</td>\n",
       "      <td>0</td>\n",
       "    </tr>\n",
       "    <tr>\n",
       "      <th>0058f300f57d7b93c477a131a59b36c3</th>\n",
       "      <td>2</td>\n",
       "      <td>240</td>\n",
       "      <td>208</td>\n",
       "      <td>0.253646</td>\n",
       "      <td>132.48</td>\n",
       "      <td>2.0</td>\n",
       "      <td>3.0</td>\n",
       "      <td>13</td>\n",
       "      <td>0.0</td>\n",
       "      <td>1.0</td>\n",
       "      <td>...</td>\n",
       "      <td>0</td>\n",
       "      <td>0</td>\n",
       "      <td>0</td>\n",
       "      <td>0</td>\n",
       "      <td>0</td>\n",
       "      <td>0</td>\n",
       "      <td>0</td>\n",
       "      <td>0</td>\n",
       "      <td>0</td>\n",
       "      <td>1</td>\n",
       "    </tr>\n",
       "    <tr>\n",
       "      <th>00a39521eb40f7012db50455bf083460</th>\n",
       "      <td>2</td>\n",
       "      <td>146</td>\n",
       "      <td>136</td>\n",
       "      <td>0.416952</td>\n",
       "      <td>81.45</td>\n",
       "      <td>2.0</td>\n",
       "      <td>4.0</td>\n",
       "      <td>18</td>\n",
       "      <td>0.0</td>\n",
       "      <td>1.0</td>\n",
       "      <td>...</td>\n",
       "      <td>0</td>\n",
       "      <td>0</td>\n",
       "      <td>0</td>\n",
       "      <td>0</td>\n",
       "      <td>0</td>\n",
       "      <td>0</td>\n",
       "      <td>1</td>\n",
       "      <td>0</td>\n",
       "      <td>0</td>\n",
       "      <td>0</td>\n",
       "    </tr>\n",
       "  </tbody>\n",
       "</table>\n",
       "<p>5 rows × 81 columns</p>\n",
       "</div>"
      ],
      "text/plain": [
       "                                  nb_orders  days_since_first_order  \\\n",
       "customer_unique_id                                                    \n",
       "00172711b30d52eea8b313a7f2cced02          2                      81   \n",
       "004288347e5e88a27ded2bb23747066c          2                     447   \n",
       "004b45ec5c64187465168251cd1c9c2f          2                     411   \n",
       "0058f300f57d7b93c477a131a59b36c3          2                     240   \n",
       "00a39521eb40f7012db50455bf083460          2                     146   \n",
       "\n",
       "                                  days_since_last_order  frequency  \\\n",
       "customer_unique_id                                                   \n",
       "00172711b30d52eea8b313a7f2cced02                     65   0.751543   \n",
       "004288347e5e88a27ded2bb23747066c                    276   0.136186   \n",
       "004b45ec5c64187465168251cd1c9c2f                    143   0.148114   \n",
       "0058f300f57d7b93c477a131a59b36c3                    208   0.253646   \n",
       "00a39521eb40f7012db50455bf083460                    136   0.416952   \n",
       "\n",
       "                                  sum_orders  nb_reviews  \\\n",
       "customer_unique_id                                         \n",
       "00172711b30d52eea8b313a7f2cced02       74.50         2.0   \n",
       "004288347e5e88a27ded2bb23747066c      317.89         2.0   \n",
       "004b45ec5c64187465168251cd1c9c2f       86.90         2.0   \n",
       "0058f300f57d7b93c477a131a59b36c3      132.48         2.0   \n",
       "00a39521eb40f7012db50455bf083460       81.45         2.0   \n",
       "\n",
       "                                  average_review_score  average_delivery_time  \\\n",
       "customer_unique_id                                                              \n",
       "00172711b30d52eea8b313a7f2cced02                   4.0                     11   \n",
       "004288347e5e88a27ded2bb23747066c                   5.0                      7   \n",
       "004b45ec5c64187465168251cd1c9c2f                   3.0                     22   \n",
       "0058f300f57d7b93c477a131a59b36c3                   3.0                     13   \n",
       "00a39521eb40f7012db50455bf083460                   4.0                     18   \n",
       "\n",
       "                                  delay_rate  advance_rate  ...  stationery  \\\n",
       "customer_unique_id                                          ...               \n",
       "00172711b30d52eea8b313a7f2cced02         0.0           1.0  ...           1   \n",
       "004288347e5e88a27ded2bb23747066c         0.0           1.0  ...           0   \n",
       "004b45ec5c64187465168251cd1c9c2f         0.0           1.0  ...           0   \n",
       "0058f300f57d7b93c477a131a59b36c3         0.0           1.0  ...           0   \n",
       "00a39521eb40f7012db50455bf083460         0.0           1.0  ...           0   \n",
       "\n",
       "                                  tablets_printing_image  telephony  toys  \\\n",
       "customer_unique_id                                                          \n",
       "00172711b30d52eea8b313a7f2cced02                       0          0     0   \n",
       "004288347e5e88a27ded2bb23747066c                       0          0     0   \n",
       "004b45ec5c64187465168251cd1c9c2f                       0          0     0   \n",
       "0058f300f57d7b93c477a131a59b36c3                       0          0     0   \n",
       "00a39521eb40f7012db50455bf083460                       0          0     0   \n",
       "\n",
       "                                  watches_gifts  cash  credit_card  \\\n",
       "customer_unique_id                                                   \n",
       "00172711b30d52eea8b313a7f2cced02              0     0            0   \n",
       "004288347e5e88a27ded2bb23747066c              0     0            1   \n",
       "004b45ec5c64187465168251cd1c9c2f              0     1            0   \n",
       "0058f300f57d7b93c477a131a59b36c3              0     0            0   \n",
       "00a39521eb40f7012db50455bf083460              0     0            1   \n",
       "\n",
       "                                  debit_card  not_defined  voucher  \n",
       "customer_unique_id                                                  \n",
       "00172711b30d52eea8b313a7f2cced02           0            0        1  \n",
       "004288347e5e88a27ded2bb23747066c           0            0        0  \n",
       "004b45ec5c64187465168251cd1c9c2f           0            0        0  \n",
       "0058f300f57d7b93c477a131a59b36c3           0            0        1  \n",
       "00a39521eb40f7012db50455bf083460           0            0        0  \n",
       "\n",
       "[5 rows x 81 columns]"
      ]
     },
     "execution_count": 5,
     "metadata": {},
     "output_type": "execute_result"
    }
   ],
   "source": [
    "data.head()"
   ]
  },
  {
   "cell_type": "code",
   "execution_count": 6,
   "id": "casual-complexity",
   "metadata": {},
   "outputs": [
    {
     "data": {
      "text/plain": [
       "(2997, 81)"
      ]
     },
     "execution_count": 6,
     "metadata": {},
     "output_type": "execute_result"
    }
   ],
   "source": [
    "data.shape"
   ]
  },
  {
   "cell_type": "markdown",
   "id": "african-legend",
   "metadata": {},
   "source": [
    "<a id='scaling'></a>\n",
    "# Centrage des données 📊"
   ]
  },
  {
   "cell_type": "markdown",
   "id": "australian-cylinder",
   "metadata": {},
   "source": [
    "D'après la théorie de l'analyse en composante principale, pour pouvoir projeter nos données dans une base orthonormée de plus faible dimension alors la matrice des données doit être normée elle aussi"
   ]
  },
  {
   "cell_type": "code",
   "execution_count": 8,
   "id": "included-thinking",
   "metadata": {},
   "outputs": [],
   "source": [
    "scaler = StandardScaler()"
   ]
  },
  {
   "cell_type": "code",
   "execution_count": 9,
   "id": "irish-intranet",
   "metadata": {},
   "outputs": [
    {
     "data": {
      "text/plain": [
       "StandardScaler()"
      ]
     },
     "execution_count": 9,
     "metadata": {},
     "output_type": "execute_result"
    }
   ],
   "source": [
    "scaler.fit(data)"
   ]
  },
  {
   "cell_type": "code",
   "execution_count": 11,
   "id": "million-experience",
   "metadata": {},
   "outputs": [
    {
     "data": {
      "text/plain": [
       "(2997, 81)"
      ]
     },
     "execution_count": 11,
     "metadata": {},
     "output_type": "execute_result"
    }
   ],
   "source": [
    "scaler.transform(data).shape"
   ]
  },
  {
   "cell_type": "code",
   "execution_count": 12,
   "id": "annual-india",
   "metadata": {},
   "outputs": [],
   "source": [
    "data_scale = pd.DataFrame(data=scaler.transform(data), index=data.index, columns=data.columns)"
   ]
  },
  {
   "cell_type": "code",
   "execution_count": 13,
   "id": "million-supervisor",
   "metadata": {},
   "outputs": [
    {
     "data": {
      "text/html": [
       "<div>\n",
       "<style scoped>\n",
       "    .dataframe tbody tr th:only-of-type {\n",
       "        vertical-align: middle;\n",
       "    }\n",
       "\n",
       "    .dataframe tbody tr th {\n",
       "        vertical-align: top;\n",
       "    }\n",
       "\n",
       "    .dataframe thead th {\n",
       "        text-align: right;\n",
       "    }\n",
       "</style>\n",
       "<table border=\"1\" class=\"dataframe\">\n",
       "  <thead>\n",
       "    <tr style=\"text-align: right;\">\n",
       "      <th></th>\n",
       "      <th>nb_orders</th>\n",
       "      <th>days_since_first_order</th>\n",
       "      <th>days_since_last_order</th>\n",
       "      <th>frequency</th>\n",
       "      <th>sum_orders</th>\n",
       "      <th>nb_reviews</th>\n",
       "      <th>average_review_score</th>\n",
       "      <th>average_delivery_time</th>\n",
       "      <th>delay_rate</th>\n",
       "      <th>advance_rate</th>\n",
       "      <th>...</th>\n",
       "      <th>stationery</th>\n",
       "      <th>tablets_printing_image</th>\n",
       "      <th>telephony</th>\n",
       "      <th>toys</th>\n",
       "      <th>watches_gifts</th>\n",
       "      <th>cash</th>\n",
       "      <th>credit_card</th>\n",
       "      <th>debit_card</th>\n",
       "      <th>not_defined</th>\n",
       "      <th>voucher</th>\n",
       "    </tr>\n",
       "    <tr>\n",
       "      <th>customer_unique_id</th>\n",
       "      <th></th>\n",
       "      <th></th>\n",
       "      <th></th>\n",
       "      <th></th>\n",
       "      <th></th>\n",
       "      <th></th>\n",
       "      <th></th>\n",
       "      <th></th>\n",
       "      <th></th>\n",
       "      <th></th>\n",
       "      <th></th>\n",
       "      <th></th>\n",
       "      <th></th>\n",
       "      <th></th>\n",
       "      <th></th>\n",
       "      <th></th>\n",
       "      <th></th>\n",
       "      <th></th>\n",
       "      <th></th>\n",
       "      <th></th>\n",
       "      <th></th>\n",
       "    </tr>\n",
       "  </thead>\n",
       "  <tbody>\n",
       "    <tr>\n",
       "      <th>00172711b30d52eea8b313a7f2cced02</th>\n",
       "      <td>-0.224803</td>\n",
       "      <td>-1.852280</td>\n",
       "      <td>-1.398262</td>\n",
       "      <td>3.087087</td>\n",
       "      <td>-0.600943</td>\n",
       "      <td>-0.389069</td>\n",
       "      <td>-0.085903</td>\n",
       "      <td>-0.131181</td>\n",
       "      <td>-0.300228</td>\n",
       "      <td>0.398466</td>\n",
       "      <td>...</td>\n",
       "      <td>10.488088</td>\n",
       "      <td>-0.01827</td>\n",
       "      <td>-0.14293</td>\n",
       "      <td>-0.209493</td>\n",
       "      <td>-0.236697</td>\n",
       "      <td>-0.468807</td>\n",
       "      <td>-1.672866</td>\n",
       "      <td>-0.14293</td>\n",
       "      <td>-0.01827</td>\n",
       "      <td>3.865422</td>\n",
       "    </tr>\n",
       "    <tr>\n",
       "      <th>004288347e5e88a27ded2bb23747066c</th>\n",
       "      <td>-0.224803</td>\n",
       "      <td>0.617311</td>\n",
       "      <td>0.053624</td>\n",
       "      <td>-0.585370</td>\n",
       "      <td>0.188105</td>\n",
       "      <td>-0.389069</td>\n",
       "      <td>0.783741</td>\n",
       "      <td>-0.691820</td>\n",
       "      <td>-0.300228</td>\n",
       "      <td>0.398466</td>\n",
       "      <td>...</td>\n",
       "      <td>-0.095346</td>\n",
       "      <td>-0.01827</td>\n",
       "      <td>-0.14293</td>\n",
       "      <td>-0.209493</td>\n",
       "      <td>-0.236697</td>\n",
       "      <td>-0.468807</td>\n",
       "      <td>0.597777</td>\n",
       "      <td>-0.14293</td>\n",
       "      <td>-0.01827</td>\n",
       "      <td>-0.258704</td>\n",
       "    </tr>\n",
       "    <tr>\n",
       "      <th>004b45ec5c64187465168251cd1c9c2f</th>\n",
       "      <td>-0.224803</td>\n",
       "      <td>0.374401</td>\n",
       "      <td>-0.861546</td>\n",
       "      <td>-0.514179</td>\n",
       "      <td>-0.560744</td>\n",
       "      <td>-0.389069</td>\n",
       "      <td>-0.955547</td>\n",
       "      <td>1.410577</td>\n",
       "      <td>-0.300228</td>\n",
       "      <td>0.398466</td>\n",
       "      <td>...</td>\n",
       "      <td>-0.095346</td>\n",
       "      <td>-0.01827</td>\n",
       "      <td>-0.14293</td>\n",
       "      <td>-0.209493</td>\n",
       "      <td>-0.236697</td>\n",
       "      <td>2.133073</td>\n",
       "      <td>-1.672866</td>\n",
       "      <td>-0.14293</td>\n",
       "      <td>-0.01827</td>\n",
       "      <td>-0.258704</td>\n",
       "    </tr>\n",
       "    <tr>\n",
       "      <th>0058f300f57d7b93c477a131a59b36c3</th>\n",
       "      <td>-0.224803</td>\n",
       "      <td>-0.779425</td>\n",
       "      <td>-0.414282</td>\n",
       "      <td>0.115633</td>\n",
       "      <td>-0.412978</td>\n",
       "      <td>-0.389069</td>\n",
       "      <td>-0.955547</td>\n",
       "      <td>0.149139</td>\n",
       "      <td>-0.300228</td>\n",
       "      <td>0.398466</td>\n",
       "      <td>...</td>\n",
       "      <td>-0.095346</td>\n",
       "      <td>-0.01827</td>\n",
       "      <td>-0.14293</td>\n",
       "      <td>-0.209493</td>\n",
       "      <td>-0.236697</td>\n",
       "      <td>-0.468807</td>\n",
       "      <td>-1.672866</td>\n",
       "      <td>-0.14293</td>\n",
       "      <td>-0.01827</td>\n",
       "      <td>3.865422</td>\n",
       "    </tr>\n",
       "    <tr>\n",
       "      <th>00a39521eb40f7012db50455bf083460</th>\n",
       "      <td>-0.224803</td>\n",
       "      <td>-1.413691</td>\n",
       "      <td>-0.909712</td>\n",
       "      <td>1.090245</td>\n",
       "      <td>-0.578412</td>\n",
       "      <td>-0.389069</td>\n",
       "      <td>-0.085903</td>\n",
       "      <td>0.849938</td>\n",
       "      <td>-0.300228</td>\n",
       "      <td>0.398466</td>\n",
       "      <td>...</td>\n",
       "      <td>-0.095346</td>\n",
       "      <td>-0.01827</td>\n",
       "      <td>-0.14293</td>\n",
       "      <td>-0.209493</td>\n",
       "      <td>-0.236697</td>\n",
       "      <td>-0.468807</td>\n",
       "      <td>0.597777</td>\n",
       "      <td>-0.14293</td>\n",
       "      <td>-0.01827</td>\n",
       "      <td>-0.258704</td>\n",
       "    </tr>\n",
       "    <tr>\n",
       "      <th>...</th>\n",
       "      <td>...</td>\n",
       "      <td>...</td>\n",
       "      <td>...</td>\n",
       "      <td>...</td>\n",
       "      <td>...</td>\n",
       "      <td>...</td>\n",
       "      <td>...</td>\n",
       "      <td>...</td>\n",
       "      <td>...</td>\n",
       "      <td>...</td>\n",
       "      <td>...</td>\n",
       "      <td>...</td>\n",
       "      <td>...</td>\n",
       "      <td>...</td>\n",
       "      <td>...</td>\n",
       "      <td>...</td>\n",
       "      <td>...</td>\n",
       "      <td>...</td>\n",
       "      <td>...</td>\n",
       "      <td>...</td>\n",
       "      <td>...</td>\n",
       "    </tr>\n",
       "    <tr>\n",
       "      <th>ff36be26206fffe1eb37afd54c70e18b</th>\n",
       "      <td>1.711215</td>\n",
       "      <td>-1.852280</td>\n",
       "      <td>-1.467072</td>\n",
       "      <td>5.329693</td>\n",
       "      <td>-0.589921</td>\n",
       "      <td>1.027748</td>\n",
       "      <td>-0.955547</td>\n",
       "      <td>0.008979</td>\n",
       "      <td>-0.300228</td>\n",
       "      <td>-3.952728</td>\n",
       "      <td>...</td>\n",
       "      <td>-0.095346</td>\n",
       "      <td>-0.01827</td>\n",
       "      <td>-0.14293</td>\n",
       "      <td>-0.209493</td>\n",
       "      <td>-0.236697</td>\n",
       "      <td>-0.468807</td>\n",
       "      <td>-1.672866</td>\n",
       "      <td>-0.14293</td>\n",
       "      <td>-0.01827</td>\n",
       "      <td>3.865422</td>\n",
       "    </tr>\n",
       "    <tr>\n",
       "      <th>ff44401d0d8f5b9c54a47374eb48c1b8</th>\n",
       "      <td>-0.224803</td>\n",
       "      <td>1.076142</td>\n",
       "      <td>1.698178</td>\n",
       "      <td>-0.692685</td>\n",
       "      <td>-0.713438</td>\n",
       "      <td>-0.389069</td>\n",
       "      <td>-0.955547</td>\n",
       "      <td>0.008979</td>\n",
       "      <td>-0.300228</td>\n",
       "      <td>0.398466</td>\n",
       "      <td>...</td>\n",
       "      <td>-0.095346</td>\n",
       "      <td>-0.01827</td>\n",
       "      <td>-0.14293</td>\n",
       "      <td>-0.209493</td>\n",
       "      <td>-0.236697</td>\n",
       "      <td>-0.468807</td>\n",
       "      <td>-1.672866</td>\n",
       "      <td>-0.14293</td>\n",
       "      <td>-0.01827</td>\n",
       "      <td>3.865422</td>\n",
       "    </tr>\n",
       "    <tr>\n",
       "      <th>ff8892f7c26aa0446da53d01b18df463</th>\n",
       "      <td>-0.224803</td>\n",
       "      <td>1.049152</td>\n",
       "      <td>0.383911</td>\n",
       "      <td>-0.687163</td>\n",
       "      <td>0.058623</td>\n",
       "      <td>1.027748</td>\n",
       "      <td>-1.245428</td>\n",
       "      <td>3.512974</td>\n",
       "      <td>2.654544</td>\n",
       "      <td>-1.777131</td>\n",
       "      <td>...</td>\n",
       "      <td>-0.095346</td>\n",
       "      <td>-0.01827</td>\n",
       "      <td>-0.14293</td>\n",
       "      <td>-0.209493</td>\n",
       "      <td>4.224814</td>\n",
       "      <td>-0.468807</td>\n",
       "      <td>0.597777</td>\n",
       "      <td>-0.14293</td>\n",
       "      <td>-0.01827</td>\n",
       "      <td>-0.258704</td>\n",
       "    </tr>\n",
       "    <tr>\n",
       "      <th>ff922bdd6bafcdf99cb90d7f39cea5b3</th>\n",
       "      <td>1.711215</td>\n",
       "      <td>1.663176</td>\n",
       "      <td>0.893103</td>\n",
       "      <td>-0.492888</td>\n",
       "      <td>-0.535165</td>\n",
       "      <td>1.027748</td>\n",
       "      <td>0.203978</td>\n",
       "      <td>0.709778</td>\n",
       "      <td>1.669620</td>\n",
       "      <td>-1.051932</td>\n",
       "      <td>...</td>\n",
       "      <td>-0.095346</td>\n",
       "      <td>-0.01827</td>\n",
       "      <td>-0.14293</td>\n",
       "      <td>-0.209493</td>\n",
       "      <td>-0.236697</td>\n",
       "      <td>-0.468807</td>\n",
       "      <td>0.597777</td>\n",
       "      <td>-0.14293</td>\n",
       "      <td>-0.01827</td>\n",
       "      <td>-0.258704</td>\n",
       "    </tr>\n",
       "    <tr>\n",
       "      <th>ffe254cc039740e17dd15a5305035928</th>\n",
       "      <td>-0.224803</td>\n",
       "      <td>1.400023</td>\n",
       "      <td>2.028465</td>\n",
       "      <td>-0.752829</td>\n",
       "      <td>-0.676869</td>\n",
       "      <td>-0.389069</td>\n",
       "      <td>-0.955547</td>\n",
       "      <td>0.709778</td>\n",
       "      <td>-0.300228</td>\n",
       "      <td>0.398466</td>\n",
       "      <td>...</td>\n",
       "      <td>-0.095346</td>\n",
       "      <td>-0.01827</td>\n",
       "      <td>-0.14293</td>\n",
       "      <td>-0.209493</td>\n",
       "      <td>-0.236697</td>\n",
       "      <td>-0.468807</td>\n",
       "      <td>0.597777</td>\n",
       "      <td>-0.14293</td>\n",
       "      <td>-0.01827</td>\n",
       "      <td>-0.258704</td>\n",
       "    </tr>\n",
       "  </tbody>\n",
       "</table>\n",
       "<p>2997 rows × 81 columns</p>\n",
       "</div>"
      ],
      "text/plain": [
       "                                  nb_orders  days_since_first_order  \\\n",
       "customer_unique_id                                                    \n",
       "00172711b30d52eea8b313a7f2cced02  -0.224803               -1.852280   \n",
       "004288347e5e88a27ded2bb23747066c  -0.224803                0.617311   \n",
       "004b45ec5c64187465168251cd1c9c2f  -0.224803                0.374401   \n",
       "0058f300f57d7b93c477a131a59b36c3  -0.224803               -0.779425   \n",
       "00a39521eb40f7012db50455bf083460  -0.224803               -1.413691   \n",
       "...                                     ...                     ...   \n",
       "ff36be26206fffe1eb37afd54c70e18b   1.711215               -1.852280   \n",
       "ff44401d0d8f5b9c54a47374eb48c1b8  -0.224803                1.076142   \n",
       "ff8892f7c26aa0446da53d01b18df463  -0.224803                1.049152   \n",
       "ff922bdd6bafcdf99cb90d7f39cea5b3   1.711215                1.663176   \n",
       "ffe254cc039740e17dd15a5305035928  -0.224803                1.400023   \n",
       "\n",
       "                                  days_since_last_order  frequency  \\\n",
       "customer_unique_id                                                   \n",
       "00172711b30d52eea8b313a7f2cced02              -1.398262   3.087087   \n",
       "004288347e5e88a27ded2bb23747066c               0.053624  -0.585370   \n",
       "004b45ec5c64187465168251cd1c9c2f              -0.861546  -0.514179   \n",
       "0058f300f57d7b93c477a131a59b36c3              -0.414282   0.115633   \n",
       "00a39521eb40f7012db50455bf083460              -0.909712   1.090245   \n",
       "...                                                 ...        ...   \n",
       "ff36be26206fffe1eb37afd54c70e18b              -1.467072   5.329693   \n",
       "ff44401d0d8f5b9c54a47374eb48c1b8               1.698178  -0.692685   \n",
       "ff8892f7c26aa0446da53d01b18df463               0.383911  -0.687163   \n",
       "ff922bdd6bafcdf99cb90d7f39cea5b3               0.893103  -0.492888   \n",
       "ffe254cc039740e17dd15a5305035928               2.028465  -0.752829   \n",
       "\n",
       "                                  sum_orders  nb_reviews  \\\n",
       "customer_unique_id                                         \n",
       "00172711b30d52eea8b313a7f2cced02   -0.600943   -0.389069   \n",
       "004288347e5e88a27ded2bb23747066c    0.188105   -0.389069   \n",
       "004b45ec5c64187465168251cd1c9c2f   -0.560744   -0.389069   \n",
       "0058f300f57d7b93c477a131a59b36c3   -0.412978   -0.389069   \n",
       "00a39521eb40f7012db50455bf083460   -0.578412   -0.389069   \n",
       "...                                      ...         ...   \n",
       "ff36be26206fffe1eb37afd54c70e18b   -0.589921    1.027748   \n",
       "ff44401d0d8f5b9c54a47374eb48c1b8   -0.713438   -0.389069   \n",
       "ff8892f7c26aa0446da53d01b18df463    0.058623    1.027748   \n",
       "ff922bdd6bafcdf99cb90d7f39cea5b3   -0.535165    1.027748   \n",
       "ffe254cc039740e17dd15a5305035928   -0.676869   -0.389069   \n",
       "\n",
       "                                  average_review_score  average_delivery_time  \\\n",
       "customer_unique_id                                                              \n",
       "00172711b30d52eea8b313a7f2cced02             -0.085903              -0.131181   \n",
       "004288347e5e88a27ded2bb23747066c              0.783741              -0.691820   \n",
       "004b45ec5c64187465168251cd1c9c2f             -0.955547               1.410577   \n",
       "0058f300f57d7b93c477a131a59b36c3             -0.955547               0.149139   \n",
       "00a39521eb40f7012db50455bf083460             -0.085903               0.849938   \n",
       "...                                                ...                    ...   \n",
       "ff36be26206fffe1eb37afd54c70e18b             -0.955547               0.008979   \n",
       "ff44401d0d8f5b9c54a47374eb48c1b8             -0.955547               0.008979   \n",
       "ff8892f7c26aa0446da53d01b18df463             -1.245428               3.512974   \n",
       "ff922bdd6bafcdf99cb90d7f39cea5b3              0.203978               0.709778   \n",
       "ffe254cc039740e17dd15a5305035928             -0.955547               0.709778   \n",
       "\n",
       "                                  delay_rate  advance_rate  ...  stationery  \\\n",
       "customer_unique_id                                          ...               \n",
       "00172711b30d52eea8b313a7f2cced02   -0.300228      0.398466  ...   10.488088   \n",
       "004288347e5e88a27ded2bb23747066c   -0.300228      0.398466  ...   -0.095346   \n",
       "004b45ec5c64187465168251cd1c9c2f   -0.300228      0.398466  ...   -0.095346   \n",
       "0058f300f57d7b93c477a131a59b36c3   -0.300228      0.398466  ...   -0.095346   \n",
       "00a39521eb40f7012db50455bf083460   -0.300228      0.398466  ...   -0.095346   \n",
       "...                                      ...           ...  ...         ...   \n",
       "ff36be26206fffe1eb37afd54c70e18b   -0.300228     -3.952728  ...   -0.095346   \n",
       "ff44401d0d8f5b9c54a47374eb48c1b8   -0.300228      0.398466  ...   -0.095346   \n",
       "ff8892f7c26aa0446da53d01b18df463    2.654544     -1.777131  ...   -0.095346   \n",
       "ff922bdd6bafcdf99cb90d7f39cea5b3    1.669620     -1.051932  ...   -0.095346   \n",
       "ffe254cc039740e17dd15a5305035928   -0.300228      0.398466  ...   -0.095346   \n",
       "\n",
       "                                  tablets_printing_image  telephony      toys  \\\n",
       "customer_unique_id                                                              \n",
       "00172711b30d52eea8b313a7f2cced02                -0.01827   -0.14293 -0.209493   \n",
       "004288347e5e88a27ded2bb23747066c                -0.01827   -0.14293 -0.209493   \n",
       "004b45ec5c64187465168251cd1c9c2f                -0.01827   -0.14293 -0.209493   \n",
       "0058f300f57d7b93c477a131a59b36c3                -0.01827   -0.14293 -0.209493   \n",
       "00a39521eb40f7012db50455bf083460                -0.01827   -0.14293 -0.209493   \n",
       "...                                                  ...        ...       ...   \n",
       "ff36be26206fffe1eb37afd54c70e18b                -0.01827   -0.14293 -0.209493   \n",
       "ff44401d0d8f5b9c54a47374eb48c1b8                -0.01827   -0.14293 -0.209493   \n",
       "ff8892f7c26aa0446da53d01b18df463                -0.01827   -0.14293 -0.209493   \n",
       "ff922bdd6bafcdf99cb90d7f39cea5b3                -0.01827   -0.14293 -0.209493   \n",
       "ffe254cc039740e17dd15a5305035928                -0.01827   -0.14293 -0.209493   \n",
       "\n",
       "                                  watches_gifts      cash  credit_card  \\\n",
       "customer_unique_id                                                       \n",
       "00172711b30d52eea8b313a7f2cced02      -0.236697 -0.468807    -1.672866   \n",
       "004288347e5e88a27ded2bb23747066c      -0.236697 -0.468807     0.597777   \n",
       "004b45ec5c64187465168251cd1c9c2f      -0.236697  2.133073    -1.672866   \n",
       "0058f300f57d7b93c477a131a59b36c3      -0.236697 -0.468807    -1.672866   \n",
       "00a39521eb40f7012db50455bf083460      -0.236697 -0.468807     0.597777   \n",
       "...                                         ...       ...          ...   \n",
       "ff36be26206fffe1eb37afd54c70e18b      -0.236697 -0.468807    -1.672866   \n",
       "ff44401d0d8f5b9c54a47374eb48c1b8      -0.236697 -0.468807    -1.672866   \n",
       "ff8892f7c26aa0446da53d01b18df463       4.224814 -0.468807     0.597777   \n",
       "ff922bdd6bafcdf99cb90d7f39cea5b3      -0.236697 -0.468807     0.597777   \n",
       "ffe254cc039740e17dd15a5305035928      -0.236697 -0.468807     0.597777   \n",
       "\n",
       "                                  debit_card  not_defined   voucher  \n",
       "customer_unique_id                                                   \n",
       "00172711b30d52eea8b313a7f2cced02    -0.14293     -0.01827  3.865422  \n",
       "004288347e5e88a27ded2bb23747066c    -0.14293     -0.01827 -0.258704  \n",
       "004b45ec5c64187465168251cd1c9c2f    -0.14293     -0.01827 -0.258704  \n",
       "0058f300f57d7b93c477a131a59b36c3    -0.14293     -0.01827  3.865422  \n",
       "00a39521eb40f7012db50455bf083460    -0.14293     -0.01827 -0.258704  \n",
       "...                                      ...          ...       ...  \n",
       "ff36be26206fffe1eb37afd54c70e18b    -0.14293     -0.01827  3.865422  \n",
       "ff44401d0d8f5b9c54a47374eb48c1b8    -0.14293     -0.01827  3.865422  \n",
       "ff8892f7c26aa0446da53d01b18df463    -0.14293     -0.01827 -0.258704  \n",
       "ff922bdd6bafcdf99cb90d7f39cea5b3    -0.14293     -0.01827 -0.258704  \n",
       "ffe254cc039740e17dd15a5305035928    -0.14293     -0.01827 -0.258704  \n",
       "\n",
       "[2997 rows x 81 columns]"
      ]
     },
     "execution_count": 13,
     "metadata": {},
     "output_type": "execute_result"
    }
   ],
   "source": [
    "data_scale"
   ]
  },
  {
   "cell_type": "markdown",
   "id": "dressed-facial",
   "metadata": {},
   "source": [
    "## FAUT IL APPLIQUER LE SCALE SUR LES COLONNES CATEGORIQUES?? NON"
   ]
  },
  {
   "cell_type": "markdown",
   "id": "cleared-telephone",
   "metadata": {},
   "source": [
    "<a id='PCA'></a>\n",
    "# Analyse en composantes principales ☘️"
   ]
  },
  {
   "cell_type": "markdown",
   "id": "insured-attraction",
   "metadata": {},
   "source": [
    "Sans les données catégoriques"
   ]
  },
  {
   "cell_type": "code",
   "execution_count": 24,
   "id": "automatic-freeware",
   "metadata": {},
   "outputs": [
    {
     "name": "stdout",
     "output_type": "stream",
     "text": [
      "[0.17161157 0.33191635 0.45467737]\n"
     ]
    }
   ],
   "source": [
    "pca_simple = decomposition.PCA(n_components=3)\n",
    "pca_simple.fit(data_scale.iloc[:, :15])\n",
    "print(pca_simple.explained_variance_ratio_.cumsum())"
   ]
  },
  {
   "cell_type": "markdown",
   "id": "executive-mounting",
   "metadata": {},
   "source": [
    "Avec les données catégoriques"
   ]
  },
  {
   "cell_type": "code",
   "execution_count": 25,
   "id": "expensive-stewart",
   "metadata": {},
   "outputs": [
    {
     "name": "stdout",
     "output_type": "stream",
     "text": [
      "[0.03302803 0.06393176 0.08787653]\n"
     ]
    }
   ],
   "source": [
    "pca = decomposition.PCA(n_components=3)\n",
    "pca.fit(data_scale)\n",
    "print(pca.explained_variance_ratio_.cumsum())"
   ]
  },
  {
   "cell_type": "markdown",
   "id": "varied-professor",
   "metadata": {},
   "source": [
    "MAUVAIS RESULTATS PEUT ETRE DUS AU PROBLEME DE SCALING SUR LES CATEGORIES"
   ]
  },
  {
   "cell_type": "markdown",
   "id": "modern-recommendation",
   "metadata": {},
   "source": [
    "# t-SNE"
   ]
  },
  {
   "cell_type": "markdown",
   "id": "elementary-ground",
   "metadata": {},
   "source": [
    "Données non standardisées"
   ]
  },
  {
   "cell_type": "code",
   "execution_count": 99,
   "id": "filled-socket",
   "metadata": {},
   "outputs": [
    {
     "name": "stdout",
     "output_type": "stream",
     "text": [
      "Wall time: 9.8 s\n"
     ]
    }
   ],
   "source": [
    "%%time\n",
    "tsne = manifold.TSNE(random_state=41)\n",
    "data_tsne = tsne.fit_transform(data)"
   ]
  },
  {
   "cell_type": "code",
   "execution_count": 100,
   "id": "rolled-surgery",
   "metadata": {},
   "outputs": [
    {
     "data": {
      "image/png": "[encoded data removed]",
      "text/plain": [
       "<Figure size 576x576 with 1 Axes>"
      ]
     },
     "metadata": {},
     "output_type": "display_data"
    },
    {
     "name": "stdout",
     "output_type": "stream",
     "text": [
      "0.8503367900848389\n"
     ]
    }
   ],
   "source": [
    "x = [point[0] for point in data_tsne]\n",
    "y = [point[1] for point in data_tsne]\n",
    "plt.style.use('seaborn')\n",
    "plt.figure(figsize=(8,8))\n",
    "plt.axis('equal')\n",
    "plt.scatter(x, y, marker='.', s=5)\n",
    "plt.show()\n",
    "print(tsne.kl_divergence_)"
   ]
  },
  {
   "cell_type": "markdown",
   "id": "hazardous-beverage",
   "metadata": {},
   "source": [
    "Données Standardisées"
   ]
  },
  {
   "cell_type": "code",
   "execution_count": 101,
   "id": "universal-canberra",
   "metadata": {},
   "outputs": [
    {
     "name": "stdout",
     "output_type": "stream",
     "text": [
      "Wall time: 11.7 s\n"
     ]
    }
   ],
   "source": [
    "%%time\n",
    "tsne = manifold.TSNE(init='pca', random_state=41, n_jobs=-1)\n",
    "data_tsne = tsne.fit_transform(data_scale)"
   ]
  },
  {
   "cell_type": "code",
   "execution_count": 102,
   "id": "radical-script",
   "metadata": {},
   "outputs": [
    {
     "data": {
      "image/png": "[encoded data removed]",
      "text/plain": [
       "<Figure size 576x576 with 1 Axes>"
      ]
     },
     "metadata": {},
     "output_type": "display_data"
    },
    {
     "name": "stdout",
     "output_type": "stream",
     "text": [
      "0.5321984887123108\n"
     ]
    }
   ],
   "source": [
    "x = [point[0] for point in data_tsne]\n",
    "y = [point[1] for point in data_tsne]\n",
    "plt.style.use('seaborn')\n",
    "plt.figure(figsize=(8,8))\n",
    "plt.axis('equal')\n",
    "plt.scatter(x, y, marker='.', s=5)\n",
    "plt.show()\n",
    "print(tsne.kl_divergence_)"
   ]
  },
  {
   "cell_type": "markdown",
   "id": "sharp-belize",
   "metadata": {},
   "source": [
    "On voit bien ici l'intéret de travailler sur des données standardisées"
   ]
  },
  {
   "cell_type": "markdown",
   "id": "assumed-pepper",
   "metadata": {},
   "source": [
    "Fit un kmeans et colorier les points avec les etiquettes du kmeans et vérifier la cohérence du t-sne vis à vis du kmeans. Ensuite essayer la perplexité"
   ]
  },
  {
   "cell_type": "markdown",
   "id": "electoral-respondent",
   "metadata": {},
   "source": [
    "Essayons plusieurs valeurs de perplexité"
   ]
  },
  {
   "cell_type": "code",
   "execution_count": null,
   "id": "adaptive-anatomy",
   "metadata": {},
   "outputs": [],
   "source": []
  }
 ],
 "metadata": {
  "kernelspec": {
   "display_name": "OC_P05_env",
   "language": "python",
   "name": "oc_p05_env"
  },
  "language_info": {
   "codemirror_mode": {
    "name": "ipython",
    "version": 3
   },
   "file_extension": ".py",
   "mimetype": "text/x-python",
   "name": "python",
   "nbconvert_exporter": "python",
   "pygments_lexer": "ipython3",
   "version": "3.8.5"
  }
 },
 "nbformat": 4,
 "nbformat_minor": 5
}
