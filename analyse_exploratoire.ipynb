{
 "cells": [
  {
   "cell_type": "markdown",
   "id": "known-novel",
   "metadata": {},
   "source": [
    "<img src=\"img/Logo_OpenClassrooms.png\" width=100 />"
   ]
  },
  {
   "cell_type": "markdown",
   "id": "compact-tobacco",
   "metadata": {},
   "source": [
    "# OpenClassrooms Projet 5: Segmentez des clients d'un site e-commerce\n",
    "# Analyse Exploratoire\n",
    "\n",
    "Olist souhaite que vous fournissiez à ses équipes d'e-commerce une segmentation des clients qu’elles pourront utiliser au quotidien pour leurs campagnes de communication.\n",
    "\n",
    "Votre objectif est de comprendre les différents types d’utilisateurs grâce à leur comportement et à leurs données personnelles.\n",
    "\n",
    "Vous devrez fournir à l’équipe marketing une description actionable de votre segmentation et de sa logique sous-jacente pour une utilisation optimale, ainsi qu’une proposition de contrat de maintenance basée sur une analyse de la stabilité des segments au cours du temps.\n",
    "\n",
    "### Les données\n",
    "Pour cette mission, Olist vous fournit une base de données anonymisée comportant des informations sur l’historique de commandes, les produits achetés, les commentaires de satisfaction, et la localisation des clients depuis janvier 2017.\n",
    "\n",
    "### Votre mission\n",
    "Votre mission est d’aider les équipes d’Olist à comprendre les différents types d'utilisateurs. Vous utiliserez donc des méthodes non supervisées pour regrouper ensemble des clients de profils similaires. Ces catégories pourront être utilisées par l’équipe marketing pour mieux communiquer.\n",
    "\n",
    "Pour des raisons de confidentialité, Olist ne fournit pas beaucoup de données, à vous de fouiller dans celles dont vous disposez et de créer les meilleures features pour les exploiter.\n",
    "\n",
    "Enfin, votre client, Olist, a spécifié sa demande ainsi :\n",
    "\n",
    "- La segmentation proposée doit être exploitable et facile d’utilisation pour l’équipe marketing.\n",
    "- Vous évaluerez la fréquence à laquelle la segmentation doit être mise à jour, afin de pouvoir effectuer un devis de contrat de maintenance.\n",
    "- Le code fourni doit respecter la convention PEP8, pour être utilisable par Olist.\n"
   ]
  },
  {
   "cell_type": "markdown",
   "id": "ecological-elements",
   "metadata": {},
   "source": [
    "# Sommaire\n",
    "### [Bibliothèques](#1_bibli)\n",
    "### [Fonctions](#1_funcs)\n",
    "### [Données](#1_donnees)\n",
    "### [Création de la base](#1_creation_base)\n"
   ]
  },
  {
   "cell_type": "markdown",
   "id": "compact-layout",
   "metadata": {},
   "source": [
    "<a id='1_bibli'></a>\n",
    "# Import de bibliothèques 📚"
   ]
  },
  {
   "cell_type": "code",
   "execution_count": 1,
   "id": "assumed-recruitment",
   "metadata": {},
   "outputs": [],
   "source": [
    "import pandas as pd\n",
    "pd.set_option(\"mode.chained_assignment\", None)\n",
    "import numpy as np"
   ]
  },
  {
   "cell_type": "markdown",
   "id": "overhead-weather",
   "metadata": {},
   "source": [
    "<a id='1_funcs'></a>"
   ]
  },
  {
   "cell_type": "markdown",
   "id": "exterior-taylor",
   "metadata": {},
   "source": [
    "# Fonctions ⚙️"
   ]
  },
  {
   "cell_type": "markdown",
   "id": "announced-chocolate",
   "metadata": {},
   "source": [
    "<a id='get_orders'></a>"
   ]
  },
  {
   "cell_type": "code",
   "execution_count": 2,
   "id": "contemporary-spencer",
   "metadata": {},
   "outputs": [],
   "source": [
    "def get_orders(client_unique_id):\n",
    "    \"\"\" A partir d'un id client unique la fonction retourne la liste des commandes correspondantes,\n",
    "    La table des commandes doit au préalable être filtrée en fonction de la date virtuelle de l'étude\n",
    "    Args:\n",
    "        client_unique_id\n",
    "    \"\"\"\n",
    "    \n",
    "    # Avec l'id unique du client on récupère les id clients qui sont liés à chaque commande\n",
    "    ids_client = customers[customers['customer_unique_id'] == client_unique_id].customer_id.values\n",
    "    # On peut ensuite récupérer les id des commandes correspondant à ces ids clients\n",
    "    orders_client = orders[orders.customer_id.isin(ids_client)]\n",
    "    # On récupère juste les ids\n",
    "    ids_orders_client = orders_client.index.values\n",
    "    return ids_orders_client"
   ]
  },
  {
   "cell_type": "markdown",
   "id": "connected-louisiana",
   "metadata": {},
   "source": [
    "[Retour au code](#get_orders_back)"
   ]
  },
  {
   "cell_type": "markdown",
   "id": "outer-combining",
   "metadata": {},
   "source": [
    "<a id='get_nb_days'></a>"
   ]
  },
  {
   "cell_type": "code",
   "execution_count": 3,
   "id": "printable-timothy",
   "metadata": {},
   "outputs": [],
   "source": [
    "def get_nb_days(row, virtual_date, orders):\n",
    "    \"\"\"\n",
    "    Cette fonction calcule le nombre de jours écoulés depuis la première et la dernière \n",
    "    commande en prenant pour référence la date virtuelle de l'étude.\n",
    "    Args :\n",
    "        row: Pandas DataFrame row (Series) avec un attribut \"orders_ids\"\n",
    "        Timestamp \n",
    "        Pandas DataFrame : avec les données des commandes\n",
    "    Returns :\n",
    "        Tuple\n",
    "    \"\"\"\n",
    "    orders_ids = row.orders_ids\n",
    "    \n",
    "    date_first_order = orders.loc[orders_ids[0], 'order_purchase_timestamp']\n",
    "    date_last_order = orders.loc[orders_ids[-1], 'order_purchase_timestamp']\n",
    "    \n",
    "    since_first = (virtual_date - date_first_order).days\n",
    "    since_last = (virtual_date - date_last_order).days\n",
    "    return since_first, since_last"
   ]
  },
  {
   "cell_type": "markdown",
   "id": "rough-cuisine",
   "metadata": {},
   "source": [
    "[Retour au code](#tps_last_order)"
   ]
  },
  {
   "cell_type": "markdown",
   "id": "regular-champagne",
   "metadata": {},
   "source": [
    "<a id='get_frequency'></a>"
   ]
  },
  {
   "cell_type": "code",
   "execution_count": 4,
   "id": "genuine-watts",
   "metadata": {},
   "outputs": [],
   "source": [
    "def get_frequency(row):\n",
    "    \"\"\"\n",
    "    Calcul du nombre de commandes par mois entre la première commande\n",
    "    et la date virtuelle.\n",
    "    \"\"\"\n",
    "    return row.nb_orders / row.days_since_first_order * 365.25 / 12"
   ]
  },
  {
   "cell_type": "markdown",
   "id": "athletic-bruce",
   "metadata": {},
   "source": [
    "[Retour au code](#frequence)"
   ]
  },
  {
   "cell_type": "markdown",
   "id": "loving-craps",
   "metadata": {},
   "source": [
    "<a id='get_sum_orders'></a>"
   ]
  },
  {
   "cell_type": "code",
   "execution_count": 5,
   "id": "suffering-fashion",
   "metadata": {},
   "outputs": [],
   "source": [
    "def get_sum_orders(row):\n",
    "    \"\"\"\n",
    "    Calcule la somme des montants des commandes\n",
    "    \"\"\"\n",
    "    return order_items[order_items.index.isin(row.orders_ids)].price.sum()    "
   ]
  },
  {
   "cell_type": "markdown",
   "id": "experienced-diploma",
   "metadata": {},
   "source": [
    "[Retour au code](#montant)"
   ]
  },
  {
   "cell_type": "markdown",
   "id": "advance-director",
   "metadata": {},
   "source": [
    "<a id='get_most_frequent_categ'></a>"
   ]
  },
  {
   "cell_type": "code",
   "execution_count": 6,
   "id": "pending-respect",
   "metadata": {},
   "outputs": [],
   "source": [
    "def get_most_frequent_categ(row):\n",
    "    \"\"\"\n",
    "    Retourne la catégorie qui revient le plus souvent dans les achats. \n",
    "    En cas d'égalité on prend la première donnée par value_counts()\n",
    "    \"\"\"\n",
    "    \n",
    "    orders_ids = row.orders_ids\n",
    "    products_ids = order_items[order_items.index.isin(row.orders_ids)].product_id\n",
    "    try:\n",
    "        return products.loc[products_ids.value_counts().index[0]].product_category_name_english \n",
    "    except:\n",
    "        if len(products_ids) > 1:\n",
    "            return products.loc[products_ids.value_counts().index[1]].product_category_name_english\n",
    "        \n",
    "        else :\n",
    "            return np.nan"
   ]
  },
  {
   "cell_type": "markdown",
   "id": "textile-gnome",
   "metadata": {},
   "source": [
    "[Retour au code](#categorie)"
   ]
  },
  {
   "cell_type": "markdown",
   "id": "finished-skill",
   "metadata": {},
   "source": [
    "<a id='get_nb_reviews_and_avg'></a>"
   ]
  },
  {
   "cell_type": "code",
   "execution_count": 7,
   "id": "naughty-writing",
   "metadata": {},
   "outputs": [],
   "source": [
    "def get_nb_reviews_and_avg(row):\n",
    "    \"\"\"\n",
    "    Recupère le nombre de reviews et la note moyenne\n",
    "    \"\"\"\n",
    "    orders_ids = row.orders_ids\n",
    "    client_reviews = reviews[reviews.order_id.isin(orders_ids)]\n",
    "    if len(client_reviews) > 0:\n",
    "        return len(client_reviews), client_reviews.review_score.mean()\n",
    "    else:\n",
    "        return 0, np.nan"
   ]
  },
  {
   "cell_type": "markdown",
   "id": "phantom-hepatitis",
   "metadata": {},
   "source": [
    "[Retour au code](#reviews)"
   ]
  },
  {
   "cell_type": "markdown",
   "id": "prompt-while",
   "metadata": {},
   "source": [
    "<a id='get_favourite_payment_method'></a>"
   ]
  },
  {
   "cell_type": "code",
   "execution_count": 8,
   "id": "olive-painting",
   "metadata": {},
   "outputs": [],
   "source": [
    "def get_favourite_payment_method(row):\n",
    "    \"\"\"\n",
    "    Retourne le type de paiement préféré du client\n",
    "    \"\"\"\n",
    "    orders_ids = row.orders_ids\n",
    "    payment_methods = payments[payments.order_id.isin(orders_ids)].payment_type.value_counts()\n",
    "    return payment_methods.index[0]"
   ]
  },
  {
   "cell_type": "markdown",
   "id": "champion-insured",
   "metadata": {},
   "source": [
    "[Retour au code](#mode_paiement_prefere)"
   ]
  },
  {
   "cell_type": "markdown",
   "id": "identical-carter",
   "metadata": {},
   "source": [
    "<a id='1_donnees'></a>"
   ]
  },
  {
   "cell_type": "markdown",
   "id": "lesser-satisfaction",
   "metadata": {},
   "source": [
    "# Données 🎁"
   ]
  },
  {
   "cell_type": "markdown",
   "id": "described-humidity",
   "metadata": {},
   "source": [
    "<img src=\"img/structure.png\" width=500 />"
   ]
  },
  {
   "cell_type": "code",
   "execution_count": 9,
   "id": "powered-canyon",
   "metadata": {},
   "outputs": [],
   "source": [
    "orders = pd.read_csv('data/olist_orders_dataset.csv', index_col='order_id',parse_dates=['order_purchase_timestamp', \n",
    "                                                                                        'order_approved_at',\t\n",
    "                                                                                        'order_delivered_carrier_date',\t\n",
    "                                                                                        'order_delivered_customer_date',\n",
    "                                                                                        'order_estimated_delivery_date'])\n",
    "order_items = pd.read_csv('data/olist_order_items_dataset.csv',  index_col='order_id')\n",
    "products = pd.read_csv('data/olist_products_dataset.csv', index_col='product_id', na_values=np.nan)\n",
    "customers = pd.read_csv('data/olist_customers_dataset.csv')\n",
    "reviews = pd.read_csv('data/olist_order_reviews_dataset.csv')\n",
    "geolocs = pd.read_csv('data/olist_geolocation_dataset.csv')\n",
    "payments = pd.read_csv('data/olist_order_payments_dataset.csv')\n",
    "products_categ_traduction = pd.read_csv('data/product_category_name_translation.csv')"
   ]
  },
  {
   "cell_type": "markdown",
   "id": "willing-lotus",
   "metadata": {},
   "source": [
    "Application de la traduction des catégories de produits:"
   ]
  },
  {
   "cell_type": "code",
   "execution_count": 10,
   "id": "sporting-approach",
   "metadata": {},
   "outputs": [],
   "source": [
    "products = products.merge(products_categ_traduction, how='left').set_axis(products.index)"
   ]
  },
  {
   "cell_type": "markdown",
   "id": "identified-framing",
   "metadata": {},
   "source": [
    "<a id='1_creation_base'></a>"
   ]
  },
  {
   "cell_type": "markdown",
   "id": "sonic-russia",
   "metadata": {},
   "source": [
    "# Création d'une base répondant au besoin ✅\n",
    "La base doit avoir pour index les ids des clients avec des variables en relation avec son comportement.\n",
    "\n",
    "Variables retenues:\n",
    "- [Nombre de commandes](#nb_commandes)\n",
    "- [Temps depuis la première et la dernière commande](#tps_last_order)\n",
    "- [Fréquence achats](#frequence)\n",
    "- [Montants dépensés](#montant)\n",
    "- [Catégorie de produit la plus fréquente](#categorie)\n",
    "- [Nombre d'avis postés et note moyenne](#reviews)\n",
    "- [Mode de paiement préféré](#mode_paiement_prefere)\n",
    "- [Temps de livraison et retards]\n",
    "\n",
    "### Important:\n",
    "Pour le bon fonctionnement du projet, les fonctions développées pour la constitution de la base prendront en paramètre la date à laquelle on veut se fixer virtuellement. En effet on cherchera plus tard dans ce projet à déterminer la fréquence de mise à jour de la base d'entrainement du modèle.\n",
    "On prendra toujours dans ce notebook la dernière date de la base de donnée."
   ]
  },
  {
   "cell_type": "code",
   "execution_count": 11,
   "id": "scenic-staff",
   "metadata": {},
   "outputs": [],
   "source": [
    "virtual_date = orders.order_purchase_timestamp.max()"
   ]
  },
  {
   "cell_type": "code",
   "execution_count": 12,
   "id": "afraid-disaster",
   "metadata": {},
   "outputs": [
    {
     "data": {
      "text/plain": [
       "Timestamp('2018-10-17 17:30:18')"
      ]
     },
     "execution_count": 12,
     "metadata": {},
     "output_type": "execute_result"
    }
   ],
   "source": [
    "orders.order_purchase_timestamp.max()"
   ]
  },
  {
   "cell_type": "markdown",
   "id": "alternative-chair",
   "metadata": {},
   "source": [
    "<a id='nb_commandes'></a>"
   ]
  },
  {
   "cell_type": "markdown",
   "id": "eleven-mixer",
   "metadata": {},
   "source": [
    "## Nombre de commandes par client 🥰"
   ]
  },
  {
   "cell_type": "markdown",
   "id": "boxed-future",
   "metadata": {},
   "source": [
    "Cette variable est la plus importante car va nous permettre de connaitre la taille de notre dataset. En effet, difficile de classer des clients n'ayant fait qu'une commande"
   ]
  },
  {
   "cell_type": "markdown",
   "id": "extended-elevation",
   "metadata": {},
   "source": [
    "Regardons comment fonctionnent les id des clients"
   ]
  },
  {
   "cell_type": "code",
   "execution_count": 13,
   "id": "exposed-audience",
   "metadata": {},
   "outputs": [
    {
     "data": {
      "text/html": [
       "<div>\n",
       "<style scoped>\n",
       "    .dataframe tbody tr th:only-of-type {\n",
       "        vertical-align: middle;\n",
       "    }\n",
       "\n",
       "    .dataframe tbody tr th {\n",
       "        vertical-align: top;\n",
       "    }\n",
       "\n",
       "    .dataframe thead th {\n",
       "        text-align: right;\n",
       "    }\n",
       "</style>\n",
       "<table border=\"1\" class=\"dataframe\">\n",
       "  <thead>\n",
       "    <tr style=\"text-align: right;\">\n",
       "      <th></th>\n",
       "      <th>customer_id</th>\n",
       "      <th>customer_unique_id</th>\n",
       "      <th>customer_zip_code_prefix</th>\n",
       "      <th>customer_city</th>\n",
       "      <th>customer_state</th>\n",
       "    </tr>\n",
       "  </thead>\n",
       "  <tbody>\n",
       "    <tr>\n",
       "      <th>0</th>\n",
       "      <td>06b8999e2fba1a1fbc88172c00ba8bc7</td>\n",
       "      <td>861eff4711a542e4b93843c6dd7febb0</td>\n",
       "      <td>14409</td>\n",
       "      <td>franca</td>\n",
       "      <td>SP</td>\n",
       "    </tr>\n",
       "    <tr>\n",
       "      <th>1</th>\n",
       "      <td>18955e83d337fd6b2def6b18a428ac77</td>\n",
       "      <td>290c77bc529b7ac935b93aa66c333dc3</td>\n",
       "      <td>9790</td>\n",
       "      <td>sao bernardo do campo</td>\n",
       "      <td>SP</td>\n",
       "    </tr>\n",
       "    <tr>\n",
       "      <th>2</th>\n",
       "      <td>4e7b3e00288586ebd08712fdd0374a03</td>\n",
       "      <td>060e732b5b29e8181a18229c7b0b2b5e</td>\n",
       "      <td>1151</td>\n",
       "      <td>sao paulo</td>\n",
       "      <td>SP</td>\n",
       "    </tr>\n",
       "    <tr>\n",
       "      <th>3</th>\n",
       "      <td>b2b6027bc5c5109e529d4dc6358b12c3</td>\n",
       "      <td>259dac757896d24d7702b9acbbff3f3c</td>\n",
       "      <td>8775</td>\n",
       "      <td>mogi das cruzes</td>\n",
       "      <td>SP</td>\n",
       "    </tr>\n",
       "    <tr>\n",
       "      <th>4</th>\n",
       "      <td>4f2d8ab171c80ec8364f7c12e35b23ad</td>\n",
       "      <td>345ecd01c38d18a9036ed96c73b8d066</td>\n",
       "      <td>13056</td>\n",
       "      <td>campinas</td>\n",
       "      <td>SP</td>\n",
       "    </tr>\n",
       "  </tbody>\n",
       "</table>\n",
       "</div>"
      ],
      "text/plain": [
       "                        customer_id                customer_unique_id  \\\n",
       "0  06b8999e2fba1a1fbc88172c00ba8bc7  861eff4711a542e4b93843c6dd7febb0   \n",
       "1  18955e83d337fd6b2def6b18a428ac77  290c77bc529b7ac935b93aa66c333dc3   \n",
       "2  4e7b3e00288586ebd08712fdd0374a03  060e732b5b29e8181a18229c7b0b2b5e   \n",
       "3  b2b6027bc5c5109e529d4dc6358b12c3  259dac757896d24d7702b9acbbff3f3c   \n",
       "4  4f2d8ab171c80ec8364f7c12e35b23ad  345ecd01c38d18a9036ed96c73b8d066   \n",
       "\n",
       "   customer_zip_code_prefix          customer_city customer_state  \n",
       "0                     14409                 franca             SP  \n",
       "1                      9790  sao bernardo do campo             SP  \n",
       "2                      1151              sao paulo             SP  \n",
       "3                      8775        mogi das cruzes             SP  \n",
       "4                     13056               campinas             SP  "
      ]
     },
     "execution_count": 13,
     "metadata": {},
     "output_type": "execute_result"
    }
   ],
   "source": [
    "customers.head()"
   ]
  },
  {
   "cell_type": "code",
   "execution_count": 14,
   "id": "pediatric-revolution",
   "metadata": {},
   "outputs": [
    {
     "data": {
      "text/plain": [
       "96096"
      ]
     },
     "execution_count": 14,
     "metadata": {},
     "output_type": "execute_result"
    }
   ],
   "source": [
    "len(customers.customer_unique_id.unique())"
   ]
  },
  {
   "cell_type": "code",
   "execution_count": 15,
   "id": "pregnant-spyware",
   "metadata": {},
   "outputs": [
    {
     "data": {
      "text/plain": [
       "99441"
      ]
     },
     "execution_count": 15,
     "metadata": {},
     "output_type": "execute_result"
    }
   ],
   "source": [
    "len(customers.customer_id.unique())"
   ]
  },
  {
   "cell_type": "code",
   "execution_count": 16,
   "id": "worst-marine",
   "metadata": {},
   "outputs": [
    {
     "data": {
      "text/plain": [
       "Index(['customer_id', 'order_status', 'order_purchase_timestamp',\n",
       "       'order_approved_at', 'order_delivered_carrier_date',\n",
       "       'order_delivered_customer_date', 'order_estimated_delivery_date'],\n",
       "      dtype='object')"
      ]
     },
     "execution_count": 16,
     "metadata": {},
     "output_type": "execute_result"
    }
   ],
   "source": [
    "orders.columns"
   ]
  },
  {
   "cell_type": "markdown",
   "id": "jewish-shore",
   "metadata": {},
   "source": [
    "On filtre ici la date virtuelle pour garder un trace mais cette commande est neutre"
   ]
  },
  {
   "cell_type": "code",
   "execution_count": 17,
   "id": "southern-nashville",
   "metadata": {},
   "outputs": [],
   "source": [
    "orders = orders[orders.order_purchase_timestamp <= virtual_date]"
   ]
  },
  {
   "cell_type": "code",
   "execution_count": 18,
   "id": "generous-abraham",
   "metadata": {},
   "outputs": [],
   "source": [
    "orders = orders.merge(customers[['customer_id', 'customer_unique_id']], how='left').set_axis(orders.index)"
   ]
  },
  {
   "cell_type": "markdown",
   "id": "growing-appointment",
   "metadata": {},
   "source": [
    "On trie par date pour conserver un ordre des commandes logique"
   ]
  },
  {
   "cell_type": "code",
   "execution_count": 19,
   "id": "missing-pantyhose",
   "metadata": {},
   "outputs": [],
   "source": [
    "orders.sort_values('order_purchase_timestamp', inplace=True)"
   ]
  },
  {
   "cell_type": "code",
   "execution_count": 20,
   "id": "stock-robinson",
   "metadata": {},
   "outputs": [
    {
     "data": {
      "text/plain": [
       "False    93099\n",
       "True      2997\n",
       "Name: customer_id, dtype: int64"
      ]
     },
     "execution_count": 20,
     "metadata": {},
     "output_type": "execute_result"
    }
   ],
   "source": [
    "(orders.groupby('customer_unique_id').count().customer_id > 1).value_counts()"
   ]
  },
  {
   "cell_type": "markdown",
   "id": "restricted-welsh",
   "metadata": {},
   "source": [
    "### Il n'y a dans la base clients que 2997 clients ayant fait plus d'un commande"
   ]
  },
  {
   "cell_type": "code",
   "execution_count": 21,
   "id": "proud-australia",
   "metadata": {},
   "outputs": [],
   "source": [
    "data = pd.DataFrame(orders.groupby('customer_unique_id').count().customer_id)"
   ]
  },
  {
   "cell_type": "code",
   "execution_count": 22,
   "id": "later-capacity",
   "metadata": {},
   "outputs": [],
   "source": [
    "data.columns = ['nb_orders']"
   ]
  },
  {
   "cell_type": "markdown",
   "id": "plain-asset",
   "metadata": {},
   "source": [
    "Nous avons besoin de clients ayant plus d'une commande pour commencer à comprendre leur comportement. Cela réduit considérablement la taille de la base"
   ]
  },
  {
   "cell_type": "code",
   "execution_count": 23,
   "id": "found-dispatch",
   "metadata": {},
   "outputs": [],
   "source": [
    "data = data[data.nb_orders > 1]"
   ]
  },
  {
   "cell_type": "markdown",
   "id": "overall-horizontal",
   "metadata": {},
   "source": [
    "<a id='get_orders_back'></a>\n",
    "### Pour les autres variables nous avons besoin des ids des commandes correspondant à chaque client"
   ]
  },
  {
   "cell_type": "markdown",
   "id": "ongoing-colorado",
   "metadata": {},
   "source": [
    "Voir la [fonction](#get_orders)"
   ]
  },
  {
   "cell_type": "code",
   "execution_count": 24,
   "id": "compatible-sense",
   "metadata": {},
   "outputs": [
    {
     "data": {
      "text/plain": [
       "\" A partir d'un id client unique la fonction retourne la liste des commandes correspondantes,\\n    La table des commandes doit au préalable être filtrée en fonction de la date virtuelle de l'étude\\n    Args:\\n        client_unique_id\\n    \""
      ]
     },
     "execution_count": 24,
     "metadata": {},
     "output_type": "execute_result"
    }
   ],
   "source": [
    "get_orders.__doc__"
   ]
  },
  {
   "cell_type": "code",
   "execution_count": 25,
   "id": "mineral-hygiene",
   "metadata": {},
   "outputs": [],
   "source": [
    "data['orders_ids'] = data.index.map(get_orders)"
   ]
  },
  {
   "cell_type": "code",
   "execution_count": 26,
   "id": "radical-nightmare",
   "metadata": {},
   "outputs": [
    {
     "data": {
      "text/html": [
       "<div>\n",
       "<style scoped>\n",
       "    .dataframe tbody tr th:only-of-type {\n",
       "        vertical-align: middle;\n",
       "    }\n",
       "\n",
       "    .dataframe tbody tr th {\n",
       "        vertical-align: top;\n",
       "    }\n",
       "\n",
       "    .dataframe thead th {\n",
       "        text-align: right;\n",
       "    }\n",
       "</style>\n",
       "<table border=\"1\" class=\"dataframe\">\n",
       "  <thead>\n",
       "    <tr style=\"text-align: right;\">\n",
       "      <th></th>\n",
       "      <th>nb_orders</th>\n",
       "      <th>orders_ids</th>\n",
       "    </tr>\n",
       "    <tr>\n",
       "      <th>customer_unique_id</th>\n",
       "      <th></th>\n",
       "      <th></th>\n",
       "    </tr>\n",
       "  </thead>\n",
       "  <tbody>\n",
       "    <tr>\n",
       "      <th>00172711b30d52eea8b313a7f2cced02</th>\n",
       "      <td>2</td>\n",
       "      <td>[bb874c45df1a3c97842d52f31efee99a, c306eca42d3...</td>\n",
       "    </tr>\n",
       "    <tr>\n",
       "      <th>004288347e5e88a27ded2bb23747066c</th>\n",
       "      <td>2</td>\n",
       "      <td>[a61d617fbe5bd006e40d3a0988fc844b, 08204559beb...</td>\n",
       "    </tr>\n",
       "    <tr>\n",
       "      <th>004b45ec5c64187465168251cd1c9c2f</th>\n",
       "      <td>2</td>\n",
       "      <td>[90ae229a4addcfead792e2564554f09c, 9392c5e7288...</td>\n",
       "    </tr>\n",
       "    <tr>\n",
       "      <th>0058f300f57d7b93c477a131a59b36c3</th>\n",
       "      <td>2</td>\n",
       "      <td>[2cfc79d9582e9135c0a9b61fa60e6b21, 81a93b2fa39...</td>\n",
       "    </tr>\n",
       "    <tr>\n",
       "      <th>00a39521eb40f7012db50455bf083460</th>\n",
       "      <td>2</td>\n",
       "      <td>[7d32c87acba91ed87ebd98310fe1c54d, cea3e6c11eb...</td>\n",
       "    </tr>\n",
       "  </tbody>\n",
       "</table>\n",
       "</div>"
      ],
      "text/plain": [
       "                                  nb_orders  \\\n",
       "customer_unique_id                            \n",
       "00172711b30d52eea8b313a7f2cced02          2   \n",
       "004288347e5e88a27ded2bb23747066c          2   \n",
       "004b45ec5c64187465168251cd1c9c2f          2   \n",
       "0058f300f57d7b93c477a131a59b36c3          2   \n",
       "00a39521eb40f7012db50455bf083460          2   \n",
       "\n",
       "                                                                         orders_ids  \n",
       "customer_unique_id                                                                   \n",
       "00172711b30d52eea8b313a7f2cced02  [bb874c45df1a3c97842d52f31efee99a, c306eca42d3...  \n",
       "004288347e5e88a27ded2bb23747066c  [a61d617fbe5bd006e40d3a0988fc844b, 08204559beb...  \n",
       "004b45ec5c64187465168251cd1c9c2f  [90ae229a4addcfead792e2564554f09c, 9392c5e7288...  \n",
       "0058f300f57d7b93c477a131a59b36c3  [2cfc79d9582e9135c0a9b61fa60e6b21, 81a93b2fa39...  \n",
       "00a39521eb40f7012db50455bf083460  [7d32c87acba91ed87ebd98310fe1c54d, cea3e6c11eb...  "
      ]
     },
     "execution_count": 26,
     "metadata": {},
     "output_type": "execute_result"
    }
   ],
   "source": [
    "data.head()"
   ]
  },
  {
   "cell_type": "markdown",
   "id": "mysterious-europe",
   "metadata": {},
   "source": [
    "<a id='tps_last_order'></a>\n",
    "## Temps depuis la première et la dernière commande ⏲️\n",
    "Pour représenter l'ancienneté du client et la fraicheur du client. On aura besoin ici de la date virtuelle"
   ]
  },
  {
   "cell_type": "markdown",
   "id": "featured-bradford",
   "metadata": {},
   "source": [
    "Voir la [fonction](#get_nb_days)"
   ]
  },
  {
   "cell_type": "code",
   "execution_count": 27,
   "id": "medieval-feeding",
   "metadata": {},
   "outputs": [],
   "source": [
    "data[['days_since_first_order', 'days_since_last_order']] = data.apply(get_nb_days, virtual_date=virtual_date, \n",
    "                                                                       orders=orders, axis=1, result_type='expand')"
   ]
  },
  {
   "cell_type": "code",
   "execution_count": 28,
   "id": "animal-windsor",
   "metadata": {},
   "outputs": [
    {
     "data": {
      "text/html": [
       "<div>\n",
       "<style scoped>\n",
       "    .dataframe tbody tr th:only-of-type {\n",
       "        vertical-align: middle;\n",
       "    }\n",
       "\n",
       "    .dataframe tbody tr th {\n",
       "        vertical-align: top;\n",
       "    }\n",
       "\n",
       "    .dataframe thead th {\n",
       "        text-align: right;\n",
       "    }\n",
       "</style>\n",
       "<table border=\"1\" class=\"dataframe\">\n",
       "  <thead>\n",
       "    <tr style=\"text-align: right;\">\n",
       "      <th></th>\n",
       "      <th>days_since_first_order</th>\n",
       "      <th>days_since_last_order</th>\n",
       "    </tr>\n",
       "  </thead>\n",
       "  <tbody>\n",
       "    <tr>\n",
       "      <th>count</th>\n",
       "      <td>2997.000000</td>\n",
       "      <td>2997.000000</td>\n",
       "    </tr>\n",
       "    <tr>\n",
       "      <th>mean</th>\n",
       "      <td>355.512846</td>\n",
       "      <td>268.206874</td>\n",
       "    </tr>\n",
       "    <tr>\n",
       "      <th>std</th>\n",
       "      <td>148.227400</td>\n",
       "      <td>145.352456</td>\n",
       "    </tr>\n",
       "    <tr>\n",
       "      <th>min</th>\n",
       "      <td>49.000000</td>\n",
       "      <td>0.000000</td>\n",
       "    </tr>\n",
       "    <tr>\n",
       "      <th>25%</th>\n",
       "      <td>239.000000</td>\n",
       "      <td>152.000000</td>\n",
       "    </tr>\n",
       "    <tr>\n",
       "      <th>50%</th>\n",
       "      <td>350.000000</td>\n",
       "      <td>248.000000</td>\n",
       "    </tr>\n",
       "    <tr>\n",
       "      <th>75%</th>\n",
       "      <td>474.000000</td>\n",
       "      <td>366.000000</td>\n",
       "    </tr>\n",
       "    <tr>\n",
       "      <th>max</th>\n",
       "      <td>744.000000</td>\n",
       "      <td>740.000000</td>\n",
       "    </tr>\n",
       "  </tbody>\n",
       "</table>\n",
       "</div>"
      ],
      "text/plain": [
       "       days_since_first_order  days_since_last_order\n",
       "count             2997.000000            2997.000000\n",
       "mean               355.512846             268.206874\n",
       "std                148.227400             145.352456\n",
       "min                 49.000000               0.000000\n",
       "25%                239.000000             152.000000\n",
       "50%                350.000000             248.000000\n",
       "75%                474.000000             366.000000\n",
       "max                744.000000             740.000000"
      ]
     },
     "execution_count": 28,
     "metadata": {},
     "output_type": "execute_result"
    }
   ],
   "source": [
    "data[['days_since_first_order', 'days_since_last_order']].describe()"
   ]
  },
  {
   "cell_type": "markdown",
   "id": "intelligent-peripheral",
   "metadata": {},
   "source": [
    "<a id='frequence'></a>\n",
    "## Fréquence des commandes\n",
    "Pour représenter la régularité du client. On se basera aussi sur la date virtuelle"
   ]
  },
  {
   "cell_type": "markdown",
   "id": "fewer-network",
   "metadata": {},
   "source": [
    "Voir la [fonction](#get_frequency)\n",
    "\n",
    "La fréquence est exprimée par mois"
   ]
  },
  {
   "cell_type": "code",
   "execution_count": 29,
   "id": "consecutive-gazette",
   "metadata": {},
   "outputs": [],
   "source": [
    "data['frequency'] = data.apply(get_frequency, axis=1)"
   ]
  },
  {
   "cell_type": "code",
   "execution_count": 30,
   "id": "matched-procedure",
   "metadata": {},
   "outputs": [
    {
     "data": {
      "text/plain": [
       "count    2997.000000\n",
       "mean        0.234270\n",
       "std         0.167588\n",
       "min         0.081931\n",
       "25%         0.133206\n",
       "50%         0.183912\n",
       "75%         0.262392\n",
       "max         1.863520\n",
       "Name: frequency, dtype: float64"
      ]
     },
     "execution_count": 30,
     "metadata": {},
     "output_type": "execute_result"
    }
   ],
   "source": [
    "data['frequency'].describe()"
   ]
  },
  {
   "cell_type": "markdown",
   "id": "mounted-analysis",
   "metadata": {},
   "source": [
    "<a id='montant'></a>\n",
    "## Montant total des achats 💰"
   ]
  },
  {
   "cell_type": "markdown",
   "id": "scheduled-concept",
   "metadata": {},
   "source": [
    "Voir la [fonction](#get_sum_orders)"
   ]
  },
  {
   "cell_type": "code",
   "execution_count": 31,
   "id": "freelance-monroe",
   "metadata": {},
   "outputs": [],
   "source": [
    "data['sum_orders'] = data.apply(get_sum_orders, axis=1)"
   ]
  },
  {
   "cell_type": "code",
   "execution_count": 32,
   "id": "coated-defendant",
   "metadata": {},
   "outputs": [
    {
     "data": {
      "text/plain": [
       "count    2997.000000\n",
       "mean      259.867191\n",
       "std       308.511754\n",
       "min         0.000000\n",
       "25%       109.900000\n",
       "50%       179.890000\n",
       "75%       303.160000\n",
       "max      7388.000000\n",
       "Name: sum_orders, dtype: float64"
      ]
     },
     "execution_count": 32,
     "metadata": {},
     "output_type": "execute_result"
    }
   ],
   "source": [
    "data['sum_orders'].describe()"
   ]
  },
  {
   "cell_type": "markdown",
   "id": "municipal-messaging",
   "metadata": {},
   "source": [
    "<a id='categorie'></a>\n",
    "## Catégogie la plus fréquente 🗂️\n",
    "On essaie ici de détecter le type de produit intéressant le plus le client en prenant la catégoie qu'il a le plus acheté\n",
    "\n",
    "Voir la [fonction](#get_most_frequent_categ)"
   ]
  },
  {
   "cell_type": "code",
   "execution_count": 33,
   "id": "efficient-constitution",
   "metadata": {},
   "outputs": [],
   "source": [
    "data['favourite_category'] = data.apply(get_most_frequent_categ, axis=1)"
   ]
  },
  {
   "cell_type": "code",
   "execution_count": 34,
   "id": "ready-embassy",
   "metadata": {},
   "outputs": [
    {
     "data": {
      "text/plain": [
       "False    2956\n",
       "True       41\n",
       "Name: favourite_category, dtype: int64"
      ]
     },
     "execution_count": 34,
     "metadata": {},
     "output_type": "execute_result"
    }
   ],
   "source": [
    "data['favourite_category'].isnull().value_counts()"
   ]
  },
  {
   "cell_type": "markdown",
   "id": "infinite-recipient",
   "metadata": {},
   "source": [
    "Certain produits ne sont pas reliés à une catégorie. \n",
    "### QUE FAIRE DES NaN??? : remplir avec la plus fréquente"
   ]
  },
  {
   "cell_type": "markdown",
   "id": "injured-attraction",
   "metadata": {},
   "source": [
    "Cardinalité A REDUIRE : "
   ]
  },
  {
   "cell_type": "code",
   "execution_count": 35,
   "id": "industrial-charter",
   "metadata": {},
   "outputs": [
    {
     "data": {
      "text/plain": [
       "66"
      ]
     },
     "execution_count": 35,
     "metadata": {},
     "output_type": "execute_result"
    }
   ],
   "source": [
    "len(data['favourite_category'].unique())"
   ]
  },
  {
   "cell_type": "code",
   "execution_count": 60,
   "id": "widespread-speech",
   "metadata": {},
   "outputs": [
    {
     "data": {
      "text/plain": [
       "74"
      ]
     },
     "execution_count": 60,
     "metadata": {},
     "output_type": "execute_result"
    }
   ],
   "source": [
    "len(products.product_category_name.unique())"
   ]
  },
  {
   "cell_type": "code",
   "execution_count": 36,
   "id": "circular-nudist",
   "metadata": {},
   "outputs": [
    {
     "data": {
      "text/plain": [
       "bed_bath_table               419\n",
       "furniture_decor              306\n",
       "sports_leisure               293\n",
       "health_beauty                238\n",
       "computers_accessories        200\n",
       "                            ... \n",
       "music                          1\n",
       "la_cuisine                     1\n",
       "tablets_printing_image         1\n",
       "party_supplies                 1\n",
       "fashion_childrens_clothes      1\n",
       "Name: favourite_category, Length: 65, dtype: int64"
      ]
     },
     "execution_count": 36,
     "metadata": {},
     "output_type": "execute_result"
    }
   ],
   "source": [
    "data['favourite_category'].value_counts()"
   ]
  },
  {
   "cell_type": "code",
   "execution_count": null,
   "id": "smoking-story",
   "metadata": {},
   "outputs": [],
   "source": []
  },
  {
   "cell_type": "markdown",
   "id": "secure-gender",
   "metadata": {},
   "source": [
    "<a id='reviews'></a>\n",
    "## Nombre d'avis postés et note moyenne⭐\n",
    "Implication et satisfaction du client sur le site\n",
    "\n",
    "Voir la [fonction](#get_nb_reviews_and_avg)"
   ]
  },
  {
   "cell_type": "code",
   "execution_count": 37,
   "id": "flying-evolution",
   "metadata": {},
   "outputs": [],
   "source": [
    "data[['nb_reviews', 'average_review_score']] = data.apply(get_nb_reviews_and_avg, axis=1, result_type='expand')"
   ]
  },
  {
   "cell_type": "code",
   "execution_count": 38,
   "id": "bigger-linux",
   "metadata": {},
   "outputs": [
    {
     "data": {
      "text/plain": [
       "2.0     2424\n",
       "3.0      405\n",
       "4.0      125\n",
       "5.0       23\n",
       "6.0       13\n",
       "7.0        5\n",
       "9.0        1\n",
       "17.0       1\n",
       "Name: nb_reviews, dtype: int64"
      ]
     },
     "execution_count": 38,
     "metadata": {},
     "output_type": "execute_result"
    }
   ],
   "source": [
    "data.nb_reviews.value_counts()"
   ]
  },
  {
   "cell_type": "code",
   "execution_count": 39,
   "id": "environmental-tiger",
   "metadata": {},
   "outputs": [
    {
     "data": {
      "text/plain": [
       "2     2745\n",
       "3      203\n",
       "4       30\n",
       "5        8\n",
       "6        6\n",
       "7        3\n",
       "9        1\n",
       "17       1\n",
       "Name: nb_orders, dtype: int64"
      ]
     },
     "execution_count": 39,
     "metadata": {},
     "output_type": "execute_result"
    }
   ],
   "source": [
    "data.nb_orders.value_counts()"
   ]
  },
  {
   "cell_type": "code",
   "execution_count": 62,
   "id": "bulgarian-memorial",
   "metadata": {},
   "outputs": [
    {
     "data": {
      "text/plain": [
       "5    0.57420\n",
       "4    0.19200\n",
       "1    0.11858\n",
       "3    0.08287\n",
       "2    0.03235\n",
       "Name: review_score, dtype: float64"
      ]
     },
     "execution_count": 62,
     "metadata": {},
     "output_type": "execute_result"
    }
   ],
   "source": [
    "reviews.review_score.value_counts(normalize=True)"
   ]
  },
  {
   "cell_type": "markdown",
   "id": "consecutive-termination",
   "metadata": {},
   "source": [
    "### C'est louche"
   ]
  },
  {
   "cell_type": "code",
   "execution_count": 40,
   "id": "cognitive-upgrade",
   "metadata": {},
   "outputs": [
    {
     "data": {
      "text/plain": [
       "count    2997.000000\n",
       "mean        4.098780\n",
       "std         1.150088\n",
       "min         1.000000\n",
       "25%         3.500000\n",
       "50%         4.500000\n",
       "75%         5.000000\n",
       "max         5.000000\n",
       "Name: average_review_score, dtype: float64"
      ]
     },
     "execution_count": 40,
     "metadata": {},
     "output_type": "execute_result"
    }
   ],
   "source": [
    "data.average_review_score.describe()"
   ]
  },
  {
   "cell_type": "code",
   "execution_count": 41,
   "id": "loving-eclipse",
   "metadata": {},
   "outputs": [
    {
     "data": {
      "text/plain": [
       "False    100000\n",
       "Name: review_score, dtype: int64"
      ]
     },
     "execution_count": 41,
     "metadata": {},
     "output_type": "execute_result"
    }
   ],
   "source": [
    "reviews.review_score.isnull().value_counts()"
   ]
  },
  {
   "cell_type": "markdown",
   "id": "quality-oasis",
   "metadata": {},
   "source": [
    "On note ici que dans cette base, tous les clients écrivent des reviews et donnent des notes"
   ]
  },
  {
   "cell_type": "markdown",
   "id": "israeli-stick",
   "metadata": {},
   "source": [
    "<a id='mode_paiement_prefere'></a>\n",
    "## Mode de paiement préféré 💳\n",
    "Relation du client avec l'argent\n",
    "\n",
    "Voir la [fonction](#get_favourite_payment_method)"
   ]
  },
  {
   "cell_type": "code",
   "execution_count": 42,
   "id": "oriented-belize",
   "metadata": {},
   "outputs": [
    {
     "data": {
      "text/plain": [
       "credit_card    76795\n",
       "boleto         19784\n",
       "voucher         5775\n",
       "debit_card      1529\n",
       "not_defined        3\n",
       "Name: payment_type, dtype: int64"
      ]
     },
     "execution_count": 42,
     "metadata": {},
     "output_type": "execute_result"
    }
   ],
   "source": [
    "payments.payment_type.value_counts()"
   ]
  },
  {
   "cell_type": "code",
   "execution_count": 43,
   "id": "adult-north",
   "metadata": {},
   "outputs": [
    {
     "data": {
      "text/plain": [
       "False    103886\n",
       "Name: payment_type, dtype: int64"
      ]
     },
     "execution_count": 43,
     "metadata": {},
     "output_type": "execute_result"
    }
   ],
   "source": [
    "payments.payment_type.isnull().value_counts()"
   ]
  },
  {
   "cell_type": "code",
   "execution_count": 44,
   "id": "deadly-monitoring",
   "metadata": {},
   "outputs": [],
   "source": [
    "data['favourite_payment_type'] = data.apply(get_favourite_payment_method, axis=1).replace('boleto', 'cash')"
   ]
  },
  {
   "cell_type": "code",
   "execution_count": 45,
   "id": "reported-victoria",
   "metadata": {},
   "outputs": [
    {
     "data": {
      "text/plain": [
       "credit_card    2168\n",
       "cash            646\n",
       "voucher         119\n",
       "debit_card       63\n",
       "not_defined       1\n",
       "Name: favourite_payment_type, dtype: int64"
      ]
     },
     "execution_count": 45,
     "metadata": {},
     "output_type": "execute_result"
    }
   ],
   "source": [
    "data['favourite_payment_type'].value_counts()"
   ]
  },
  {
   "cell_type": "markdown",
   "id": "simplified-vaccine",
   "metadata": {},
   "source": [
    "<a id='tps_livraison'></a>\n",
    "## Temps et retards de livraison 🚚\n",
    "Expérience logistique du client. pour cette partie nous aurons besoin de créer des variables dans la table \"orders\"\n",
    "\n",
    "Nous regarderons le temps moyen de chaque livraison du client et les temps de retard/avance s'il y en a eu\n",
    "\n",
    "Voir la [fonction](#get_favourite_payment_method)"
   ]
  },
  {
   "cell_type": "code",
   "execution_count": 46,
   "id": "flexible-circular",
   "metadata": {},
   "outputs": [],
   "source": [
    "orders['delivery_time'] = orders.order_delivered_customer_date - orders.order_approved_at"
   ]
  },
  {
   "cell_type": "code",
   "execution_count": 47,
   "id": "rational-webcam",
   "metadata": {},
   "outputs": [],
   "source": [
    "orders['delay'] = orders.order_delivered_customer_date - orders.order_estimated_delivery_date"
   ]
  },
  {
   "cell_type": "code",
   "execution_count": 48,
   "id": "cleared-correlation",
   "metadata": {},
   "outputs": [],
   "source": [
    "orders['was_delayed'] = orders.delay.map(lambda x : x.days > 1)"
   ]
  },
  {
   "cell_type": "code",
   "execution_count": 49,
   "id": "familiar-soviet",
   "metadata": {},
   "outputs": [
    {
     "data": {
      "text/html": [
       "<div>\n",
       "<style scoped>\n",
       "    .dataframe tbody tr th:only-of-type {\n",
       "        vertical-align: middle;\n",
       "    }\n",
       "\n",
       "    .dataframe tbody tr th {\n",
       "        vertical-align: top;\n",
       "    }\n",
       "\n",
       "    .dataframe thead th {\n",
       "        text-align: right;\n",
       "    }\n",
       "</style>\n",
       "<table border=\"1\" class=\"dataframe\">\n",
       "  <thead>\n",
       "    <tr style=\"text-align: right;\">\n",
       "      <th></th>\n",
       "      <th>customer_id</th>\n",
       "      <th>order_status</th>\n",
       "      <th>order_purchase_timestamp</th>\n",
       "      <th>order_approved_at</th>\n",
       "      <th>order_delivered_carrier_date</th>\n",
       "      <th>order_delivered_customer_date</th>\n",
       "      <th>order_estimated_delivery_date</th>\n",
       "      <th>customer_unique_id</th>\n",
       "      <th>delivery_time</th>\n",
       "      <th>delay</th>\n",
       "      <th>was_delayed</th>\n",
       "    </tr>\n",
       "    <tr>\n",
       "      <th>order_id</th>\n",
       "      <th></th>\n",
       "      <th></th>\n",
       "      <th></th>\n",
       "      <th></th>\n",
       "      <th></th>\n",
       "      <th></th>\n",
       "      <th></th>\n",
       "      <th></th>\n",
       "      <th></th>\n",
       "      <th></th>\n",
       "      <th></th>\n",
       "    </tr>\n",
       "  </thead>\n",
       "  <tbody>\n",
       "    <tr>\n",
       "      <th>2e7a8482f6fb09756ca50c10d7bfc047</th>\n",
       "      <td>08c5351a6aca1c1589a38f244edeee9d</td>\n",
       "      <td>shipped</td>\n",
       "      <td>2016-09-04 21:15:19</td>\n",
       "      <td>2016-10-07 13:18:03</td>\n",
       "      <td>2016-10-18 13:14:51</td>\n",
       "      <td>NaT</td>\n",
       "      <td>2016-10-20</td>\n",
       "      <td>b7d76e111c89f7ebf14761390f0f7d17</td>\n",
       "      <td>NaT</td>\n",
       "      <td>NaT</td>\n",
       "      <td>False</td>\n",
       "    </tr>\n",
       "    <tr>\n",
       "      <th>e5fa5a7210941f7d56d0208e4e071d35</th>\n",
       "      <td>683c54fc24d40ee9f8a6fc179fd9856c</td>\n",
       "      <td>canceled</td>\n",
       "      <td>2016-09-05 00:15:34</td>\n",
       "      <td>2016-10-07 13:17:15</td>\n",
       "      <td>NaT</td>\n",
       "      <td>NaT</td>\n",
       "      <td>2016-10-28</td>\n",
       "      <td>4854e9b3feff728c13ee5fc7d1547e92</td>\n",
       "      <td>NaT</td>\n",
       "      <td>NaT</td>\n",
       "      <td>False</td>\n",
       "    </tr>\n",
       "    <tr>\n",
       "      <th>809a282bbd5dbcabb6f2f724fca862ec</th>\n",
       "      <td>622e13439d6b5a0b486c435618b2679e</td>\n",
       "      <td>canceled</td>\n",
       "      <td>2016-09-13 15:24:19</td>\n",
       "      <td>2016-10-07 13:16:46</td>\n",
       "      <td>NaT</td>\n",
       "      <td>NaT</td>\n",
       "      <td>2016-09-30</td>\n",
       "      <td>009b0127b727ab0ba422f6d9604487c7</td>\n",
       "      <td>NaT</td>\n",
       "      <td>NaT</td>\n",
       "      <td>False</td>\n",
       "    </tr>\n",
       "    <tr>\n",
       "      <th>bfbd0f9bdef84302105ad712db648a6c</th>\n",
       "      <td>86dc2ffce2dfff336de2f386a786e574</td>\n",
       "      <td>delivered</td>\n",
       "      <td>2016-09-15 12:16:38</td>\n",
       "      <td>2016-09-15 12:16:38</td>\n",
       "      <td>2016-11-07 17:11:53</td>\n",
       "      <td>2016-11-09 07:47:38</td>\n",
       "      <td>2016-10-04</td>\n",
       "      <td>830d5b7aaa3b6f1e9ad63703bec97d23</td>\n",
       "      <td>54 days 19:31:00</td>\n",
       "      <td>36 days 07:47:38</td>\n",
       "      <td>True</td>\n",
       "    </tr>\n",
       "    <tr>\n",
       "      <th>71303d7e93b399f5bcd537d124c0bcfa</th>\n",
       "      <td>b106b360fe2ef8849fbbd056f777b4d5</td>\n",
       "      <td>canceled</td>\n",
       "      <td>2016-10-02 22:07:52</td>\n",
       "      <td>2016-10-06 15:50:56</td>\n",
       "      <td>NaT</td>\n",
       "      <td>NaT</td>\n",
       "      <td>2016-10-25</td>\n",
       "      <td>0eb1ee9dba87f5b36b4613a65074337c</td>\n",
       "      <td>NaT</td>\n",
       "      <td>NaT</td>\n",
       "      <td>False</td>\n",
       "    </tr>\n",
       "  </tbody>\n",
       "</table>\n",
       "</div>"
      ],
      "text/plain": [
       "                                                       customer_id  \\\n",
       "order_id                                                             \n",
       "2e7a8482f6fb09756ca50c10d7bfc047  08c5351a6aca1c1589a38f244edeee9d   \n",
       "e5fa5a7210941f7d56d0208e4e071d35  683c54fc24d40ee9f8a6fc179fd9856c   \n",
       "809a282bbd5dbcabb6f2f724fca862ec  622e13439d6b5a0b486c435618b2679e   \n",
       "bfbd0f9bdef84302105ad712db648a6c  86dc2ffce2dfff336de2f386a786e574   \n",
       "71303d7e93b399f5bcd537d124c0bcfa  b106b360fe2ef8849fbbd056f777b4d5   \n",
       "\n",
       "                                 order_status order_purchase_timestamp  \\\n",
       "order_id                                                                 \n",
       "2e7a8482f6fb09756ca50c10d7bfc047      shipped      2016-09-04 21:15:19   \n",
       "e5fa5a7210941f7d56d0208e4e071d35     canceled      2016-09-05 00:15:34   \n",
       "809a282bbd5dbcabb6f2f724fca862ec     canceled      2016-09-13 15:24:19   \n",
       "bfbd0f9bdef84302105ad712db648a6c    delivered      2016-09-15 12:16:38   \n",
       "71303d7e93b399f5bcd537d124c0bcfa     canceled      2016-10-02 22:07:52   \n",
       "\n",
       "                                   order_approved_at  \\\n",
       "order_id                                               \n",
       "2e7a8482f6fb09756ca50c10d7bfc047 2016-10-07 13:18:03   \n",
       "e5fa5a7210941f7d56d0208e4e071d35 2016-10-07 13:17:15   \n",
       "809a282bbd5dbcabb6f2f724fca862ec 2016-10-07 13:16:46   \n",
       "bfbd0f9bdef84302105ad712db648a6c 2016-09-15 12:16:38   \n",
       "71303d7e93b399f5bcd537d124c0bcfa 2016-10-06 15:50:56   \n",
       "\n",
       "                                 order_delivered_carrier_date  \\\n",
       "order_id                                                        \n",
       "2e7a8482f6fb09756ca50c10d7bfc047          2016-10-18 13:14:51   \n",
       "e5fa5a7210941f7d56d0208e4e071d35                          NaT   \n",
       "809a282bbd5dbcabb6f2f724fca862ec                          NaT   \n",
       "bfbd0f9bdef84302105ad712db648a6c          2016-11-07 17:11:53   \n",
       "71303d7e93b399f5bcd537d124c0bcfa                          NaT   \n",
       "\n",
       "                                 order_delivered_customer_date  \\\n",
       "order_id                                                         \n",
       "2e7a8482f6fb09756ca50c10d7bfc047                           NaT   \n",
       "e5fa5a7210941f7d56d0208e4e071d35                           NaT   \n",
       "809a282bbd5dbcabb6f2f724fca862ec                           NaT   \n",
       "bfbd0f9bdef84302105ad712db648a6c           2016-11-09 07:47:38   \n",
       "71303d7e93b399f5bcd537d124c0bcfa                           NaT   \n",
       "\n",
       "                                 order_estimated_delivery_date  \\\n",
       "order_id                                                         \n",
       "2e7a8482f6fb09756ca50c10d7bfc047                    2016-10-20   \n",
       "e5fa5a7210941f7d56d0208e4e071d35                    2016-10-28   \n",
       "809a282bbd5dbcabb6f2f724fca862ec                    2016-09-30   \n",
       "bfbd0f9bdef84302105ad712db648a6c                    2016-10-04   \n",
       "71303d7e93b399f5bcd537d124c0bcfa                    2016-10-25   \n",
       "\n",
       "                                                customer_unique_id  \\\n",
       "order_id                                                             \n",
       "2e7a8482f6fb09756ca50c10d7bfc047  b7d76e111c89f7ebf14761390f0f7d17   \n",
       "e5fa5a7210941f7d56d0208e4e071d35  4854e9b3feff728c13ee5fc7d1547e92   \n",
       "809a282bbd5dbcabb6f2f724fca862ec  009b0127b727ab0ba422f6d9604487c7   \n",
       "bfbd0f9bdef84302105ad712db648a6c  830d5b7aaa3b6f1e9ad63703bec97d23   \n",
       "71303d7e93b399f5bcd537d124c0bcfa  0eb1ee9dba87f5b36b4613a65074337c   \n",
       "\n",
       "                                    delivery_time            delay  \\\n",
       "order_id                                                             \n",
       "2e7a8482f6fb09756ca50c10d7bfc047              NaT              NaT   \n",
       "e5fa5a7210941f7d56d0208e4e071d35              NaT              NaT   \n",
       "809a282bbd5dbcabb6f2f724fca862ec              NaT              NaT   \n",
       "bfbd0f9bdef84302105ad712db648a6c 54 days 19:31:00 36 days 07:47:38   \n",
       "71303d7e93b399f5bcd537d124c0bcfa              NaT              NaT   \n",
       "\n",
       "                                  was_delayed  \n",
       "order_id                                       \n",
       "2e7a8482f6fb09756ca50c10d7bfc047        False  \n",
       "e5fa5a7210941f7d56d0208e4e071d35        False  \n",
       "809a282bbd5dbcabb6f2f724fca862ec        False  \n",
       "bfbd0f9bdef84302105ad712db648a6c         True  \n",
       "71303d7e93b399f5bcd537d124c0bcfa        False  "
      ]
     },
     "execution_count": 49,
     "metadata": {},
     "output_type": "execute_result"
    }
   ],
   "source": [
    "orders.head()"
   ]
  },
  {
   "cell_type": "code",
   "execution_count": 50,
   "id": "touched-demographic",
   "metadata": {},
   "outputs": [
    {
     "data": {
      "text/html": [
       "<div>\n",
       "<style scoped>\n",
       "    .dataframe tbody tr th:only-of-type {\n",
       "        vertical-align: middle;\n",
       "    }\n",
       "\n",
       "    .dataframe tbody tr th {\n",
       "        vertical-align: top;\n",
       "    }\n",
       "\n",
       "    .dataframe thead th {\n",
       "        text-align: right;\n",
       "    }\n",
       "</style>\n",
       "<table border=\"1\" class=\"dataframe\">\n",
       "  <thead>\n",
       "    <tr style=\"text-align: right;\">\n",
       "      <th></th>\n",
       "      <th>customer_id</th>\n",
       "      <th>order_status</th>\n",
       "      <th>order_purchase_timestamp</th>\n",
       "      <th>order_approved_at</th>\n",
       "      <th>order_delivered_carrier_date</th>\n",
       "      <th>order_delivered_customer_date</th>\n",
       "      <th>order_estimated_delivery_date</th>\n",
       "      <th>customer_unique_id</th>\n",
       "      <th>delivery_time</th>\n",
       "      <th>delay</th>\n",
       "      <th>was_delayed</th>\n",
       "    </tr>\n",
       "    <tr>\n",
       "      <th>order_id</th>\n",
       "      <th></th>\n",
       "      <th></th>\n",
       "      <th></th>\n",
       "      <th></th>\n",
       "      <th></th>\n",
       "      <th></th>\n",
       "      <th></th>\n",
       "      <th></th>\n",
       "      <th></th>\n",
       "      <th></th>\n",
       "      <th></th>\n",
       "    </tr>\n",
       "  </thead>\n",
       "  <tbody>\n",
       "    <tr>\n",
       "      <th>c1d4211b3dae76144deccd6c74144a88</th>\n",
       "      <td>684cb238dc5b5d6366244e0e0776b450</td>\n",
       "      <td>delivered</td>\n",
       "      <td>2017-01-19 12:48:08</td>\n",
       "      <td>NaT</td>\n",
       "      <td>2017-01-25 14:56:50</td>\n",
       "      <td>2017-01-30 18:16:01</td>\n",
       "      <td>2017-03-01</td>\n",
       "      <td>6ff8b0d7b35d5c945633b8d60165691b</td>\n",
       "      <td>NaT</td>\n",
       "      <td>-30 days +18:16:01</td>\n",
       "      <td>False</td>\n",
       "    </tr>\n",
       "    <tr>\n",
       "      <th>7002a78c79c519ac54022d4f8a65e6e8</th>\n",
       "      <td>d5de688c321096d15508faae67a27051</td>\n",
       "      <td>delivered</td>\n",
       "      <td>2017-01-19 22:26:59</td>\n",
       "      <td>NaT</td>\n",
       "      <td>2017-01-27 11:08:05</td>\n",
       "      <td>2017-02-06 14:22:19</td>\n",
       "      <td>2017-03-16</td>\n",
       "      <td>d49f3dae6bad25d05160fc17aca5942d</td>\n",
       "      <td>NaT</td>\n",
       "      <td>-38 days +14:22:19</td>\n",
       "      <td>False</td>\n",
       "    </tr>\n",
       "    <tr>\n",
       "      <th>12a95a3c06dbaec84bcfb0e2da5d228a</th>\n",
       "      <td>1e101e0daffaddce8159d25a8e53f2b2</td>\n",
       "      <td>delivered</td>\n",
       "      <td>2017-02-17 13:05:55</td>\n",
       "      <td>NaT</td>\n",
       "      <td>2017-02-22 11:23:11</td>\n",
       "      <td>2017-03-02 11:09:19</td>\n",
       "      <td>2017-03-20</td>\n",
       "      <td>c8822fce1d0bfa7ddf0da24fff947172</td>\n",
       "      <td>NaT</td>\n",
       "      <td>-18 days +11:09:19</td>\n",
       "      <td>False</td>\n",
       "    </tr>\n",
       "    <tr>\n",
       "      <th>3c0b8706b065f9919d0505d3b3343881</th>\n",
       "      <td>d85919cb3c0529589c6fa617f5f43281</td>\n",
       "      <td>delivered</td>\n",
       "      <td>2017-02-17 15:53:27</td>\n",
       "      <td>NaT</td>\n",
       "      <td>2017-02-22 11:31:30</td>\n",
       "      <td>2017-03-03 11:47:47</td>\n",
       "      <td>2017-03-23</td>\n",
       "      <td>c094ac95fcd52f821809ec232a7a6956</td>\n",
       "      <td>NaT</td>\n",
       "      <td>-20 days +11:47:47</td>\n",
       "      <td>False</td>\n",
       "    </tr>\n",
       "    <tr>\n",
       "      <th>2eecb0d85f281280f79fa00f9cec1a95</th>\n",
       "      <td>a3d3c38e58b9d2dfb9207cab690b6310</td>\n",
       "      <td>delivered</td>\n",
       "      <td>2017-02-17 17:21:55</td>\n",
       "      <td>NaT</td>\n",
       "      <td>2017-02-22 11:42:51</td>\n",
       "      <td>2017-03-03 12:16:03</td>\n",
       "      <td>2017-03-20</td>\n",
       "      <td>5a4fa4919cbf2b049e72be460a380e5b</td>\n",
       "      <td>NaT</td>\n",
       "      <td>-17 days +12:16:03</td>\n",
       "      <td>False</td>\n",
       "    </tr>\n",
       "    <tr>\n",
       "      <th>d77031d6a3c8a52f019764e68f211c69</th>\n",
       "      <td>0bf35cac6cc7327065da879e2d90fae8</td>\n",
       "      <td>delivered</td>\n",
       "      <td>2017-02-18 11:04:19</td>\n",
       "      <td>NaT</td>\n",
       "      <td>2017-02-23 07:23:36</td>\n",
       "      <td>2017-03-02 16:15:23</td>\n",
       "      <td>2017-03-22</td>\n",
       "      <td>c4c0011e639bdbcf26059ddc38bd3c18</td>\n",
       "      <td>NaT</td>\n",
       "      <td>-20 days +16:15:23</td>\n",
       "      <td>False</td>\n",
       "    </tr>\n",
       "    <tr>\n",
       "      <th>8a9adc69528e1001fc68dd0aaebbb54a</th>\n",
       "      <td>4c1ccc74e00993733742a3c786dc3c1f</td>\n",
       "      <td>delivered</td>\n",
       "      <td>2017-02-18 12:45:31</td>\n",
       "      <td>NaT</td>\n",
       "      <td>2017-02-23 09:01:52</td>\n",
       "      <td>2017-03-02 10:05:06</td>\n",
       "      <td>2017-03-21</td>\n",
       "      <td>91efb7fcabc17925099dced52435837f</td>\n",
       "      <td>NaT</td>\n",
       "      <td>-19 days +10:05:06</td>\n",
       "      <td>False</td>\n",
       "    </tr>\n",
       "    <tr>\n",
       "      <th>7013bcfc1c97fe719a7b5e05e61c12db</th>\n",
       "      <td>2941af76d38100e0f8740a374f1a5dc3</td>\n",
       "      <td>delivered</td>\n",
       "      <td>2017-02-18 13:29:47</td>\n",
       "      <td>NaT</td>\n",
       "      <td>2017-02-22 16:25:25</td>\n",
       "      <td>2017-03-01 08:07:38</td>\n",
       "      <td>2017-03-17</td>\n",
       "      <td>e1f01a1bd6485e58ad3c769a5427d8a8</td>\n",
       "      <td>NaT</td>\n",
       "      <td>-16 days +08:07:38</td>\n",
       "      <td>False</td>\n",
       "    </tr>\n",
       "    <tr>\n",
       "      <th>e04abd8149ef81b95221e88f6ed9ab6a</th>\n",
       "      <td>2127dc6603ac33544953ef05ec155771</td>\n",
       "      <td>delivered</td>\n",
       "      <td>2017-02-18 14:40:00</td>\n",
       "      <td>NaT</td>\n",
       "      <td>2017-02-23 12:04:47</td>\n",
       "      <td>2017-03-01 13:25:33</td>\n",
       "      <td>2017-03-17</td>\n",
       "      <td>8a9a08c7ca8900a200d83cf838a07e0b</td>\n",
       "      <td>NaT</td>\n",
       "      <td>-16 days +13:25:33</td>\n",
       "      <td>False</td>\n",
       "    </tr>\n",
       "    <tr>\n",
       "      <th>51eb2eebd5d76a24625b31c33dd41449</th>\n",
       "      <td>07a2a7e0f63fd8cb757ed77d4245623c</td>\n",
       "      <td>delivered</td>\n",
       "      <td>2017-02-18 15:52:27</td>\n",
       "      <td>NaT</td>\n",
       "      <td>2017-02-23 03:09:14</td>\n",
       "      <td>2017-03-07 13:57:47</td>\n",
       "      <td>2017-03-29</td>\n",
       "      <td>79af1bbf230a2630487975aa5d7d6220</td>\n",
       "      <td>NaT</td>\n",
       "      <td>-22 days +13:57:47</td>\n",
       "      <td>False</td>\n",
       "    </tr>\n",
       "    <tr>\n",
       "      <th>5cf925b116421afa85ee25e99b4c34fb</th>\n",
       "      <td>29c35fc91fc13fb5073c8f30505d860d</td>\n",
       "      <td>delivered</td>\n",
       "      <td>2017-02-18 16:48:35</td>\n",
       "      <td>NaT</td>\n",
       "      <td>2017-02-22 11:23:10</td>\n",
       "      <td>2017-03-09 07:28:47</td>\n",
       "      <td>2017-03-31</td>\n",
       "      <td>7e1a5ca61b572d76b64b6688b9f96473</td>\n",
       "      <td>NaT</td>\n",
       "      <td>-22 days +07:28:47</td>\n",
       "      <td>False</td>\n",
       "    </tr>\n",
       "    <tr>\n",
       "      <th>2babbb4b15e6d2dfe95e2de765c97bce</th>\n",
       "      <td>74bebaf46603f9340e3b50c6b086f992</td>\n",
       "      <td>delivered</td>\n",
       "      <td>2017-02-18 17:15:03</td>\n",
       "      <td>NaT</td>\n",
       "      <td>2017-02-22 11:23:11</td>\n",
       "      <td>2017-03-03 18:43:43</td>\n",
       "      <td>2017-03-31</td>\n",
       "      <td>f79be7c08dd24b72d34634f1b89333a4</td>\n",
       "      <td>NaT</td>\n",
       "      <td>-28 days +18:43:43</td>\n",
       "      <td>False</td>\n",
       "    </tr>\n",
       "    <tr>\n",
       "      <th>88083e8f64d95b932164187484d90212</th>\n",
       "      <td>f67cd1a215aae2a1074638bbd35a223a</td>\n",
       "      <td>delivered</td>\n",
       "      <td>2017-02-18 22:49:19</td>\n",
       "      <td>NaT</td>\n",
       "      <td>2017-02-22 11:31:06</td>\n",
       "      <td>2017-03-02 12:06:06</td>\n",
       "      <td>2017-03-21</td>\n",
       "      <td>bc1896dc77f49e6dec880445a9b443a3</td>\n",
       "      <td>NaT</td>\n",
       "      <td>-19 days +12:06:06</td>\n",
       "      <td>False</td>\n",
       "    </tr>\n",
       "    <tr>\n",
       "      <th>d69e5d356402adc8cf17e08b5033acfb</th>\n",
       "      <td>68d081753ad4fe22fc4d410a9eb1ca01</td>\n",
       "      <td>delivered</td>\n",
       "      <td>2017-02-19 01:28:47</td>\n",
       "      <td>NaT</td>\n",
       "      <td>2017-02-23 03:11:48</td>\n",
       "      <td>2017-03-02 03:41:58</td>\n",
       "      <td>2017-03-27</td>\n",
       "      <td>2e0a2166aa23da2472c6a60c4af6f7a6</td>\n",
       "      <td>NaT</td>\n",
       "      <td>-25 days +03:41:58</td>\n",
       "      <td>False</td>\n",
       "    </tr>\n",
       "    <tr>\n",
       "      <th>2d858f451373b04fb5c984a1cc2defaf</th>\n",
       "      <td>e08caf668d499a6d643dafd7c5cc498a</td>\n",
       "      <td>delivered</td>\n",
       "      <td>2017-05-25 23:22:43</td>\n",
       "      <td>2017-05-25 23:30:16</td>\n",
       "      <td>NaT</td>\n",
       "      <td>NaT</td>\n",
       "      <td>2017-06-23</td>\n",
       "      <td>d77cf4be2654aa70ef150f8bfec076a6</td>\n",
       "      <td>NaT</td>\n",
       "      <td>NaT</td>\n",
       "      <td>False</td>\n",
       "    </tr>\n",
       "    <tr>\n",
       "      <th>2d1e2d5bf4dc7227b3bfebb81328c15f</th>\n",
       "      <td>ec05a6d8558c6455f0cbbd8a420ad34f</td>\n",
       "      <td>delivered</td>\n",
       "      <td>2017-11-28 17:44:07</td>\n",
       "      <td>2017-11-28 17:56:40</td>\n",
       "      <td>2017-11-30 18:12:23</td>\n",
       "      <td>NaT</td>\n",
       "      <td>2017-12-18</td>\n",
       "      <td>13467e882eb3a701826435ee4424f2bd</td>\n",
       "      <td>NaT</td>\n",
       "      <td>NaT</td>\n",
       "      <td>False</td>\n",
       "    </tr>\n",
       "    <tr>\n",
       "      <th>ab7c89dc1bf4a1ead9d6ec1ec8968a84</th>\n",
       "      <td>dd1b84a7286eb4524d52af4256c0ba24</td>\n",
       "      <td>delivered</td>\n",
       "      <td>2018-06-08 12:09:39</td>\n",
       "      <td>2018-06-08 12:36:39</td>\n",
       "      <td>2018-06-12 14:10:00</td>\n",
       "      <td>NaT</td>\n",
       "      <td>2018-06-26</td>\n",
       "      <td>cce5e8188bf42ffb3bb5b18ff58f5965</td>\n",
       "      <td>NaT</td>\n",
       "      <td>NaT</td>\n",
       "      <td>False</td>\n",
       "    </tr>\n",
       "    <tr>\n",
       "      <th>f5dd62b788049ad9fc0526e3ad11a097</th>\n",
       "      <td>5e89028e024b381dc84a13a3570decb4</td>\n",
       "      <td>delivered</td>\n",
       "      <td>2018-06-20 06:58:43</td>\n",
       "      <td>2018-06-20 07:19:05</td>\n",
       "      <td>2018-06-25 08:05:00</td>\n",
       "      <td>NaT</td>\n",
       "      <td>2018-07-16</td>\n",
       "      <td>2f17c5b324ad603491521b279a9ff4de</td>\n",
       "      <td>NaT</td>\n",
       "      <td>NaT</td>\n",
       "      <td>False</td>\n",
       "    </tr>\n",
       "    <tr>\n",
       "      <th>20edc82cf5400ce95e1afacc25798b31</th>\n",
       "      <td>28c37425f1127d887d7337f284080a0f</td>\n",
       "      <td>delivered</td>\n",
       "      <td>2018-06-27 16:09:12</td>\n",
       "      <td>2018-06-27 16:29:30</td>\n",
       "      <td>2018-07-03 19:26:00</td>\n",
       "      <td>NaT</td>\n",
       "      <td>2018-07-19</td>\n",
       "      <td>175378436e2978be55b8f4316bce4811</td>\n",
       "      <td>NaT</td>\n",
       "      <td>NaT</td>\n",
       "      <td>False</td>\n",
       "    </tr>\n",
       "    <tr>\n",
       "      <th>2ebdfc4f15f23b91474edf87475f108e</th>\n",
       "      <td>29f0540231702fda0cfdee0a310f11aa</td>\n",
       "      <td>delivered</td>\n",
       "      <td>2018-07-01 17:05:11</td>\n",
       "      <td>2018-07-01 17:15:12</td>\n",
       "      <td>2018-07-03 13:57:00</td>\n",
       "      <td>NaT</td>\n",
       "      <td>2018-07-30</td>\n",
       "      <td>1bd06a0c0df8b23dacfd3725d2dc0bb9</td>\n",
       "      <td>NaT</td>\n",
       "      <td>NaT</td>\n",
       "      <td>False</td>\n",
       "    </tr>\n",
       "    <tr>\n",
       "      <th>0d3268bad9b086af767785e3f0fc0133</th>\n",
       "      <td>4f1d63d35fb7c8999853b2699f5c7649</td>\n",
       "      <td>delivered</td>\n",
       "      <td>2018-07-01 21:14:02</td>\n",
       "      <td>2018-07-01 21:29:54</td>\n",
       "      <td>2018-07-03 09:28:00</td>\n",
       "      <td>NaT</td>\n",
       "      <td>2018-07-24</td>\n",
       "      <td>ebf7e0d43a78c81991a4c59c145c75db</td>\n",
       "      <td>NaT</td>\n",
       "      <td>NaT</td>\n",
       "      <td>False</td>\n",
       "    </tr>\n",
       "    <tr>\n",
       "      <th>e69f75a717d64fc5ecdfae42b2e8e086</th>\n",
       "      <td>cfda40ca8dd0a5d486a9635b611b398a</td>\n",
       "      <td>delivered</td>\n",
       "      <td>2018-07-01 22:05:55</td>\n",
       "      <td>2018-07-01 22:15:14</td>\n",
       "      <td>2018-07-03 13:57:00</td>\n",
       "      <td>NaT</td>\n",
       "      <td>2018-07-30</td>\n",
       "      <td>3bc508d482a402715be4d5cf4020cc81</td>\n",
       "      <td>NaT</td>\n",
       "      <td>NaT</td>\n",
       "      <td>False</td>\n",
       "    </tr>\n",
       "  </tbody>\n",
       "</table>\n",
       "</div>"
      ],
      "text/plain": [
       "                                                       customer_id  \\\n",
       "order_id                                                             \n",
       "c1d4211b3dae76144deccd6c74144a88  684cb238dc5b5d6366244e0e0776b450   \n",
       "7002a78c79c519ac54022d4f8a65e6e8  d5de688c321096d15508faae67a27051   \n",
       "12a95a3c06dbaec84bcfb0e2da5d228a  1e101e0daffaddce8159d25a8e53f2b2   \n",
       "3c0b8706b065f9919d0505d3b3343881  d85919cb3c0529589c6fa617f5f43281   \n",
       "2eecb0d85f281280f79fa00f9cec1a95  a3d3c38e58b9d2dfb9207cab690b6310   \n",
       "d77031d6a3c8a52f019764e68f211c69  0bf35cac6cc7327065da879e2d90fae8   \n",
       "8a9adc69528e1001fc68dd0aaebbb54a  4c1ccc74e00993733742a3c786dc3c1f   \n",
       "7013bcfc1c97fe719a7b5e05e61c12db  2941af76d38100e0f8740a374f1a5dc3   \n",
       "e04abd8149ef81b95221e88f6ed9ab6a  2127dc6603ac33544953ef05ec155771   \n",
       "51eb2eebd5d76a24625b31c33dd41449  07a2a7e0f63fd8cb757ed77d4245623c   \n",
       "5cf925b116421afa85ee25e99b4c34fb  29c35fc91fc13fb5073c8f30505d860d   \n",
       "2babbb4b15e6d2dfe95e2de765c97bce  74bebaf46603f9340e3b50c6b086f992   \n",
       "88083e8f64d95b932164187484d90212  f67cd1a215aae2a1074638bbd35a223a   \n",
       "d69e5d356402adc8cf17e08b5033acfb  68d081753ad4fe22fc4d410a9eb1ca01   \n",
       "2d858f451373b04fb5c984a1cc2defaf  e08caf668d499a6d643dafd7c5cc498a   \n",
       "2d1e2d5bf4dc7227b3bfebb81328c15f  ec05a6d8558c6455f0cbbd8a420ad34f   \n",
       "ab7c89dc1bf4a1ead9d6ec1ec8968a84  dd1b84a7286eb4524d52af4256c0ba24   \n",
       "f5dd62b788049ad9fc0526e3ad11a097  5e89028e024b381dc84a13a3570decb4   \n",
       "20edc82cf5400ce95e1afacc25798b31  28c37425f1127d887d7337f284080a0f   \n",
       "2ebdfc4f15f23b91474edf87475f108e  29f0540231702fda0cfdee0a310f11aa   \n",
       "0d3268bad9b086af767785e3f0fc0133  4f1d63d35fb7c8999853b2699f5c7649   \n",
       "e69f75a717d64fc5ecdfae42b2e8e086  cfda40ca8dd0a5d486a9635b611b398a   \n",
       "\n",
       "                                 order_status order_purchase_timestamp  \\\n",
       "order_id                                                                 \n",
       "c1d4211b3dae76144deccd6c74144a88    delivered      2017-01-19 12:48:08   \n",
       "7002a78c79c519ac54022d4f8a65e6e8    delivered      2017-01-19 22:26:59   \n",
       "12a95a3c06dbaec84bcfb0e2da5d228a    delivered      2017-02-17 13:05:55   \n",
       "3c0b8706b065f9919d0505d3b3343881    delivered      2017-02-17 15:53:27   \n",
       "2eecb0d85f281280f79fa00f9cec1a95    delivered      2017-02-17 17:21:55   \n",
       "d77031d6a3c8a52f019764e68f211c69    delivered      2017-02-18 11:04:19   \n",
       "8a9adc69528e1001fc68dd0aaebbb54a    delivered      2017-02-18 12:45:31   \n",
       "7013bcfc1c97fe719a7b5e05e61c12db    delivered      2017-02-18 13:29:47   \n",
       "e04abd8149ef81b95221e88f6ed9ab6a    delivered      2017-02-18 14:40:00   \n",
       "51eb2eebd5d76a24625b31c33dd41449    delivered      2017-02-18 15:52:27   \n",
       "5cf925b116421afa85ee25e99b4c34fb    delivered      2017-02-18 16:48:35   \n",
       "2babbb4b15e6d2dfe95e2de765c97bce    delivered      2017-02-18 17:15:03   \n",
       "88083e8f64d95b932164187484d90212    delivered      2017-02-18 22:49:19   \n",
       "d69e5d356402adc8cf17e08b5033acfb    delivered      2017-02-19 01:28:47   \n",
       "2d858f451373b04fb5c984a1cc2defaf    delivered      2017-05-25 23:22:43   \n",
       "2d1e2d5bf4dc7227b3bfebb81328c15f    delivered      2017-11-28 17:44:07   \n",
       "ab7c89dc1bf4a1ead9d6ec1ec8968a84    delivered      2018-06-08 12:09:39   \n",
       "f5dd62b788049ad9fc0526e3ad11a097    delivered      2018-06-20 06:58:43   \n",
       "20edc82cf5400ce95e1afacc25798b31    delivered      2018-06-27 16:09:12   \n",
       "2ebdfc4f15f23b91474edf87475f108e    delivered      2018-07-01 17:05:11   \n",
       "0d3268bad9b086af767785e3f0fc0133    delivered      2018-07-01 21:14:02   \n",
       "e69f75a717d64fc5ecdfae42b2e8e086    delivered      2018-07-01 22:05:55   \n",
       "\n",
       "                                   order_approved_at  \\\n",
       "order_id                                               \n",
       "c1d4211b3dae76144deccd6c74144a88                 NaT   \n",
       "7002a78c79c519ac54022d4f8a65e6e8                 NaT   \n",
       "12a95a3c06dbaec84bcfb0e2da5d228a                 NaT   \n",
       "3c0b8706b065f9919d0505d3b3343881                 NaT   \n",
       "2eecb0d85f281280f79fa00f9cec1a95                 NaT   \n",
       "d77031d6a3c8a52f019764e68f211c69                 NaT   \n",
       "8a9adc69528e1001fc68dd0aaebbb54a                 NaT   \n",
       "7013bcfc1c97fe719a7b5e05e61c12db                 NaT   \n",
       "e04abd8149ef81b95221e88f6ed9ab6a                 NaT   \n",
       "51eb2eebd5d76a24625b31c33dd41449                 NaT   \n",
       "5cf925b116421afa85ee25e99b4c34fb                 NaT   \n",
       "2babbb4b15e6d2dfe95e2de765c97bce                 NaT   \n",
       "88083e8f64d95b932164187484d90212                 NaT   \n",
       "d69e5d356402adc8cf17e08b5033acfb                 NaT   \n",
       "2d858f451373b04fb5c984a1cc2defaf 2017-05-25 23:30:16   \n",
       "2d1e2d5bf4dc7227b3bfebb81328c15f 2017-11-28 17:56:40   \n",
       "ab7c89dc1bf4a1ead9d6ec1ec8968a84 2018-06-08 12:36:39   \n",
       "f5dd62b788049ad9fc0526e3ad11a097 2018-06-20 07:19:05   \n",
       "20edc82cf5400ce95e1afacc25798b31 2018-06-27 16:29:30   \n",
       "2ebdfc4f15f23b91474edf87475f108e 2018-07-01 17:15:12   \n",
       "0d3268bad9b086af767785e3f0fc0133 2018-07-01 21:29:54   \n",
       "e69f75a717d64fc5ecdfae42b2e8e086 2018-07-01 22:15:14   \n",
       "\n",
       "                                 order_delivered_carrier_date  \\\n",
       "order_id                                                        \n",
       "c1d4211b3dae76144deccd6c74144a88          2017-01-25 14:56:50   \n",
       "7002a78c79c519ac54022d4f8a65e6e8          2017-01-27 11:08:05   \n",
       "12a95a3c06dbaec84bcfb0e2da5d228a          2017-02-22 11:23:11   \n",
       "3c0b8706b065f9919d0505d3b3343881          2017-02-22 11:31:30   \n",
       "2eecb0d85f281280f79fa00f9cec1a95          2017-02-22 11:42:51   \n",
       "d77031d6a3c8a52f019764e68f211c69          2017-02-23 07:23:36   \n",
       "8a9adc69528e1001fc68dd0aaebbb54a          2017-02-23 09:01:52   \n",
       "7013bcfc1c97fe719a7b5e05e61c12db          2017-02-22 16:25:25   \n",
       "e04abd8149ef81b95221e88f6ed9ab6a          2017-02-23 12:04:47   \n",
       "51eb2eebd5d76a24625b31c33dd41449          2017-02-23 03:09:14   \n",
       "5cf925b116421afa85ee25e99b4c34fb          2017-02-22 11:23:10   \n",
       "2babbb4b15e6d2dfe95e2de765c97bce          2017-02-22 11:23:11   \n",
       "88083e8f64d95b932164187484d90212          2017-02-22 11:31:06   \n",
       "d69e5d356402adc8cf17e08b5033acfb          2017-02-23 03:11:48   \n",
       "2d858f451373b04fb5c984a1cc2defaf                          NaT   \n",
       "2d1e2d5bf4dc7227b3bfebb81328c15f          2017-11-30 18:12:23   \n",
       "ab7c89dc1bf4a1ead9d6ec1ec8968a84          2018-06-12 14:10:00   \n",
       "f5dd62b788049ad9fc0526e3ad11a097          2018-06-25 08:05:00   \n",
       "20edc82cf5400ce95e1afacc25798b31          2018-07-03 19:26:00   \n",
       "2ebdfc4f15f23b91474edf87475f108e          2018-07-03 13:57:00   \n",
       "0d3268bad9b086af767785e3f0fc0133          2018-07-03 09:28:00   \n",
       "e69f75a717d64fc5ecdfae42b2e8e086          2018-07-03 13:57:00   \n",
       "\n",
       "                                 order_delivered_customer_date  \\\n",
       "order_id                                                         \n",
       "c1d4211b3dae76144deccd6c74144a88           2017-01-30 18:16:01   \n",
       "7002a78c79c519ac54022d4f8a65e6e8           2017-02-06 14:22:19   \n",
       "12a95a3c06dbaec84bcfb0e2da5d228a           2017-03-02 11:09:19   \n",
       "3c0b8706b065f9919d0505d3b3343881           2017-03-03 11:47:47   \n",
       "2eecb0d85f281280f79fa00f9cec1a95           2017-03-03 12:16:03   \n",
       "d77031d6a3c8a52f019764e68f211c69           2017-03-02 16:15:23   \n",
       "8a9adc69528e1001fc68dd0aaebbb54a           2017-03-02 10:05:06   \n",
       "7013bcfc1c97fe719a7b5e05e61c12db           2017-03-01 08:07:38   \n",
       "e04abd8149ef81b95221e88f6ed9ab6a           2017-03-01 13:25:33   \n",
       "51eb2eebd5d76a24625b31c33dd41449           2017-03-07 13:57:47   \n",
       "5cf925b116421afa85ee25e99b4c34fb           2017-03-09 07:28:47   \n",
       "2babbb4b15e6d2dfe95e2de765c97bce           2017-03-03 18:43:43   \n",
       "88083e8f64d95b932164187484d90212           2017-03-02 12:06:06   \n",
       "d69e5d356402adc8cf17e08b5033acfb           2017-03-02 03:41:58   \n",
       "2d858f451373b04fb5c984a1cc2defaf                           NaT   \n",
       "2d1e2d5bf4dc7227b3bfebb81328c15f                           NaT   \n",
       "ab7c89dc1bf4a1ead9d6ec1ec8968a84                           NaT   \n",
       "f5dd62b788049ad9fc0526e3ad11a097                           NaT   \n",
       "20edc82cf5400ce95e1afacc25798b31                           NaT   \n",
       "2ebdfc4f15f23b91474edf87475f108e                           NaT   \n",
       "0d3268bad9b086af767785e3f0fc0133                           NaT   \n",
       "e69f75a717d64fc5ecdfae42b2e8e086                           NaT   \n",
       "\n",
       "                                 order_estimated_delivery_date  \\\n",
       "order_id                                                         \n",
       "c1d4211b3dae76144deccd6c74144a88                    2017-03-01   \n",
       "7002a78c79c519ac54022d4f8a65e6e8                    2017-03-16   \n",
       "12a95a3c06dbaec84bcfb0e2da5d228a                    2017-03-20   \n",
       "3c0b8706b065f9919d0505d3b3343881                    2017-03-23   \n",
       "2eecb0d85f281280f79fa00f9cec1a95                    2017-03-20   \n",
       "d77031d6a3c8a52f019764e68f211c69                    2017-03-22   \n",
       "8a9adc69528e1001fc68dd0aaebbb54a                    2017-03-21   \n",
       "7013bcfc1c97fe719a7b5e05e61c12db                    2017-03-17   \n",
       "e04abd8149ef81b95221e88f6ed9ab6a                    2017-03-17   \n",
       "51eb2eebd5d76a24625b31c33dd41449                    2017-03-29   \n",
       "5cf925b116421afa85ee25e99b4c34fb                    2017-03-31   \n",
       "2babbb4b15e6d2dfe95e2de765c97bce                    2017-03-31   \n",
       "88083e8f64d95b932164187484d90212                    2017-03-21   \n",
       "d69e5d356402adc8cf17e08b5033acfb                    2017-03-27   \n",
       "2d858f451373b04fb5c984a1cc2defaf                    2017-06-23   \n",
       "2d1e2d5bf4dc7227b3bfebb81328c15f                    2017-12-18   \n",
       "ab7c89dc1bf4a1ead9d6ec1ec8968a84                    2018-06-26   \n",
       "f5dd62b788049ad9fc0526e3ad11a097                    2018-07-16   \n",
       "20edc82cf5400ce95e1afacc25798b31                    2018-07-19   \n",
       "2ebdfc4f15f23b91474edf87475f108e                    2018-07-30   \n",
       "0d3268bad9b086af767785e3f0fc0133                    2018-07-24   \n",
       "e69f75a717d64fc5ecdfae42b2e8e086                    2018-07-30   \n",
       "\n",
       "                                                customer_unique_id  \\\n",
       "order_id                                                             \n",
       "c1d4211b3dae76144deccd6c74144a88  6ff8b0d7b35d5c945633b8d60165691b   \n",
       "7002a78c79c519ac54022d4f8a65e6e8  d49f3dae6bad25d05160fc17aca5942d   \n",
       "12a95a3c06dbaec84bcfb0e2da5d228a  c8822fce1d0bfa7ddf0da24fff947172   \n",
       "3c0b8706b065f9919d0505d3b3343881  c094ac95fcd52f821809ec232a7a6956   \n",
       "2eecb0d85f281280f79fa00f9cec1a95  5a4fa4919cbf2b049e72be460a380e5b   \n",
       "d77031d6a3c8a52f019764e68f211c69  c4c0011e639bdbcf26059ddc38bd3c18   \n",
       "8a9adc69528e1001fc68dd0aaebbb54a  91efb7fcabc17925099dced52435837f   \n",
       "7013bcfc1c97fe719a7b5e05e61c12db  e1f01a1bd6485e58ad3c769a5427d8a8   \n",
       "e04abd8149ef81b95221e88f6ed9ab6a  8a9a08c7ca8900a200d83cf838a07e0b   \n",
       "51eb2eebd5d76a24625b31c33dd41449  79af1bbf230a2630487975aa5d7d6220   \n",
       "5cf925b116421afa85ee25e99b4c34fb  7e1a5ca61b572d76b64b6688b9f96473   \n",
       "2babbb4b15e6d2dfe95e2de765c97bce  f79be7c08dd24b72d34634f1b89333a4   \n",
       "88083e8f64d95b932164187484d90212  bc1896dc77f49e6dec880445a9b443a3   \n",
       "d69e5d356402adc8cf17e08b5033acfb  2e0a2166aa23da2472c6a60c4af6f7a6   \n",
       "2d858f451373b04fb5c984a1cc2defaf  d77cf4be2654aa70ef150f8bfec076a6   \n",
       "2d1e2d5bf4dc7227b3bfebb81328c15f  13467e882eb3a701826435ee4424f2bd   \n",
       "ab7c89dc1bf4a1ead9d6ec1ec8968a84  cce5e8188bf42ffb3bb5b18ff58f5965   \n",
       "f5dd62b788049ad9fc0526e3ad11a097  2f17c5b324ad603491521b279a9ff4de   \n",
       "20edc82cf5400ce95e1afacc25798b31  175378436e2978be55b8f4316bce4811   \n",
       "2ebdfc4f15f23b91474edf87475f108e  1bd06a0c0df8b23dacfd3725d2dc0bb9   \n",
       "0d3268bad9b086af767785e3f0fc0133  ebf7e0d43a78c81991a4c59c145c75db   \n",
       "e69f75a717d64fc5ecdfae42b2e8e086  3bc508d482a402715be4d5cf4020cc81   \n",
       "\n",
       "                                 delivery_time              delay  was_delayed  \n",
       "order_id                                                                        \n",
       "c1d4211b3dae76144deccd6c74144a88           NaT -30 days +18:16:01        False  \n",
       "7002a78c79c519ac54022d4f8a65e6e8           NaT -38 days +14:22:19        False  \n",
       "12a95a3c06dbaec84bcfb0e2da5d228a           NaT -18 days +11:09:19        False  \n",
       "3c0b8706b065f9919d0505d3b3343881           NaT -20 days +11:47:47        False  \n",
       "2eecb0d85f281280f79fa00f9cec1a95           NaT -17 days +12:16:03        False  \n",
       "d77031d6a3c8a52f019764e68f211c69           NaT -20 days +16:15:23        False  \n",
       "8a9adc69528e1001fc68dd0aaebbb54a           NaT -19 days +10:05:06        False  \n",
       "7013bcfc1c97fe719a7b5e05e61c12db           NaT -16 days +08:07:38        False  \n",
       "e04abd8149ef81b95221e88f6ed9ab6a           NaT -16 days +13:25:33        False  \n",
       "51eb2eebd5d76a24625b31c33dd41449           NaT -22 days +13:57:47        False  \n",
       "5cf925b116421afa85ee25e99b4c34fb           NaT -22 days +07:28:47        False  \n",
       "2babbb4b15e6d2dfe95e2de765c97bce           NaT -28 days +18:43:43        False  \n",
       "88083e8f64d95b932164187484d90212           NaT -19 days +12:06:06        False  \n",
       "d69e5d356402adc8cf17e08b5033acfb           NaT -25 days +03:41:58        False  \n",
       "2d858f451373b04fb5c984a1cc2defaf           NaT                NaT        False  \n",
       "2d1e2d5bf4dc7227b3bfebb81328c15f           NaT                NaT        False  \n",
       "ab7c89dc1bf4a1ead9d6ec1ec8968a84           NaT                NaT        False  \n",
       "f5dd62b788049ad9fc0526e3ad11a097           NaT                NaT        False  \n",
       "20edc82cf5400ce95e1afacc25798b31           NaT                NaT        False  \n",
       "2ebdfc4f15f23b91474edf87475f108e           NaT                NaT        False  \n",
       "0d3268bad9b086af767785e3f0fc0133           NaT                NaT        False  \n",
       "e69f75a717d64fc5ecdfae42b2e8e086           NaT                NaT        False  "
      ]
     },
     "execution_count": 50,
     "metadata": {},
     "output_type": "execute_result"
    }
   ],
   "source": [
    "orders[orders['delivery_time'].isnull() & (orders.order_status == 'delivered')]"
   ]
  },
  {
   "cell_type": "code",
   "execution_count": 51,
   "id": "caring-portrait",
   "metadata": {},
   "outputs": [],
   "source": [
    "def get_delivery_time_and_delays(row):\n",
    "    client_orders = orders[orders.index.isin(row.orders_ids)]\n",
    "    client_orders = client_orders[client_orders.order_status == 'delivered']\n",
    "    \n",
    "    if client_orders.shape[0] > 0:\n",
    "        was_delayed_counts = client_orders.was_delayed.value_counts(normalize=True)\n",
    "        if True in was_delayed_counts.index:\n",
    "            delay_rate = was_delayed_counts.loc[True]\n",
    "        else:\n",
    "            delay_rate = 0\n",
    "        return client_orders.delivery_time.mean(), delay_rate\n",
    "    else:\n",
    "        np.nan, np.nan"
   ]
  },
  {
   "cell_type": "code",
   "execution_count": 52,
   "id": "domestic-harrison",
   "metadata": {},
   "outputs": [],
   "source": [
    "data[['average_delivery_time', 'delay_rate']] = data.apply(get_delivery_time_and_delays, axis=1, result_type='expand')"
   ]
  },
  {
   "cell_type": "code",
   "execution_count": 63,
   "id": "civilian-sapphire",
   "metadata": {},
   "outputs": [
    {
     "data": {
      "text/html": [
       "<div>\n",
       "<style scoped>\n",
       "    .dataframe tbody tr th:only-of-type {\n",
       "        vertical-align: middle;\n",
       "    }\n",
       "\n",
       "    .dataframe tbody tr th {\n",
       "        vertical-align: top;\n",
       "    }\n",
       "\n",
       "    .dataframe thead th {\n",
       "        text-align: right;\n",
       "    }\n",
       "</style>\n",
       "<table border=\"1\" class=\"dataframe\">\n",
       "  <thead>\n",
       "    <tr style=\"text-align: right;\">\n",
       "      <th></th>\n",
       "      <th>nb_orders</th>\n",
       "      <th>orders_ids</th>\n",
       "      <th>days_since_first_order</th>\n",
       "      <th>days_since_last_order</th>\n",
       "      <th>frequency</th>\n",
       "      <th>sum_orders</th>\n",
       "      <th>favourite_category</th>\n",
       "      <th>nb_reviews</th>\n",
       "      <th>average_review_score</th>\n",
       "      <th>favourite_payment_type</th>\n",
       "      <th>average_delivery_time</th>\n",
       "      <th>delay_rate</th>\n",
       "    </tr>\n",
       "    <tr>\n",
       "      <th>customer_unique_id</th>\n",
       "      <th></th>\n",
       "      <th></th>\n",
       "      <th></th>\n",
       "      <th></th>\n",
       "      <th></th>\n",
       "      <th></th>\n",
       "      <th></th>\n",
       "      <th></th>\n",
       "      <th></th>\n",
       "      <th></th>\n",
       "      <th></th>\n",
       "      <th></th>\n",
       "    </tr>\n",
       "  </thead>\n",
       "  <tbody>\n",
       "    <tr>\n",
       "      <th>0af334fc660bfc9c75109752cc8271d7</th>\n",
       "      <td>2</td>\n",
       "      <td>[3d3742a96f24a8fe4e2e57628807e476, e1e8e3bca90...</td>\n",
       "      <td>549</td>\n",
       "      <td>549</td>\n",
       "      <td>0.110883</td>\n",
       "      <td>430.00</td>\n",
       "      <td>sports_leisure</td>\n",
       "      <td>3.0</td>\n",
       "      <td>1.0</td>\n",
       "      <td>credit_card</td>\n",
       "      <td>NaT</td>\n",
       "      <td>NaN</td>\n",
       "    </tr>\n",
       "    <tr>\n",
       "      <th>1a674d0bad43d5b5c387fce838e4c428</th>\n",
       "      <td>2</td>\n",
       "      <td>[a3ef7e4271c9088cf2d3de8305ef2355, 19bbda1f882...</td>\n",
       "      <td>347</td>\n",
       "      <td>347</td>\n",
       "      <td>0.175432</td>\n",
       "      <td>0.00</td>\n",
       "      <td>NaN</td>\n",
       "      <td>2.0</td>\n",
       "      <td>1.0</td>\n",
       "      <td>credit_card</td>\n",
       "      <td>NaT</td>\n",
       "      <td>NaN</td>\n",
       "    </tr>\n",
       "    <tr>\n",
       "      <th>22c8d7801061f27eff57f37ac4ef10e1</th>\n",
       "      <td>2</td>\n",
       "      <td>[504ec2b6f69e898c557955750272d563, e5e34f7a2ae...</td>\n",
       "      <td>162</td>\n",
       "      <td>162</td>\n",
       "      <td>0.375772</td>\n",
       "      <td>76.98</td>\n",
       "      <td>fashion_bags_accessories</td>\n",
       "      <td>3.0</td>\n",
       "      <td>5.0</td>\n",
       "      <td>credit_card</td>\n",
       "      <td>NaT</td>\n",
       "      <td>NaN</td>\n",
       "    </tr>\n",
       "    <tr>\n",
       "      <th>391d6062da3dd65b4de4524f28c478de</th>\n",
       "      <td>2</td>\n",
       "      <td>[4c8b9947280829d0a8b7e81cc249b875, 27667a063cb...</td>\n",
       "      <td>69</td>\n",
       "      <td>50</td>\n",
       "      <td>0.882246</td>\n",
       "      <td>0.00</td>\n",
       "      <td>NaN</td>\n",
       "      <td>2.0</td>\n",
       "      <td>1.0</td>\n",
       "      <td>voucher</td>\n",
       "      <td>NaT</td>\n",
       "      <td>NaN</td>\n",
       "    </tr>\n",
       "    <tr>\n",
       "      <th>3eb7932f075743f0e50b0d9966707e6f</th>\n",
       "      <td>2</td>\n",
       "      <td>[858f8fbff9d717450f931fc6e9d15029, 1aba68837cf...</td>\n",
       "      <td>372</td>\n",
       "      <td>359</td>\n",
       "      <td>0.163642</td>\n",
       "      <td>0.00</td>\n",
       "      <td>NaN</td>\n",
       "      <td>2.0</td>\n",
       "      <td>4.0</td>\n",
       "      <td>cash</td>\n",
       "      <td>NaT</td>\n",
       "      <td>NaN</td>\n",
       "    </tr>\n",
       "    <tr>\n",
       "      <th>5ace05247b6926d3e595ac4de6620b1d</th>\n",
       "      <td>2</td>\n",
       "      <td>[ec24ea9acb22b2520d36d72a75eab525, 4000a14f1fc...</td>\n",
       "      <td>382</td>\n",
       "      <td>382</td>\n",
       "      <td>0.159359</td>\n",
       "      <td>113.98</td>\n",
       "      <td>perfumery</td>\n",
       "      <td>2.0</td>\n",
       "      <td>1.0</td>\n",
       "      <td>credit_card</td>\n",
       "      <td>NaT</td>\n",
       "      <td>NaN</td>\n",
       "    </tr>\n",
       "    <tr>\n",
       "      <th>683cda1913456fb0cca302892b37a052</th>\n",
       "      <td>2</td>\n",
       "      <td>[2f5124f516a7f5e4095ef4325d67c511, 304137040ea...</td>\n",
       "      <td>301</td>\n",
       "      <td>285</td>\n",
       "      <td>0.202243</td>\n",
       "      <td>129.90</td>\n",
       "      <td>watches_gifts</td>\n",
       "      <td>2.0</td>\n",
       "      <td>1.0</td>\n",
       "      <td>cash</td>\n",
       "      <td>NaT</td>\n",
       "      <td>NaN</td>\n",
       "    </tr>\n",
       "    <tr>\n",
       "      <th>7d08a8005756c215935d45bcc0e9a760</th>\n",
       "      <td>2</td>\n",
       "      <td>[46936461f0c4e3c80b9289ce5fc1682a, 19541624666...</td>\n",
       "      <td>646</td>\n",
       "      <td>646</td>\n",
       "      <td>0.094234</td>\n",
       "      <td>259.80</td>\n",
       "      <td>furniture_decor</td>\n",
       "      <td>2.0</td>\n",
       "      <td>1.0</td>\n",
       "      <td>credit_card</td>\n",
       "      <td>NaT</td>\n",
       "      <td>NaN</td>\n",
       "    </tr>\n",
       "    <tr>\n",
       "      <th>8b1aed2dad15fcad8eb2a5c555e2d26e</th>\n",
       "      <td>2</td>\n",
       "      <td>[979440acde78c7c04e8c8a92f2bc8ada, 516ddf29a9e...</td>\n",
       "      <td>572</td>\n",
       "      <td>572</td>\n",
       "      <td>0.106425</td>\n",
       "      <td>74.80</td>\n",
       "      <td>fashion_bags_accessories</td>\n",
       "      <td>2.0</td>\n",
       "      <td>5.0</td>\n",
       "      <td>voucher</td>\n",
       "      <td>NaT</td>\n",
       "      <td>NaN</td>\n",
       "    </tr>\n",
       "    <tr>\n",
       "      <th>8cda74bcb48b709a90e5441e19b1d759</th>\n",
       "      <td>2</td>\n",
       "      <td>[e58fb7bfd033514475ab0883ded704f4, ceb53387110...</td>\n",
       "      <td>362</td>\n",
       "      <td>362</td>\n",
       "      <td>0.168163</td>\n",
       "      <td>0.00</td>\n",
       "      <td>NaN</td>\n",
       "      <td>3.0</td>\n",
       "      <td>1.0</td>\n",
       "      <td>cash</td>\n",
       "      <td>NaT</td>\n",
       "      <td>NaN</td>\n",
       "    </tr>\n",
       "    <tr>\n",
       "      <th>91544d22848a922381b73b5e21ad58ff</th>\n",
       "      <td>2</td>\n",
       "      <td>[57a7b18332c1b9b26d96e35379af3a38, bb8edfe0742...</td>\n",
       "      <td>71</td>\n",
       "      <td>48</td>\n",
       "      <td>0.857394</td>\n",
       "      <td>59.90</td>\n",
       "      <td>fashion_underwear_beach</td>\n",
       "      <td>2.0</td>\n",
       "      <td>1.0</td>\n",
       "      <td>cash</td>\n",
       "      <td>NaT</td>\n",
       "      <td>NaN</td>\n",
       "    </tr>\n",
       "    <tr>\n",
       "      <th>9eb7d30b5661dd9e5e2333954d84e02a</th>\n",
       "      <td>2</td>\n",
       "      <td>[f889a5a0b44adc29c5465b99395ac3c1, 33d8795f04d...</td>\n",
       "      <td>466</td>\n",
       "      <td>466</td>\n",
       "      <td>0.130633</td>\n",
       "      <td>0.00</td>\n",
       "      <td>NaN</td>\n",
       "      <td>2.0</td>\n",
       "      <td>3.0</td>\n",
       "      <td>credit_card</td>\n",
       "      <td>NaT</td>\n",
       "      <td>NaN</td>\n",
       "    </tr>\n",
       "    <tr>\n",
       "      <th>b46143871bd7f63bcbd5acd898b5e1ee</th>\n",
       "      <td>2</td>\n",
       "      <td>[9f0e70e8d046d9e0626bbdaf1aff88c4, 7cb4dff15cb...</td>\n",
       "      <td>266</td>\n",
       "      <td>204</td>\n",
       "      <td>0.228853</td>\n",
       "      <td>253.38</td>\n",
       "      <td>furniture_decor</td>\n",
       "      <td>2.0</td>\n",
       "      <td>1.0</td>\n",
       "      <td>credit_card</td>\n",
       "      <td>NaT</td>\n",
       "      <td>NaN</td>\n",
       "    </tr>\n",
       "    <tr>\n",
       "      <th>d05c44a138277ad325d915c6b7ccbcdf</th>\n",
       "      <td>2</td>\n",
       "      <td>[236e6ec6171c1870d4bcf4ccfad87f49, a89abace0dc...</td>\n",
       "      <td>57</td>\n",
       "      <td>40</td>\n",
       "      <td>1.067982</td>\n",
       "      <td>0.00</td>\n",
       "      <td>NaN</td>\n",
       "      <td>2.0</td>\n",
       "      <td>4.0</td>\n",
       "      <td>voucher</td>\n",
       "      <td>NaT</td>\n",
       "      <td>NaN</td>\n",
       "    </tr>\n",
       "    <tr>\n",
       "      <th>e9d6ce102dcb8ab8a3387021b5040f70</th>\n",
       "      <td>2</td>\n",
       "      <td>[a144aa25d9d14f25ee9f3ec4118e5517, 85a22eb264a...</td>\n",
       "      <td>344</td>\n",
       "      <td>331</td>\n",
       "      <td>0.176962</td>\n",
       "      <td>0.00</td>\n",
       "      <td>NaN</td>\n",
       "      <td>2.0</td>\n",
       "      <td>1.0</td>\n",
       "      <td>voucher</td>\n",
       "      <td>NaT</td>\n",
       "      <td>NaN</td>\n",
       "    </tr>\n",
       "    <tr>\n",
       "      <th>ef0103e9602d12594d19c2b666219bc1</th>\n",
       "      <td>3</td>\n",
       "      <td>[65fdcb432cb9cfa970e3a3817b39040d, 1ad22e16129...</td>\n",
       "      <td>49</td>\n",
       "      <td>30</td>\n",
       "      <td>1.863520</td>\n",
       "      <td>0.00</td>\n",
       "      <td>NaN</td>\n",
       "      <td>3.0</td>\n",
       "      <td>2.0</td>\n",
       "      <td>voucher</td>\n",
       "      <td>NaT</td>\n",
       "      <td>NaN</td>\n",
       "    </tr>\n",
       "    <tr>\n",
       "      <th>ff22e30958c13ffe219db7d711e8f564</th>\n",
       "      <td>2</td>\n",
       "      <td>[6ca46f2b9a1592929647682510800e0e, 54282e97f61...</td>\n",
       "      <td>54</td>\n",
       "      <td>44</td>\n",
       "      <td>1.127315</td>\n",
       "      <td>290.00</td>\n",
       "      <td>kitchen_dining_laundry_garden_furniture</td>\n",
       "      <td>2.0</td>\n",
       "      <td>1.0</td>\n",
       "      <td>credit_card</td>\n",
       "      <td>NaT</td>\n",
       "      <td>NaN</td>\n",
       "    </tr>\n",
       "    <tr>\n",
       "      <th>ff36be26206fffe1eb37afd54c70e18b</th>\n",
       "      <td>3</td>\n",
       "      <td>[b02682757340133856bfb99145dd61cd, 81b7c7bbc8e...</td>\n",
       "      <td>81</td>\n",
       "      <td>55</td>\n",
       "      <td>1.127315</td>\n",
       "      <td>77.90</td>\n",
       "      <td>home_confort</td>\n",
       "      <td>3.0</td>\n",
       "      <td>3.0</td>\n",
       "      <td>voucher</td>\n",
       "      <td>NaT</td>\n",
       "      <td>NaN</td>\n",
       "    </tr>\n",
       "  </tbody>\n",
       "</table>\n",
       "</div>"
      ],
      "text/plain": [
       "                                  nb_orders  \\\n",
       "customer_unique_id                            \n",
       "0af334fc660bfc9c75109752cc8271d7          2   \n",
       "1a674d0bad43d5b5c387fce838e4c428          2   \n",
       "22c8d7801061f27eff57f37ac4ef10e1          2   \n",
       "391d6062da3dd65b4de4524f28c478de          2   \n",
       "3eb7932f075743f0e50b0d9966707e6f          2   \n",
       "5ace05247b6926d3e595ac4de6620b1d          2   \n",
       "683cda1913456fb0cca302892b37a052          2   \n",
       "7d08a8005756c215935d45bcc0e9a760          2   \n",
       "8b1aed2dad15fcad8eb2a5c555e2d26e          2   \n",
       "8cda74bcb48b709a90e5441e19b1d759          2   \n",
       "91544d22848a922381b73b5e21ad58ff          2   \n",
       "9eb7d30b5661dd9e5e2333954d84e02a          2   \n",
       "b46143871bd7f63bcbd5acd898b5e1ee          2   \n",
       "d05c44a138277ad325d915c6b7ccbcdf          2   \n",
       "e9d6ce102dcb8ab8a3387021b5040f70          2   \n",
       "ef0103e9602d12594d19c2b666219bc1          3   \n",
       "ff22e30958c13ffe219db7d711e8f564          2   \n",
       "ff36be26206fffe1eb37afd54c70e18b          3   \n",
       "\n",
       "                                                                         orders_ids  \\\n",
       "customer_unique_id                                                                    \n",
       "0af334fc660bfc9c75109752cc8271d7  [3d3742a96f24a8fe4e2e57628807e476, e1e8e3bca90...   \n",
       "1a674d0bad43d5b5c387fce838e4c428  [a3ef7e4271c9088cf2d3de8305ef2355, 19bbda1f882...   \n",
       "22c8d7801061f27eff57f37ac4ef10e1  [504ec2b6f69e898c557955750272d563, e5e34f7a2ae...   \n",
       "391d6062da3dd65b4de4524f28c478de  [4c8b9947280829d0a8b7e81cc249b875, 27667a063cb...   \n",
       "3eb7932f075743f0e50b0d9966707e6f  [858f8fbff9d717450f931fc6e9d15029, 1aba68837cf...   \n",
       "5ace05247b6926d3e595ac4de6620b1d  [ec24ea9acb22b2520d36d72a75eab525, 4000a14f1fc...   \n",
       "683cda1913456fb0cca302892b37a052  [2f5124f516a7f5e4095ef4325d67c511, 304137040ea...   \n",
       "7d08a8005756c215935d45bcc0e9a760  [46936461f0c4e3c80b9289ce5fc1682a, 19541624666...   \n",
       "8b1aed2dad15fcad8eb2a5c555e2d26e  [979440acde78c7c04e8c8a92f2bc8ada, 516ddf29a9e...   \n",
       "8cda74bcb48b709a90e5441e19b1d759  [e58fb7bfd033514475ab0883ded704f4, ceb53387110...   \n",
       "91544d22848a922381b73b5e21ad58ff  [57a7b18332c1b9b26d96e35379af3a38, bb8edfe0742...   \n",
       "9eb7d30b5661dd9e5e2333954d84e02a  [f889a5a0b44adc29c5465b99395ac3c1, 33d8795f04d...   \n",
       "b46143871bd7f63bcbd5acd898b5e1ee  [9f0e70e8d046d9e0626bbdaf1aff88c4, 7cb4dff15cb...   \n",
       "d05c44a138277ad325d915c6b7ccbcdf  [236e6ec6171c1870d4bcf4ccfad87f49, a89abace0dc...   \n",
       "e9d6ce102dcb8ab8a3387021b5040f70  [a144aa25d9d14f25ee9f3ec4118e5517, 85a22eb264a...   \n",
       "ef0103e9602d12594d19c2b666219bc1  [65fdcb432cb9cfa970e3a3817b39040d, 1ad22e16129...   \n",
       "ff22e30958c13ffe219db7d711e8f564  [6ca46f2b9a1592929647682510800e0e, 54282e97f61...   \n",
       "ff36be26206fffe1eb37afd54c70e18b  [b02682757340133856bfb99145dd61cd, 81b7c7bbc8e...   \n",
       "\n",
       "                                  days_since_first_order  \\\n",
       "customer_unique_id                                         \n",
       "0af334fc660bfc9c75109752cc8271d7                     549   \n",
       "1a674d0bad43d5b5c387fce838e4c428                     347   \n",
       "22c8d7801061f27eff57f37ac4ef10e1                     162   \n",
       "391d6062da3dd65b4de4524f28c478de                      69   \n",
       "3eb7932f075743f0e50b0d9966707e6f                     372   \n",
       "5ace05247b6926d3e595ac4de6620b1d                     382   \n",
       "683cda1913456fb0cca302892b37a052                     301   \n",
       "7d08a8005756c215935d45bcc0e9a760                     646   \n",
       "8b1aed2dad15fcad8eb2a5c555e2d26e                     572   \n",
       "8cda74bcb48b709a90e5441e19b1d759                     362   \n",
       "91544d22848a922381b73b5e21ad58ff                      71   \n",
       "9eb7d30b5661dd9e5e2333954d84e02a                     466   \n",
       "b46143871bd7f63bcbd5acd898b5e1ee                     266   \n",
       "d05c44a138277ad325d915c6b7ccbcdf                      57   \n",
       "e9d6ce102dcb8ab8a3387021b5040f70                     344   \n",
       "ef0103e9602d12594d19c2b666219bc1                      49   \n",
       "ff22e30958c13ffe219db7d711e8f564                      54   \n",
       "ff36be26206fffe1eb37afd54c70e18b                      81   \n",
       "\n",
       "                                  days_since_last_order  frequency  \\\n",
       "customer_unique_id                                                   \n",
       "0af334fc660bfc9c75109752cc8271d7                    549   0.110883   \n",
       "1a674d0bad43d5b5c387fce838e4c428                    347   0.175432   \n",
       "22c8d7801061f27eff57f37ac4ef10e1                    162   0.375772   \n",
       "391d6062da3dd65b4de4524f28c478de                     50   0.882246   \n",
       "3eb7932f075743f0e50b0d9966707e6f                    359   0.163642   \n",
       "5ace05247b6926d3e595ac4de6620b1d                    382   0.159359   \n",
       "683cda1913456fb0cca302892b37a052                    285   0.202243   \n",
       "7d08a8005756c215935d45bcc0e9a760                    646   0.094234   \n",
       "8b1aed2dad15fcad8eb2a5c555e2d26e                    572   0.106425   \n",
       "8cda74bcb48b709a90e5441e19b1d759                    362   0.168163   \n",
       "91544d22848a922381b73b5e21ad58ff                     48   0.857394   \n",
       "9eb7d30b5661dd9e5e2333954d84e02a                    466   0.130633   \n",
       "b46143871bd7f63bcbd5acd898b5e1ee                    204   0.228853   \n",
       "d05c44a138277ad325d915c6b7ccbcdf                     40   1.067982   \n",
       "e9d6ce102dcb8ab8a3387021b5040f70                    331   0.176962   \n",
       "ef0103e9602d12594d19c2b666219bc1                     30   1.863520   \n",
       "ff22e30958c13ffe219db7d711e8f564                     44   1.127315   \n",
       "ff36be26206fffe1eb37afd54c70e18b                     55   1.127315   \n",
       "\n",
       "                                  sum_orders  \\\n",
       "customer_unique_id                             \n",
       "0af334fc660bfc9c75109752cc8271d7      430.00   \n",
       "1a674d0bad43d5b5c387fce838e4c428        0.00   \n",
       "22c8d7801061f27eff57f37ac4ef10e1       76.98   \n",
       "391d6062da3dd65b4de4524f28c478de        0.00   \n",
       "3eb7932f075743f0e50b0d9966707e6f        0.00   \n",
       "5ace05247b6926d3e595ac4de6620b1d      113.98   \n",
       "683cda1913456fb0cca302892b37a052      129.90   \n",
       "7d08a8005756c215935d45bcc0e9a760      259.80   \n",
       "8b1aed2dad15fcad8eb2a5c555e2d26e       74.80   \n",
       "8cda74bcb48b709a90e5441e19b1d759        0.00   \n",
       "91544d22848a922381b73b5e21ad58ff       59.90   \n",
       "9eb7d30b5661dd9e5e2333954d84e02a        0.00   \n",
       "b46143871bd7f63bcbd5acd898b5e1ee      253.38   \n",
       "d05c44a138277ad325d915c6b7ccbcdf        0.00   \n",
       "e9d6ce102dcb8ab8a3387021b5040f70        0.00   \n",
       "ef0103e9602d12594d19c2b666219bc1        0.00   \n",
       "ff22e30958c13ffe219db7d711e8f564      290.00   \n",
       "ff36be26206fffe1eb37afd54c70e18b       77.90   \n",
       "\n",
       "                                                       favourite_category  \\\n",
       "customer_unique_id                                                          \n",
       "0af334fc660bfc9c75109752cc8271d7                           sports_leisure   \n",
       "1a674d0bad43d5b5c387fce838e4c428                                      NaN   \n",
       "22c8d7801061f27eff57f37ac4ef10e1                 fashion_bags_accessories   \n",
       "391d6062da3dd65b4de4524f28c478de                                      NaN   \n",
       "3eb7932f075743f0e50b0d9966707e6f                                      NaN   \n",
       "5ace05247b6926d3e595ac4de6620b1d                                perfumery   \n",
       "683cda1913456fb0cca302892b37a052                            watches_gifts   \n",
       "7d08a8005756c215935d45bcc0e9a760                          furniture_decor   \n",
       "8b1aed2dad15fcad8eb2a5c555e2d26e                 fashion_bags_accessories   \n",
       "8cda74bcb48b709a90e5441e19b1d759                                      NaN   \n",
       "91544d22848a922381b73b5e21ad58ff                  fashion_underwear_beach   \n",
       "9eb7d30b5661dd9e5e2333954d84e02a                                      NaN   \n",
       "b46143871bd7f63bcbd5acd898b5e1ee                          furniture_decor   \n",
       "d05c44a138277ad325d915c6b7ccbcdf                                      NaN   \n",
       "e9d6ce102dcb8ab8a3387021b5040f70                                      NaN   \n",
       "ef0103e9602d12594d19c2b666219bc1                                      NaN   \n",
       "ff22e30958c13ffe219db7d711e8f564  kitchen_dining_laundry_garden_furniture   \n",
       "ff36be26206fffe1eb37afd54c70e18b                             home_confort   \n",
       "\n",
       "                                  nb_reviews  average_review_score  \\\n",
       "customer_unique_id                                                   \n",
       "0af334fc660bfc9c75109752cc8271d7         3.0                   1.0   \n",
       "1a674d0bad43d5b5c387fce838e4c428         2.0                   1.0   \n",
       "22c8d7801061f27eff57f37ac4ef10e1         3.0                   5.0   \n",
       "391d6062da3dd65b4de4524f28c478de         2.0                   1.0   \n",
       "3eb7932f075743f0e50b0d9966707e6f         2.0                   4.0   \n",
       "5ace05247b6926d3e595ac4de6620b1d         2.0                   1.0   \n",
       "683cda1913456fb0cca302892b37a052         2.0                   1.0   \n",
       "7d08a8005756c215935d45bcc0e9a760         2.0                   1.0   \n",
       "8b1aed2dad15fcad8eb2a5c555e2d26e         2.0                   5.0   \n",
       "8cda74bcb48b709a90e5441e19b1d759         3.0                   1.0   \n",
       "91544d22848a922381b73b5e21ad58ff         2.0                   1.0   \n",
       "9eb7d30b5661dd9e5e2333954d84e02a         2.0                   3.0   \n",
       "b46143871bd7f63bcbd5acd898b5e1ee         2.0                   1.0   \n",
       "d05c44a138277ad325d915c6b7ccbcdf         2.0                   4.0   \n",
       "e9d6ce102dcb8ab8a3387021b5040f70         2.0                   1.0   \n",
       "ef0103e9602d12594d19c2b666219bc1         3.0                   2.0   \n",
       "ff22e30958c13ffe219db7d711e8f564         2.0                   1.0   \n",
       "ff36be26206fffe1eb37afd54c70e18b         3.0                   3.0   \n",
       "\n",
       "                                 favourite_payment_type average_delivery_time  \\\n",
       "customer_unique_id                                                              \n",
       "0af334fc660bfc9c75109752cc8271d7            credit_card                   NaT   \n",
       "1a674d0bad43d5b5c387fce838e4c428            credit_card                   NaT   \n",
       "22c8d7801061f27eff57f37ac4ef10e1            credit_card                   NaT   \n",
       "391d6062da3dd65b4de4524f28c478de                voucher                   NaT   \n",
       "3eb7932f075743f0e50b0d9966707e6f                   cash                   NaT   \n",
       "5ace05247b6926d3e595ac4de6620b1d            credit_card                   NaT   \n",
       "683cda1913456fb0cca302892b37a052                   cash                   NaT   \n",
       "7d08a8005756c215935d45bcc0e9a760            credit_card                   NaT   \n",
       "8b1aed2dad15fcad8eb2a5c555e2d26e                voucher                   NaT   \n",
       "8cda74bcb48b709a90e5441e19b1d759                   cash                   NaT   \n",
       "91544d22848a922381b73b5e21ad58ff                   cash                   NaT   \n",
       "9eb7d30b5661dd9e5e2333954d84e02a            credit_card                   NaT   \n",
       "b46143871bd7f63bcbd5acd898b5e1ee            credit_card                   NaT   \n",
       "d05c44a138277ad325d915c6b7ccbcdf                voucher                   NaT   \n",
       "e9d6ce102dcb8ab8a3387021b5040f70                voucher                   NaT   \n",
       "ef0103e9602d12594d19c2b666219bc1                voucher                   NaT   \n",
       "ff22e30958c13ffe219db7d711e8f564            credit_card                   NaT   \n",
       "ff36be26206fffe1eb37afd54c70e18b                voucher                   NaT   \n",
       "\n",
       "                                  delay_rate  \n",
       "customer_unique_id                            \n",
       "0af334fc660bfc9c75109752cc8271d7         NaN  \n",
       "1a674d0bad43d5b5c387fce838e4c428         NaN  \n",
       "22c8d7801061f27eff57f37ac4ef10e1         NaN  \n",
       "391d6062da3dd65b4de4524f28c478de         NaN  \n",
       "3eb7932f075743f0e50b0d9966707e6f         NaN  \n",
       "5ace05247b6926d3e595ac4de6620b1d         NaN  \n",
       "683cda1913456fb0cca302892b37a052         NaN  \n",
       "7d08a8005756c215935d45bcc0e9a760         NaN  \n",
       "8b1aed2dad15fcad8eb2a5c555e2d26e         NaN  \n",
       "8cda74bcb48b709a90e5441e19b1d759         NaN  \n",
       "91544d22848a922381b73b5e21ad58ff         NaN  \n",
       "9eb7d30b5661dd9e5e2333954d84e02a         NaN  \n",
       "b46143871bd7f63bcbd5acd898b5e1ee         NaN  \n",
       "d05c44a138277ad325d915c6b7ccbcdf         NaN  \n",
       "e9d6ce102dcb8ab8a3387021b5040f70         NaN  \n",
       "ef0103e9602d12594d19c2b666219bc1         NaN  \n",
       "ff22e30958c13ffe219db7d711e8f564         NaN  \n",
       "ff36be26206fffe1eb37afd54c70e18b         NaN  "
      ]
     },
     "execution_count": 63,
     "metadata": {},
     "output_type": "execute_result"
    }
   ],
   "source": [
    "data[data.average_delivery_time.isnull()]"
   ]
  },
  {
   "cell_type": "code",
   "execution_count": 66,
   "id": "objective-republican",
   "metadata": {},
   "outputs": [
    {
     "data": {
      "text/plain": [
       "False    2979\n",
       "True       18\n",
       "Name: average_delivery_time, dtype: int64"
      ]
     },
     "execution_count": 66,
     "metadata": {},
     "output_type": "execute_result"
    }
   ],
   "source": [
    "data.average_delivery_time.isnull().value_counts()"
   ]
  },
  {
   "cell_type": "code",
   "execution_count": 67,
   "id": "freelance-graham",
   "metadata": {},
   "outputs": [
    {
     "data": {
      "text/plain": [
       "False    2979\n",
       "True       18\n",
       "Name: delay_rate, dtype: int64"
      ]
     },
     "execution_count": 67,
     "metadata": {},
     "output_type": "execute_result"
    }
   ],
   "source": [
    "data.delay_rate.isnull().value_counts()"
   ]
  },
  {
   "cell_type": "code",
   "execution_count": null,
   "id": "photographic-electric",
   "metadata": {},
   "outputs": [],
   "source": []
  },
  {
   "cell_type": "code",
   "execution_count": null,
   "id": "purple-midnight",
   "metadata": {},
   "outputs": [],
   "source": []
  },
  {
   "cell_type": "code",
   "execution_count": null,
   "id": "human-cheat",
   "metadata": {},
   "outputs": [],
   "source": []
  },
  {
   "cell_type": "code",
   "execution_count": 57,
   "id": "adolescent-killer",
   "metadata": {},
   "outputs": [
    {
     "data": {
      "text/plain": [
       "array(['8ac915a1f508baa87e8fc8d596aa6fc1',\n",
       "       '9eefad52e5b37dc3e94fc823d63057b5'], dtype=object)"
      ]
     },
     "execution_count": 57,
     "metadata": {},
     "output_type": "execute_result"
    }
   ],
   "source": [
    "data.sample(1).orders_ids.iloc[0]"
   ]
  },
  {
   "cell_type": "code",
   "execution_count": 58,
   "id": "painted-recruitment",
   "metadata": {},
   "outputs": [
    {
     "ename": "AttributeError",
     "evalue": "'DataFrame' object has no attribute 'order_id'",
     "output_type": "error",
     "traceback": [
      "\u001b[1;31m---------------------------------------------------------------------------\u001b[0m",
      "\u001b[1;31mAttributeError\u001b[0m                            Traceback (most recent call last)",
      "\u001b[1;32m<ipython-input-58-43963e7fa6fc>\u001b[0m in \u001b[0;36m<module>\u001b[1;34m\u001b[0m\n\u001b[1;32m----> 1\u001b[1;33m \u001b[0mlen\u001b[0m\u001b[1;33m(\u001b[0m\u001b[0morder_items\u001b[0m\u001b[1;33m.\u001b[0m\u001b[0morder_id\u001b[0m\u001b[1;33m.\u001b[0m\u001b[0munique\u001b[0m\u001b[1;33m(\u001b[0m\u001b[1;33m)\u001b[0m\u001b[1;33m)\u001b[0m\u001b[1;33m\u001b[0m\u001b[1;33m\u001b[0m\u001b[0m\n\u001b[0m",
      "\u001b[1;32m~\\Anaconda3\\lib\\site-packages\\pandas\\core\\generic.py\u001b[0m in \u001b[0;36m__getattr__\u001b[1;34m(self, name)\u001b[0m\n\u001b[0;32m   5458\u001b[0m             \u001b[1;32mif\u001b[0m \u001b[0mself\u001b[0m\u001b[1;33m.\u001b[0m\u001b[0m_info_axis\u001b[0m\u001b[1;33m.\u001b[0m\u001b[0m_can_hold_identifiers_and_holds_name\u001b[0m\u001b[1;33m(\u001b[0m\u001b[0mname\u001b[0m\u001b[1;33m)\u001b[0m\u001b[1;33m:\u001b[0m\u001b[1;33m\u001b[0m\u001b[1;33m\u001b[0m\u001b[0m\n\u001b[0;32m   5459\u001b[0m                 \u001b[1;32mreturn\u001b[0m \u001b[0mself\u001b[0m\u001b[1;33m[\u001b[0m\u001b[0mname\u001b[0m\u001b[1;33m]\u001b[0m\u001b[1;33m\u001b[0m\u001b[1;33m\u001b[0m\u001b[0m\n\u001b[1;32m-> 5460\u001b[1;33m             \u001b[1;32mreturn\u001b[0m \u001b[0mobject\u001b[0m\u001b[1;33m.\u001b[0m\u001b[0m__getattribute__\u001b[0m\u001b[1;33m(\u001b[0m\u001b[0mself\u001b[0m\u001b[1;33m,\u001b[0m \u001b[0mname\u001b[0m\u001b[1;33m)\u001b[0m\u001b[1;33m\u001b[0m\u001b[1;33m\u001b[0m\u001b[0m\n\u001b[0m\u001b[0;32m   5461\u001b[0m \u001b[1;33m\u001b[0m\u001b[0m\n\u001b[0;32m   5462\u001b[0m     \u001b[1;32mdef\u001b[0m \u001b[0m__setattr__\u001b[0m\u001b[1;33m(\u001b[0m\u001b[0mself\u001b[0m\u001b[1;33m,\u001b[0m \u001b[0mname\u001b[0m\u001b[1;33m:\u001b[0m \u001b[0mstr\u001b[0m\u001b[1;33m,\u001b[0m \u001b[0mvalue\u001b[0m\u001b[1;33m)\u001b[0m \u001b[1;33m->\u001b[0m \u001b[1;32mNone\u001b[0m\u001b[1;33m:\u001b[0m\u001b[1;33m\u001b[0m\u001b[1;33m\u001b[0m\u001b[0m\n",
      "\u001b[1;31mAttributeError\u001b[0m: 'DataFrame' object has no attribute 'order_id'"
     ]
    }
   ],
   "source": [
    "len(order_items.order_id.unique())"
   ]
  },
  {
   "cell_type": "code",
   "execution_count": null,
   "id": "racial-characterization",
   "metadata": {},
   "outputs": [],
   "source": [
    "order_items.order_item_id.value_counts()"
   ]
  },
  {
   "cell_type": "markdown",
   "id": "numeric-credits",
   "metadata": {},
   "source": [
    "Seulement 9803 commandes ont au moins deux items"
   ]
  },
  {
   "cell_type": "code",
   "execution_count": null,
   "id": "mathematical-supplier",
   "metadata": {},
   "outputs": [],
   "source": []
  }
 ],
 "metadata": {
  "kernelspec": {
   "display_name": "OC_P05_env",
   "language": "python",
   "name": "oc_p05_env"
  },
  "language_info": {
   "codemirror_mode": {
    "name": "ipython",
    "version": 3
   },
   "file_extension": ".py",
   "mimetype": "text/x-python",
   "name": "python",
   "nbconvert_exporter": "python",
   "pygments_lexer": "ipython3",
   "version": "3.8.5"
  }
 },
 "nbformat": 4,
 "nbformat_minor": 5
}
