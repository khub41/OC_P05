{
 "cells": [
  {
   "cell_type": "markdown",
   "id": "cd02b19c",
   "metadata": {},
   "source": [
    "<img src=\"img/Logo_OpenClassrooms.png\" width=100 />"
   ]
  },
  {
   "cell_type": "markdown",
   "id": "713ecfcd",
   "metadata": {},
   "source": [
    "# OpenClassrooms Projet 5: Segmentez des clients d'un site e-commerce\n",
    "# Analyse Exploratoire\n",
    "\n",
    "Olist souhaite que vous fournissiez à ses équipes d'e-commerce une segmentation des clients qu’elles pourront utiliser au quotidien pour leurs campagnes de communication.\n",
    "\n",
    "Votre objectif est de comprendre les différents types d’utilisateurs grâce à leur comportement et à leurs données personnelles.\n",
    "\n",
    "Vous devrez fournir à l’équipe marketing une description actionable de votre segmentation et de sa logique sous-jacente pour une utilisation optimale, ainsi qu’une proposition de contrat de maintenance basée sur une analyse de la stabilité des segments au cours du temps.\n",
    "\n",
    "### Les données\n",
    "Pour cette mission, Olist vous fournit une base de données anonymisée comportant des informations sur l’historique de commandes, les produits achetés, les commentaires de satisfaction, et la localisation des clients depuis janvier 2017.\n",
    "\n",
    "### Votre mission\n",
    "Votre mission est d’aider les équipes d’Olist à comprendre les différents types d'utilisateurs. Vous utiliserez donc des méthodes non supervisées pour regrouper ensemble des clients de profils similaires. Ces catégories pourront être utilisées par l’équipe marketing pour mieux communiquer.\n",
    "\n",
    "Pour des raisons de confidentialité, Olist ne fournit pas beaucoup de données, à vous de fouiller dans celles dont vous disposez et de créer les meilleures features pour les exploiter.\n",
    "\n",
    "Enfin, votre client, Olist, a spécifié sa demande ainsi :\n",
    "\n",
    "- La segmentation proposée doit être exploitable et facile d’utilisation pour l’équipe marketing.\n",
    "- Vous évaluerez la fréquence à laquelle la segmentation doit être mise à jour, afin de pouvoir effectuer un devis de contrat de maintenance.\n",
    "- Le code fourni doit respecter la convention PEP8, pour être utilisable par Olist.\n"
   ]
  },
  {
   "cell_type": "markdown",
   "id": "a4143094",
   "metadata": {},
   "source": [
    "# Sommaire\n",
    "### [Bibliothèques](#1_bibli)\n",
    "### [Fonctions](#1_funcs)\n",
    "### [Données](#1_donnees)\n",
    "### [Création de la base](#1_creation_base)\n",
    "### [Transformation pour Modélisation](#model)"
   ]
  },
  {
   "cell_type": "markdown",
   "id": "68da5fa6",
   "metadata": {},
   "source": [
    "<a id='1_bibli'></a>\n",
    "# Import de bibliothèques 📚"
   ]
  },
  {
   "cell_type": "code",
   "execution_count": 37,
   "id": "9c38fd64",
   "metadata": {},
   "outputs": [],
   "source": [
    "import pandas as pd\n",
    "pd.set_option(\"mode.chained_assignment\", None)\n",
    "import numpy as np\n",
    "from fuzzywuzzy import fuzz\n",
    "import matplotlib.pyplot as plt\n",
    "import json"
   ]
  },
  {
   "cell_type": "markdown",
   "id": "eaf8466d",
   "metadata": {},
   "source": [
    "<a id='1_funcs'></a>"
   ]
  },
  {
   "cell_type": "markdown",
   "id": "e6f49db4",
   "metadata": {},
   "source": [
    "# Fonctions ⚙️"
   ]
  },
  {
   "cell_type": "markdown",
   "id": "0200b83a",
   "metadata": {},
   "source": [
    "<a id='get_orders'></a>"
   ]
  },
  {
   "cell_type": "code",
   "execution_count": 2,
   "id": "a384ae21",
   "metadata": {},
   "outputs": [],
   "source": [
    "def get_orders(client_unique_id):\n",
    "    \"\"\" A partir d'un id client unique la fonction retourne la liste des commandes correspondantes,\n",
    "    La table des commandes doit au préalable être filtrée en fonction de la date virtuelle de l'étude\n",
    "    Args:\n",
    "        client_unique_id\n",
    "    \"\"\"\n",
    "    \n",
    "    # Avec l'id unique du client on récupère les id clients qui sont liés à chaque commande\n",
    "    ids_client = customers[customers['customer_unique_id'] == client_unique_id].customer_id.values\n",
    "    # On peut ensuite récupérer les id des commandes correspondant à ces ids clients\n",
    "    orders_client = orders[orders.customer_id.isin(ids_client)]\n",
    "    # On récupère juste les ids\n",
    "    ids_orders_client = orders_client.index.values\n",
    "    return ids_orders_client"
   ]
  },
  {
   "cell_type": "markdown",
   "id": "da349176",
   "metadata": {},
   "source": [
    "[Retour au code](#get_orders_back)"
   ]
  },
  {
   "cell_type": "markdown",
   "id": "c2097238",
   "metadata": {},
   "source": [
    "<a id='get_nb_days'></a>"
   ]
  },
  {
   "cell_type": "code",
   "execution_count": 3,
   "id": "4ac9841f",
   "metadata": {},
   "outputs": [],
   "source": [
    "def get_nb_days(row, virtual_date, orders):\n",
    "    \"\"\"\n",
    "    Cette fonction calcule le nombre de jours écoulés depuis la première et la dernière \n",
    "    commande en prenant pour référence la date virtuelle de l'étude.\n",
    "    Args :\n",
    "        row: Pandas DataFrame row (Series) avec un attribut \"orders_ids\"\n",
    "        Timestamp \n",
    "        Pandas DataFrame : avec les données des commandes\n",
    "    Returns :\n",
    "        Tuple\n",
    "    \"\"\"\n",
    "    orders_ids = row.orders_ids\n",
    "    \n",
    "    date_first_order = orders.loc[orders_ids[0], 'order_purchase_timestamp']\n",
    "    date_last_order = orders.loc[orders_ids[-1], 'order_purchase_timestamp']\n",
    "    \n",
    "    since_first = (virtual_date - date_first_order).days\n",
    "    since_last = (virtual_date - date_last_order).days\n",
    "    return since_first, since_last"
   ]
  },
  {
   "cell_type": "markdown",
   "id": "ede6b9c2",
   "metadata": {},
   "source": [
    "[Retour au code](#tps_last_order)"
   ]
  },
  {
   "cell_type": "markdown",
   "id": "1ad9a8e7",
   "metadata": {},
   "source": [
    "<a id='get_frequency'></a>"
   ]
  },
  {
   "cell_type": "code",
   "execution_count": 4,
   "id": "d7932115",
   "metadata": {},
   "outputs": [],
   "source": [
    "def get_frequency(row):\n",
    "    \"\"\"\n",
    "    Calcul du nombre de commandes par mois entre la première commande\n",
    "    et la date virtuelle.\n",
    "    \"\"\"\n",
    "    return row.nb_orders / row.days_since_first_order * 365.25 / 12"
   ]
  },
  {
   "cell_type": "markdown",
   "id": "11cfd998",
   "metadata": {},
   "source": [
    "[Retour au code](#frequence)"
   ]
  },
  {
   "cell_type": "markdown",
   "id": "cd82ea4d",
   "metadata": {},
   "source": [
    "<a id='get_sum_orders'></a>"
   ]
  },
  {
   "cell_type": "code",
   "execution_count": 5,
   "id": "d11b3e8c",
   "metadata": {},
   "outputs": [],
   "source": [
    "def get_sum_orders(row):\n",
    "    \"\"\"\n",
    "    Calcule la somme des montants des commandes\n",
    "    \"\"\"\n",
    "    return order_items[order_items.index.isin(row.orders_ids)].price.sum()    "
   ]
  },
  {
   "cell_type": "markdown",
   "id": "c47fccde",
   "metadata": {},
   "source": [
    "[Retour au code](#montant)"
   ]
  },
  {
   "cell_type": "markdown",
   "id": "e73a3e9f",
   "metadata": {},
   "source": [
    "<a id='get_most_frequent_categ'></a>"
   ]
  },
  {
   "cell_type": "code",
   "execution_count": 41,
   "id": "8f524d20",
   "metadata": {},
   "outputs": [],
   "source": [
    "def get_most_frequent_categ(row):\n",
    "    \"\"\"\n",
    "    Retourne la catégorie qui revient le plus souvent dans les achats. \n",
    "    En cas d'égalité on prend la première donnée par value_counts()\n",
    "    \"\"\"\n",
    "    \n",
    "    orders_ids = row.orders_ids\n",
    "\n",
    "    products_ids = order_items[order_items.index.isin(row.orders_ids)].product_id\n",
    "    products_client = products[products.index.isin(products_ids)]\n",
    "\n",
    "    try:\n",
    "        return products_client.product_category_name_english.value_counts().index[0]\n",
    "    except:\n",
    "#         print('fail')\n",
    "        if len(products_client.product_category_name_english.value_counts().index) > 1:\n",
    "            return products_client.product_category_name_english.value_counts().index[1]\n",
    "        else :\n",
    "            return np.nan"
   ]
  },
  {
   "cell_type": "markdown",
   "id": "93d22991",
   "metadata": {},
   "source": [
    "[Retour au code](#categorie)"
   ]
  },
  {
   "cell_type": "markdown",
   "id": "457d2d5b",
   "metadata": {},
   "source": [
    "<a id='get_nb_reviews_and_avg'></a>"
   ]
  },
  {
   "cell_type": "code",
   "execution_count": 7,
   "id": "173dd9e0",
   "metadata": {},
   "outputs": [],
   "source": [
    "def get_nb_reviews_and_avg(row):\n",
    "    \"\"\"\n",
    "    Recupère le nombre de reviews et la note moyenne\n",
    "    \"\"\"\n",
    "    orders_ids = row.orders_ids\n",
    "    client_reviews = reviews[reviews.order_id.isin(orders_ids)]\n",
    "    if len(client_reviews) > 0:\n",
    "        return len(client_reviews), client_reviews.review_score.mean()\n",
    "    else:\n",
    "        return 0, np.nan"
   ]
  },
  {
   "cell_type": "markdown",
   "id": "7371e600",
   "metadata": {},
   "source": [
    "[Retour au code](#reviews)"
   ]
  },
  {
   "cell_type": "markdown",
   "id": "a8b4337d",
   "metadata": {},
   "source": [
    "<a id='get_favourite_payment_method'></a>"
   ]
  },
  {
   "cell_type": "code",
   "execution_count": 8,
   "id": "8dc593ec",
   "metadata": {},
   "outputs": [],
   "source": [
    "def get_favourite_payment_method(row):\n",
    "    \"\"\"\n",
    "    Retourne le type de paiement préféré du client\n",
    "    \"\"\"\n",
    "    orders_ids = row.orders_ids\n",
    "    payment_methods = payments[payments.order_id.isin(orders_ids)].payment_type.value_counts()\n",
    "    try:\n",
    "        return payment_methods.index[0]\n",
    "    except IndexError:\n",
    "        return None"
   ]
  },
  {
   "cell_type": "markdown",
   "id": "14c216dc",
   "metadata": {},
   "source": [
    "[Retour au code](#mode_paiement_prefere)"
   ]
  },
  {
   "cell_type": "markdown",
   "id": "86381c04",
   "metadata": {},
   "source": [
    "<a id='get_delivery_time_and_delays'></a>"
   ]
  },
  {
   "cell_type": "code",
   "execution_count": 9,
   "id": "0c946deb",
   "metadata": {},
   "outputs": [],
   "source": [
    "def get_delivery_time_and_delays(row):\n",
    "    \"\"\"\n",
    "    Pour les clients ayant eu des commandes ayant abouties, on calcule le taux d'avance, de retard et le temps moyen de livraison\n",
    "    \"\"\"\n",
    "    client_orders = orders[orders.index.isin(row.orders_ids)]\n",
    "    client_orders = client_orders[client_orders.order_status == 'delivered']\n",
    "    \n",
    "    if client_orders.shape[0] > 0:\n",
    "        was_delayed_counts = client_orders.was_delayed.value_counts(normalize=True)\n",
    "        if True in was_delayed_counts.index:\n",
    "            delay_rate = was_delayed_counts.loc[True]\n",
    "        else:\n",
    "            delay_rate = 0\n",
    "        was_in_advance_counts = client_orders.was_in_advance.value_counts(normalize=True)\n",
    "        if True in was_in_advance_counts.index:\n",
    "            advance_rate = was_in_advance_counts.loc[True]\n",
    "        else:\n",
    "            advance_rate = 0\n",
    "        return client_orders.delivery_time.mean(), delay_rate, advance_rate\n",
    "    else:\n",
    "        np.nan, np.nan, np.nan"
   ]
  },
  {
   "cell_type": "markdown",
   "id": "9e7a7d9d",
   "metadata": {},
   "source": [
    "[Retour au code](#tps_livraison)"
   ]
  },
  {
   "cell_type": "markdown",
   "id": "cd4e1b96",
   "metadata": {},
   "source": [
    "<a id='get_cancelation_rate'></a>"
   ]
  },
  {
   "cell_type": "code",
   "execution_count": 10,
   "id": "44962010",
   "metadata": {},
   "outputs": [],
   "source": [
    "def get_cancelation_rate(row):\n",
    "    client_orders = orders[orders.index.isin(row.orders_ids)]\n",
    "    status_counts = client_orders.order_status.value_counts(normalize=True)\n",
    "    if 'canceled' in status_counts.index:\n",
    "        return status_counts.loc['canceled']\n",
    "    else:\n",
    "        return 0"
   ]
  },
  {
   "cell_type": "markdown",
   "id": "475ec836",
   "metadata": {},
   "source": [
    "[Retour au code](#annulation)"
   ]
  },
  {
   "cell_type": "markdown",
   "id": "c8f9f899",
   "metadata": {},
   "source": [
    "<a id='1_donnees'></a>"
   ]
  },
  {
   "cell_type": "markdown",
   "id": "20a9d3ce",
   "metadata": {},
   "source": [
    "# Données 🎁"
   ]
  },
  {
   "cell_type": "markdown",
   "id": "ef03a1d3",
   "metadata": {},
   "source": [
    "<img src=\"img/structure.png\" width=500 />"
   ]
  },
  {
   "cell_type": "code",
   "execution_count": 11,
   "id": "126bebe3",
   "metadata": {},
   "outputs": [],
   "source": [
    "orders = pd.read_csv('data/olist_orders_dataset.csv', index_col='order_id',parse_dates=['order_purchase_timestamp', \n",
    "                                                                                        'order_approved_at',\t\n",
    "                                                                                        'order_delivered_carrier_date',\t\n",
    "                                                                                        'order_delivered_customer_date',\n",
    "                                                                                        'order_estimated_delivery_date'])\n",
    "order_items = pd.read_csv('data/olist_order_items_dataset.csv',  index_col='order_id')\n",
    "products = pd.read_csv('data/olist_products_dataset.csv', index_col='product_id', na_values=np.nan)\n",
    "customers = pd.read_csv('data/olist_customers_dataset.csv')\n",
    "reviews = pd.read_csv('data/olist_order_reviews_dataset.csv')\n",
    "geolocs = pd.read_csv('data/olist_geolocation_dataset.csv')\n",
    "payments = pd.read_csv('data/olist_order_payments_dataset.csv')\n",
    "products_categ_traduction = pd.read_csv('data/product_category_name_translation.csv')"
   ]
  },
  {
   "cell_type": "markdown",
   "id": "d9244935",
   "metadata": {},
   "source": [
    "Application de la traduction des catégories de produits:"
   ]
  },
  {
   "cell_type": "code",
   "execution_count": 12,
   "id": "1c82e4f9",
   "metadata": {},
   "outputs": [],
   "source": [
    "products = products.merge(products_categ_traduction, how='left').set_axis(products.index)"
   ]
  },
  {
   "cell_type": "code",
   "execution_count": 13,
   "id": "bbe273f6",
   "metadata": {},
   "outputs": [
    {
     "data": {
      "text/plain": [
       "False"
      ]
     },
     "execution_count": 13,
     "metadata": {},
     "output_type": "execute_result"
    }
   ],
   "source": [
    "products_categ_traduction.shape[0] == len(products.product_category_name.unique())"
   ]
  },
  {
   "cell_type": "markdown",
   "id": "bef4f9a7",
   "metadata": {},
   "source": [
    "<a id='1_creation_base'></a>"
   ]
  },
  {
   "cell_type": "markdown",
   "id": "54240ee5",
   "metadata": {},
   "source": [
    "# Création d'une base répondant au besoin ✅\n",
    "La base doit avoir pour index les ids des clients avec des variables en relation avec son comportement.\n",
    "\n",
    "Variables retenues:\n",
    "- [Nombre de commandes](#nb_commandes)\n",
    "- [Temps depuis la première et la dernière commande](#tps_last_order)\n",
    "- [Fréquence achats](#frequence)\n",
    "- [Montants dépensés](#montant)\n",
    "- [Catégorie de produit la plus fréquente](#categorie)\n",
    "- [Nombre d'avis postés et note moyenne](#reviews)\n",
    "- [Mode de paiement préféré](#mode_paiement_prefere)\n",
    "- [Temps de livraison et retards](#tps_livraison)\n",
    "- [Taux d'annulation des commandes](#annulation)\n",
    "\n",
    "### Important:\n",
    "Pour le bon fonctionnement du projet, les fonctions développées pour la constitution de la base prendront en paramètre la date à laquelle on veut se fixer virtuellement. En effet on cherchera plus tard dans ce projet à déterminer la fréquence de mise à jour de la base d'entrainement du modèle.\n",
    "On prendra toujours dans ce notebook la dernière date de la base de donnée."
   ]
  },
  {
   "cell_type": "code",
   "execution_count": 14,
   "id": "4202b71f",
   "metadata": {},
   "outputs": [],
   "source": [
    "virtual_date = orders.order_purchase_timestamp.max()"
   ]
  },
  {
   "cell_type": "code",
   "execution_count": 15,
   "id": "3bd1409d",
   "metadata": {},
   "outputs": [
    {
     "data": {
      "text/plain": [
       "Timestamp('2018-10-17 17:30:18')"
      ]
     },
     "execution_count": 15,
     "metadata": {},
     "output_type": "execute_result"
    }
   ],
   "source": [
    "orders.order_purchase_timestamp.max()"
   ]
  },
  {
   "cell_type": "markdown",
   "id": "2db8978a",
   "metadata": {},
   "source": [
    "<a id='nb_commandes'></a>"
   ]
  },
  {
   "cell_type": "markdown",
   "id": "f2c0e38f",
   "metadata": {},
   "source": [
    "## Nombre de commandes par client 🥰"
   ]
  },
  {
   "cell_type": "markdown",
   "id": "99dd68f5",
   "metadata": {},
   "source": [
    "Cette variable est la plus importante car va nous permettre de connaitre la taille de notre dataset. En effet, difficile de classer des clients n'ayant fait qu'une commande"
   ]
  },
  {
   "cell_type": "markdown",
   "id": "3725b73c",
   "metadata": {},
   "source": [
    "Regardons comment fonctionnent les id des clients"
   ]
  },
  {
   "cell_type": "code",
   "execution_count": 16,
   "id": "cc8409c4",
   "metadata": {},
   "outputs": [
    {
     "data": {
      "text/html": [
       "<div>\n",
       "<style scoped>\n",
       "    .dataframe tbody tr th:only-of-type {\n",
       "        vertical-align: middle;\n",
       "    }\n",
       "\n",
       "    .dataframe tbody tr th {\n",
       "        vertical-align: top;\n",
       "    }\n",
       "\n",
       "    .dataframe thead th {\n",
       "        text-align: right;\n",
       "    }\n",
       "</style>\n",
       "<table border=\"1\" class=\"dataframe\">\n",
       "  <thead>\n",
       "    <tr style=\"text-align: right;\">\n",
       "      <th></th>\n",
       "      <th>customer_id</th>\n",
       "      <th>customer_unique_id</th>\n",
       "      <th>customer_zip_code_prefix</th>\n",
       "      <th>customer_city</th>\n",
       "      <th>customer_state</th>\n",
       "    </tr>\n",
       "  </thead>\n",
       "  <tbody>\n",
       "    <tr>\n",
       "      <th>0</th>\n",
       "      <td>06b8999e2fba1a1fbc88172c00ba8bc7</td>\n",
       "      <td>861eff4711a542e4b93843c6dd7febb0</td>\n",
       "      <td>14409</td>\n",
       "      <td>franca</td>\n",
       "      <td>SP</td>\n",
       "    </tr>\n",
       "    <tr>\n",
       "      <th>1</th>\n",
       "      <td>18955e83d337fd6b2def6b18a428ac77</td>\n",
       "      <td>290c77bc529b7ac935b93aa66c333dc3</td>\n",
       "      <td>9790</td>\n",
       "      <td>sao bernardo do campo</td>\n",
       "      <td>SP</td>\n",
       "    </tr>\n",
       "    <tr>\n",
       "      <th>2</th>\n",
       "      <td>4e7b3e00288586ebd08712fdd0374a03</td>\n",
       "      <td>060e732b5b29e8181a18229c7b0b2b5e</td>\n",
       "      <td>1151</td>\n",
       "      <td>sao paulo</td>\n",
       "      <td>SP</td>\n",
       "    </tr>\n",
       "    <tr>\n",
       "      <th>3</th>\n",
       "      <td>b2b6027bc5c5109e529d4dc6358b12c3</td>\n",
       "      <td>259dac757896d24d7702b9acbbff3f3c</td>\n",
       "      <td>8775</td>\n",
       "      <td>mogi das cruzes</td>\n",
       "      <td>SP</td>\n",
       "    </tr>\n",
       "    <tr>\n",
       "      <th>4</th>\n",
       "      <td>4f2d8ab171c80ec8364f7c12e35b23ad</td>\n",
       "      <td>345ecd01c38d18a9036ed96c73b8d066</td>\n",
       "      <td>13056</td>\n",
       "      <td>campinas</td>\n",
       "      <td>SP</td>\n",
       "    </tr>\n",
       "  </tbody>\n",
       "</table>\n",
       "</div>"
      ],
      "text/plain": [
       "                        customer_id                customer_unique_id  \\\n",
       "0  06b8999e2fba1a1fbc88172c00ba8bc7  861eff4711a542e4b93843c6dd7febb0   \n",
       "1  18955e83d337fd6b2def6b18a428ac77  290c77bc529b7ac935b93aa66c333dc3   \n",
       "2  4e7b3e00288586ebd08712fdd0374a03  060e732b5b29e8181a18229c7b0b2b5e   \n",
       "3  b2b6027bc5c5109e529d4dc6358b12c3  259dac757896d24d7702b9acbbff3f3c   \n",
       "4  4f2d8ab171c80ec8364f7c12e35b23ad  345ecd01c38d18a9036ed96c73b8d066   \n",
       "\n",
       "   customer_zip_code_prefix          customer_city customer_state  \n",
       "0                     14409                 franca             SP  \n",
       "1                      9790  sao bernardo do campo             SP  \n",
       "2                      1151              sao paulo             SP  \n",
       "3                      8775        mogi das cruzes             SP  \n",
       "4                     13056               campinas             SP  "
      ]
     },
     "execution_count": 16,
     "metadata": {},
     "output_type": "execute_result"
    }
   ],
   "source": [
    "customers.head()"
   ]
  },
  {
   "cell_type": "code",
   "execution_count": 17,
   "id": "a03f7a0f",
   "metadata": {},
   "outputs": [
    {
     "data": {
      "text/plain": [
       "96096"
      ]
     },
     "execution_count": 17,
     "metadata": {},
     "output_type": "execute_result"
    }
   ],
   "source": [
    "len(customers.customer_unique_id.unique())"
   ]
  },
  {
   "cell_type": "code",
   "execution_count": 18,
   "id": "262ff35c",
   "metadata": {},
   "outputs": [
    {
     "data": {
      "text/plain": [
       "99441"
      ]
     },
     "execution_count": 18,
     "metadata": {},
     "output_type": "execute_result"
    }
   ],
   "source": [
    "len(customers.customer_id.unique())"
   ]
  },
  {
   "cell_type": "code",
   "execution_count": 19,
   "id": "9173054f",
   "metadata": {},
   "outputs": [
    {
     "data": {
      "text/plain": [
       "Index(['customer_id', 'order_status', 'order_purchase_timestamp',\n",
       "       'order_approved_at', 'order_delivered_carrier_date',\n",
       "       'order_delivered_customer_date', 'order_estimated_delivery_date'],\n",
       "      dtype='object')"
      ]
     },
     "execution_count": 19,
     "metadata": {},
     "output_type": "execute_result"
    }
   ],
   "source": [
    "orders.columns"
   ]
  },
  {
   "cell_type": "markdown",
   "id": "08f4dacf",
   "metadata": {},
   "source": [
    "On filtre ici la date virtuelle pour garder un trace mais cette commande est neutre"
   ]
  },
  {
   "cell_type": "code",
   "execution_count": 20,
   "id": "bcf14c1a",
   "metadata": {},
   "outputs": [],
   "source": [
    "orders = orders[orders.order_purchase_timestamp <= virtual_date]"
   ]
  },
  {
   "cell_type": "code",
   "execution_count": 21,
   "id": "85627aac",
   "metadata": {},
   "outputs": [],
   "source": [
    "orders = orders.merge(customers[['customer_id', 'customer_unique_id']], how='left').set_axis(orders.index)"
   ]
  },
  {
   "cell_type": "markdown",
   "id": "0444cdef",
   "metadata": {},
   "source": [
    "On trie par date pour conserver un ordre des commandes logique"
   ]
  },
  {
   "cell_type": "code",
   "execution_count": 22,
   "id": "b7cbe819",
   "metadata": {},
   "outputs": [],
   "source": [
    "orders.sort_values('order_purchase_timestamp', inplace=True)"
   ]
  },
  {
   "cell_type": "code",
   "execution_count": 23,
   "id": "aa067460",
   "metadata": {},
   "outputs": [
    {
     "data": {
      "text/plain": [
       "False    93099\n",
       "True      2997\n",
       "Name: customer_id, dtype: int64"
      ]
     },
     "execution_count": 23,
     "metadata": {},
     "output_type": "execute_result"
    }
   ],
   "source": [
    "(orders.groupby('customer_unique_id').count().customer_id > 1).value_counts()"
   ]
  },
  {
   "cell_type": "markdown",
   "id": "1ca72125",
   "metadata": {},
   "source": [
    "### Il n'y a dans la base clients que 2997 clients ayant fait plus d'un commande"
   ]
  },
  {
   "cell_type": "code",
   "execution_count": 24,
   "id": "59c31b8d",
   "metadata": {},
   "outputs": [],
   "source": [
    "data = pd.DataFrame(orders.groupby('customer_unique_id').count().customer_id)"
   ]
  },
  {
   "cell_type": "code",
   "execution_count": 25,
   "id": "e37c9185",
   "metadata": {},
   "outputs": [],
   "source": [
    "data.columns = ['nb_orders']"
   ]
  },
  {
   "cell_type": "code",
   "execution_count": 26,
   "id": "6c005826",
   "metadata": {},
   "outputs": [
    {
     "data": {
      "text/plain": [
       "array([93099,  2745,   203,    30,     8,     6,     3,     1,     1],\n",
       "      dtype=int64)"
      ]
     },
     "execution_count": 26,
     "metadata": {},
     "output_type": "execute_result"
    }
   ],
   "source": [
    "data.nb_orders.value_counts().values"
   ]
  },
  {
   "cell_type": "code",
   "execution_count": 27,
   "id": "adb8d66a",
   "metadata": {},
   "outputs": [],
   "source": [
    "nb_orders_data = data.nb_orders.value_counts()"
   ]
  },
  {
   "cell_type": "code",
   "execution_count": 28,
   "id": "245afba6",
   "metadata": {},
   "outputs": [
    {
     "data": {
      "text/plain": [
       "1     0.968812\n",
       "2     0.028565\n",
       "3     0.002112\n",
       "4     0.000312\n",
       "5     0.000083\n",
       "6     0.000062\n",
       "7     0.000031\n",
       "9     0.000010\n",
       "17    0.000010\n",
       "Name: nb_orders, dtype: float64"
      ]
     },
     "execution_count": 28,
     "metadata": {},
     "output_type": "execute_result"
    }
   ],
   "source": [
    "data.nb_orders.value_counts(normalize=True)"
   ]
  },
  {
   "cell_type": "code",
   "execution_count": 29,
   "id": "11e67dd1",
   "metadata": {},
   "outputs": [
    {
     "data": {
      "text/plain": [
       "Text(0.5, 0, 'Nombre de commandes')"
      ]
     },
     "execution_count": 29,
     "metadata": {},
     "output_type": "execute_result"
    },
    {
     "data": {
      "image/png": "[encoded data removed]",
      "text/plain": [
       "<Figure size 432x288 with 1 Axes>"
      ]
     },
     "metadata": {},
     "output_type": "display_data"
    }
   ],
   "source": [
    "plt.style.use('fivethirtyeight')\n",
    "plt.bar(nb_orders_data.index,\n",
    "        nb_orders_data.values,\n",
    "       color=\"#8c704d\",\n",
    "       alpha=0.7)\n",
    "plt.grid(False, axis='y')\n",
    "plt.xticks(range(1,18))\n",
    "plt.yticks(np.arange(0, 120e3, 20e3))\n",
    "plt.xlabel(\"Nombre de commandes\")\n",
    "# plt.savefig('plots/nb_orders.png',  bbox_inches='tight', dpi=360)"
   ]
  },
  {
   "cell_type": "markdown",
   "id": "8c8c90f2",
   "metadata": {},
   "source": [
    "<a id='get_orders_back'></a>\n",
    "### Pour les autres variables nous avons besoin des ids des commandes correspondant à chaque client"
   ]
  },
  {
   "cell_type": "markdown",
   "id": "ef5a6f04",
   "metadata": {},
   "source": [
    "Voir la [fonction](#get_orders)"
   ]
  },
  {
   "cell_type": "code",
   "execution_count": 30,
   "id": "643e9385",
   "metadata": {},
   "outputs": [
    {
     "data": {
      "text/plain": [
       "\" A partir d'un id client unique la fonction retourne la liste des commandes correspondantes,\\n    La table des commandes doit au préalable être filtrée en fonction de la date virtuelle de l'étude\\n    Args:\\n        client_unique_id\\n    \""
      ]
     },
     "execution_count": 30,
     "metadata": {},
     "output_type": "execute_result"
    }
   ],
   "source": [
    "get_orders.__doc__"
   ]
  },
  {
   "cell_type": "code",
   "execution_count": 31,
   "id": "af7aeb50",
   "metadata": {},
   "outputs": [],
   "source": [
    "data['orders_ids'] = data.index.map(get_orders)"
   ]
  },
  {
   "cell_type": "code",
   "execution_count": 32,
   "id": "f731da4d",
   "metadata": {},
   "outputs": [
    {
     "data": {
      "text/html": [
       "<div>\n",
       "<style scoped>\n",
       "    .dataframe tbody tr th:only-of-type {\n",
       "        vertical-align: middle;\n",
       "    }\n",
       "\n",
       "    .dataframe tbody tr th {\n",
       "        vertical-align: top;\n",
       "    }\n",
       "\n",
       "    .dataframe thead th {\n",
       "        text-align: right;\n",
       "    }\n",
       "</style>\n",
       "<table border=\"1\" class=\"dataframe\">\n",
       "  <thead>\n",
       "    <tr style=\"text-align: right;\">\n",
       "      <th></th>\n",
       "      <th>nb_orders</th>\n",
       "      <th>orders_ids</th>\n",
       "    </tr>\n",
       "    <tr>\n",
       "      <th>customer_unique_id</th>\n",
       "      <th></th>\n",
       "      <th></th>\n",
       "    </tr>\n",
       "  </thead>\n",
       "  <tbody>\n",
       "    <tr>\n",
       "      <th>0000366f3b9a7992bf8c76cfdf3221e2</th>\n",
       "      <td>1</td>\n",
       "      <td>[e22acc9c116caa3f2b7121bbb380d08e]</td>\n",
       "    </tr>\n",
       "    <tr>\n",
       "      <th>0000b849f77a49e4a4ce2b2a4ca5be3f</th>\n",
       "      <td>1</td>\n",
       "      <td>[3594e05a005ac4d06a72673270ef9ec9]</td>\n",
       "    </tr>\n",
       "    <tr>\n",
       "      <th>0000f46a3911fa3c0805444483337064</th>\n",
       "      <td>1</td>\n",
       "      <td>[b33ec3b699337181488304f362a6b734]</td>\n",
       "    </tr>\n",
       "    <tr>\n",
       "      <th>0000f6ccb0745a6a4b88665a16c9f078</th>\n",
       "      <td>1</td>\n",
       "      <td>[41272756ecddd9a9ed0180413cc22fb6]</td>\n",
       "    </tr>\n",
       "    <tr>\n",
       "      <th>0004aac84e0df4da2b147fca70cf8255</th>\n",
       "      <td>1</td>\n",
       "      <td>[d957021f1127559cd947b62533f484f7]</td>\n",
       "    </tr>\n",
       "  </tbody>\n",
       "</table>\n",
       "</div>"
      ],
      "text/plain": [
       "                                  nb_orders  \\\n",
       "customer_unique_id                            \n",
       "0000366f3b9a7992bf8c76cfdf3221e2          1   \n",
       "0000b849f77a49e4a4ce2b2a4ca5be3f          1   \n",
       "0000f46a3911fa3c0805444483337064          1   \n",
       "0000f6ccb0745a6a4b88665a16c9f078          1   \n",
       "0004aac84e0df4da2b147fca70cf8255          1   \n",
       "\n",
       "                                                          orders_ids  \n",
       "customer_unique_id                                                    \n",
       "0000366f3b9a7992bf8c76cfdf3221e2  [e22acc9c116caa3f2b7121bbb380d08e]  \n",
       "0000b849f77a49e4a4ce2b2a4ca5be3f  [3594e05a005ac4d06a72673270ef9ec9]  \n",
       "0000f46a3911fa3c0805444483337064  [b33ec3b699337181488304f362a6b734]  \n",
       "0000f6ccb0745a6a4b88665a16c9f078  [41272756ecddd9a9ed0180413cc22fb6]  \n",
       "0004aac84e0df4da2b147fca70cf8255  [d957021f1127559cd947b62533f484f7]  "
      ]
     },
     "execution_count": 32,
     "metadata": {},
     "output_type": "execute_result"
    }
   ],
   "source": [
    "data.head()"
   ]
  },
  {
   "cell_type": "raw",
   "id": "b6fa8f3a",
   "metadata": {},
   "source": [
    "<a id='tps_last_order'></a>\n",
    "## Temps depuis la première et la dernière commande ⏲️\n",
    "Pour représenter l'ancienneté du client et la fraicheur du client. On aura besoin ici de la date virtuelle"
   ]
  },
  {
   "cell_type": "raw",
   "id": "4e04dd4b",
   "metadata": {},
   "source": [
    "Voir la [fonction](#get_nb_days)"
   ]
  },
  {
   "cell_type": "raw",
   "id": "d78f8912",
   "metadata": {},
   "source": [
    "data[['days_since_first_order', 'days_since_last_order']] = data.apply(get_nb_days, virtual_date=virtual_date, \n",
    "                                                                       orders=orders, axis=1, result_type='expand')"
   ]
  },
  {
   "cell_type": "raw",
   "id": "ca06c436",
   "metadata": {},
   "source": [
    "data[['days_since_first_order', 'days_since_last_order']].describe()"
   ]
  },
  {
   "cell_type": "raw",
   "id": "fc07483c",
   "metadata": {},
   "source": [
    "\n",
    "plt.hist(data.days_since_first_order,\n",
    "         bins=15,\n",
    "           color=\"#59564c\",\n",
    "           alpha=0.7)\n",
    "plt.grid(False, axis='both')\n",
    "plt.xlabel(\"Temps depuis 1ère commandes (Jours)\")\n",
    "plt.ylabel(\"Effectifs\")\n",
    "plt.savefig('plots/tps_depuis_1ere_v2.png',  bbox_inches='tight', dpi=360)"
   ]
  },
  {
   "cell_type": "markdown",
   "id": "024f21a2",
   "metadata": {},
   "source": [
    "<a id='frequence'></a>\n",
    "## Fréquence des commandes\n",
    "Pour représenter la régularité du client. On se basera aussi sur la date virtuelle"
   ]
  },
  {
   "cell_type": "markdown",
   "id": "9eb34c4a",
   "metadata": {},
   "source": [
    "Voir la [fonction](#get_frequency)\n",
    "\n",
    "La fréquence est exprimée par mois"
   ]
  },
  {
   "cell_type": "raw",
   "id": "4fb1978b",
   "metadata": {},
   "source": [
    "data['frequency'] = data.apply(get_frequency, axis=1)"
   ]
  },
  {
   "cell_type": "raw",
   "id": "e195987f",
   "metadata": {},
   "source": [
    "data['frequency'].describe()"
   ]
  },
  {
   "cell_type": "raw",
   "id": "5c3069d8",
   "metadata": {},
   "source": [
    "plt.hist(data.frequency, \n",
    "                       bins=80,\n",
    "                       color=\"#8c704d\",\n",
    "                       alpha=0.7)\n",
    "# plt.xticks(np.arange(0,1.1,0.1), rotation=90)\n",
    "plt.xlim([data.frequency.min(),data.frequency.max()])\n",
    "plt.grid(False, axis='both')\n",
    "plt.xlabel(\"Nombre de commandes par mois\")\n",
    "plt.ylabel(\"Effectifs\")\n",
    "# plt.savefig('plots/frequence.png',  bbox_inches='tight', dpi=360)"
   ]
  },
  {
   "cell_type": "markdown",
   "id": "e5082696",
   "metadata": {},
   "source": [
    "<a id='montant'></a>\n",
    "## Montant total des achats 💰"
   ]
  },
  {
   "cell_type": "markdown",
   "id": "77ecbc10",
   "metadata": {},
   "source": [
    "Voir la [fonction](#get_sum_orders)"
   ]
  },
  {
   "cell_type": "code",
   "execution_count": 33,
   "id": "481830bf",
   "metadata": {},
   "outputs": [],
   "source": [
    "data['sum_orders'] = data.apply(get_sum_orders, axis=1)"
   ]
  },
  {
   "cell_type": "code",
   "execution_count": 34,
   "id": "2ef6ba07",
   "metadata": {},
   "outputs": [
    {
     "data": {
      "text/plain": [
       "count    96096.000000\n",
       "mean       141.438184\n",
       "std        217.215904\n",
       "min          0.000000\n",
       "25%         45.990000\n",
       "50%         89.000000\n",
       "75%        154.000000\n",
       "max      13440.000000\n",
       "Name: sum_orders, dtype: float64"
      ]
     },
     "execution_count": 34,
     "metadata": {},
     "output_type": "execute_result"
    }
   ],
   "source": [
    "data['sum_orders'].describe()"
   ]
  },
  {
   "cell_type": "code",
   "execution_count": 35,
   "id": "32c6bc87",
   "metadata": {},
   "outputs": [
    {
     "data": {
      "image/png": "[encoded data removed]",
      "text/plain": [
       "<Figure size 432x288 with 1 Axes>"
      ]
     },
     "metadata": {},
     "output_type": "display_data"
    }
   ],
   "source": [
    "plt.hist(data.sum_orders, \n",
    "                       bins=100,\n",
    "                       color=\"#59564c\",\n",
    "                       alpha=0.7)\n",
    "# plt.xticks(np.arange(0,1.1,0.1), rotation=90)\n",
    "plt.xlim([data.sum_orders.min(),2500])\n",
    "plt.grid(False, axis='both')\n",
    "plt.xlabel(\"Montants dépensés (Reales)\")\n",
    "plt.ylabel(\"Effectifs\")\n",
    "plt.savefig('plots/montants_v2.png',  bbox_inches='tight', dpi=360)"
   ]
  },
  {
   "cell_type": "markdown",
   "id": "cdbce1bf",
   "metadata": {},
   "source": [
    "<a id='categorie'></a>\n",
    "## Categ préférée\n",
    "On essaie ici de détecter le type de produit intéressant le plus le client en prenant la catégoie qu'il a le plus acheté\n",
    "\n",
    "Voir la [fonction](#get_most_frequent_categ)"
   ]
  },
  {
   "cell_type": "code",
   "execution_count": 54,
   "id": "3f35e65b",
   "metadata": {},
   "outputs": [],
   "source": [
    "reduce_cardinality = open(\"reduce_cardinality.json\", \"r\")\n",
    "reduce_cardinality = reduce_cardinality.read()\n",
    "reduce_cardinality = json.loads(reduce_cardinality)\n",
    "\n",
    "for i in range(4):\n",
    "    # A faire plusieurs fois pour qu'il soit totalement efficace\n",
    "    products.product_category_name_english = products.product_category_name_english.replace(reduce_cardinality)\n",
    "products.product_category_name_english = products.product_category_name_english.fillna('other')"
   ]
  },
  {
   "cell_type": "code",
   "execution_count": 55,
   "id": "61719c79",
   "metadata": {},
   "outputs": [
    {
     "data": {
      "text/plain": [
       "7"
      ]
     },
     "execution_count": 55,
     "metadata": {},
     "output_type": "execute_result"
    }
   ],
   "source": [
    "len(products.product_category_name_english.unique())"
   ]
  },
  {
   "cell_type": "code",
   "execution_count": 56,
   "id": "1449bcb4",
   "metadata": {},
   "outputs": [
    {
     "data": {
      "text/plain": [
       "home                      11281\n",
       "electronics_auto           5720\n",
       "health_beauty_fashion      4894\n",
       "sports_leisure_culture     4553\n",
       "watches_gifts_toys         3634\n",
       "pet_baby                   1638\n",
       "other                      1231\n",
       "Name: product_category_name_english, dtype: int64"
      ]
     },
     "execution_count": 56,
     "metadata": {},
     "output_type": "execute_result"
    }
   ],
   "source": [
    "products.product_category_name_english.value_counts()"
   ]
  },
  {
   "cell_type": "code",
   "execution_count": 57,
   "id": "4b7cf179",
   "metadata": {},
   "outputs": [],
   "source": [
    "data['favourite_category'] = data.apply(get_most_frequent_categ, axis=1)"
   ]
  },
  {
   "cell_type": "code",
   "execution_count": 58,
   "id": "49cb1c8a",
   "metadata": {},
   "outputs": [
    {
     "data": {
      "text/plain": [
       "home                      29732\n",
       "electronics_auto          18787\n",
       "health_beauty_fashion     14733\n",
       "watches_gifts_toys        12918\n",
       "sports_leisure_culture    11592\n",
       "pet_baby                   4514\n",
       "other                      3144\n",
       "Name: favourite_category, dtype: int64"
      ]
     },
     "execution_count": 58,
     "metadata": {},
     "output_type": "execute_result"
    }
   ],
   "source": [
    "data['favourite_category'].value_counts()"
   ]
  },
  {
   "cell_type": "code",
   "execution_count": 61,
   "id": "38c4ebd4",
   "metadata": {},
   "outputs": [
    {
     "data": {
      "text/plain": [
       "Text(0.5, 0, 'Effectifs')"
      ]
     },
     "execution_count": 61,
     "metadata": {},
     "output_type": "execute_result"
    },
    {
     "data": {
      "image/png": "[encoded data removed]",
      "text/plain": [
       "<Figure size 432x288 with 1 Axes>"
      ]
     },
     "metadata": {},
     "output_type": "display_data"
    }
   ],
   "source": [
    "data_bar_categ_fav = data['favourite_category'].value_counts()\n",
    "plt.barh(data_bar_categ_fav.index,\n",
    "        data_bar_categ_fav.values,\n",
    "        color=\"#8c704d\",\n",
    "        alpha=0.7)\n",
    "plt.grid(False, axis='both')\n",
    "plt.xlabel(\"Effectifs\")\n",
    "# plt.savefig('plots/categ_fav.png',  bbox_inches='tight', dpi=360)"
   ]
  },
  {
   "cell_type": "markdown",
   "id": "6822f06b",
   "metadata": {},
   "source": [
    "<a id='reviews'></a>\n",
    "## Nombre d'avis postés et note moyenne⭐\n",
    "Implication et satisfaction du client sur le site\n",
    "\n",
    "Voir la [fonction](#get_nb_reviews_and_avg)"
   ]
  },
  {
   "cell_type": "code",
   "execution_count": 62,
   "id": "976e3f12",
   "metadata": {},
   "outputs": [],
   "source": [
    "data[['nb_reviews', 'average_review_score']] = data.apply(get_nb_reviews_and_avg, axis=1, result_type='expand')"
   ]
  },
  {
   "cell_type": "code",
   "execution_count": 63,
   "id": "56a39a29",
   "metadata": {},
   "outputs": [
    {
     "data": {
      "text/plain": [
       "1.0     93015\n",
       "2.0      2508\n",
       "3.0       405\n",
       "4.0       125\n",
       "5.0        23\n",
       "6.0        13\n",
       "7.0         5\n",
       "17.0        1\n",
       "9.0         1\n",
       "Name: nb_reviews, dtype: int64"
      ]
     },
     "execution_count": 63,
     "metadata": {},
     "output_type": "execute_result"
    }
   ],
   "source": [
    "data.nb_reviews.value_counts()"
   ]
  },
  {
   "cell_type": "code",
   "execution_count": 64,
   "id": "0e33216d",
   "metadata": {},
   "outputs": [
    {
     "data": {
      "text/plain": [
       "1     93099\n",
       "2      2745\n",
       "3       203\n",
       "4        30\n",
       "5         8\n",
       "6         6\n",
       "7         3\n",
       "9         1\n",
       "17        1\n",
       "Name: nb_orders, dtype: int64"
      ]
     },
     "execution_count": 64,
     "metadata": {},
     "output_type": "execute_result"
    }
   ],
   "source": [
    "data.nb_orders.value_counts()"
   ]
  },
  {
   "cell_type": "code",
   "execution_count": 65,
   "id": "d7d35403",
   "metadata": {},
   "outputs": [
    {
     "data": {
      "text/plain": [
       "5    0.57420\n",
       "4    0.19200\n",
       "1    0.11858\n",
       "3    0.08287\n",
       "2    0.03235\n",
       "Name: review_score, dtype: float64"
      ]
     },
     "execution_count": 65,
     "metadata": {},
     "output_type": "execute_result"
    }
   ],
   "source": [
    "reviews.review_score.value_counts(normalize=True)"
   ]
  },
  {
   "cell_type": "code",
   "execution_count": null,
   "id": "27dd563b",
   "metadata": {},
   "outputs": [],
   "source": []
  },
  {
   "cell_type": "markdown",
   "id": "9d54def2",
   "metadata": {},
   "source": [
    "### C'est louche"
   ]
  },
  {
   "cell_type": "code",
   "execution_count": 66,
   "id": "afd716b5",
   "metadata": {},
   "outputs": [
    {
     "data": {
      "text/plain": [
       "count    96096.000000\n",
       "mean         4.069535\n",
       "std          1.353446\n",
       "min          1.000000\n",
       "25%          4.000000\n",
       "50%          5.000000\n",
       "75%          5.000000\n",
       "max          5.000000\n",
       "Name: average_review_score, dtype: float64"
      ]
     },
     "execution_count": 66,
     "metadata": {},
     "output_type": "execute_result"
    }
   ],
   "source": [
    "data.average_review_score.describe()"
   ]
  },
  {
   "cell_type": "code",
   "execution_count": 67,
   "id": "4f37ab93",
   "metadata": {},
   "outputs": [
    {
     "data": {
      "text/plain": [
       "False    100000\n",
       "Name: review_score, dtype: int64"
      ]
     },
     "execution_count": 67,
     "metadata": {},
     "output_type": "execute_result"
    }
   ],
   "source": [
    "reviews.review_score.isnull().value_counts()"
   ]
  },
  {
   "cell_type": "markdown",
   "id": "2dd4205b",
   "metadata": {},
   "source": [
    "On note ici que dans cette base, tous les clients écrivent des reviews et donnent des notes"
   ]
  },
  {
   "cell_type": "code",
   "execution_count": 68,
   "id": "ec110d0d",
   "metadata": {},
   "outputs": [
    {
     "data": {
      "image/png": "[encoded data removed]",
      "text/plain": [
       "<Figure size 432x288 with 1 Axes>"
      ]
     },
     "metadata": {},
     "output_type": "display_data"
    }
   ],
   "source": [
    "data_bar_reviews_notes = data.average_review_score.round().value_counts()\n",
    "plt.bar(data_bar_reviews_notes.index,\n",
    "        data_bar_reviews_notes.values,\n",
    "        color=\"#8c704d\",\n",
    "        alpha=0.7)\n",
    "plt.grid(False, axis='both')\n",
    "plt.xlabel(\"Notes moyennes arrondies\")\n",
    "plt.ylabel(\"Effectifs\")\n",
    "plt.savefig('plots/note_moyenne_v2.png',  bbox_inches='tight', dpi=360)"
   ]
  },
  {
   "cell_type": "markdown",
   "id": "0613acd4",
   "metadata": {},
   "source": [
    "<a id='mode_paiement_prefere'></a>\n",
    "## Mode de paiement préféré 💳\n",
    "Relation du client avec l'argent\n",
    "\n",
    "Voir la [fonction](#get_favourite_payment_method)"
   ]
  },
  {
   "cell_type": "code",
   "execution_count": 69,
   "id": "33fd1166",
   "metadata": {},
   "outputs": [
    {
     "data": {
      "text/plain": [
       "credit_card    76795\n",
       "boleto         19784\n",
       "voucher         5775\n",
       "debit_card      1529\n",
       "not_defined        3\n",
       "Name: payment_type, dtype: int64"
      ]
     },
     "execution_count": 69,
     "metadata": {},
     "output_type": "execute_result"
    }
   ],
   "source": [
    "payments.payment_type.value_counts()"
   ]
  },
  {
   "cell_type": "code",
   "execution_count": 70,
   "id": "213d52b6",
   "metadata": {},
   "outputs": [
    {
     "data": {
      "text/plain": [
       "False    103886\n",
       "Name: payment_type, dtype: int64"
      ]
     },
     "execution_count": 70,
     "metadata": {},
     "output_type": "execute_result"
    }
   ],
   "source": [
    "payments.payment_type.isnull().value_counts()"
   ]
  },
  {
   "cell_type": "code",
   "execution_count": 71,
   "id": "192a6652",
   "metadata": {},
   "outputs": [],
   "source": [
    "data['favourite_payment_type'] = data.apply(get_favourite_payment_method, axis=1).replace('boleto', 'cash')"
   ]
  },
  {
   "cell_type": "code",
   "execution_count": 72,
   "id": "d96472b0",
   "metadata": {},
   "outputs": [
    {
     "data": {
      "text/plain": [
       "credit_card    72870\n",
       "cash           19039\n",
       "voucher         2701\n",
       "debit_card      1482\n",
       "not_defined        3\n",
       "Name: favourite_payment_type, dtype: int64"
      ]
     },
     "execution_count": 72,
     "metadata": {},
     "output_type": "execute_result"
    }
   ],
   "source": [
    "data['favourite_payment_type'].value_counts()"
   ]
  },
  {
   "cell_type": "code",
   "execution_count": 73,
   "id": "069db83b",
   "metadata": {},
   "outputs": [],
   "source": [
    "data['favourite_payment_type'].replace({'not_defined':'credit_card', 'debit_card':'credit_card'}, inplace=True)"
   ]
  },
  {
   "cell_type": "code",
   "execution_count": 75,
   "id": "41c5b28b",
   "metadata": {},
   "outputs": [
    {
     "data": {
      "image/png": "[encoded data removed]",
      "text/plain": [
       "<Figure size 432x288 with 1 Axes>"
      ]
     },
     "metadata": {},
     "output_type": "display_data"
    }
   ],
   "source": [
    "data_bar_payments_notes = data.favourite_payment_type.value_counts()\n",
    "plt.bar(data_bar_payments_notes.index,\n",
    "        data_bar_payments_notes.values,\n",
    "        color=\"#59564c\",\n",
    "        alpha=0.7)\n",
    "plt.grid(False, axis='both')\n",
    "plt.xlabel(\"Moyen de paiement favori\")\n",
    "plt.ylabel(\"Effectifs\")\n",
    "plt.savefig('plots/paiements_v2.png',  bbox_inches='tight', dpi=360)"
   ]
  },
  {
   "cell_type": "markdown",
   "id": "af06b233",
   "metadata": {},
   "source": [
    "<a id='tps_livraison'></a>\n",
    "## Temps et retards de livraison 🚚\n",
    "Expérience logistique du client. pour cette partie nous aurons besoin de créer des variables dans la table \"orders\"\n",
    "\n",
    "Nous regarderons le temps moyen de chaque livraison du client et les temps de retard/avance s'il y en a eu"
   ]
  },
  {
   "cell_type": "code",
   "execution_count": 76,
   "id": "8aaea5a1",
   "metadata": {},
   "outputs": [],
   "source": [
    "orders['delivery_time'] = orders.order_delivered_customer_date - orders.order_approved_at"
   ]
  },
  {
   "cell_type": "code",
   "execution_count": 77,
   "id": "99f95967",
   "metadata": {},
   "outputs": [],
   "source": [
    "orders['delay'] = orders.order_delivered_customer_date - orders.order_estimated_delivery_date"
   ]
  },
  {
   "cell_type": "code",
   "execution_count": 78,
   "id": "7c6ccaf8",
   "metadata": {},
   "outputs": [],
   "source": [
    "orders['was_delayed'] = orders.delay.map(lambda x : x.days > 1)"
   ]
  },
  {
   "cell_type": "code",
   "execution_count": 79,
   "id": "df0f1564",
   "metadata": {},
   "outputs": [],
   "source": [
    "orders['was_in_advance'] = orders.delay.map(lambda x : x.days < -1)"
   ]
  },
  {
   "cell_type": "raw",
   "id": "862e78bf",
   "metadata": {},
   "source": [
    "orders.head()"
   ]
  },
  {
   "cell_type": "raw",
   "id": "dd6b7ed2",
   "metadata": {},
   "source": [
    "orders[orders['delivery_time'].isnull() & (orders.order_status == 'delivered')]"
   ]
  },
  {
   "cell_type": "markdown",
   "id": "4e2d0b88",
   "metadata": {},
   "source": [
    "Voir la [fonction](#get_delivery_time_and_delays)"
   ]
  },
  {
   "cell_type": "code",
   "execution_count": 80,
   "id": "d1a4db1e",
   "metadata": {},
   "outputs": [],
   "source": [
    "data[['average_delivery_time', 'delay_rate', 'advance_rate']] = data.apply(get_delivery_time_and_delays, axis=1, result_type='expand')"
   ]
  },
  {
   "cell_type": "code",
   "execution_count": 81,
   "id": "f185a09a",
   "metadata": {},
   "outputs": [
    {
     "data": {
      "text/plain": [
       "False    93337\n",
       "True      2759\n",
       "Name: average_delivery_time, dtype: int64"
      ]
     },
     "execution_count": 81,
     "metadata": {},
     "output_type": "execute_result"
    }
   ],
   "source": [
    "data.average_delivery_time.isnull().value_counts()"
   ]
  },
  {
   "cell_type": "code",
   "execution_count": 82,
   "id": "baa83e28",
   "metadata": {},
   "outputs": [
    {
     "data": {
      "text/plain": [
       "False    93358\n",
       "True      2738\n",
       "Name: delay_rate, dtype: int64"
      ]
     },
     "execution_count": 82,
     "metadata": {},
     "output_type": "execute_result"
    }
   ],
   "source": [
    "data.delay_rate.isnull().value_counts()"
   ]
  },
  {
   "cell_type": "markdown",
   "id": "b3a15abf",
   "metadata": {},
   "source": [
    "Pour les retards non renseignés on replit avec 0\n",
    "\n",
    "Pour les temps de livraisons non renseingés on met la moyenne des temps moyens des autres clients"
   ]
  },
  {
   "cell_type": "code",
   "execution_count": null,
   "id": "3f4b865a",
   "metadata": {},
   "outputs": [],
   "source": [
    "data.delay_rate.fillna(0, inplace=True)\n",
    "data.advance_rate.fillna(0, inplace=True)"
   ]
  },
  {
   "cell_type": "code",
   "execution_count": 84,
   "id": "13be7373",
   "metadata": {},
   "outputs": [],
   "source": [
    "data.average_delivery_time.fillna(data.average_delivery_time.mean(), inplace=True)"
   ]
  },
  {
   "cell_type": "code",
   "execution_count": 85,
   "id": "4ebf57aa",
   "metadata": {},
   "outputs": [],
   "source": [
    "data.average_delivery_time = data.average_delivery_time.map(lambda x : x.round('d').days)"
   ]
  },
  {
   "cell_type": "code",
   "execution_count": 86,
   "id": "56b07e83",
   "metadata": {},
   "outputs": [
    {
     "data": {
      "image/png": "[encoded data removed]",
      "text/plain": [
       "<Figure size 432x288 with 1 Axes>"
      ]
     },
     "metadata": {},
     "output_type": "display_data"
    }
   ],
   "source": [
    "plt.hist(data.average_delivery_time, \n",
    "           bins=25,\n",
    "           color=\"#8c704d\",\n",
    "           alpha=0.7)\n",
    "\n",
    "plt.grid(False, axis='both')\n",
    "plt.xlabel(\"Tps de livraison (Jours)\")\n",
    "plt.ylabel(\"Effectifs\")\n",
    "plt.savefig('plots/tps_livraison_v2.png',  bbox_inches='tight', dpi=360)"
   ]
  },
  {
   "cell_type": "markdown",
   "id": "6bb6898e",
   "metadata": {},
   "source": [
    "<a id='annulation'></a>\n",
    "## Commandes annulées ❌\n",
    "Capacité du client à aller jusqu'au bout des commandes\n",
    "Voir la [fonction](#get_cancelation_rate)"
   ]
  },
  {
   "cell_type": "raw",
   "id": "3c6c1e84",
   "metadata": {},
   "source": [
    "data['cancelation_rate'] = data.apply(get_cancelation_rate, axis=1)"
   ]
  },
  {
   "cell_type": "raw",
   "id": "ddf2bb43",
   "metadata": {},
   "source": [
    "data['cancelation_rate'].describe()"
   ]
  },
  {
   "cell_type": "markdown",
   "id": "be84602c",
   "metadata": {},
   "source": [
    "<a id='model'></a>\n",
    "# Transformation pour Modélisation ✔️"
   ]
  },
  {
   "cell_type": "code",
   "execution_count": 87,
   "id": "56373ab6",
   "metadata": {},
   "outputs": [
    {
     "data": {
      "text/plain": [
       "Index(['nb_orders', 'orders_ids', 'sum_orders', 'favourite_category',\n",
       "       'nb_reviews', 'average_review_score', 'favourite_payment_type',\n",
       "       'average_delivery_time', 'delay_rate', 'advance_rate'],\n",
       "      dtype='object')"
      ]
     },
     "execution_count": 87,
     "metadata": {},
     "output_type": "execute_result"
    }
   ],
   "source": [
    "data.columns"
   ]
  },
  {
   "cell_type": "code",
   "execution_count": 89,
   "id": "113b0bad",
   "metadata": {},
   "outputs": [],
   "source": [
    "data.drop(columns=['orders_ids',\n",
    "       'favourite_category_english', 'nb_reviews', 'delay_rate', 'advance_rate'], inplace=True, errors=\"ignore\")"
   ]
  },
  {
   "cell_type": "raw",
   "id": "a8445760",
   "metadata": {},
   "source": [
    "### Simplification de la donnée temporelle (Average delivery time)\n",
    "On arrondi au jour près"
   ]
  },
  {
   "cell_type": "raw",
   "id": "90dffe84",
   "metadata": {},
   "source": [
    "data.average_delivery_time = data.average_delivery_time.map(lambda x : x.round('d').days)"
   ]
  },
  {
   "cell_type": "markdown",
   "id": "ab4d0ce7",
   "metadata": {},
   "source": [
    "### Conversion des données catégoriques en données numériques"
   ]
  },
  {
   "cell_type": "code",
   "execution_count": 90,
   "id": "dbb2c33d",
   "metadata": {},
   "outputs": [],
   "source": [
    "data = pd.concat([data, pd.get_dummies(data.favourite_payment_type)], axis=1)"
   ]
  },
  {
   "cell_type": "code",
   "execution_count": 92,
   "id": "80774d72",
   "metadata": {},
   "outputs": [],
   "source": [
    "data = pd.concat([data, pd.get_dummies(data.favourite_category)], axis=1)"
   ]
  },
  {
   "cell_type": "code",
   "execution_count": 93,
   "id": "46d94316",
   "metadata": {},
   "outputs": [],
   "source": [
    "data.drop(columns=['favourite_payment_type', 'favourite_category'], inplace=True)"
   ]
  },
  {
   "cell_type": "code",
   "execution_count": 94,
   "id": "72b5161b",
   "metadata": {},
   "outputs": [
    {
     "data": {
      "text/html": [
       "<div>\n",
       "<style scoped>\n",
       "    .dataframe tbody tr th:only-of-type {\n",
       "        vertical-align: middle;\n",
       "    }\n",
       "\n",
       "    .dataframe tbody tr th {\n",
       "        vertical-align: top;\n",
       "    }\n",
       "\n",
       "    .dataframe thead th {\n",
       "        text-align: right;\n",
       "    }\n",
       "</style>\n",
       "<table border=\"1\" class=\"dataframe\">\n",
       "  <thead>\n",
       "    <tr style=\"text-align: right;\">\n",
       "      <th></th>\n",
       "      <th>nb_orders</th>\n",
       "      <th>sum_orders</th>\n",
       "      <th>average_review_score</th>\n",
       "      <th>average_delivery_time</th>\n",
       "      <th>cash</th>\n",
       "      <th>credit_card</th>\n",
       "      <th>voucher</th>\n",
       "      <th>electronics_auto</th>\n",
       "      <th>health_beauty_fashion</th>\n",
       "      <th>home</th>\n",
       "      <th>other</th>\n",
       "      <th>pet_baby</th>\n",
       "      <th>sports_leisure_culture</th>\n",
       "      <th>watches_gifts_toys</th>\n",
       "    </tr>\n",
       "    <tr>\n",
       "      <th>customer_unique_id</th>\n",
       "      <th></th>\n",
       "      <th></th>\n",
       "      <th></th>\n",
       "      <th></th>\n",
       "      <th></th>\n",
       "      <th></th>\n",
       "      <th></th>\n",
       "      <th></th>\n",
       "      <th></th>\n",
       "      <th></th>\n",
       "      <th></th>\n",
       "      <th></th>\n",
       "      <th></th>\n",
       "      <th></th>\n",
       "    </tr>\n",
       "  </thead>\n",
       "  <tbody>\n",
       "    <tr>\n",
       "      <th>0000366f3b9a7992bf8c76cfdf3221e2</th>\n",
       "      <td>1</td>\n",
       "      <td>129.90</td>\n",
       "      <td>5.0</td>\n",
       "      <td>6</td>\n",
       "      <td>0</td>\n",
       "      <td>1</td>\n",
       "      <td>0</td>\n",
       "      <td>0</td>\n",
       "      <td>0</td>\n",
       "      <td>1</td>\n",
       "      <td>0</td>\n",
       "      <td>0</td>\n",
       "      <td>0</td>\n",
       "      <td>0</td>\n",
       "    </tr>\n",
       "    <tr>\n",
       "      <th>0000b849f77a49e4a4ce2b2a4ca5be3f</th>\n",
       "      <td>1</td>\n",
       "      <td>18.90</td>\n",
       "      <td>4.0</td>\n",
       "      <td>3</td>\n",
       "      <td>0</td>\n",
       "      <td>1</td>\n",
       "      <td>0</td>\n",
       "      <td>0</td>\n",
       "      <td>1</td>\n",
       "      <td>0</td>\n",
       "      <td>0</td>\n",
       "      <td>0</td>\n",
       "      <td>0</td>\n",
       "      <td>0</td>\n",
       "    </tr>\n",
       "    <tr>\n",
       "      <th>0000f46a3911fa3c0805444483337064</th>\n",
       "      <td>1</td>\n",
       "      <td>69.00</td>\n",
       "      <td>3.0</td>\n",
       "      <td>26</td>\n",
       "      <td>0</td>\n",
       "      <td>1</td>\n",
       "      <td>0</td>\n",
       "      <td>0</td>\n",
       "      <td>0</td>\n",
       "      <td>0</td>\n",
       "      <td>0</td>\n",
       "      <td>0</td>\n",
       "      <td>1</td>\n",
       "      <td>0</td>\n",
       "    </tr>\n",
       "    <tr>\n",
       "      <th>0000f6ccb0745a6a4b88665a16c9f078</th>\n",
       "      <td>1</td>\n",
       "      <td>25.99</td>\n",
       "      <td>4.0</td>\n",
       "      <td>20</td>\n",
       "      <td>0</td>\n",
       "      <td>1</td>\n",
       "      <td>0</td>\n",
       "      <td>1</td>\n",
       "      <td>0</td>\n",
       "      <td>0</td>\n",
       "      <td>0</td>\n",
       "      <td>0</td>\n",
       "      <td>0</td>\n",
       "      <td>0</td>\n",
       "    </tr>\n",
       "    <tr>\n",
       "      <th>0004aac84e0df4da2b147fca70cf8255</th>\n",
       "      <td>1</td>\n",
       "      <td>180.00</td>\n",
       "      <td>5.0</td>\n",
       "      <td>13</td>\n",
       "      <td>0</td>\n",
       "      <td>1</td>\n",
       "      <td>0</td>\n",
       "      <td>1</td>\n",
       "      <td>0</td>\n",
       "      <td>0</td>\n",
       "      <td>0</td>\n",
       "      <td>0</td>\n",
       "      <td>0</td>\n",
       "      <td>0</td>\n",
       "    </tr>\n",
       "    <tr>\n",
       "      <th>...</th>\n",
       "      <td>...</td>\n",
       "      <td>...</td>\n",
       "      <td>...</td>\n",
       "      <td>...</td>\n",
       "      <td>...</td>\n",
       "      <td>...</td>\n",
       "      <td>...</td>\n",
       "      <td>...</td>\n",
       "      <td>...</td>\n",
       "      <td>...</td>\n",
       "      <td>...</td>\n",
       "      <td>...</td>\n",
       "      <td>...</td>\n",
       "      <td>...</td>\n",
       "    </tr>\n",
       "    <tr>\n",
       "      <th>fffcf5a5ff07b0908bd4e2dbc735a684</th>\n",
       "      <td>1</td>\n",
       "      <td>1570.00</td>\n",
       "      <td>5.0</td>\n",
       "      <td>28</td>\n",
       "      <td>0</td>\n",
       "      <td>1</td>\n",
       "      <td>0</td>\n",
       "      <td>0</td>\n",
       "      <td>1</td>\n",
       "      <td>0</td>\n",
       "      <td>0</td>\n",
       "      <td>0</td>\n",
       "      <td>0</td>\n",
       "      <td>0</td>\n",
       "    </tr>\n",
       "    <tr>\n",
       "      <th>fffea47cd6d3cc0a88bd621562a9d061</th>\n",
       "      <td>1</td>\n",
       "      <td>64.89</td>\n",
       "      <td>4.0</td>\n",
       "      <td>30</td>\n",
       "      <td>0</td>\n",
       "      <td>1</td>\n",
       "      <td>0</td>\n",
       "      <td>0</td>\n",
       "      <td>0</td>\n",
       "      <td>0</td>\n",
       "      <td>0</td>\n",
       "      <td>1</td>\n",
       "      <td>0</td>\n",
       "      <td>0</td>\n",
       "    </tr>\n",
       "    <tr>\n",
       "      <th>ffff371b4d645b6ecea244b27531430a</th>\n",
       "      <td>1</td>\n",
       "      <td>89.90</td>\n",
       "      <td>5.0</td>\n",
       "      <td>15</td>\n",
       "      <td>0</td>\n",
       "      <td>1</td>\n",
       "      <td>0</td>\n",
       "      <td>1</td>\n",
       "      <td>0</td>\n",
       "      <td>0</td>\n",
       "      <td>0</td>\n",
       "      <td>0</td>\n",
       "      <td>0</td>\n",
       "      <td>0</td>\n",
       "    </tr>\n",
       "    <tr>\n",
       "      <th>ffff5962728ec6157033ef9805bacc48</th>\n",
       "      <td>1</td>\n",
       "      <td>115.00</td>\n",
       "      <td>5.0</td>\n",
       "      <td>12</td>\n",
       "      <td>0</td>\n",
       "      <td>1</td>\n",
       "      <td>0</td>\n",
       "      <td>0</td>\n",
       "      <td>0</td>\n",
       "      <td>0</td>\n",
       "      <td>0</td>\n",
       "      <td>0</td>\n",
       "      <td>0</td>\n",
       "      <td>1</td>\n",
       "    </tr>\n",
       "    <tr>\n",
       "      <th>ffffd2657e2aad2907e67c3e9daecbeb</th>\n",
       "      <td>1</td>\n",
       "      <td>56.99</td>\n",
       "      <td>5.0</td>\n",
       "      <td>7</td>\n",
       "      <td>0</td>\n",
       "      <td>1</td>\n",
       "      <td>0</td>\n",
       "      <td>0</td>\n",
       "      <td>1</td>\n",
       "      <td>0</td>\n",
       "      <td>0</td>\n",
       "      <td>0</td>\n",
       "      <td>0</td>\n",
       "      <td>0</td>\n",
       "    </tr>\n",
       "  </tbody>\n",
       "</table>\n",
       "<p>96096 rows × 14 columns</p>\n",
       "</div>"
      ],
      "text/plain": [
       "                                  nb_orders  sum_orders  average_review_score  \\\n",
       "customer_unique_id                                                              \n",
       "0000366f3b9a7992bf8c76cfdf3221e2          1      129.90                   5.0   \n",
       "0000b849f77a49e4a4ce2b2a4ca5be3f          1       18.90                   4.0   \n",
       "0000f46a3911fa3c0805444483337064          1       69.00                   3.0   \n",
       "0000f6ccb0745a6a4b88665a16c9f078          1       25.99                   4.0   \n",
       "0004aac84e0df4da2b147fca70cf8255          1      180.00                   5.0   \n",
       "...                                     ...         ...                   ...   \n",
       "fffcf5a5ff07b0908bd4e2dbc735a684          1     1570.00                   5.0   \n",
       "fffea47cd6d3cc0a88bd621562a9d061          1       64.89                   4.0   \n",
       "ffff371b4d645b6ecea244b27531430a          1       89.90                   5.0   \n",
       "ffff5962728ec6157033ef9805bacc48          1      115.00                   5.0   \n",
       "ffffd2657e2aad2907e67c3e9daecbeb          1       56.99                   5.0   \n",
       "\n",
       "                                  average_delivery_time  cash  credit_card  \\\n",
       "customer_unique_id                                                           \n",
       "0000366f3b9a7992bf8c76cfdf3221e2                      6     0            1   \n",
       "0000b849f77a49e4a4ce2b2a4ca5be3f                      3     0            1   \n",
       "0000f46a3911fa3c0805444483337064                     26     0            1   \n",
       "0000f6ccb0745a6a4b88665a16c9f078                     20     0            1   \n",
       "0004aac84e0df4da2b147fca70cf8255                     13     0            1   \n",
       "...                                                 ...   ...          ...   \n",
       "fffcf5a5ff07b0908bd4e2dbc735a684                     28     0            1   \n",
       "fffea47cd6d3cc0a88bd621562a9d061                     30     0            1   \n",
       "ffff371b4d645b6ecea244b27531430a                     15     0            1   \n",
       "ffff5962728ec6157033ef9805bacc48                     12     0            1   \n",
       "ffffd2657e2aad2907e67c3e9daecbeb                      7     0            1   \n",
       "\n",
       "                                  voucher  electronics_auto  \\\n",
       "customer_unique_id                                            \n",
       "0000366f3b9a7992bf8c76cfdf3221e2        0                 0   \n",
       "0000b849f77a49e4a4ce2b2a4ca5be3f        0                 0   \n",
       "0000f46a3911fa3c0805444483337064        0                 0   \n",
       "0000f6ccb0745a6a4b88665a16c9f078        0                 1   \n",
       "0004aac84e0df4da2b147fca70cf8255        0                 1   \n",
       "...                                   ...               ...   \n",
       "fffcf5a5ff07b0908bd4e2dbc735a684        0                 0   \n",
       "fffea47cd6d3cc0a88bd621562a9d061        0                 0   \n",
       "ffff371b4d645b6ecea244b27531430a        0                 1   \n",
       "ffff5962728ec6157033ef9805bacc48        0                 0   \n",
       "ffffd2657e2aad2907e67c3e9daecbeb        0                 0   \n",
       "\n",
       "                                  health_beauty_fashion  home  other  \\\n",
       "customer_unique_id                                                     \n",
       "0000366f3b9a7992bf8c76cfdf3221e2                      0     1      0   \n",
       "0000b849f77a49e4a4ce2b2a4ca5be3f                      1     0      0   \n",
       "0000f46a3911fa3c0805444483337064                      0     0      0   \n",
       "0000f6ccb0745a6a4b88665a16c9f078                      0     0      0   \n",
       "0004aac84e0df4da2b147fca70cf8255                      0     0      0   \n",
       "...                                                 ...   ...    ...   \n",
       "fffcf5a5ff07b0908bd4e2dbc735a684                      1     0      0   \n",
       "fffea47cd6d3cc0a88bd621562a9d061                      0     0      0   \n",
       "ffff371b4d645b6ecea244b27531430a                      0     0      0   \n",
       "ffff5962728ec6157033ef9805bacc48                      0     0      0   \n",
       "ffffd2657e2aad2907e67c3e9daecbeb                      1     0      0   \n",
       "\n",
       "                                  pet_baby  sports_leisure_culture  \\\n",
       "customer_unique_id                                                   \n",
       "0000366f3b9a7992bf8c76cfdf3221e2         0                       0   \n",
       "0000b849f77a49e4a4ce2b2a4ca5be3f         0                       0   \n",
       "0000f46a3911fa3c0805444483337064         0                       1   \n",
       "0000f6ccb0745a6a4b88665a16c9f078         0                       0   \n",
       "0004aac84e0df4da2b147fca70cf8255         0                       0   \n",
       "...                                    ...                     ...   \n",
       "fffcf5a5ff07b0908bd4e2dbc735a684         0                       0   \n",
       "fffea47cd6d3cc0a88bd621562a9d061         1                       0   \n",
       "ffff371b4d645b6ecea244b27531430a         0                       0   \n",
       "ffff5962728ec6157033ef9805bacc48         0                       0   \n",
       "ffffd2657e2aad2907e67c3e9daecbeb         0                       0   \n",
       "\n",
       "                                  watches_gifts_toys  \n",
       "customer_unique_id                                    \n",
       "0000366f3b9a7992bf8c76cfdf3221e2                   0  \n",
       "0000b849f77a49e4a4ce2b2a4ca5be3f                   0  \n",
       "0000f46a3911fa3c0805444483337064                   0  \n",
       "0000f6ccb0745a6a4b88665a16c9f078                   0  \n",
       "0004aac84e0df4da2b147fca70cf8255                   0  \n",
       "...                                              ...  \n",
       "fffcf5a5ff07b0908bd4e2dbc735a684                   0  \n",
       "fffea47cd6d3cc0a88bd621562a9d061                   0  \n",
       "ffff371b4d645b6ecea244b27531430a                   0  \n",
       "ffff5962728ec6157033ef9805bacc48                   1  \n",
       "ffffd2657e2aad2907e67c3e9daecbeb                   0  \n",
       "\n",
       "[96096 rows x 14 columns]"
      ]
     },
     "execution_count": 94,
     "metadata": {},
     "output_type": "execute_result"
    }
   ],
   "source": [
    "data"
   ]
  },
  {
   "cell_type": "markdown",
   "id": "5447cfaf",
   "metadata": {},
   "source": [
    "### Suppression des colonnes qui ne sont pas utiles pour la modélisation"
   ]
  },
  {
   "cell_type": "code",
   "execution_count": 95,
   "id": "8bf28765",
   "metadata": {},
   "outputs": [
    {
     "data": {
      "text/html": [
       "<div>\n",
       "<style scoped>\n",
       "    .dataframe tbody tr th:only-of-type {\n",
       "        vertical-align: middle;\n",
       "    }\n",
       "\n",
       "    .dataframe tbody tr th {\n",
       "        vertical-align: top;\n",
       "    }\n",
       "\n",
       "    .dataframe thead th {\n",
       "        text-align: right;\n",
       "    }\n",
       "</style>\n",
       "<table border=\"1\" class=\"dataframe\">\n",
       "  <thead>\n",
       "    <tr style=\"text-align: right;\">\n",
       "      <th></th>\n",
       "      <th>nb_orders</th>\n",
       "      <th>sum_orders</th>\n",
       "      <th>average_review_score</th>\n",
       "      <th>average_delivery_time</th>\n",
       "      <th>cash</th>\n",
       "      <th>credit_card</th>\n",
       "      <th>voucher</th>\n",
       "      <th>electronics_auto</th>\n",
       "      <th>health_beauty_fashion</th>\n",
       "      <th>home</th>\n",
       "      <th>other</th>\n",
       "      <th>pet_baby</th>\n",
       "      <th>sports_leisure_culture</th>\n",
       "      <th>watches_gifts_toys</th>\n",
       "    </tr>\n",
       "  </thead>\n",
       "  <tbody>\n",
       "    <tr>\n",
       "      <th>count</th>\n",
       "      <td>96096.000000</td>\n",
       "      <td>96096.000000</td>\n",
       "      <td>96096.000000</td>\n",
       "      <td>96096.000000</td>\n",
       "      <td>96096.000000</td>\n",
       "      <td>96096.000000</td>\n",
       "      <td>96096.000000</td>\n",
       "      <td>96096.000000</td>\n",
       "      <td>96096.000000</td>\n",
       "      <td>96096.000000</td>\n",
       "      <td>96096.000000</td>\n",
       "      <td>96096.000000</td>\n",
       "      <td>96096.000000</td>\n",
       "      <td>96096.000000</td>\n",
       "    </tr>\n",
       "    <tr>\n",
       "      <th>mean</th>\n",
       "      <td>1.034809</td>\n",
       "      <td>141.438184</td>\n",
       "      <td>4.069535</td>\n",
       "      <td>12.125052</td>\n",
       "      <td>0.198125</td>\n",
       "      <td>0.773757</td>\n",
       "      <td>0.028107</td>\n",
       "      <td>0.195502</td>\n",
       "      <td>0.153315</td>\n",
       "      <td>0.309399</td>\n",
       "      <td>0.032717</td>\n",
       "      <td>0.046974</td>\n",
       "      <td>0.120629</td>\n",
       "      <td>0.134428</td>\n",
       "    </tr>\n",
       "    <tr>\n",
       "      <th>std</th>\n",
       "      <td>0.214384</td>\n",
       "      <td>217.215904</td>\n",
       "      <td>1.353446</td>\n",
       "      <td>9.382702</td>\n",
       "      <td>0.398589</td>\n",
       "      <td>0.418400</td>\n",
       "      <td>0.165280</td>\n",
       "      <td>0.396589</td>\n",
       "      <td>0.360293</td>\n",
       "      <td>0.462248</td>\n",
       "      <td>0.177897</td>\n",
       "      <td>0.211584</td>\n",
       "      <td>0.325698</td>\n",
       "      <td>0.341113</td>\n",
       "    </tr>\n",
       "    <tr>\n",
       "      <th>min</th>\n",
       "      <td>1.000000</td>\n",
       "      <td>0.000000</td>\n",
       "      <td>1.000000</td>\n",
       "      <td>-7.000000</td>\n",
       "      <td>0.000000</td>\n",
       "      <td>0.000000</td>\n",
       "      <td>0.000000</td>\n",
       "      <td>0.000000</td>\n",
       "      <td>0.000000</td>\n",
       "      <td>0.000000</td>\n",
       "      <td>0.000000</td>\n",
       "      <td>0.000000</td>\n",
       "      <td>0.000000</td>\n",
       "      <td>0.000000</td>\n",
       "    </tr>\n",
       "    <tr>\n",
       "      <th>25%</th>\n",
       "      <td>1.000000</td>\n",
       "      <td>45.990000</td>\n",
       "      <td>4.000000</td>\n",
       "      <td>6.000000</td>\n",
       "      <td>0.000000</td>\n",
       "      <td>1.000000</td>\n",
       "      <td>0.000000</td>\n",
       "      <td>0.000000</td>\n",
       "      <td>0.000000</td>\n",
       "      <td>0.000000</td>\n",
       "      <td>0.000000</td>\n",
       "      <td>0.000000</td>\n",
       "      <td>0.000000</td>\n",
       "      <td>0.000000</td>\n",
       "    </tr>\n",
       "    <tr>\n",
       "      <th>50%</th>\n",
       "      <td>1.000000</td>\n",
       "      <td>89.000000</td>\n",
       "      <td>5.000000</td>\n",
       "      <td>10.000000</td>\n",
       "      <td>0.000000</td>\n",
       "      <td>1.000000</td>\n",
       "      <td>0.000000</td>\n",
       "      <td>0.000000</td>\n",
       "      <td>0.000000</td>\n",
       "      <td>0.000000</td>\n",
       "      <td>0.000000</td>\n",
       "      <td>0.000000</td>\n",
       "      <td>0.000000</td>\n",
       "      <td>0.000000</td>\n",
       "    </tr>\n",
       "    <tr>\n",
       "      <th>75%</th>\n",
       "      <td>1.000000</td>\n",
       "      <td>154.000000</td>\n",
       "      <td>5.000000</td>\n",
       "      <td>15.000000</td>\n",
       "      <td>0.000000</td>\n",
       "      <td>1.000000</td>\n",
       "      <td>0.000000</td>\n",
       "      <td>0.000000</td>\n",
       "      <td>0.000000</td>\n",
       "      <td>1.000000</td>\n",
       "      <td>0.000000</td>\n",
       "      <td>0.000000</td>\n",
       "      <td>0.000000</td>\n",
       "      <td>0.000000</td>\n",
       "    </tr>\n",
       "    <tr>\n",
       "      <th>max</th>\n",
       "      <td>17.000000</td>\n",
       "      <td>13440.000000</td>\n",
       "      <td>5.000000</td>\n",
       "      <td>209.000000</td>\n",
       "      <td>1.000000</td>\n",
       "      <td>1.000000</td>\n",
       "      <td>1.000000</td>\n",
       "      <td>1.000000</td>\n",
       "      <td>1.000000</td>\n",
       "      <td>1.000000</td>\n",
       "      <td>1.000000</td>\n",
       "      <td>1.000000</td>\n",
       "      <td>1.000000</td>\n",
       "      <td>1.000000</td>\n",
       "    </tr>\n",
       "  </tbody>\n",
       "</table>\n",
       "</div>"
      ],
      "text/plain": [
       "          nb_orders    sum_orders  average_review_score  \\\n",
       "count  96096.000000  96096.000000          96096.000000   \n",
       "mean       1.034809    141.438184              4.069535   \n",
       "std        0.214384    217.215904              1.353446   \n",
       "min        1.000000      0.000000              1.000000   \n",
       "25%        1.000000     45.990000              4.000000   \n",
       "50%        1.000000     89.000000              5.000000   \n",
       "75%        1.000000    154.000000              5.000000   \n",
       "max       17.000000  13440.000000              5.000000   \n",
       "\n",
       "       average_delivery_time          cash   credit_card       voucher  \\\n",
       "count           96096.000000  96096.000000  96096.000000  96096.000000   \n",
       "mean               12.125052      0.198125      0.773757      0.028107   \n",
       "std                 9.382702      0.398589      0.418400      0.165280   \n",
       "min                -7.000000      0.000000      0.000000      0.000000   \n",
       "25%                 6.000000      0.000000      1.000000      0.000000   \n",
       "50%                10.000000      0.000000      1.000000      0.000000   \n",
       "75%                15.000000      0.000000      1.000000      0.000000   \n",
       "max               209.000000      1.000000      1.000000      1.000000   \n",
       "\n",
       "       electronics_auto  health_beauty_fashion          home         other  \\\n",
       "count      96096.000000           96096.000000  96096.000000  96096.000000   \n",
       "mean           0.195502               0.153315      0.309399      0.032717   \n",
       "std            0.396589               0.360293      0.462248      0.177897   \n",
       "min            0.000000               0.000000      0.000000      0.000000   \n",
       "25%            0.000000               0.000000      0.000000      0.000000   \n",
       "50%            0.000000               0.000000      0.000000      0.000000   \n",
       "75%            0.000000               0.000000      1.000000      0.000000   \n",
       "max            1.000000               1.000000      1.000000      1.000000   \n",
       "\n",
       "           pet_baby  sports_leisure_culture  watches_gifts_toys  \n",
       "count  96096.000000            96096.000000        96096.000000  \n",
       "mean       0.046974                0.120629            0.134428  \n",
       "std        0.211584                0.325698            0.341113  \n",
       "min        0.000000                0.000000            0.000000  \n",
       "25%        0.000000                0.000000            0.000000  \n",
       "50%        0.000000                0.000000            0.000000  \n",
       "75%        0.000000                0.000000            0.000000  \n",
       "max        1.000000                1.000000            1.000000  "
      ]
     },
     "execution_count": 95,
     "metadata": {},
     "output_type": "execute_result"
    }
   ],
   "source": [
    "data.describe()"
   ]
  },
  {
   "cell_type": "code",
   "execution_count": 96,
   "id": "be340b9c",
   "metadata": {},
   "outputs": [],
   "source": [
    "data.to_csv('data/customer_data_v_4.csv')"
   ]
  },
  {
   "cell_type": "code",
   "execution_count": null,
   "id": "dd846498",
   "metadata": {},
   "outputs": [],
   "source": []
  },
  {
   "cell_type": "code",
   "execution_count": null,
   "id": "fb489bca",
   "metadata": {},
   "outputs": [],
   "source": []
  }
 ],
 "metadata": {
  "kernelspec": {
   "display_name": "OC_P05_env",
   "language": "python",
   "name": "oc_p05_env"
  },
  "language_info": {
   "codemirror_mode": {
    "name": "ipython",
    "version": 3
   },
   "file_extension": ".py",
   "mimetype": "text/x-python",
   "name": "python",
   "nbconvert_exporter": "python",
   "pygments_lexer": "ipython3",
   "version": "3.8.5"
  }
 },
 "nbformat": 4,
 "nbformat_minor": 5
}
