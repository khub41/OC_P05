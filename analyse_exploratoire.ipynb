{
 "cells": [
  {
   "cell_type": "markdown",
   "id": "dimensional-adelaide",
   "metadata": {},
   "source": [
    "<img src=\"img/Logo_OpenClassrooms.png\" width=100 />"
   ]
  },
  {
   "cell_type": "markdown",
   "id": "wicked-chocolate",
   "metadata": {},
   "source": [
    "# OpenClassrooms Projet 5: Segmentez des clients d'un site e-commerce\n",
    "# Analyse Exploratoire\n",
    "\n",
    "Olist souhaite que vous fournissiez à ses équipes d'e-commerce une segmentation des clients qu’elles pourront utiliser au quotidien pour leurs campagnes de communication.\n",
    "\n",
    "Votre objectif est de comprendre les différents types d’utilisateurs grâce à leur comportement et à leurs données personnelles.\n",
    "\n",
    "Vous devrez fournir à l’équipe marketing une description actionable de votre segmentation et de sa logique sous-jacente pour une utilisation optimale, ainsi qu’une proposition de contrat de maintenance basée sur une analyse de la stabilité des segments au cours du temps.\n",
    "\n",
    "### Les données\n",
    "Pour cette mission, Olist vous fournit une base de données anonymisée comportant des informations sur l’historique de commandes, les produits achetés, les commentaires de satisfaction, et la localisation des clients depuis janvier 2017.\n",
    "\n",
    "### Votre mission\n",
    "Votre mission est d’aider les équipes d’Olist à comprendre les différents types d'utilisateurs. Vous utiliserez donc des méthodes non supervisées pour regrouper ensemble des clients de profils similaires. Ces catégories pourront être utilisées par l’équipe marketing pour mieux communiquer.\n",
    "\n",
    "Pour des raisons de confidentialité, Olist ne fournit pas beaucoup de données, à vous de fouiller dans celles dont vous disposez et de créer les meilleures features pour les exploiter.\n",
    "\n",
    "Enfin, votre client, Olist, a spécifié sa demande ainsi :\n",
    "\n",
    "- La segmentation proposée doit être exploitable et facile d’utilisation pour l’équipe marketing.\n",
    "- Vous évaluerez la fréquence à laquelle la segmentation doit être mise à jour, afin de pouvoir effectuer un devis de contrat de maintenance.\n",
    "- Le code fourni doit respecter la convention PEP8, pour être utilisable par Olist.\n"
   ]
  },
  {
   "cell_type": "markdown",
   "id": "specified-production",
   "metadata": {},
   "source": [
    "# Sommaire\n",
    "### [Bibliothèques](#1_bibli)\n",
    "### [Fonctions](#1_funcs)\n",
    "### [Données](#1_donnees)\n",
    "### [Création de la base](#1_creation_base)\n",
    "### [Transformation pour Modélisation](#model)"
   ]
  },
  {
   "cell_type": "markdown",
   "id": "front-findings",
   "metadata": {},
   "source": [
    "<a id='1_bibli'></a>\n",
    "# Import de bibliothèques 📚"
   ]
  },
  {
   "cell_type": "code",
   "execution_count": 1,
   "id": "optimum-speaking",
   "metadata": {},
   "outputs": [],
   "source": [
    "import pandas as pd\n",
    "pd.set_option(\"mode.chained_assignment\", None)\n",
    "import numpy as np"
   ]
  },
  {
   "cell_type": "markdown",
   "id": "earlier-palace",
   "metadata": {},
   "source": [
    "<a id='1_funcs'></a>"
   ]
  },
  {
   "cell_type": "markdown",
   "id": "greenhouse-ambassador",
   "metadata": {},
   "source": [
    "# Fonctions ⚙️"
   ]
  },
  {
   "cell_type": "markdown",
   "id": "annual-black",
   "metadata": {},
   "source": [
    "<a id='get_orders'></a>"
   ]
  },
  {
   "cell_type": "code",
   "execution_count": 2,
   "id": "speaking-eating",
   "metadata": {},
   "outputs": [],
   "source": [
    "def get_orders(client_unique_id):\n",
    "    \"\"\" A partir d'un id client unique la fonction retourne la liste des commandes correspondantes,\n",
    "    La table des commandes doit au préalable être filtrée en fonction de la date virtuelle de l'étude\n",
    "    Args:\n",
    "        client_unique_id\n",
    "    \"\"\"\n",
    "    \n",
    "    # Avec l'id unique du client on récupère les id clients qui sont liés à chaque commande\n",
    "    ids_client = customers[customers['customer_unique_id'] == client_unique_id].customer_id.values\n",
    "    # On peut ensuite récupérer les id des commandes correspondant à ces ids clients\n",
    "    orders_client = orders[orders.customer_id.isin(ids_client)]\n",
    "    # On récupère juste les ids\n",
    "    ids_orders_client = orders_client.index.values\n",
    "    return ids_orders_client"
   ]
  },
  {
   "cell_type": "markdown",
   "id": "exterior-specialist",
   "metadata": {},
   "source": [
    "[Retour au code](#get_orders_back)"
   ]
  },
  {
   "cell_type": "markdown",
   "id": "sustained-wallace",
   "metadata": {},
   "source": [
    "<a id='get_nb_days'></a>"
   ]
  },
  {
   "cell_type": "code",
   "execution_count": 3,
   "id": "medium-oxford",
   "metadata": {},
   "outputs": [],
   "source": [
    "def get_nb_days(row, virtual_date, orders):\n",
    "    \"\"\"\n",
    "    Cette fonction calcule le nombre de jours écoulés depuis la première et la dernière \n",
    "    commande en prenant pour référence la date virtuelle de l'étude.\n",
    "    Args :\n",
    "        row: Pandas DataFrame row (Series) avec un attribut \"orders_ids\"\n",
    "        Timestamp \n",
    "        Pandas DataFrame : avec les données des commandes\n",
    "    Returns :\n",
    "        Tuple\n",
    "    \"\"\"\n",
    "    orders_ids = row.orders_ids\n",
    "    \n",
    "    date_first_order = orders.loc[orders_ids[0], 'order_purchase_timestamp']\n",
    "    date_last_order = orders.loc[orders_ids[-1], 'order_purchase_timestamp']\n",
    "    \n",
    "    since_first = (virtual_date - date_first_order).days\n",
    "    since_last = (virtual_date - date_last_order).days\n",
    "    return since_first, since_last"
   ]
  },
  {
   "cell_type": "markdown",
   "id": "significant-garlic",
   "metadata": {},
   "source": [
    "[Retour au code](#tps_last_order)"
   ]
  },
  {
   "cell_type": "markdown",
   "id": "utility-adventure",
   "metadata": {},
   "source": [
    "<a id='get_frequency'></a>"
   ]
  },
  {
   "cell_type": "code",
   "execution_count": 4,
   "id": "enclosed-simple",
   "metadata": {},
   "outputs": [],
   "source": [
    "def get_frequency(row):\n",
    "    \"\"\"\n",
    "    Calcul du nombre de commandes par mois entre la première commande\n",
    "    et la date virtuelle.\n",
    "    \"\"\"\n",
    "    return row.nb_orders / row.days_since_first_order * 365.25 / 12"
   ]
  },
  {
   "cell_type": "markdown",
   "id": "organic-conversation",
   "metadata": {},
   "source": [
    "[Retour au code](#frequence)"
   ]
  },
  {
   "cell_type": "markdown",
   "id": "eight-scenario",
   "metadata": {},
   "source": [
    "<a id='get_sum_orders'></a>"
   ]
  },
  {
   "cell_type": "code",
   "execution_count": 5,
   "id": "acceptable-spectacular",
   "metadata": {},
   "outputs": [],
   "source": [
    "def get_sum_orders(row):\n",
    "    \"\"\"\n",
    "    Calcule la somme des montants des commandes\n",
    "    \"\"\"\n",
    "    return order_items[order_items.index.isin(row.orders_ids)].price.sum()    "
   ]
  },
  {
   "cell_type": "markdown",
   "id": "narrative-vessel",
   "metadata": {},
   "source": [
    "[Retour au code](#montant)"
   ]
  },
  {
   "cell_type": "markdown",
   "id": "painful-museum",
   "metadata": {},
   "source": [
    "<a id='get_most_frequent_categ'></a>"
   ]
  },
  {
   "cell_type": "code",
   "execution_count": 6,
   "id": "known-klein",
   "metadata": {},
   "outputs": [],
   "source": [
    "def get_most_frequent_categ(row):\n",
    "    \"\"\"\n",
    "    Retourne la catégorie qui revient le plus souvent dans les achats. \n",
    "    En cas d'égalité on prend la première donnée par value_counts()\n",
    "    \"\"\"\n",
    "    \n",
    "    orders_ids = row.orders_ids\n",
    "\n",
    "    products_ids = order_items[order_items.index.isin(row.orders_ids)].product_id\n",
    "    products_client = products[products.index.isin(products_ids)]\n",
    "\n",
    "    try:\n",
    "        return products_client.product_category_name.value_counts().index[0]\n",
    "    except:\n",
    "        print('fail')\n",
    "        if len(products_client.product_category_name.value_counts().index) > 1:\n",
    "            return products_client.product_category_name.value_counts().index[1]\n",
    "        else :\n",
    "            return np.nan"
   ]
  },
  {
   "cell_type": "markdown",
   "id": "strange-locator",
   "metadata": {},
   "source": [
    "[Retour au code](#categorie)"
   ]
  },
  {
   "cell_type": "markdown",
   "id": "palestinian-orleans",
   "metadata": {},
   "source": [
    "<a id='get_nb_reviews_and_avg'></a>"
   ]
  },
  {
   "cell_type": "code",
   "execution_count": 7,
   "id": "bigger-corps",
   "metadata": {},
   "outputs": [],
   "source": [
    "def get_nb_reviews_and_avg(row):\n",
    "    \"\"\"\n",
    "    Recupère le nombre de reviews et la note moyenne\n",
    "    \"\"\"\n",
    "    orders_ids = row.orders_ids\n",
    "    client_reviews = reviews[reviews.order_id.isin(orders_ids)]\n",
    "    if len(client_reviews) > 0:\n",
    "        return len(client_reviews), client_reviews.review_score.mean()\n",
    "    else:\n",
    "        return 0, np.nan"
   ]
  },
  {
   "cell_type": "markdown",
   "id": "dressed-noise",
   "metadata": {},
   "source": [
    "[Retour au code](#reviews)"
   ]
  },
  {
   "cell_type": "markdown",
   "id": "sapphire-commission",
   "metadata": {},
   "source": [
    "<a id='get_favourite_payment_method'></a>"
   ]
  },
  {
   "cell_type": "code",
   "execution_count": 8,
   "id": "least-drove",
   "metadata": {},
   "outputs": [],
   "source": [
    "def get_favourite_payment_method(row):\n",
    "    \"\"\"\n",
    "    Retourne le type de paiement préféré du client\n",
    "    \"\"\"\n",
    "    orders_ids = row.orders_ids\n",
    "    payment_methods = payments[payments.order_id.isin(orders_ids)].payment_type.value_counts()\n",
    "    return payment_methods.index[0]"
   ]
  },
  {
   "cell_type": "markdown",
   "id": "specialized-place",
   "metadata": {},
   "source": [
    "[Retour au code](#mode_paiement_prefere)"
   ]
  },
  {
   "cell_type": "markdown",
   "id": "blank-attack",
   "metadata": {},
   "source": [
    "<a id='get_delivery_time_and_delays'></a>"
   ]
  },
  {
   "cell_type": "code",
   "execution_count": 9,
   "id": "adapted-charter",
   "metadata": {},
   "outputs": [],
   "source": [
    "def get_delivery_time_and_delays(row):\n",
    "    \"\"\"\n",
    "    Pour les clients ayant eu des commandes ayant abouties, on calcule le taux d'avance, de retard et le temps moyen de livraison\n",
    "    \"\"\"\n",
    "    client_orders = orders[orders.index.isin(row.orders_ids)]\n",
    "    client_orders = client_orders[client_orders.order_status == 'delivered']\n",
    "    \n",
    "    if client_orders.shape[0] > 0:\n",
    "        was_delayed_counts = client_orders.was_delayed.value_counts(normalize=True)\n",
    "        if True in was_delayed_counts.index:\n",
    "            delay_rate = was_delayed_counts.loc[True]\n",
    "        else:\n",
    "            delay_rate = 0\n",
    "        was_in_advance_counts = client_orders.was_in_advance.value_counts(normalize=True)\n",
    "        if True in was_in_advance_counts.index:\n",
    "            advance_rate = was_in_advance_counts.loc[True]\n",
    "        else:\n",
    "            advance_rate = 0\n",
    "        return client_orders.delivery_time.mean(), delay_rate, advance_rate\n",
    "    else:\n",
    "        np.nan, np.nan, np.nan"
   ]
  },
  {
   "cell_type": "markdown",
   "id": "automatic-pointer",
   "metadata": {},
   "source": [
    "[Retour au code](#tps_livraison)"
   ]
  },
  {
   "cell_type": "markdown",
   "id": "missing-permission",
   "metadata": {},
   "source": [
    "<a id='get_cancelation_rate'></a>"
   ]
  },
  {
   "cell_type": "code",
   "execution_count": 10,
   "id": "analyzed-gross",
   "metadata": {},
   "outputs": [],
   "source": [
    "def get_cancelation_rate(row):\n",
    "    client_orders = orders[orders.index.isin(row.orders_ids)]\n",
    "    status_counts = client_orders.order_status.value_counts(normalize=True)\n",
    "    if 'canceled' in status_counts.index:\n",
    "        return status_counts.loc['canceled']\n",
    "    else:\n",
    "        return 0"
   ]
  },
  {
   "cell_type": "markdown",
   "id": "african-mobile",
   "metadata": {},
   "source": [
    "[Retour au code](#annulation)"
   ]
  },
  {
   "cell_type": "markdown",
   "id": "commercial-antibody",
   "metadata": {},
   "source": [
    "<a id='1_donnees'></a>"
   ]
  },
  {
   "cell_type": "markdown",
   "id": "communist-canvas",
   "metadata": {},
   "source": [
    "# Données 🎁"
   ]
  },
  {
   "cell_type": "markdown",
   "id": "square-attempt",
   "metadata": {},
   "source": [
    "<img src=\"img/structure.png\" width=500 />"
   ]
  },
  {
   "cell_type": "code",
   "execution_count": 11,
   "id": "comic-replacement",
   "metadata": {},
   "outputs": [],
   "source": [
    "orders = pd.read_csv('data/olist_orders_dataset.csv', index_col='order_id',parse_dates=['order_purchase_timestamp', \n",
    "                                                                                        'order_approved_at',\t\n",
    "                                                                                        'order_delivered_carrier_date',\t\n",
    "                                                                                        'order_delivered_customer_date',\n",
    "                                                                                        'order_estimated_delivery_date'])\n",
    "order_items = pd.read_csv('data/olist_order_items_dataset.csv',  index_col='order_id')\n",
    "products = pd.read_csv('data/olist_products_dataset.csv', index_col='product_id', na_values=np.nan)\n",
    "customers = pd.read_csv('data/olist_customers_dataset.csv')\n",
    "reviews = pd.read_csv('data/olist_order_reviews_dataset.csv')\n",
    "geolocs = pd.read_csv('data/olist_geolocation_dataset.csv')\n",
    "payments = pd.read_csv('data/olist_order_payments_dataset.csv')\n",
    "products_categ_traduction = pd.read_csv('data/product_category_name_translation.csv')"
   ]
  },
  {
   "cell_type": "markdown",
   "id": "color-check",
   "metadata": {},
   "source": [
    "Application de la traduction des catégories de produits:"
   ]
  },
  {
   "cell_type": "code",
   "execution_count": 12,
   "id": "quick-speaker",
   "metadata": {},
   "outputs": [],
   "source": [
    "products = products.merge(products_categ_traduction, how='left').set_axis(products.index)"
   ]
  },
  {
   "cell_type": "code",
   "execution_count": 13,
   "id": "looking-cowboy",
   "metadata": {},
   "outputs": [
    {
     "data": {
      "text/plain": [
       "False"
      ]
     },
     "execution_count": 13,
     "metadata": {},
     "output_type": "execute_result"
    }
   ],
   "source": [
    "products_categ_traduction.shape[0] == len(products.product_category_name.unique())"
   ]
  },
  {
   "cell_type": "markdown",
   "id": "ruled-centre",
   "metadata": {},
   "source": [
    "On ne peut pas vraiment utiliser la table de traduction car elle génère des NaN en anglais"
   ]
  },
  {
   "cell_type": "markdown",
   "id": "limited-corpus",
   "metadata": {},
   "source": [
    "<a id='1_creation_base'></a>"
   ]
  },
  {
   "cell_type": "markdown",
   "id": "satisfactory-allowance",
   "metadata": {},
   "source": [
    "# Création d'une base répondant au besoin ✅\n",
    "La base doit avoir pour index les ids des clients avec des variables en relation avec son comportement.\n",
    "\n",
    "Variables retenues:\n",
    "- [Nombre de commandes](#nb_commandes)\n",
    "- [Temps depuis la première et la dernière commande](#tps_last_order)\n",
    "- [Fréquence achats](#frequence)\n",
    "- [Montants dépensés](#montant)\n",
    "- [Catégorie de produit la plus fréquente](#categorie)\n",
    "- [Nombre d'avis postés et note moyenne](#reviews)\n",
    "- [Mode de paiement préféré](#mode_paiement_prefere)\n",
    "- [Temps de livraison et retards](#tps_livraison)\n",
    "- [Taux d'annulation des commandes](#annulation)\n",
    "\n",
    "### Important:\n",
    "Pour le bon fonctionnement du projet, les fonctions développées pour la constitution de la base prendront en paramètre la date à laquelle on veut se fixer virtuellement. En effet on cherchera plus tard dans ce projet à déterminer la fréquence de mise à jour de la base d'entrainement du modèle.\n",
    "On prendra toujours dans ce notebook la dernière date de la base de donnée."
   ]
  },
  {
   "cell_type": "code",
   "execution_count": 14,
   "id": "hundred-charity",
   "metadata": {},
   "outputs": [],
   "source": [
    "virtual_date = orders.order_purchase_timestamp.max()"
   ]
  },
  {
   "cell_type": "code",
   "execution_count": 15,
   "id": "renewable-english",
   "metadata": {},
   "outputs": [
    {
     "data": {
      "text/plain": [
       "Timestamp('2018-10-17 17:30:18')"
      ]
     },
     "execution_count": 15,
     "metadata": {},
     "output_type": "execute_result"
    }
   ],
   "source": [
    "orders.order_purchase_timestamp.max()"
   ]
  },
  {
   "cell_type": "markdown",
   "id": "reported-serum",
   "metadata": {},
   "source": [
    "<a id='nb_commandes'></a>"
   ]
  },
  {
   "cell_type": "markdown",
   "id": "naval-broadway",
   "metadata": {},
   "source": [
    "## Nombre de commandes par client 🥰"
   ]
  },
  {
   "cell_type": "markdown",
   "id": "encouraging-bibliography",
   "metadata": {},
   "source": [
    "Cette variable est la plus importante car va nous permettre de connaitre la taille de notre dataset. En effet, difficile de classer des clients n'ayant fait qu'une commande"
   ]
  },
  {
   "cell_type": "markdown",
   "id": "unnecessary-identification",
   "metadata": {},
   "source": [
    "Regardons comment fonctionnent les id des clients"
   ]
  },
  {
   "cell_type": "code",
   "execution_count": 16,
   "id": "rising-street",
   "metadata": {},
   "outputs": [
    {
     "data": {
      "text/html": [
       "<div>\n",
       "<style scoped>\n",
       "    .dataframe tbody tr th:only-of-type {\n",
       "        vertical-align: middle;\n",
       "    }\n",
       "\n",
       "    .dataframe tbody tr th {\n",
       "        vertical-align: top;\n",
       "    }\n",
       "\n",
       "    .dataframe thead th {\n",
       "        text-align: right;\n",
       "    }\n",
       "</style>\n",
       "<table border=\"1\" class=\"dataframe\">\n",
       "  <thead>\n",
       "    <tr style=\"text-align: right;\">\n",
       "      <th></th>\n",
       "      <th>customer_id</th>\n",
       "      <th>customer_unique_id</th>\n",
       "      <th>customer_zip_code_prefix</th>\n",
       "      <th>customer_city</th>\n",
       "      <th>customer_state</th>\n",
       "    </tr>\n",
       "  </thead>\n",
       "  <tbody>\n",
       "    <tr>\n",
       "      <th>0</th>\n",
       "      <td>06b8999e2fba1a1fbc88172c00ba8bc7</td>\n",
       "      <td>861eff4711a542e4b93843c6dd7febb0</td>\n",
       "      <td>14409</td>\n",
       "      <td>franca</td>\n",
       "      <td>SP</td>\n",
       "    </tr>\n",
       "    <tr>\n",
       "      <th>1</th>\n",
       "      <td>18955e83d337fd6b2def6b18a428ac77</td>\n",
       "      <td>290c77bc529b7ac935b93aa66c333dc3</td>\n",
       "      <td>9790</td>\n",
       "      <td>sao bernardo do campo</td>\n",
       "      <td>SP</td>\n",
       "    </tr>\n",
       "    <tr>\n",
       "      <th>2</th>\n",
       "      <td>4e7b3e00288586ebd08712fdd0374a03</td>\n",
       "      <td>060e732b5b29e8181a18229c7b0b2b5e</td>\n",
       "      <td>1151</td>\n",
       "      <td>sao paulo</td>\n",
       "      <td>SP</td>\n",
       "    </tr>\n",
       "    <tr>\n",
       "      <th>3</th>\n",
       "      <td>b2b6027bc5c5109e529d4dc6358b12c3</td>\n",
       "      <td>259dac757896d24d7702b9acbbff3f3c</td>\n",
       "      <td>8775</td>\n",
       "      <td>mogi das cruzes</td>\n",
       "      <td>SP</td>\n",
       "    </tr>\n",
       "    <tr>\n",
       "      <th>4</th>\n",
       "      <td>4f2d8ab171c80ec8364f7c12e35b23ad</td>\n",
       "      <td>345ecd01c38d18a9036ed96c73b8d066</td>\n",
       "      <td>13056</td>\n",
       "      <td>campinas</td>\n",
       "      <td>SP</td>\n",
       "    </tr>\n",
       "  </tbody>\n",
       "</table>\n",
       "</div>"
      ],
      "text/plain": [
       "                        customer_id                customer_unique_id  \\\n",
       "0  06b8999e2fba1a1fbc88172c00ba8bc7  861eff4711a542e4b93843c6dd7febb0   \n",
       "1  18955e83d337fd6b2def6b18a428ac77  290c77bc529b7ac935b93aa66c333dc3   \n",
       "2  4e7b3e00288586ebd08712fdd0374a03  060e732b5b29e8181a18229c7b0b2b5e   \n",
       "3  b2b6027bc5c5109e529d4dc6358b12c3  259dac757896d24d7702b9acbbff3f3c   \n",
       "4  4f2d8ab171c80ec8364f7c12e35b23ad  345ecd01c38d18a9036ed96c73b8d066   \n",
       "\n",
       "   customer_zip_code_prefix          customer_city customer_state  \n",
       "0                     14409                 franca             SP  \n",
       "1                      9790  sao bernardo do campo             SP  \n",
       "2                      1151              sao paulo             SP  \n",
       "3                      8775        mogi das cruzes             SP  \n",
       "4                     13056               campinas             SP  "
      ]
     },
     "execution_count": 16,
     "metadata": {},
     "output_type": "execute_result"
    }
   ],
   "source": [
    "customers.head()"
   ]
  },
  {
   "cell_type": "code",
   "execution_count": 17,
   "id": "touched-patch",
   "metadata": {},
   "outputs": [
    {
     "data": {
      "text/plain": [
       "96096"
      ]
     },
     "execution_count": 17,
     "metadata": {},
     "output_type": "execute_result"
    }
   ],
   "source": [
    "len(customers.customer_unique_id.unique())"
   ]
  },
  {
   "cell_type": "code",
   "execution_count": 18,
   "id": "informational-patent",
   "metadata": {},
   "outputs": [
    {
     "data": {
      "text/plain": [
       "99441"
      ]
     },
     "execution_count": 18,
     "metadata": {},
     "output_type": "execute_result"
    }
   ],
   "source": [
    "len(customers.customer_id.unique())"
   ]
  },
  {
   "cell_type": "code",
   "execution_count": 19,
   "id": "heard-diagnosis",
   "metadata": {},
   "outputs": [
    {
     "data": {
      "text/plain": [
       "Index(['customer_id', 'order_status', 'order_purchase_timestamp',\n",
       "       'order_approved_at', 'order_delivered_carrier_date',\n",
       "       'order_delivered_customer_date', 'order_estimated_delivery_date'],\n",
       "      dtype='object')"
      ]
     },
     "execution_count": 19,
     "metadata": {},
     "output_type": "execute_result"
    }
   ],
   "source": [
    "orders.columns"
   ]
  },
  {
   "cell_type": "markdown",
   "id": "resident-privilege",
   "metadata": {},
   "source": [
    "On filtre ici la date virtuelle pour garder un trace mais cette commande est neutre"
   ]
  },
  {
   "cell_type": "code",
   "execution_count": 20,
   "id": "fancy-melbourne",
   "metadata": {},
   "outputs": [],
   "source": [
    "orders = orders[orders.order_purchase_timestamp <= virtual_date]"
   ]
  },
  {
   "cell_type": "code",
   "execution_count": 21,
   "id": "south-examination",
   "metadata": {},
   "outputs": [],
   "source": [
    "orders = orders.merge(customers[['customer_id', 'customer_unique_id']], how='left').set_axis(orders.index)"
   ]
  },
  {
   "cell_type": "markdown",
   "id": "active-rough",
   "metadata": {},
   "source": [
    "On trie par date pour conserver un ordre des commandes logique"
   ]
  },
  {
   "cell_type": "code",
   "execution_count": 22,
   "id": "backed-cancellation",
   "metadata": {},
   "outputs": [],
   "source": [
    "orders.sort_values('order_purchase_timestamp', inplace=True)"
   ]
  },
  {
   "cell_type": "code",
   "execution_count": 23,
   "id": "forbidden-bargain",
   "metadata": {},
   "outputs": [
    {
     "data": {
      "text/plain": [
       "False    93099\n",
       "True      2997\n",
       "Name: customer_id, dtype: int64"
      ]
     },
     "execution_count": 23,
     "metadata": {},
     "output_type": "execute_result"
    }
   ],
   "source": [
    "(orders.groupby('customer_unique_id').count().customer_id > 1).value_counts()"
   ]
  },
  {
   "cell_type": "markdown",
   "id": "behind-halifax",
   "metadata": {},
   "source": [
    "### Il n'y a dans la base clients que 2997 clients ayant fait plus d'un commande"
   ]
  },
  {
   "cell_type": "code",
   "execution_count": 24,
   "id": "special-banks",
   "metadata": {},
   "outputs": [],
   "source": [
    "data = pd.DataFrame(orders.groupby('customer_unique_id').count().customer_id)"
   ]
  },
  {
   "cell_type": "code",
   "execution_count": 25,
   "id": "wireless-death",
   "metadata": {},
   "outputs": [],
   "source": [
    "data.columns = ['nb_orders']"
   ]
  },
  {
   "cell_type": "markdown",
   "id": "threaded-strengthening",
   "metadata": {},
   "source": [
    "Nous avons besoin de clients ayant plus d'une commande pour commencer à comprendre leur comportement. Cela réduit considérablement la taille de la base"
   ]
  },
  {
   "cell_type": "code",
   "execution_count": 26,
   "id": "juvenile-foster",
   "metadata": {},
   "outputs": [],
   "source": [
    "data = data[data.nb_orders > 1]"
   ]
  },
  {
   "cell_type": "markdown",
   "id": "respected-cedar",
   "metadata": {},
   "source": [
    "<a id='get_orders_back'></a>\n",
    "### Pour les autres variables nous avons besoin des ids des commandes correspondant à chaque client"
   ]
  },
  {
   "cell_type": "markdown",
   "id": "starting-pound",
   "metadata": {},
   "source": [
    "Voir la [fonction](#get_orders)"
   ]
  },
  {
   "cell_type": "code",
   "execution_count": 27,
   "id": "handmade-canadian",
   "metadata": {},
   "outputs": [
    {
     "data": {
      "text/plain": [
       "\" A partir d'un id client unique la fonction retourne la liste des commandes correspondantes,\\n    La table des commandes doit au préalable être filtrée en fonction de la date virtuelle de l'étude\\n    Args:\\n        client_unique_id\\n    \""
      ]
     },
     "execution_count": 27,
     "metadata": {},
     "output_type": "execute_result"
    }
   ],
   "source": [
    "get_orders.__doc__"
   ]
  },
  {
   "cell_type": "code",
   "execution_count": 28,
   "id": "genuine-acoustic",
   "metadata": {},
   "outputs": [],
   "source": [
    "data['orders_ids'] = data.index.map(get_orders)"
   ]
  },
  {
   "cell_type": "code",
   "execution_count": 29,
   "id": "about-female",
   "metadata": {},
   "outputs": [
    {
     "data": {
      "text/html": [
       "<div>\n",
       "<style scoped>\n",
       "    .dataframe tbody tr th:only-of-type {\n",
       "        vertical-align: middle;\n",
       "    }\n",
       "\n",
       "    .dataframe tbody tr th {\n",
       "        vertical-align: top;\n",
       "    }\n",
       "\n",
       "    .dataframe thead th {\n",
       "        text-align: right;\n",
       "    }\n",
       "</style>\n",
       "<table border=\"1\" class=\"dataframe\">\n",
       "  <thead>\n",
       "    <tr style=\"text-align: right;\">\n",
       "      <th></th>\n",
       "      <th>nb_orders</th>\n",
       "      <th>orders_ids</th>\n",
       "    </tr>\n",
       "    <tr>\n",
       "      <th>customer_unique_id</th>\n",
       "      <th></th>\n",
       "      <th></th>\n",
       "    </tr>\n",
       "  </thead>\n",
       "  <tbody>\n",
       "    <tr>\n",
       "      <th>00172711b30d52eea8b313a7f2cced02</th>\n",
       "      <td>2</td>\n",
       "      <td>[bb874c45df1a3c97842d52f31efee99a, c306eca42d3...</td>\n",
       "    </tr>\n",
       "    <tr>\n",
       "      <th>004288347e5e88a27ded2bb23747066c</th>\n",
       "      <td>2</td>\n",
       "      <td>[a61d617fbe5bd006e40d3a0988fc844b, 08204559beb...</td>\n",
       "    </tr>\n",
       "    <tr>\n",
       "      <th>004b45ec5c64187465168251cd1c9c2f</th>\n",
       "      <td>2</td>\n",
       "      <td>[90ae229a4addcfead792e2564554f09c, 9392c5e7288...</td>\n",
       "    </tr>\n",
       "    <tr>\n",
       "      <th>0058f300f57d7b93c477a131a59b36c3</th>\n",
       "      <td>2</td>\n",
       "      <td>[2cfc79d9582e9135c0a9b61fa60e6b21, 81a93b2fa39...</td>\n",
       "    </tr>\n",
       "    <tr>\n",
       "      <th>00a39521eb40f7012db50455bf083460</th>\n",
       "      <td>2</td>\n",
       "      <td>[7d32c87acba91ed87ebd98310fe1c54d, cea3e6c11eb...</td>\n",
       "    </tr>\n",
       "  </tbody>\n",
       "</table>\n",
       "</div>"
      ],
      "text/plain": [
       "                                  nb_orders  \\\n",
       "customer_unique_id                            \n",
       "00172711b30d52eea8b313a7f2cced02          2   \n",
       "004288347e5e88a27ded2bb23747066c          2   \n",
       "004b45ec5c64187465168251cd1c9c2f          2   \n",
       "0058f300f57d7b93c477a131a59b36c3          2   \n",
       "00a39521eb40f7012db50455bf083460          2   \n",
       "\n",
       "                                                                         orders_ids  \n",
       "customer_unique_id                                                                   \n",
       "00172711b30d52eea8b313a7f2cced02  [bb874c45df1a3c97842d52f31efee99a, c306eca42d3...  \n",
       "004288347e5e88a27ded2bb23747066c  [a61d617fbe5bd006e40d3a0988fc844b, 08204559beb...  \n",
       "004b45ec5c64187465168251cd1c9c2f  [90ae229a4addcfead792e2564554f09c, 9392c5e7288...  \n",
       "0058f300f57d7b93c477a131a59b36c3  [2cfc79d9582e9135c0a9b61fa60e6b21, 81a93b2fa39...  \n",
       "00a39521eb40f7012db50455bf083460  [7d32c87acba91ed87ebd98310fe1c54d, cea3e6c11eb...  "
      ]
     },
     "execution_count": 29,
     "metadata": {},
     "output_type": "execute_result"
    }
   ],
   "source": [
    "data.head()"
   ]
  },
  {
   "cell_type": "markdown",
   "id": "dirty-sheriff",
   "metadata": {},
   "source": [
    "<a id='tps_last_order'></a>\n",
    "## Temps depuis la première et la dernière commande ⏲️\n",
    "Pour représenter l'ancienneté du client et la fraicheur du client. On aura besoin ici de la date virtuelle"
   ]
  },
  {
   "cell_type": "markdown",
   "id": "overall-formula",
   "metadata": {},
   "source": [
    "Voir la [fonction](#get_nb_days)"
   ]
  },
  {
   "cell_type": "code",
   "execution_count": 30,
   "id": "private-monitor",
   "metadata": {},
   "outputs": [],
   "source": [
    "data[['days_since_first_order', 'days_since_last_order']] = data.apply(get_nb_days, virtual_date=virtual_date, \n",
    "                                                                       orders=orders, axis=1, result_type='expand')"
   ]
  },
  {
   "cell_type": "code",
   "execution_count": 31,
   "id": "global-spare",
   "metadata": {},
   "outputs": [
    {
     "data": {
      "text/html": [
       "<div>\n",
       "<style scoped>\n",
       "    .dataframe tbody tr th:only-of-type {\n",
       "        vertical-align: middle;\n",
       "    }\n",
       "\n",
       "    .dataframe tbody tr th {\n",
       "        vertical-align: top;\n",
       "    }\n",
       "\n",
       "    .dataframe thead th {\n",
       "        text-align: right;\n",
       "    }\n",
       "</style>\n",
       "<table border=\"1\" class=\"dataframe\">\n",
       "  <thead>\n",
       "    <tr style=\"text-align: right;\">\n",
       "      <th></th>\n",
       "      <th>days_since_first_order</th>\n",
       "      <th>days_since_last_order</th>\n",
       "    </tr>\n",
       "  </thead>\n",
       "  <tbody>\n",
       "    <tr>\n",
       "      <th>count</th>\n",
       "      <td>2997.000000</td>\n",
       "      <td>2997.000000</td>\n",
       "    </tr>\n",
       "    <tr>\n",
       "      <th>mean</th>\n",
       "      <td>355.512846</td>\n",
       "      <td>268.206874</td>\n",
       "    </tr>\n",
       "    <tr>\n",
       "      <th>std</th>\n",
       "      <td>148.227400</td>\n",
       "      <td>145.352456</td>\n",
       "    </tr>\n",
       "    <tr>\n",
       "      <th>min</th>\n",
       "      <td>49.000000</td>\n",
       "      <td>0.000000</td>\n",
       "    </tr>\n",
       "    <tr>\n",
       "      <th>25%</th>\n",
       "      <td>239.000000</td>\n",
       "      <td>152.000000</td>\n",
       "    </tr>\n",
       "    <tr>\n",
       "      <th>50%</th>\n",
       "      <td>350.000000</td>\n",
       "      <td>248.000000</td>\n",
       "    </tr>\n",
       "    <tr>\n",
       "      <th>75%</th>\n",
       "      <td>474.000000</td>\n",
       "      <td>366.000000</td>\n",
       "    </tr>\n",
       "    <tr>\n",
       "      <th>max</th>\n",
       "      <td>744.000000</td>\n",
       "      <td>740.000000</td>\n",
       "    </tr>\n",
       "  </tbody>\n",
       "</table>\n",
       "</div>"
      ],
      "text/plain": [
       "       days_since_first_order  days_since_last_order\n",
       "count             2997.000000            2997.000000\n",
       "mean               355.512846             268.206874\n",
       "std                148.227400             145.352456\n",
       "min                 49.000000               0.000000\n",
       "25%                239.000000             152.000000\n",
       "50%                350.000000             248.000000\n",
       "75%                474.000000             366.000000\n",
       "max                744.000000             740.000000"
      ]
     },
     "execution_count": 31,
     "metadata": {},
     "output_type": "execute_result"
    }
   ],
   "source": [
    "data[['days_since_first_order', 'days_since_last_order']].describe()"
   ]
  },
  {
   "cell_type": "markdown",
   "id": "included-memorial",
   "metadata": {},
   "source": [
    "<a id='frequence'></a>\n",
    "## Fréquence des commandes\n",
    "Pour représenter la régularité du client. On se basera aussi sur la date virtuelle"
   ]
  },
  {
   "cell_type": "markdown",
   "id": "departmental-length",
   "metadata": {},
   "source": [
    "Voir la [fonction](#get_frequency)\n",
    "\n",
    "La fréquence est exprimée par mois"
   ]
  },
  {
   "cell_type": "code",
   "execution_count": 32,
   "id": "israeli-yahoo",
   "metadata": {},
   "outputs": [],
   "source": [
    "data['frequency'] = data.apply(get_frequency, axis=1)"
   ]
  },
  {
   "cell_type": "code",
   "execution_count": 33,
   "id": "viral-outside",
   "metadata": {},
   "outputs": [
    {
     "data": {
      "text/plain": [
       "count    2997.000000\n",
       "mean        0.234270\n",
       "std         0.167588\n",
       "min         0.081931\n",
       "25%         0.133206\n",
       "50%         0.183912\n",
       "75%         0.262392\n",
       "max         1.863520\n",
       "Name: frequency, dtype: float64"
      ]
     },
     "execution_count": 33,
     "metadata": {},
     "output_type": "execute_result"
    }
   ],
   "source": [
    "data['frequency'].describe()"
   ]
  },
  {
   "cell_type": "markdown",
   "id": "south-grammar",
   "metadata": {},
   "source": [
    "<a id='montant'></a>\n",
    "## Montant total des achats 💰"
   ]
  },
  {
   "cell_type": "markdown",
   "id": "assigned-apollo",
   "metadata": {},
   "source": [
    "Voir la [fonction](#get_sum_orders)"
   ]
  },
  {
   "cell_type": "code",
   "execution_count": 34,
   "id": "consolidated-marijuana",
   "metadata": {},
   "outputs": [],
   "source": [
    "data['sum_orders'] = data.apply(get_sum_orders, axis=1)"
   ]
  },
  {
   "cell_type": "code",
   "execution_count": 35,
   "id": "royal-truck",
   "metadata": {},
   "outputs": [
    {
     "data": {
      "text/plain": [
       "count    2997.000000\n",
       "mean      259.867191\n",
       "std       308.511754\n",
       "min         0.000000\n",
       "25%       109.900000\n",
       "50%       179.890000\n",
       "75%       303.160000\n",
       "max      7388.000000\n",
       "Name: sum_orders, dtype: float64"
      ]
     },
     "execution_count": 35,
     "metadata": {},
     "output_type": "execute_result"
    }
   ],
   "source": [
    "data['sum_orders'].describe()"
   ]
  },
  {
   "cell_type": "markdown",
   "id": "elegant-camping",
   "metadata": {},
   "source": [
    "<a id='categorie'></a>\n",
    "## Catégogie la plus fréquente 🗂️\n",
    "On essaie ici de détecter le type de produit intéressant le plus le client en prenant la catégoie qu'il a le plus acheté\n",
    "\n",
    "Voir la [fonction](#get_most_frequent_categ)"
   ]
  },
  {
   "cell_type": "code",
   "execution_count": 36,
   "id": "coordinated-finding",
   "metadata": {},
   "outputs": [
    {
     "data": {
      "text/plain": [
       "Index(['product_category_name', 'product_name_lenght',\n",
       "       'product_description_lenght', 'product_photos_qty', 'product_weight_g',\n",
       "       'product_length_cm', 'product_height_cm', 'product_width_cm',\n",
       "       'product_category_name_english'],\n",
       "      dtype='object')"
      ]
     },
     "execution_count": 36,
     "metadata": {},
     "output_type": "execute_result"
    }
   ],
   "source": [
    "products.columns"
   ]
  },
  {
   "cell_type": "code",
   "execution_count": 37,
   "id": "adverse-forestry",
   "metadata": {},
   "outputs": [
    {
     "data": {
      "text/plain": [
       "False"
      ]
     },
     "execution_count": 37,
     "metadata": {},
     "output_type": "execute_result"
    }
   ],
   "source": [
    "len(products.product_category_name_english.unique()) == len(products.product_category_name.unique())"
   ]
  },
  {
   "cell_type": "code",
   "execution_count": 38,
   "id": "burning-teach",
   "metadata": {},
   "outputs": [
    {
     "data": {
      "text/plain": [
       "customer_unique_id\n",
       "a4e8a2fb3d4d783c8eec5bf1ea80d3c6    artes\n",
       "dtype: object"
      ]
     },
     "execution_count": 38,
     "metadata": {},
     "output_type": "execute_result"
    }
   ],
   "source": [
    "data.sample(1).apply(get_most_frequent_categ, axis=1)"
   ]
  },
  {
   "cell_type": "code",
   "execution_count": 39,
   "id": "uniform-concern",
   "metadata": {},
   "outputs": [
    {
     "name": "stdout",
     "output_type": "stream",
     "text": [
      "fail\n",
      "fail\n",
      "fail\n",
      "fail\n",
      "fail\n",
      "fail\n",
      "fail\n",
      "fail\n",
      "fail\n",
      "fail\n",
      "fail\n",
      "fail\n",
      "fail\n"
     ]
    }
   ],
   "source": [
    "data['favourite_category'] = data.apply(get_most_frequent_categ, axis=1)"
   ]
  },
  {
   "cell_type": "code",
   "execution_count": 40,
   "id": "referenced-producer",
   "metadata": {},
   "outputs": [
    {
     "data": {
      "text/plain": [
       "False    2984\n",
       "True       13\n",
       "Name: favourite_category, dtype: int64"
      ]
     },
     "execution_count": 40,
     "metadata": {},
     "output_type": "execute_result"
    }
   ],
   "source": [
    "data['favourite_category'].isnull().value_counts()"
   ]
  },
  {
   "cell_type": "code",
   "execution_count": 41,
   "id": "leading-debate",
   "metadata": {},
   "outputs": [],
   "source": [
    "data = data.merge(products_categ_traduction, how='left', \n",
    "           left_on='favourite_category', right_on='product_category_name').set_axis(data.index)"
   ]
  },
  {
   "cell_type": "code",
   "execution_count": 42,
   "id": "alike-press",
   "metadata": {},
   "outputs": [],
   "source": [
    "data.drop(columns=['product_category_name'], inplace=True)"
   ]
  },
  {
   "cell_type": "code",
   "execution_count": 43,
   "id": "subtle-bulgarian",
   "metadata": {},
   "outputs": [],
   "source": [
    "data.rename(columns={'product_category_name_english':'favourite_category_english'}, inplace=True)"
   ]
  },
  {
   "cell_type": "code",
   "execution_count": 44,
   "id": "intimate-acceptance",
   "metadata": {},
   "outputs": [
    {
     "data": {
      "text/html": [
       "<div>\n",
       "<style scoped>\n",
       "    .dataframe tbody tr th:only-of-type {\n",
       "        vertical-align: middle;\n",
       "    }\n",
       "\n",
       "    .dataframe tbody tr th {\n",
       "        vertical-align: top;\n",
       "    }\n",
       "\n",
       "    .dataframe thead th {\n",
       "        text-align: right;\n",
       "    }\n",
       "</style>\n",
       "<table border=\"1\" class=\"dataframe\">\n",
       "  <thead>\n",
       "    <tr style=\"text-align: right;\">\n",
       "      <th></th>\n",
       "      <th>nb_orders</th>\n",
       "      <th>orders_ids</th>\n",
       "      <th>days_since_first_order</th>\n",
       "      <th>days_since_last_order</th>\n",
       "      <th>frequency</th>\n",
       "      <th>sum_orders</th>\n",
       "      <th>favourite_category</th>\n",
       "      <th>favourite_category_english</th>\n",
       "    </tr>\n",
       "    <tr>\n",
       "      <th>customer_unique_id</th>\n",
       "      <th></th>\n",
       "      <th></th>\n",
       "      <th></th>\n",
       "      <th></th>\n",
       "      <th></th>\n",
       "      <th></th>\n",
       "      <th></th>\n",
       "      <th></th>\n",
       "    </tr>\n",
       "  </thead>\n",
       "  <tbody>\n",
       "    <tr>\n",
       "      <th>00172711b30d52eea8b313a7f2cced02</th>\n",
       "      <td>2</td>\n",
       "      <td>[bb874c45df1a3c97842d52f31efee99a, c306eca42d3...</td>\n",
       "      <td>81</td>\n",
       "      <td>65</td>\n",
       "      <td>0.751543</td>\n",
       "      <td>74.50</td>\n",
       "      <td>papelaria</td>\n",
       "      <td>stationery</td>\n",
       "    </tr>\n",
       "    <tr>\n",
       "      <th>004288347e5e88a27ded2bb23747066c</th>\n",
       "      <td>2</td>\n",
       "      <td>[a61d617fbe5bd006e40d3a0988fc844b, 08204559beb...</td>\n",
       "      <td>447</td>\n",
       "      <td>276</td>\n",
       "      <td>0.136186</td>\n",
       "      <td>317.89</td>\n",
       "      <td>malas_acessorios</td>\n",
       "      <td>luggage_accessories</td>\n",
       "    </tr>\n",
       "    <tr>\n",
       "      <th>004b45ec5c64187465168251cd1c9c2f</th>\n",
       "      <td>2</td>\n",
       "      <td>[90ae229a4addcfead792e2564554f09c, 9392c5e7288...</td>\n",
       "      <td>411</td>\n",
       "      <td>143</td>\n",
       "      <td>0.148114</td>\n",
       "      <td>86.90</td>\n",
       "      <td>moveis_decoracao</td>\n",
       "      <td>furniture_decor</td>\n",
       "    </tr>\n",
       "    <tr>\n",
       "      <th>0058f300f57d7b93c477a131a59b36c3</th>\n",
       "      <td>2</td>\n",
       "      <td>[2cfc79d9582e9135c0a9b61fa60e6b21, 81a93b2fa39...</td>\n",
       "      <td>240</td>\n",
       "      <td>208</td>\n",
       "      <td>0.253646</td>\n",
       "      <td>132.48</td>\n",
       "      <td>papelaria</td>\n",
       "      <td>stationery</td>\n",
       "    </tr>\n",
       "    <tr>\n",
       "      <th>00a39521eb40f7012db50455bf083460</th>\n",
       "      <td>2</td>\n",
       "      <td>[7d32c87acba91ed87ebd98310fe1c54d, cea3e6c11eb...</td>\n",
       "      <td>146</td>\n",
       "      <td>136</td>\n",
       "      <td>0.416952</td>\n",
       "      <td>81.45</td>\n",
       "      <td>eletronicos</td>\n",
       "      <td>electronics</td>\n",
       "    </tr>\n",
       "    <tr>\n",
       "      <th>...</th>\n",
       "      <td>...</td>\n",
       "      <td>...</td>\n",
       "      <td>...</td>\n",
       "      <td>...</td>\n",
       "      <td>...</td>\n",
       "      <td>...</td>\n",
       "      <td>...</td>\n",
       "      <td>...</td>\n",
       "    </tr>\n",
       "    <tr>\n",
       "      <th>ff36be26206fffe1eb37afd54c70e18b</th>\n",
       "      <td>3</td>\n",
       "      <td>[b02682757340133856bfb99145dd61cd, 81b7c7bbc8e...</td>\n",
       "      <td>81</td>\n",
       "      <td>55</td>\n",
       "      <td>1.127315</td>\n",
       "      <td>77.90</td>\n",
       "      <td>casa_conforto</td>\n",
       "      <td>home_confort</td>\n",
       "    </tr>\n",
       "    <tr>\n",
       "      <th>ff44401d0d8f5b9c54a47374eb48c1b8</th>\n",
       "      <td>2</td>\n",
       "      <td>[c087855fe6f303205c09558f7f8103c8, e28a4c66f14...</td>\n",
       "      <td>515</td>\n",
       "      <td>515</td>\n",
       "      <td>0.118204</td>\n",
       "      <td>39.80</td>\n",
       "      <td>fashion_bolsas_e_acessorios</td>\n",
       "      <td>fashion_bags_accessories</td>\n",
       "    </tr>\n",
       "    <tr>\n",
       "      <th>ff8892f7c26aa0446da53d01b18df463</th>\n",
       "      <td>2</td>\n",
       "      <td>[cb6e8d89049744886ad04520d5e0b2f6, 1c308eca3f3...</td>\n",
       "      <td>511</td>\n",
       "      <td>324</td>\n",
       "      <td>0.119129</td>\n",
       "      <td>277.95</td>\n",
       "      <td>relogios_presentes</td>\n",
       "      <td>watches_gifts</td>\n",
       "    </tr>\n",
       "    <tr>\n",
       "      <th>ff922bdd6bafcdf99cb90d7f39cea5b3</th>\n",
       "      <td>3</td>\n",
       "      <td>[fd216c435fda2be27c92920a5e5dba82, 5f79e2da24a...</td>\n",
       "      <td>602</td>\n",
       "      <td>398</td>\n",
       "      <td>0.151682</td>\n",
       "      <td>94.79</td>\n",
       "      <td>cama_mesa_banho</td>\n",
       "      <td>bed_bath_table</td>\n",
       "    </tr>\n",
       "    <tr>\n",
       "      <th>ffe254cc039740e17dd15a5305035928</th>\n",
       "      <td>2</td>\n",
       "      <td>[39a0e2f723def2e12a51e963006c9242, ebe76afae92...</td>\n",
       "      <td>563</td>\n",
       "      <td>563</td>\n",
       "      <td>0.108126</td>\n",
       "      <td>51.08</td>\n",
       "      <td>cama_mesa_banho</td>\n",
       "      <td>bed_bath_table</td>\n",
       "    </tr>\n",
       "  </tbody>\n",
       "</table>\n",
       "<p>2997 rows × 8 columns</p>\n",
       "</div>"
      ],
      "text/plain": [
       "                                  nb_orders  \\\n",
       "customer_unique_id                            \n",
       "00172711b30d52eea8b313a7f2cced02          2   \n",
       "004288347e5e88a27ded2bb23747066c          2   \n",
       "004b45ec5c64187465168251cd1c9c2f          2   \n",
       "0058f300f57d7b93c477a131a59b36c3          2   \n",
       "00a39521eb40f7012db50455bf083460          2   \n",
       "...                                     ...   \n",
       "ff36be26206fffe1eb37afd54c70e18b          3   \n",
       "ff44401d0d8f5b9c54a47374eb48c1b8          2   \n",
       "ff8892f7c26aa0446da53d01b18df463          2   \n",
       "ff922bdd6bafcdf99cb90d7f39cea5b3          3   \n",
       "ffe254cc039740e17dd15a5305035928          2   \n",
       "\n",
       "                                                                         orders_ids  \\\n",
       "customer_unique_id                                                                    \n",
       "00172711b30d52eea8b313a7f2cced02  [bb874c45df1a3c97842d52f31efee99a, c306eca42d3...   \n",
       "004288347e5e88a27ded2bb23747066c  [a61d617fbe5bd006e40d3a0988fc844b, 08204559beb...   \n",
       "004b45ec5c64187465168251cd1c9c2f  [90ae229a4addcfead792e2564554f09c, 9392c5e7288...   \n",
       "0058f300f57d7b93c477a131a59b36c3  [2cfc79d9582e9135c0a9b61fa60e6b21, 81a93b2fa39...   \n",
       "00a39521eb40f7012db50455bf083460  [7d32c87acba91ed87ebd98310fe1c54d, cea3e6c11eb...   \n",
       "...                                                                             ...   \n",
       "ff36be26206fffe1eb37afd54c70e18b  [b02682757340133856bfb99145dd61cd, 81b7c7bbc8e...   \n",
       "ff44401d0d8f5b9c54a47374eb48c1b8  [c087855fe6f303205c09558f7f8103c8, e28a4c66f14...   \n",
       "ff8892f7c26aa0446da53d01b18df463  [cb6e8d89049744886ad04520d5e0b2f6, 1c308eca3f3...   \n",
       "ff922bdd6bafcdf99cb90d7f39cea5b3  [fd216c435fda2be27c92920a5e5dba82, 5f79e2da24a...   \n",
       "ffe254cc039740e17dd15a5305035928  [39a0e2f723def2e12a51e963006c9242, ebe76afae92...   \n",
       "\n",
       "                                  days_since_first_order  \\\n",
       "customer_unique_id                                         \n",
       "00172711b30d52eea8b313a7f2cced02                      81   \n",
       "004288347e5e88a27ded2bb23747066c                     447   \n",
       "004b45ec5c64187465168251cd1c9c2f                     411   \n",
       "0058f300f57d7b93c477a131a59b36c3                     240   \n",
       "00a39521eb40f7012db50455bf083460                     146   \n",
       "...                                                  ...   \n",
       "ff36be26206fffe1eb37afd54c70e18b                      81   \n",
       "ff44401d0d8f5b9c54a47374eb48c1b8                     515   \n",
       "ff8892f7c26aa0446da53d01b18df463                     511   \n",
       "ff922bdd6bafcdf99cb90d7f39cea5b3                     602   \n",
       "ffe254cc039740e17dd15a5305035928                     563   \n",
       "\n",
       "                                  days_since_last_order  frequency  \\\n",
       "customer_unique_id                                                   \n",
       "00172711b30d52eea8b313a7f2cced02                     65   0.751543   \n",
       "004288347e5e88a27ded2bb23747066c                    276   0.136186   \n",
       "004b45ec5c64187465168251cd1c9c2f                    143   0.148114   \n",
       "0058f300f57d7b93c477a131a59b36c3                    208   0.253646   \n",
       "00a39521eb40f7012db50455bf083460                    136   0.416952   \n",
       "...                                                 ...        ...   \n",
       "ff36be26206fffe1eb37afd54c70e18b                     55   1.127315   \n",
       "ff44401d0d8f5b9c54a47374eb48c1b8                    515   0.118204   \n",
       "ff8892f7c26aa0446da53d01b18df463                    324   0.119129   \n",
       "ff922bdd6bafcdf99cb90d7f39cea5b3                    398   0.151682   \n",
       "ffe254cc039740e17dd15a5305035928                    563   0.108126   \n",
       "\n",
       "                                  sum_orders           favourite_category  \\\n",
       "customer_unique_id                                                          \n",
       "00172711b30d52eea8b313a7f2cced02       74.50                    papelaria   \n",
       "004288347e5e88a27ded2bb23747066c      317.89             malas_acessorios   \n",
       "004b45ec5c64187465168251cd1c9c2f       86.90             moveis_decoracao   \n",
       "0058f300f57d7b93c477a131a59b36c3      132.48                    papelaria   \n",
       "00a39521eb40f7012db50455bf083460       81.45                  eletronicos   \n",
       "...                                      ...                          ...   \n",
       "ff36be26206fffe1eb37afd54c70e18b       77.90                casa_conforto   \n",
       "ff44401d0d8f5b9c54a47374eb48c1b8       39.80  fashion_bolsas_e_acessorios   \n",
       "ff8892f7c26aa0446da53d01b18df463      277.95           relogios_presentes   \n",
       "ff922bdd6bafcdf99cb90d7f39cea5b3       94.79              cama_mesa_banho   \n",
       "ffe254cc039740e17dd15a5305035928       51.08              cama_mesa_banho   \n",
       "\n",
       "                                 favourite_category_english  \n",
       "customer_unique_id                                           \n",
       "00172711b30d52eea8b313a7f2cced02                 stationery  \n",
       "004288347e5e88a27ded2bb23747066c        luggage_accessories  \n",
       "004b45ec5c64187465168251cd1c9c2f            furniture_decor  \n",
       "0058f300f57d7b93c477a131a59b36c3                 stationery  \n",
       "00a39521eb40f7012db50455bf083460                electronics  \n",
       "...                                                     ...  \n",
       "ff36be26206fffe1eb37afd54c70e18b               home_confort  \n",
       "ff44401d0d8f5b9c54a47374eb48c1b8   fashion_bags_accessories  \n",
       "ff8892f7c26aa0446da53d01b18df463              watches_gifts  \n",
       "ff922bdd6bafcdf99cb90d7f39cea5b3             bed_bath_table  \n",
       "ffe254cc039740e17dd15a5305035928             bed_bath_table  \n",
       "\n",
       "[2997 rows x 8 columns]"
      ]
     },
     "execution_count": 44,
     "metadata": {},
     "output_type": "execute_result"
    }
   ],
   "source": [
    "data"
   ]
  },
  {
   "cell_type": "code",
   "execution_count": 45,
   "id": "interesting-exercise",
   "metadata": {},
   "outputs": [
    {
     "data": {
      "text/plain": [
       "63"
      ]
     },
     "execution_count": 45,
     "metadata": {},
     "output_type": "execute_result"
    }
   ],
   "source": [
    "len(data['favourite_category'].unique())"
   ]
  },
  {
   "cell_type": "code",
   "execution_count": 46,
   "id": "wired-photography",
   "metadata": {},
   "outputs": [
    {
     "data": {
      "text/plain": [
       "74"
      ]
     },
     "execution_count": 46,
     "metadata": {},
     "output_type": "execute_result"
    }
   ],
   "source": [
    "len(products.product_category_name.unique())"
   ]
  },
  {
   "cell_type": "markdown",
   "id": "respiratory-florence",
   "metadata": {},
   "source": [
    "Pour réduire la cardinalité nous utilisons une bibliothèque qui permet de trouver des ressemblances entre des catégories"
   ]
  },
  {
   "cell_type": "code",
   "execution_count": 47,
   "id": "acceptable-belfast",
   "metadata": {},
   "outputs": [
    {
     "name": "stderr",
     "output_type": "stream",
     "text": [
      "C:\\Users\\S053567\\Anaconda3\\lib\\site-packages\\fuzzywuzzy\\fuzz.py:11: UserWarning: Using slow pure-python SequenceMatcher. Install python-Levenshtein to remove this warning\n",
      "  warnings.warn('Using slow pure-python SequenceMatcher. Install python-Levenshtein to remove this warning')\n"
     ]
    }
   ],
   "source": [
    "from fuzzywuzzy import fuzz"
   ]
  },
  {
   "cell_type": "code",
   "execution_count": 48,
   "id": "personalized-excellence",
   "metadata": {},
   "outputs": [
    {
     "name": "stdout",
     "output_type": "stream",
     "text": [
      "Requirement already satisfied: fuzzywuzzy in c:\\users\\s053567\\anaconda3\\lib\\site-packages (0.18.0)\n"
     ]
    }
   ],
   "source": [
    "!pip install fuzzywuzzy"
   ]
  },
  {
   "cell_type": "code",
   "execution_count": 50,
   "id": "straight-still",
   "metadata": {},
   "outputs": [
    {
     "data": {
      "text/plain": [
       "Index(['nb_orders', 'orders_ids', 'days_since_first_order',\n",
       "       'days_since_last_order', 'frequency', 'sum_orders',\n",
       "       'favourite_category', 'favourite_category_english'],\n",
       "      dtype='object')"
      ]
     },
     "execution_count": 50,
     "metadata": {},
     "output_type": "execute_result"
    }
   ],
   "source": [
    "data.columns"
   ]
  },
  {
   "cell_type": "code",
   "execution_count": 55,
   "id": "accredited-chick",
   "metadata": {},
   "outputs": [
    {
     "name": "stdout",
     "output_type": "stream",
     "text": [
      "computers_accessories vs luggage_accessories: 70%\n",
      "computers_accessories vs computers: 90%\n",
      "furniture_decor vs furniture_bedroom: 75%\n",
      "telephony vs fixed_telephony: 90%\n",
      "food_drink vs food: 90%\n",
      "food_drink vs drinks: 82%\n",
      "small_appliances vs home_appliances: 77%\n",
      "small_appliances vs home_appliances_2: 73%\n",
      "small_appliances vs small_appliances_home_oven_and_coffee: 90%\n",
      "fashion_shoes vs fashion_sport: 77%\n",
      "construction_tools_construction vs costruction_tools_tools: 74%\n",
      "construction_tools_construction vs home_construction: 74%\n",
      "construction_tools_construction vs construction_tools_lights: 71%\n",
      "construction_tools_construction vs construction_tools_safety: 75%\n",
      "costruction_tools_garden vs costruction_tools_tools: 77%\n",
      "costruction_tools_garden vs construction_tools_lights: 78%\n",
      "costruction_tools_garden vs construction_tools_safety: 82%\n",
      "fashion_male_clothing vs fashio_female_clothing: 93%\n",
      "fashion_male_clothing vs fashion_childrens_clothes: 70%\n",
      "home_appliances vs home_appliances_2: 94%\n",
      "home_appliances vs small_appliances_home_oven_and_coffee: 72%\n",
      "party_supplies vs art: 90%\n",
      "home_confort vs home_comfort_2: 85%\n",
      "costruction_tools_tools vs construction_tools_lights: 83%\n",
      "costruction_tools_tools vs construction_tools_safety: 79%\n",
      "musical_instruments vs music: 90%\n",
      "furniture_living_room vs furniture_bedroom: 74%\n",
      "construction_tools_lights vs construction_tools_safety: 80%\n",
      "art vs arts_and_craftmanship: 90%\n",
      "music vs cds_dvds_musicals: 90%\n"
     ]
    }
   ],
   "source": [
    "for idx_i, i in enumerate(products_categ_traduction['product_category_name_english'].astype('str').unique()[:-1]):\n",
    "    for idx_j, j in enumerate(products_categ_traduction['product_category_name_english'].astype('str').unique()[idx_i+1:]):\n",
    "        similarity_ij = fuzz.WRatio(i, j)\n",
    "        if similarity_ij >= 70 and similarity_ij != 100:\n",
    "            print(f'{i} vs {j}: {similarity_ij}%')"
   ]
  },
  {
   "cell_type": "markdown",
   "id": "sacred-marker",
   "metadata": {},
   "source": [
    "# FAIRE UN REPLACE A LA MAIN EN CONTROLANT"
   ]
  },
  {
   "cell_type": "markdown",
   "id": "attractive-exemption",
   "metadata": {},
   "source": [
    "Certain produits ne sont pas reliés à une catégorie. \n",
    "### QUE FAIRE DES NaN??? : remplir avec la plus fréquente"
   ]
  },
  {
   "cell_type": "code",
   "execution_count": null,
   "id": "massive-lender",
   "metadata": {},
   "outputs": [],
   "source": [
    "data['favourite_category_english'].value_counts()"
   ]
  },
  {
   "cell_type": "code",
   "execution_count": null,
   "id": "transparent-sculpture",
   "metadata": {},
   "outputs": [],
   "source": [
    "data['favourite_category_english'] = data['favourite_category_english'].fillna('other')"
   ]
  },
  {
   "cell_type": "markdown",
   "id": "rational-carolina",
   "metadata": {},
   "source": [
    "<a id='reviews'></a>\n",
    "## Nombre d'avis postés et note moyenne⭐\n",
    "Implication et satisfaction du client sur le site\n",
    "\n",
    "Voir la [fonction](#get_nb_reviews_and_avg)"
   ]
  },
  {
   "cell_type": "code",
   "execution_count": null,
   "id": "arabic-cathedral",
   "metadata": {},
   "outputs": [],
   "source": [
    "data[['nb_reviews', 'average_review_score']] = data.apply(get_nb_reviews_and_avg, axis=1, result_type='expand')"
   ]
  },
  {
   "cell_type": "code",
   "execution_count": null,
   "id": "offensive-equation",
   "metadata": {},
   "outputs": [],
   "source": [
    "data.nb_reviews.value_counts()"
   ]
  },
  {
   "cell_type": "code",
   "execution_count": null,
   "id": "clinical-blind",
   "metadata": {},
   "outputs": [],
   "source": [
    "data.nb_orders.value_counts()"
   ]
  },
  {
   "cell_type": "code",
   "execution_count": null,
   "id": "union-parks",
   "metadata": {},
   "outputs": [],
   "source": [
    "reviews.review_score.value_counts(normalize=True)"
   ]
  },
  {
   "cell_type": "markdown",
   "id": "competent-storm",
   "metadata": {},
   "source": [
    "### C'est louche"
   ]
  },
  {
   "cell_type": "code",
   "execution_count": null,
   "id": "interesting-belize",
   "metadata": {},
   "outputs": [],
   "source": [
    "data.average_review_score.describe()"
   ]
  },
  {
   "cell_type": "code",
   "execution_count": null,
   "id": "weekly-engineer",
   "metadata": {},
   "outputs": [],
   "source": [
    "reviews.review_score.isnull().value_counts()"
   ]
  },
  {
   "cell_type": "markdown",
   "id": "considered-variable",
   "metadata": {},
   "source": [
    "On note ici que dans cette base, tous les clients écrivent des reviews et donnent des notes"
   ]
  },
  {
   "cell_type": "markdown",
   "id": "resistant-discovery",
   "metadata": {},
   "source": [
    "<a id='mode_paiement_prefere'></a>\n",
    "## Mode de paiement préféré 💳\n",
    "Relation du client avec l'argent\n",
    "\n",
    "Voir la [fonction](#get_favourite_payment_method)"
   ]
  },
  {
   "cell_type": "code",
   "execution_count": null,
   "id": "dominant-criticism",
   "metadata": {},
   "outputs": [],
   "source": [
    "payments.payment_type.value_counts()"
   ]
  },
  {
   "cell_type": "code",
   "execution_count": null,
   "id": "unlikely-botswana",
   "metadata": {},
   "outputs": [],
   "source": [
    "payments.payment_type.isnull().value_counts()"
   ]
  },
  {
   "cell_type": "code",
   "execution_count": null,
   "id": "median-bulgaria",
   "metadata": {},
   "outputs": [],
   "source": [
    "data['favourite_payment_type'] = data.apply(get_favourite_payment_method, axis=1).replace('boleto', 'cash')"
   ]
  },
  {
   "cell_type": "code",
   "execution_count": null,
   "id": "colored-trailer",
   "metadata": {},
   "outputs": [],
   "source": [
    "data['favourite_payment_type'].value_counts()"
   ]
  },
  {
   "cell_type": "markdown",
   "id": "worth-integrity",
   "metadata": {},
   "source": [
    "<a id='tps_livraison'></a>\n",
    "## Temps et retards de livraison 🚚\n",
    "Expérience logistique du client. pour cette partie nous aurons besoin de créer des variables dans la table \"orders\"\n",
    "\n",
    "Nous regarderons le temps moyen de chaque livraison du client et les temps de retard/avance s'il y en a eu"
   ]
  },
  {
   "cell_type": "code",
   "execution_count": null,
   "id": "protected-monthly",
   "metadata": {},
   "outputs": [],
   "source": [
    "orders['delivery_time'] = orders.order_delivered_customer_date - orders.order_approved_at"
   ]
  },
  {
   "cell_type": "code",
   "execution_count": null,
   "id": "cognitive-response",
   "metadata": {},
   "outputs": [],
   "source": [
    "orders['delay'] = orders.order_delivered_customer_date - orders.order_estimated_delivery_date"
   ]
  },
  {
   "cell_type": "code",
   "execution_count": null,
   "id": "surprised-craps",
   "metadata": {},
   "outputs": [],
   "source": [
    "orders['was_delayed'] = orders.delay.map(lambda x : x.days > 1)"
   ]
  },
  {
   "cell_type": "code",
   "execution_count": null,
   "id": "laden-junior",
   "metadata": {},
   "outputs": [],
   "source": [
    "orders['was_in_advance'] = orders.delay.map(lambda x : x.days < -1)"
   ]
  },
  {
   "cell_type": "raw",
   "id": "announced-brook",
   "metadata": {},
   "source": [
    "orders.head()"
   ]
  },
  {
   "cell_type": "raw",
   "id": "julian-financing",
   "metadata": {},
   "source": [
    "orders[orders['delivery_time'].isnull() & (orders.order_status == 'delivered')]"
   ]
  },
  {
   "cell_type": "markdown",
   "id": "growing-program",
   "metadata": {},
   "source": [
    "Voir la [fonction](#get_delivery_time_and_delays)"
   ]
  },
  {
   "cell_type": "code",
   "execution_count": null,
   "id": "imposed-toilet",
   "metadata": {},
   "outputs": [],
   "source": [
    "data[['average_delivery_time', 'delay_rate', 'advance_rate']] = data.apply(get_delivery_time_and_delays, axis=1, result_type='expand')"
   ]
  },
  {
   "cell_type": "code",
   "execution_count": null,
   "id": "handmade-thompson",
   "metadata": {},
   "outputs": [],
   "source": [
    "data.average_delivery_time.isnull().value_counts()"
   ]
  },
  {
   "cell_type": "code",
   "execution_count": null,
   "id": "honey-dakota",
   "metadata": {},
   "outputs": [],
   "source": [
    "data.delay_rate.isnull().value_counts()"
   ]
  },
  {
   "cell_type": "markdown",
   "id": "equivalent-insertion",
   "metadata": {},
   "source": [
    "Pour les retards non renseignés on replit avec 0\n",
    "\n",
    "Pour les temps de livraisons non renseingés on met la moyenne des temps moyens des autres clients"
   ]
  },
  {
   "cell_type": "code",
   "execution_count": null,
   "id": "double-ceremony",
   "metadata": {},
   "outputs": [],
   "source": [
    "data.delay_rate.fillna(0, inplace=True)\n",
    "data.advance_rate.fillna(0, inplace=True)"
   ]
  },
  {
   "cell_type": "code",
   "execution_count": null,
   "id": "favorite-logging",
   "metadata": {},
   "outputs": [],
   "source": [
    "data.average_delivery_time.fillna(data.average_delivery_time.mean(), inplace=True)"
   ]
  },
  {
   "cell_type": "markdown",
   "id": "structural-reflection",
   "metadata": {},
   "source": [
    "<a id='annulation'></a>\n",
    "## Commandes annulées ❌\n",
    "Capacité du client à aller jusqu'au bout des commandes\n",
    "Voir la [fonction](#get_cancelation_rate)"
   ]
  },
  {
   "cell_type": "code",
   "execution_count": null,
   "id": "optical-corps",
   "metadata": {},
   "outputs": [],
   "source": [
    "data['cancelation_rate'] = data.apply(get_cancelation_rate, axis=1)"
   ]
  },
  {
   "cell_type": "code",
   "execution_count": null,
   "id": "powerful-peeing",
   "metadata": {},
   "outputs": [],
   "source": [
    "data['cancelation_rate'].describe()"
   ]
  },
  {
   "cell_type": "markdown",
   "id": "forced-editor",
   "metadata": {},
   "source": [
    "<a id='model'></a>\n",
    "# Transformation pour Modélisation ✔️"
   ]
  },
  {
   "cell_type": "code",
   "execution_count": null,
   "id": "stuck-courage",
   "metadata": {},
   "outputs": [],
   "source": [
    "data"
   ]
  },
  {
   "cell_type": "markdown",
   "id": "faced-electric",
   "metadata": {},
   "source": [
    "### Simplification de la donnée temporelle (Average delivery time)\n",
    "On arrondi au jour près"
   ]
  },
  {
   "cell_type": "code",
   "execution_count": null,
   "id": "breathing-webmaster",
   "metadata": {},
   "outputs": [],
   "source": [
    "data.average_delivery_time = data.average_delivery_time.map(lambda x : x.round('d').days)"
   ]
  },
  {
   "cell_type": "markdown",
   "id": "rational-chicken",
   "metadata": {},
   "source": [
    "### Conversion des données catégoriques en données numériques"
   ]
  },
  {
   "cell_type": "code",
   "execution_count": null,
   "id": "vanilla-print",
   "metadata": {},
   "outputs": [],
   "source": [
    "data = pd.concat([data, pd.get_dummies(data.favourite_category_english), pd.get_dummies(data.favourite_payment_type)], axis=1)"
   ]
  },
  {
   "cell_type": "code",
   "execution_count": null,
   "id": "removable-equilibrium",
   "metadata": {},
   "outputs": [],
   "source": [
    "data"
   ]
  },
  {
   "cell_type": "code",
   "execution_count": null,
   "id": "educational-computer",
   "metadata": {},
   "outputs": [],
   "source": []
  },
  {
   "cell_type": "markdown",
   "id": "starting-newsletter",
   "metadata": {},
   "source": [
    "### Suppression des colonnes qui ne sont pas utiles pour la modélisation"
   ]
  },
  {
   "cell_type": "code",
   "execution_count": null,
   "id": "curious-geometry",
   "metadata": {},
   "outputs": [],
   "source": [
    "data.drop(columns=['orders_ids', 'favourite_category', 'favourite_category_english', 'favourite_payment_type'], inplace=True)"
   ]
  },
  {
   "cell_type": "code",
   "execution_count": null,
   "id": "invalid-driver",
   "metadata": {},
   "outputs": [],
   "source": [
    "data.describe()"
   ]
  },
  {
   "cell_type": "code",
   "execution_count": null,
   "id": "under-pearl",
   "metadata": {},
   "outputs": [],
   "source": [
    "# data.to_csv('data/customer_data.csv')"
   ]
  },
  {
   "cell_type": "code",
   "execution_count": null,
   "id": "dense-injection",
   "metadata": {},
   "outputs": [],
   "source": []
  }
 ],
 "metadata": {
  "kernelspec": {
   "display_name": "OC_P05_env",
   "language": "python",
   "name": "oc_p05_env"
  },
  "language_info": {
   "codemirror_mode": {
    "name": "ipython",
    "version": 3
   },
   "file_extension": ".py",
   "mimetype": "text/x-python",
   "name": "python",
   "nbconvert_exporter": "python",
   "pygments_lexer": "ipython3",
   "version": "3.8.5"
  }
 },
 "nbformat": 4,
 "nbformat_minor": 5
}
