{
 "cells": [
  {
   "cell_type": "markdown",
   "id": "555e4e9d",
   "metadata": {},
   "source": [
    "<img src=\"img/Logo_OpenClassrooms.png\" width=100 />"
   ]
  },
  {
   "cell_type": "markdown",
   "id": "ad997401",
   "metadata": {},
   "source": [
    "# OpenClassrooms Projet 5: Segmentez des clients d'un site e-commerce\n",
    "# Analyse Exploratoire\n",
    "\n",
    "Olist souhaite que vous fournissiez à ses équipes d'e-commerce une segmentation des clients qu’elles pourront utiliser au quotidien pour leurs campagnes de communication.\n",
    "\n",
    "Votre objectif est de comprendre les différents types d’utilisateurs grâce à leur comportement et à leurs données personnelles.\n",
    "\n",
    "Vous devrez fournir à l’équipe marketing une description actionable de votre segmentation et de sa logique sous-jacente pour une utilisation optimale, ainsi qu’une proposition de contrat de maintenance basée sur une analyse de la stabilité des segments au cours du temps.\n",
    "\n",
    "### Les données\n",
    "Pour cette mission, Olist vous fournit une base de données anonymisée comportant des informations sur l’historique de commandes, les produits achetés, les commentaires de satisfaction, et la localisation des clients depuis janvier 2017.\n",
    "\n",
    "### Votre mission\n",
    "Votre mission est d’aider les équipes d’Olist à comprendre les différents types d'utilisateurs. Vous utiliserez donc des méthodes non supervisées pour regrouper ensemble des clients de profils similaires. Ces catégories pourront être utilisées par l’équipe marketing pour mieux communiquer.\n",
    "\n",
    "Pour des raisons de confidentialité, Olist ne fournit pas beaucoup de données, à vous de fouiller dans celles dont vous disposez et de créer les meilleures features pour les exploiter.\n",
    "\n",
    "Enfin, votre client, Olist, a spécifié sa demande ainsi :\n",
    "\n",
    "- La segmentation proposée doit être exploitable et facile d’utilisation pour l’équipe marketing.\n",
    "- Vous évaluerez la fréquence à laquelle la segmentation doit être mise à jour, afin de pouvoir effectuer un devis de contrat de maintenance.\n",
    "- Le code fourni doit respecter la convention PEP8, pour être utilisable par Olist.\n"
   ]
  },
  {
   "cell_type": "markdown",
   "id": "1f01cdfd",
   "metadata": {},
   "source": [
    "# Sommaire\n",
    "### [Bibliothèques](#1_bibli)\n",
    "### [Fonctions](#1_funcs)\n",
    "### [Données](#1_donnees)\n",
    "### [Création de la base](#1_creation_base)\n",
    "### [Transformation pour Modélisation](#model)"
   ]
  },
  {
   "cell_type": "markdown",
   "id": "0aaf6dd0",
   "metadata": {},
   "source": [
    "<a id='1_bibli'></a>\n",
    "# Import de bibliothèques 📚"
   ]
  },
  {
   "cell_type": "code",
   "execution_count": 1,
   "id": "54cc7bbe",
   "metadata": {},
   "outputs": [
    {
     "name": "stderr",
     "output_type": "stream",
     "text": [
      "C:\\Users\\S053567\\Anaconda3\\lib\\site-packages\\fuzzywuzzy\\fuzz.py:11: UserWarning: Using slow pure-python SequenceMatcher. Install python-Levenshtein to remove this warning\n",
      "  warnings.warn('Using slow pure-python SequenceMatcher. Install python-Levenshtein to remove this warning')\n"
     ]
    }
   ],
   "source": [
    "import pandas as pd\n",
    "pd.set_option(\"mode.chained_assignment\", None)\n",
    "import numpy as np\n",
    "from fuzzywuzzy import fuzz\n",
    "import matplotlib.pyplot as plt"
   ]
  },
  {
   "cell_type": "markdown",
   "id": "fa0b121b",
   "metadata": {},
   "source": [
    "<a id='1_funcs'></a>"
   ]
  },
  {
   "cell_type": "markdown",
   "id": "61668dcc",
   "metadata": {},
   "source": [
    "# Fonctions ⚙️"
   ]
  },
  {
   "cell_type": "markdown",
   "id": "ec875777",
   "metadata": {},
   "source": [
    "<a id='get_orders'></a>"
   ]
  },
  {
   "cell_type": "code",
   "execution_count": 2,
   "id": "b2b8fc67",
   "metadata": {},
   "outputs": [],
   "source": [
    "def get_orders(client_unique_id):\n",
    "    \"\"\" A partir d'un id client unique la fonction retourne la liste des commandes correspondantes,\n",
    "    La table des commandes doit au préalable être filtrée en fonction de la date virtuelle de l'étude\n",
    "    Args:\n",
    "        client_unique_id\n",
    "    \"\"\"\n",
    "    \n",
    "    # Avec l'id unique du client on récupère les id clients qui sont liés à chaque commande\n",
    "    ids_client = customers[customers['customer_unique_id'] == client_unique_id].customer_id.values\n",
    "    # On peut ensuite récupérer les id des commandes correspondant à ces ids clients\n",
    "    orders_client = orders[orders.customer_id.isin(ids_client)]\n",
    "    # On récupère juste les ids\n",
    "    ids_orders_client = orders_client.index.values\n",
    "    return ids_orders_client"
   ]
  },
  {
   "cell_type": "markdown",
   "id": "e03948de",
   "metadata": {},
   "source": [
    "[Retour au code](#get_orders_back)"
   ]
  },
  {
   "cell_type": "markdown",
   "id": "bd364d2c",
   "metadata": {},
   "source": [
    "<a id='get_nb_days'></a>"
   ]
  },
  {
   "cell_type": "code",
   "execution_count": 3,
   "id": "0288ae87",
   "metadata": {},
   "outputs": [],
   "source": [
    "def get_nb_days(row, virtual_date, orders):\n",
    "    \"\"\"\n",
    "    Cette fonction calcule le nombre de jours écoulés depuis la première et la dernière \n",
    "    commande en prenant pour référence la date virtuelle de l'étude.\n",
    "    Args :\n",
    "        row: Pandas DataFrame row (Series) avec un attribut \"orders_ids\"\n",
    "        Timestamp \n",
    "        Pandas DataFrame : avec les données des commandes\n",
    "    Returns :\n",
    "        Tuple\n",
    "    \"\"\"\n",
    "    orders_ids = row.orders_ids\n",
    "    \n",
    "    date_first_order = orders.loc[orders_ids[0], 'order_purchase_timestamp']\n",
    "    date_last_order = orders.loc[orders_ids[-1], 'order_purchase_timestamp']\n",
    "    \n",
    "    since_first = (virtual_date - date_first_order).days\n",
    "    since_last = (virtual_date - date_last_order).days\n",
    "    return since_first, since_last"
   ]
  },
  {
   "cell_type": "markdown",
   "id": "0fa140c3",
   "metadata": {},
   "source": [
    "[Retour au code](#tps_last_order)"
   ]
  },
  {
   "cell_type": "markdown",
   "id": "1ede440b",
   "metadata": {},
   "source": [
    "<a id='get_frequency'></a>"
   ]
  },
  {
   "cell_type": "code",
   "execution_count": 4,
   "id": "9b573d05",
   "metadata": {},
   "outputs": [],
   "source": [
    "def get_frequency(row):\n",
    "    \"\"\"\n",
    "    Calcul du nombre de commandes par mois entre la première commande\n",
    "    et la date virtuelle.\n",
    "    \"\"\"\n",
    "    return row.nb_orders / row.days_since_first_order * 365.25 / 12"
   ]
  },
  {
   "cell_type": "markdown",
   "id": "51bd1a8d",
   "metadata": {},
   "source": [
    "[Retour au code](#frequence)"
   ]
  },
  {
   "cell_type": "markdown",
   "id": "6b4e87a0",
   "metadata": {},
   "source": [
    "<a id='get_sum_orders'></a>"
   ]
  },
  {
   "cell_type": "code",
   "execution_count": 5,
   "id": "d6fa8761",
   "metadata": {},
   "outputs": [],
   "source": [
    "def get_sum_orders(row):\n",
    "    \"\"\"\n",
    "    Calcule la somme des montants des commandes\n",
    "    \"\"\"\n",
    "    return order_items[order_items.index.isin(row.orders_ids)].price.sum()    "
   ]
  },
  {
   "cell_type": "markdown",
   "id": "cfa9dd00",
   "metadata": {},
   "source": [
    "[Retour au code](#montant)"
   ]
  },
  {
   "cell_type": "markdown",
   "id": "09945250",
   "metadata": {},
   "source": [
    "<a id='get_most_frequent_categ'></a>"
   ]
  },
  {
   "cell_type": "code",
   "execution_count": 6,
   "id": "875f981d",
   "metadata": {},
   "outputs": [],
   "source": [
    "def get_most_frequent_categ(row):\n",
    "    \"\"\"\n",
    "    Retourne la catégorie qui revient le plus souvent dans les achats. \n",
    "    En cas d'égalité on prend la première donnée par value_counts()\n",
    "    \"\"\"\n",
    "    \n",
    "    orders_ids = row.orders_ids\n",
    "\n",
    "    products_ids = order_items[order_items.index.isin(row.orders_ids)].product_id\n",
    "    products_client = products[products.index.isin(products_ids)]\n",
    "\n",
    "    try:\n",
    "        return products_client.product_category_name.value_counts().index[0]\n",
    "    except:\n",
    "        print('fail')\n",
    "        if len(products_client.product_category_name.value_counts().index) > 1:\n",
    "            return products_client.product_category_name.value_counts().index[1]\n",
    "        else :\n",
    "            return np.nan"
   ]
  },
  {
   "cell_type": "markdown",
   "id": "848206e6",
   "metadata": {},
   "source": [
    "[Retour au code](#categorie)"
   ]
  },
  {
   "cell_type": "markdown",
   "id": "f764f29d",
   "metadata": {},
   "source": [
    "<a id='get_nb_reviews_and_avg'></a>"
   ]
  },
  {
   "cell_type": "code",
   "execution_count": 7,
   "id": "515ec420",
   "metadata": {},
   "outputs": [],
   "source": [
    "def get_nb_reviews_and_avg(row):\n",
    "    \"\"\"\n",
    "    Recupère le nombre de reviews et la note moyenne\n",
    "    \"\"\"\n",
    "    orders_ids = row.orders_ids\n",
    "    client_reviews = reviews[reviews.order_id.isin(orders_ids)]\n",
    "    if len(client_reviews) > 0:\n",
    "        return len(client_reviews), client_reviews.review_score.mean()\n",
    "    else:\n",
    "        return 0, np.nan"
   ]
  },
  {
   "cell_type": "markdown",
   "id": "fac04a9d",
   "metadata": {},
   "source": [
    "[Retour au code](#reviews)"
   ]
  },
  {
   "cell_type": "markdown",
   "id": "7ff6345b",
   "metadata": {},
   "source": [
    "<a id='get_favourite_payment_method'></a>"
   ]
  },
  {
   "cell_type": "code",
   "execution_count": 82,
   "id": "8f2441c2",
   "metadata": {},
   "outputs": [],
   "source": [
    "def get_favourite_payment_method(row):\n",
    "    \"\"\"\n",
    "    Retourne le type de paiement préféré du client\n",
    "    \"\"\"\n",
    "    orders_ids = row.orders_ids\n",
    "    payment_methods = payments[payments.order_id.isin(orders_ids)].payment_type.value_counts()\n",
    "    try:\n",
    "        return payment_methods.index[0]\n",
    "    except IndexError:\n",
    "        return None"
   ]
  },
  {
   "cell_type": "markdown",
   "id": "265686d2",
   "metadata": {},
   "source": [
    "[Retour au code](#mode_paiement_prefere)"
   ]
  },
  {
   "cell_type": "markdown",
   "id": "fa74dd21",
   "metadata": {},
   "source": [
    "<a id='get_delivery_time_and_delays'></a>"
   ]
  },
  {
   "cell_type": "code",
   "execution_count": 9,
   "id": "9de25307",
   "metadata": {},
   "outputs": [],
   "source": [
    "def get_delivery_time_and_delays(row):\n",
    "    \"\"\"\n",
    "    Pour les clients ayant eu des commandes ayant abouties, on calcule le taux d'avance, de retard et le temps moyen de livraison\n",
    "    \"\"\"\n",
    "    client_orders = orders[orders.index.isin(row.orders_ids)]\n",
    "    client_orders = client_orders[client_orders.order_status == 'delivered']\n",
    "    \n",
    "    if client_orders.shape[0] > 0:\n",
    "        was_delayed_counts = client_orders.was_delayed.value_counts(normalize=True)\n",
    "        if True in was_delayed_counts.index:\n",
    "            delay_rate = was_delayed_counts.loc[True]\n",
    "        else:\n",
    "            delay_rate = 0\n",
    "        was_in_advance_counts = client_orders.was_in_advance.value_counts(normalize=True)\n",
    "        if True in was_in_advance_counts.index:\n",
    "            advance_rate = was_in_advance_counts.loc[True]\n",
    "        else:\n",
    "            advance_rate = 0\n",
    "        return client_orders.delivery_time.mean(), delay_rate, advance_rate\n",
    "    else:\n",
    "        np.nan, np.nan, np.nan"
   ]
  },
  {
   "cell_type": "markdown",
   "id": "7a3411b0",
   "metadata": {},
   "source": [
    "[Retour au code](#tps_livraison)"
   ]
  },
  {
   "cell_type": "markdown",
   "id": "c7617906",
   "metadata": {},
   "source": [
    "<a id='get_cancelation_rate'></a>"
   ]
  },
  {
   "cell_type": "code",
   "execution_count": 10,
   "id": "feec209b",
   "metadata": {},
   "outputs": [],
   "source": [
    "def get_cancelation_rate(row):\n",
    "    client_orders = orders[orders.index.isin(row.orders_ids)]\n",
    "    status_counts = client_orders.order_status.value_counts(normalize=True)\n",
    "    if 'canceled' in status_counts.index:\n",
    "        return status_counts.loc['canceled']\n",
    "    else:\n",
    "        return 0"
   ]
  },
  {
   "cell_type": "markdown",
   "id": "1c84cc88",
   "metadata": {},
   "source": [
    "[Retour au code](#annulation)"
   ]
  },
  {
   "cell_type": "markdown",
   "id": "b7502d08",
   "metadata": {},
   "source": [
    "<a id='1_donnees'></a>"
   ]
  },
  {
   "cell_type": "markdown",
   "id": "cff9fb21",
   "metadata": {},
   "source": [
    "# Données 🎁"
   ]
  },
  {
   "cell_type": "markdown",
   "id": "1c06a4ad",
   "metadata": {},
   "source": [
    "<img src=\"img/structure.png\" width=500 />"
   ]
  },
  {
   "cell_type": "code",
   "execution_count": 11,
   "id": "910ffda8",
   "metadata": {},
   "outputs": [],
   "source": [
    "orders = pd.read_csv('data/olist_orders_dataset.csv', index_col='order_id',parse_dates=['order_purchase_timestamp', \n",
    "                                                                                        'order_approved_at',\t\n",
    "                                                                                        'order_delivered_carrier_date',\t\n",
    "                                                                                        'order_delivered_customer_date',\n",
    "                                                                                        'order_estimated_delivery_date'])\n",
    "order_items = pd.read_csv('data/olist_order_items_dataset.csv',  index_col='order_id')\n",
    "products = pd.read_csv('data/olist_products_dataset.csv', index_col='product_id', na_values=np.nan)\n",
    "customers = pd.read_csv('data/olist_customers_dataset.csv')\n",
    "reviews = pd.read_csv('data/olist_order_reviews_dataset.csv')\n",
    "geolocs = pd.read_csv('data/olist_geolocation_dataset.csv')\n",
    "payments = pd.read_csv('data/olist_order_payments_dataset.csv')\n",
    "products_categ_traduction = pd.read_csv('data/product_category_name_translation.csv')"
   ]
  },
  {
   "cell_type": "markdown",
   "id": "151edfb5",
   "metadata": {},
   "source": [
    "Application de la traduction des catégories de produits:"
   ]
  },
  {
   "cell_type": "code",
   "execution_count": 12,
   "id": "4ce8033e",
   "metadata": {},
   "outputs": [],
   "source": [
    "products = products.merge(products_categ_traduction, how='left').set_axis(products.index)"
   ]
  },
  {
   "cell_type": "code",
   "execution_count": 13,
   "id": "e919d51f",
   "metadata": {},
   "outputs": [
    {
     "data": {
      "text/plain": [
       "False"
      ]
     },
     "execution_count": 13,
     "metadata": {},
     "output_type": "execute_result"
    }
   ],
   "source": [
    "products_categ_traduction.shape[0] == len(products.product_category_name.unique())"
   ]
  },
  {
   "cell_type": "markdown",
   "id": "581c8a86",
   "metadata": {},
   "source": [
    "<a id='1_creation_base'></a>"
   ]
  },
  {
   "cell_type": "markdown",
   "id": "b2709860",
   "metadata": {},
   "source": [
    "# Création d'une base répondant au besoin ✅\n",
    "La base doit avoir pour index les ids des clients avec des variables en relation avec son comportement.\n",
    "\n",
    "Variables retenues:\n",
    "- [Nombre de commandes](#nb_commandes)\n",
    "- [Temps depuis la première et la dernière commande](#tps_last_order)\n",
    "- [Fréquence achats](#frequence)\n",
    "- [Montants dépensés](#montant)\n",
    "- [Catégorie de produit la plus fréquente](#categorie)\n",
    "- [Nombre d'avis postés et note moyenne](#reviews)\n",
    "- [Mode de paiement préféré](#mode_paiement_prefere)\n",
    "- [Temps de livraison et retards](#tps_livraison)\n",
    "- [Taux d'annulation des commandes](#annulation)\n",
    "\n",
    "### Important:\n",
    "Pour le bon fonctionnement du projet, les fonctions développées pour la constitution de la base prendront en paramètre la date à laquelle on veut se fixer virtuellement. En effet on cherchera plus tard dans ce projet à déterminer la fréquence de mise à jour de la base d'entrainement du modèle.\n",
    "On prendra toujours dans ce notebook la dernière date de la base de donnée."
   ]
  },
  {
   "cell_type": "code",
   "execution_count": 14,
   "id": "cd565047",
   "metadata": {},
   "outputs": [],
   "source": [
    "virtual_date = orders.order_purchase_timestamp.max()"
   ]
  },
  {
   "cell_type": "code",
   "execution_count": 15,
   "id": "b76bac71",
   "metadata": {},
   "outputs": [
    {
     "data": {
      "text/plain": [
       "Timestamp('2018-10-17 17:30:18')"
      ]
     },
     "execution_count": 15,
     "metadata": {},
     "output_type": "execute_result"
    }
   ],
   "source": [
    "orders.order_purchase_timestamp.max()"
   ]
  },
  {
   "cell_type": "markdown",
   "id": "d9b9869e",
   "metadata": {},
   "source": [
    "<a id='nb_commandes'></a>"
   ]
  },
  {
   "cell_type": "markdown",
   "id": "7dd57454",
   "metadata": {},
   "source": [
    "## Nombre de commandes par client 🥰"
   ]
  },
  {
   "cell_type": "markdown",
   "id": "9c6786af",
   "metadata": {},
   "source": [
    "Cette variable est la plus importante car va nous permettre de connaitre la taille de notre dataset. En effet, difficile de classer des clients n'ayant fait qu'une commande"
   ]
  },
  {
   "cell_type": "markdown",
   "id": "2813f5d4",
   "metadata": {},
   "source": [
    "Regardons comment fonctionnent les id des clients"
   ]
  },
  {
   "cell_type": "code",
   "execution_count": 16,
   "id": "3cf088bc",
   "metadata": {},
   "outputs": [
    {
     "data": {
      "text/html": [
       "<div>\n",
       "<style scoped>\n",
       "    .dataframe tbody tr th:only-of-type {\n",
       "        vertical-align: middle;\n",
       "    }\n",
       "\n",
       "    .dataframe tbody tr th {\n",
       "        vertical-align: top;\n",
       "    }\n",
       "\n",
       "    .dataframe thead th {\n",
       "        text-align: right;\n",
       "    }\n",
       "</style>\n",
       "<table border=\"1\" class=\"dataframe\">\n",
       "  <thead>\n",
       "    <tr style=\"text-align: right;\">\n",
       "      <th></th>\n",
       "      <th>customer_id</th>\n",
       "      <th>customer_unique_id</th>\n",
       "      <th>customer_zip_code_prefix</th>\n",
       "      <th>customer_city</th>\n",
       "      <th>customer_state</th>\n",
       "    </tr>\n",
       "  </thead>\n",
       "  <tbody>\n",
       "    <tr>\n",
       "      <th>0</th>\n",
       "      <td>06b8999e2fba1a1fbc88172c00ba8bc7</td>\n",
       "      <td>861eff4711a542e4b93843c6dd7febb0</td>\n",
       "      <td>14409</td>\n",
       "      <td>franca</td>\n",
       "      <td>SP</td>\n",
       "    </tr>\n",
       "    <tr>\n",
       "      <th>1</th>\n",
       "      <td>18955e83d337fd6b2def6b18a428ac77</td>\n",
       "      <td>290c77bc529b7ac935b93aa66c333dc3</td>\n",
       "      <td>9790</td>\n",
       "      <td>sao bernardo do campo</td>\n",
       "      <td>SP</td>\n",
       "    </tr>\n",
       "    <tr>\n",
       "      <th>2</th>\n",
       "      <td>4e7b3e00288586ebd08712fdd0374a03</td>\n",
       "      <td>060e732b5b29e8181a18229c7b0b2b5e</td>\n",
       "      <td>1151</td>\n",
       "      <td>sao paulo</td>\n",
       "      <td>SP</td>\n",
       "    </tr>\n",
       "    <tr>\n",
       "      <th>3</th>\n",
       "      <td>b2b6027bc5c5109e529d4dc6358b12c3</td>\n",
       "      <td>259dac757896d24d7702b9acbbff3f3c</td>\n",
       "      <td>8775</td>\n",
       "      <td>mogi das cruzes</td>\n",
       "      <td>SP</td>\n",
       "    </tr>\n",
       "    <tr>\n",
       "      <th>4</th>\n",
       "      <td>4f2d8ab171c80ec8364f7c12e35b23ad</td>\n",
       "      <td>345ecd01c38d18a9036ed96c73b8d066</td>\n",
       "      <td>13056</td>\n",
       "      <td>campinas</td>\n",
       "      <td>SP</td>\n",
       "    </tr>\n",
       "  </tbody>\n",
       "</table>\n",
       "</div>"
      ],
      "text/plain": [
       "                        customer_id                customer_unique_id  \\\n",
       "0  06b8999e2fba1a1fbc88172c00ba8bc7  861eff4711a542e4b93843c6dd7febb0   \n",
       "1  18955e83d337fd6b2def6b18a428ac77  290c77bc529b7ac935b93aa66c333dc3   \n",
       "2  4e7b3e00288586ebd08712fdd0374a03  060e732b5b29e8181a18229c7b0b2b5e   \n",
       "3  b2b6027bc5c5109e529d4dc6358b12c3  259dac757896d24d7702b9acbbff3f3c   \n",
       "4  4f2d8ab171c80ec8364f7c12e35b23ad  345ecd01c38d18a9036ed96c73b8d066   \n",
       "\n",
       "   customer_zip_code_prefix          customer_city customer_state  \n",
       "0                     14409                 franca             SP  \n",
       "1                      9790  sao bernardo do campo             SP  \n",
       "2                      1151              sao paulo             SP  \n",
       "3                      8775        mogi das cruzes             SP  \n",
       "4                     13056               campinas             SP  "
      ]
     },
     "execution_count": 16,
     "metadata": {},
     "output_type": "execute_result"
    }
   ],
   "source": [
    "customers.head()"
   ]
  },
  {
   "cell_type": "code",
   "execution_count": 17,
   "id": "878112e9",
   "metadata": {},
   "outputs": [
    {
     "data": {
      "text/plain": [
       "96096"
      ]
     },
     "execution_count": 17,
     "metadata": {},
     "output_type": "execute_result"
    }
   ],
   "source": [
    "len(customers.customer_unique_id.unique())"
   ]
  },
  {
   "cell_type": "code",
   "execution_count": 18,
   "id": "64e12023",
   "metadata": {},
   "outputs": [
    {
     "data": {
      "text/plain": [
       "99441"
      ]
     },
     "execution_count": 18,
     "metadata": {},
     "output_type": "execute_result"
    }
   ],
   "source": [
    "len(customers.customer_id.unique())"
   ]
  },
  {
   "cell_type": "code",
   "execution_count": 19,
   "id": "666d51e6",
   "metadata": {},
   "outputs": [
    {
     "data": {
      "text/plain": [
       "Index(['customer_id', 'order_status', 'order_purchase_timestamp',\n",
       "       'order_approved_at', 'order_delivered_carrier_date',\n",
       "       'order_delivered_customer_date', 'order_estimated_delivery_date'],\n",
       "      dtype='object')"
      ]
     },
     "execution_count": 19,
     "metadata": {},
     "output_type": "execute_result"
    }
   ],
   "source": [
    "orders.columns"
   ]
  },
  {
   "cell_type": "markdown",
   "id": "7c4b346a",
   "metadata": {},
   "source": [
    "On filtre ici la date virtuelle pour garder un trace mais cette commande est neutre"
   ]
  },
  {
   "cell_type": "code",
   "execution_count": 20,
   "id": "3540e882",
   "metadata": {},
   "outputs": [],
   "source": [
    "orders = orders[orders.order_purchase_timestamp <= virtual_date]"
   ]
  },
  {
   "cell_type": "code",
   "execution_count": 21,
   "id": "f3f28532",
   "metadata": {},
   "outputs": [],
   "source": [
    "orders = orders.merge(customers[['customer_id', 'customer_unique_id']], how='left').set_axis(orders.index)"
   ]
  },
  {
   "cell_type": "markdown",
   "id": "0bcf754e",
   "metadata": {},
   "source": [
    "On trie par date pour conserver un ordre des commandes logique"
   ]
  },
  {
   "cell_type": "code",
   "execution_count": 22,
   "id": "2333b92a",
   "metadata": {},
   "outputs": [],
   "source": [
    "orders.sort_values('order_purchase_timestamp', inplace=True)"
   ]
  },
  {
   "cell_type": "code",
   "execution_count": 23,
   "id": "c147905f",
   "metadata": {},
   "outputs": [
    {
     "data": {
      "text/plain": [
       "False    93099\n",
       "True      2997\n",
       "Name: customer_id, dtype: int64"
      ]
     },
     "execution_count": 23,
     "metadata": {},
     "output_type": "execute_result"
    }
   ],
   "source": [
    "(orders.groupby('customer_unique_id').count().customer_id > 1).value_counts()"
   ]
  },
  {
   "cell_type": "markdown",
   "id": "56a78544",
   "metadata": {},
   "source": [
    "### Il n'y a dans la base clients que 2997 clients ayant fait plus d'un commande"
   ]
  },
  {
   "cell_type": "code",
   "execution_count": 24,
   "id": "468290ac",
   "metadata": {},
   "outputs": [],
   "source": [
    "data = pd.DataFrame(orders.groupby('customer_unique_id').count().customer_id)"
   ]
  },
  {
   "cell_type": "code",
   "execution_count": 25,
   "id": "c5eeb1da",
   "metadata": {},
   "outputs": [],
   "source": [
    "data.columns = ['nb_orders']"
   ]
  },
  {
   "cell_type": "code",
   "execution_count": 26,
   "id": "d64e4e9e",
   "metadata": {},
   "outputs": [
    {
     "data": {
      "text/plain": [
       "array([93099,  2745,   203,    30,     8,     6,     3,     1,     1],\n",
       "      dtype=int64)"
      ]
     },
     "execution_count": 26,
     "metadata": {},
     "output_type": "execute_result"
    }
   ],
   "source": [
    "data.nb_orders.value_counts().values"
   ]
  },
  {
   "cell_type": "code",
   "execution_count": 27,
   "id": "401c781a",
   "metadata": {},
   "outputs": [],
   "source": [
    "nb_orders_data = data.nb_orders.value_counts()"
   ]
  },
  {
   "cell_type": "code",
   "execution_count": 28,
   "id": "cce99f53",
   "metadata": {},
   "outputs": [
    {
     "data": {
      "text/plain": [
       "1     0.968812\n",
       "2     0.028565\n",
       "3     0.002112\n",
       "4     0.000312\n",
       "5     0.000083\n",
       "6     0.000062\n",
       "7     0.000031\n",
       "9     0.000010\n",
       "17    0.000010\n",
       "Name: nb_orders, dtype: float64"
      ]
     },
     "execution_count": 28,
     "metadata": {},
     "output_type": "execute_result"
    }
   ],
   "source": [
    "data.nb_orders.value_counts(normalize=True)"
   ]
  },
  {
   "cell_type": "code",
   "execution_count": 29,
   "id": "3eff28f4",
   "metadata": {},
   "outputs": [
    {
     "data": {
      "text/plain": [
       "Text(0.5, 0, 'Nombre de commandes')"
      ]
     },
     "execution_count": 29,
     "metadata": {},
     "output_type": "execute_result"
    },
    {
     "data": {
      "image/png": "[encoded data removed]",
      "text/plain": [
       "<Figure size 432x288 with 1 Axes>"
      ]
     },
     "metadata": {},
     "output_type": "display_data"
    }
   ],
   "source": [
    "plt.style.use('fivethirtyeight')\n",
    "plt.bar(nb_orders_data.index,\n",
    "        nb_orders_data.values,\n",
    "       color=\"#8c704d\",\n",
    "       alpha=0.7)\n",
    "plt.grid(False, axis='y')\n",
    "plt.xticks(range(1,18))\n",
    "plt.yticks(np.arange(0, 120e3, 20e3))\n",
    "plt.xlabel(\"Nombre de commandes\")\n",
    "# plt.savefig('plots/nb_orders.png',  bbox_inches='tight', dpi=360)"
   ]
  },
  {
   "cell_type": "raw",
   "id": "89ab18d7",
   "metadata": {},
   "source": [
    "Nous avons besoin de clients ayant plus d'une commande pour commencer à comprendre leur comportement. Cela réduit considérablement la taille de la base"
   ]
  },
  {
   "cell_type": "raw",
   "id": "41bbaee1",
   "metadata": {},
   "source": [
    "data = data[data.nb_orders > 1]"
   ]
  },
  {
   "cell_type": "code",
   "execution_count": 30,
   "id": "92538ce8",
   "metadata": {},
   "outputs": [],
   "source": [
    "nb_orders_data_reduced = nb_orders_data[nb_orders_data.index > 1]"
   ]
  },
  {
   "cell_type": "code",
   "execution_count": 31,
   "id": "92e692f6",
   "metadata": {},
   "outputs": [
    {
     "data": {
      "text/plain": [
       "Text(0.5, 0, 'Nombre de commandes')"
      ]
     },
     "execution_count": 31,
     "metadata": {},
     "output_type": "execute_result"
    },
    {
     "data": {
      "image/png": "[encoded data removed]",
      "text/plain": [
       "<Figure size 432x288 with 1 Axes>"
      ]
     },
     "metadata": {},
     "output_type": "display_data"
    }
   ],
   "source": [
    "plt.style.use('fivethirtyeight')\n",
    "plt.bar(nb_orders_data_reduced.index,\n",
    "        nb_orders_data_reduced.values,\n",
    "       color=\"#8c704d\",\n",
    "       alpha=0.7)\n",
    "plt.grid(False, axis='y')\n",
    "plt.xticks(range(2,18))\n",
    "plt.yticks(np.arange(0, 3e3, 500))\n",
    "plt.xlabel(\"Nombre de commandes\")\n",
    "# plt.savefig('plots/nb_orders_reduced.png',  bbox_inches='tight', dpi=360)"
   ]
  },
  {
   "cell_type": "markdown",
   "id": "e49bd5ab",
   "metadata": {},
   "source": [
    "<a id='get_orders_back'></a>\n",
    "### Pour les autres variables nous avons besoin des ids des commandes correspondant à chaque client"
   ]
  },
  {
   "cell_type": "markdown",
   "id": "b48f7fe0",
   "metadata": {},
   "source": [
    "Voir la [fonction](#get_orders)"
   ]
  },
  {
   "cell_type": "code",
   "execution_count": 32,
   "id": "8adf59b2",
   "metadata": {},
   "outputs": [
    {
     "data": {
      "text/plain": [
       "\" A partir d'un id client unique la fonction retourne la liste des commandes correspondantes,\\n    La table des commandes doit au préalable être filtrée en fonction de la date virtuelle de l'étude\\n    Args:\\n        client_unique_id\\n    \""
      ]
     },
     "execution_count": 32,
     "metadata": {},
     "output_type": "execute_result"
    }
   ],
   "source": [
    "get_orders.__doc__"
   ]
  },
  {
   "cell_type": "code",
   "execution_count": 33,
   "id": "d8c38224",
   "metadata": {},
   "outputs": [],
   "source": [
    "data['orders_ids'] = data.index.map(get_orders)"
   ]
  },
  {
   "cell_type": "code",
   "execution_count": 34,
   "id": "8ab8bd38",
   "metadata": {},
   "outputs": [
    {
     "data": {
      "text/html": [
       "<div>\n",
       "<style scoped>\n",
       "    .dataframe tbody tr th:only-of-type {\n",
       "        vertical-align: middle;\n",
       "    }\n",
       "\n",
       "    .dataframe tbody tr th {\n",
       "        vertical-align: top;\n",
       "    }\n",
       "\n",
       "    .dataframe thead th {\n",
       "        text-align: right;\n",
       "    }\n",
       "</style>\n",
       "<table border=\"1\" class=\"dataframe\">\n",
       "  <thead>\n",
       "    <tr style=\"text-align: right;\">\n",
       "      <th></th>\n",
       "      <th>nb_orders</th>\n",
       "      <th>orders_ids</th>\n",
       "    </tr>\n",
       "    <tr>\n",
       "      <th>customer_unique_id</th>\n",
       "      <th></th>\n",
       "      <th></th>\n",
       "    </tr>\n",
       "  </thead>\n",
       "  <tbody>\n",
       "    <tr>\n",
       "      <th>0000366f3b9a7992bf8c76cfdf3221e2</th>\n",
       "      <td>1</td>\n",
       "      <td>[e22acc9c116caa3f2b7121bbb380d08e]</td>\n",
       "    </tr>\n",
       "    <tr>\n",
       "      <th>0000b849f77a49e4a4ce2b2a4ca5be3f</th>\n",
       "      <td>1</td>\n",
       "      <td>[3594e05a005ac4d06a72673270ef9ec9]</td>\n",
       "    </tr>\n",
       "    <tr>\n",
       "      <th>0000f46a3911fa3c0805444483337064</th>\n",
       "      <td>1</td>\n",
       "      <td>[b33ec3b699337181488304f362a6b734]</td>\n",
       "    </tr>\n",
       "    <tr>\n",
       "      <th>0000f6ccb0745a6a4b88665a16c9f078</th>\n",
       "      <td>1</td>\n",
       "      <td>[41272756ecddd9a9ed0180413cc22fb6]</td>\n",
       "    </tr>\n",
       "    <tr>\n",
       "      <th>0004aac84e0df4da2b147fca70cf8255</th>\n",
       "      <td>1</td>\n",
       "      <td>[d957021f1127559cd947b62533f484f7]</td>\n",
       "    </tr>\n",
       "  </tbody>\n",
       "</table>\n",
       "</div>"
      ],
      "text/plain": [
       "                                  nb_orders  \\\n",
       "customer_unique_id                            \n",
       "0000366f3b9a7992bf8c76cfdf3221e2          1   \n",
       "0000b849f77a49e4a4ce2b2a4ca5be3f          1   \n",
       "0000f46a3911fa3c0805444483337064          1   \n",
       "0000f6ccb0745a6a4b88665a16c9f078          1   \n",
       "0004aac84e0df4da2b147fca70cf8255          1   \n",
       "\n",
       "                                                          orders_ids  \n",
       "customer_unique_id                                                    \n",
       "0000366f3b9a7992bf8c76cfdf3221e2  [e22acc9c116caa3f2b7121bbb380d08e]  \n",
       "0000b849f77a49e4a4ce2b2a4ca5be3f  [3594e05a005ac4d06a72673270ef9ec9]  \n",
       "0000f46a3911fa3c0805444483337064  [b33ec3b699337181488304f362a6b734]  \n",
       "0000f6ccb0745a6a4b88665a16c9f078  [41272756ecddd9a9ed0180413cc22fb6]  \n",
       "0004aac84e0df4da2b147fca70cf8255  [d957021f1127559cd947b62533f484f7]  "
      ]
     },
     "execution_count": 34,
     "metadata": {},
     "output_type": "execute_result"
    }
   ],
   "source": [
    "data.head()"
   ]
  },
  {
   "cell_type": "markdown",
   "id": "029867f5",
   "metadata": {},
   "source": [
    "<a id='tps_last_order'></a>\n",
    "## Temps depuis la première et la dernière commande ⏲️\n",
    "Pour représenter l'ancienneté du client et la fraicheur du client. On aura besoin ici de la date virtuelle"
   ]
  },
  {
   "cell_type": "markdown",
   "id": "c0e81e43",
   "metadata": {},
   "source": [
    "Voir la [fonction](#get_nb_days)"
   ]
  },
  {
   "cell_type": "code",
   "execution_count": 35,
   "id": "08d5955d",
   "metadata": {},
   "outputs": [],
   "source": [
    "data[['days_since_first_order', 'days_since_last_order']] = data.apply(get_nb_days, virtual_date=virtual_date, \n",
    "                                                                       orders=orders, axis=1, result_type='expand')"
   ]
  },
  {
   "cell_type": "code",
   "execution_count": 36,
   "id": "4e8f248a",
   "metadata": {},
   "outputs": [
    {
     "data": {
      "text/html": [
       "<div>\n",
       "<style scoped>\n",
       "    .dataframe tbody tr th:only-of-type {\n",
       "        vertical-align: middle;\n",
       "    }\n",
       "\n",
       "    .dataframe tbody tr th {\n",
       "        vertical-align: top;\n",
       "    }\n",
       "\n",
       "    .dataframe thead th {\n",
       "        text-align: right;\n",
       "    }\n",
       "</style>\n",
       "<table border=\"1\" class=\"dataframe\">\n",
       "  <thead>\n",
       "    <tr style=\"text-align: right;\">\n",
       "      <th></th>\n",
       "      <th>days_since_first_order</th>\n",
       "      <th>days_since_last_order</th>\n",
       "    </tr>\n",
       "  </thead>\n",
       "  <tbody>\n",
       "    <tr>\n",
       "      <th>count</th>\n",
       "      <td>96096.000000</td>\n",
       "      <td>96096.000000</td>\n",
       "    </tr>\n",
       "    <tr>\n",
       "      <th>mean</th>\n",
       "      <td>290.458552</td>\n",
       "      <td>287.735691</td>\n",
       "    </tr>\n",
       "    <tr>\n",
       "      <th>std</th>\n",
       "      <td>153.903666</td>\n",
       "      <td>153.414676</td>\n",
       "    </tr>\n",
       "    <tr>\n",
       "      <th>min</th>\n",
       "      <td>0.000000</td>\n",
       "      <td>0.000000</td>\n",
       "    </tr>\n",
       "    <tr>\n",
       "      <th>25%</th>\n",
       "      <td>166.000000</td>\n",
       "      <td>163.000000</td>\n",
       "    </tr>\n",
       "    <tr>\n",
       "      <th>50%</th>\n",
       "      <td>272.000000</td>\n",
       "      <td>268.000000</td>\n",
       "    </tr>\n",
       "    <tr>\n",
       "      <th>75%</th>\n",
       "      <td>400.000000</td>\n",
       "      <td>397.000000</td>\n",
       "    </tr>\n",
       "    <tr>\n",
       "      <th>max</th>\n",
       "      <td>772.000000</td>\n",
       "      <td>772.000000</td>\n",
       "    </tr>\n",
       "  </tbody>\n",
       "</table>\n",
       "</div>"
      ],
      "text/plain": [
       "       days_since_first_order  days_since_last_order\n",
       "count            96096.000000           96096.000000\n",
       "mean               290.458552             287.735691\n",
       "std                153.903666             153.414676\n",
       "min                  0.000000               0.000000\n",
       "25%                166.000000             163.000000\n",
       "50%                272.000000             268.000000\n",
       "75%                400.000000             397.000000\n",
       "max                772.000000             772.000000"
      ]
     },
     "execution_count": 36,
     "metadata": {},
     "output_type": "execute_result"
    }
   ],
   "source": [
    "data[['days_since_first_order', 'days_since_last_order']].describe()"
   ]
  },
  {
   "cell_type": "code",
   "execution_count": 69,
   "id": "20cf26b1",
   "metadata": {},
   "outputs": [
    {
     "data": {
      "image/png": "[encoded data removed]",
      "text/plain": [
       "<Figure size 432x288 with 1 Axes>"
      ]
     },
     "metadata": {},
     "output_type": "display_data"
    }
   ],
   "source": [
    "\n",
    "plt.hist(data.days_since_first_order,\n",
    "         bins=15,\n",
    "           color=\"#59564c\",\n",
    "           alpha=0.7)\n",
    "plt.grid(False, axis='both')\n",
    "plt.xlabel(\"Temps depuis 1ère commandes (Jours)\")\n",
    "plt.ylabel(\"Effectifs\")\n",
    "plt.savefig('plots/tps_depuis_1ere_v2.png',  bbox_inches='tight', dpi=360)"
   ]
  },
  {
   "cell_type": "markdown",
   "id": "48266c2b",
   "metadata": {},
   "source": [
    "<a id='frequence'></a>\n",
    "## Fréquence des commandes\n",
    "Pour représenter la régularité du client. On se basera aussi sur la date virtuelle"
   ]
  },
  {
   "cell_type": "markdown",
   "id": "9027d6a1",
   "metadata": {},
   "source": [
    "Voir la [fonction](#get_frequency)\n",
    "\n",
    "La fréquence est exprimée par mois"
   ]
  },
  {
   "cell_type": "raw",
   "id": "bb92c486",
   "metadata": {},
   "source": [
    "data['frequency'] = data.apply(get_frequency, axis=1)"
   ]
  },
  {
   "cell_type": "raw",
   "id": "201e5a58",
   "metadata": {},
   "source": [
    "data['frequency'].describe()"
   ]
  },
  {
   "cell_type": "raw",
   "id": "56fd11f1",
   "metadata": {},
   "source": [
    "plt.hist(data.frequency, \n",
    "                       bins=80,\n",
    "                       color=\"#8c704d\",\n",
    "                       alpha=0.7)\n",
    "# plt.xticks(np.arange(0,1.1,0.1), rotation=90)\n",
    "plt.xlim([data.frequency.min(),data.frequency.max()])\n",
    "plt.grid(False, axis='both')\n",
    "plt.xlabel(\"Nombre de commandes par mois\")\n",
    "plt.ylabel(\"Effectifs\")\n",
    "# plt.savefig('plots/frequence.png',  bbox_inches='tight', dpi=360)"
   ]
  },
  {
   "cell_type": "markdown",
   "id": "14b9cd6c",
   "metadata": {},
   "source": [
    "<a id='montant'></a>\n",
    "## Montant total des achats 💰"
   ]
  },
  {
   "cell_type": "markdown",
   "id": "10ba75e7",
   "metadata": {},
   "source": [
    "Voir la [fonction](#get_sum_orders)"
   ]
  },
  {
   "cell_type": "code",
   "execution_count": 39,
   "id": "6a80e3bc",
   "metadata": {},
   "outputs": [],
   "source": [
    "data['sum_orders'] = data.apply(get_sum_orders, axis=1)"
   ]
  },
  {
   "cell_type": "code",
   "execution_count": 40,
   "id": "2492ceea",
   "metadata": {},
   "outputs": [
    {
     "data": {
      "text/plain": [
       "count    96096.000000\n",
       "mean       141.438184\n",
       "std        217.215904\n",
       "min          0.000000\n",
       "25%         45.990000\n",
       "50%         89.000000\n",
       "75%        154.000000\n",
       "max      13440.000000\n",
       "Name: sum_orders, dtype: float64"
      ]
     },
     "execution_count": 40,
     "metadata": {},
     "output_type": "execute_result"
    }
   ],
   "source": [
    "data['sum_orders'].describe()"
   ]
  },
  {
   "cell_type": "code",
   "execution_count": 71,
   "id": "f1a2d809",
   "metadata": {},
   "outputs": [
    {
     "data": {
      "image/png": "[encoded data removed]",
      "text/plain": [
       "<Figure size 432x288 with 1 Axes>"
      ]
     },
     "metadata": {},
     "output_type": "display_data"
    }
   ],
   "source": [
    "plt.hist(data.sum_orders, \n",
    "                       bins=100,\n",
    "                       color=\"#59564c\",\n",
    "                       alpha=0.7)\n",
    "# plt.xticks(np.arange(0,1.1,0.1), rotation=90)\n",
    "plt.xlim([data.sum_orders.min(),2500])\n",
    "plt.grid(False, axis='both')\n",
    "plt.xlabel(\"Montants dépensés (Reales)\")\n",
    "plt.ylabel(\"Effectifs\")\n",
    "plt.savefig('plots/montants_v2.png',  bbox_inches='tight', dpi=360)"
   ]
  },
  {
   "cell_type": "markdown",
   "id": "a5b2a75d",
   "metadata": {},
   "source": [
    "<a id='categorie'></a>\n",
    "## Nb de catégories d'interet\n",
    "On essaie ici de détecter le type de produit intéressant le plus le client en prenant la catégoie qu'il a le plus acheté\n",
    "\n",
    "Voir la [fonction](#get_most_frequent_categ)"
   ]
  },
  {
   "cell_type": "code",
   "execution_count": 72,
   "id": "9088b20b",
   "metadata": {},
   "outputs": [],
   "source": [
    "def get_nb_categ(row):\n",
    "    \"\"\"\n",
    "    Retourne la catégorie qui revient le plus souvent dans les achats. \n",
    "    En cas d'égalité on prend la première donnée par value_counts()\n",
    "    \"\"\"\n",
    "    \n",
    "    orders_ids = row.orders_ids\n",
    "\n",
    "    products_ids = order_items[order_items.index.isin(row.orders_ids)].product_id\n",
    "    products_client = products[products.index.isin(products_ids)]\n",
    "    try:\n",
    "        return len(products_client.product_category_name.unique())\n",
    "    except Exception as e:\n",
    "        print(e)\n",
    "        return None\n",
    "#     try:\n",
    "#         return products_client.product_category_name.value_counts().index[0]\n",
    "#     except:\n",
    "#         print('fail')\n",
    "#         if len(products_client.product_category_name.value_counts().index) > 1:\n",
    "#             return products_client.product_category_name.value_counts().index[1]\n",
    "#         else :\n",
    "#             return np.nan"
   ]
  },
  {
   "cell_type": "code",
   "execution_count": 73,
   "id": "3b2ed4bd",
   "metadata": {},
   "outputs": [],
   "source": [
    "data['nb_categ'] = data.apply(get_nb_categ, axis=1)"
   ]
  },
  {
   "cell_type": "code",
   "execution_count": 78,
   "id": "d46c22bc",
   "metadata": {},
   "outputs": [
    {
     "data": {
      "text/plain": [
       "0      676\n",
       "1    93093\n",
       "2     2184\n",
       "3      124\n",
       "4       13\n",
       "5        6\n",
       "Name: nb_categ, dtype: int64"
      ]
     },
     "execution_count": 78,
     "metadata": {},
     "output_type": "execute_result"
    }
   ],
   "source": [
    "data['nb_categ'].value_counts().sort_index()"
   ]
  },
  {
   "cell_type": "code",
   "execution_count": 80,
   "id": "2826602c",
   "metadata": {},
   "outputs": [
    {
     "data": {
      "text/plain": [
       "Text(0.5, 0, 'Effectifs')"
      ]
     },
     "execution_count": 80,
     "metadata": {},
     "output_type": "execute_result"
    },
    {
     "data": {
      "image/png": "[encoded data removed]",
      "text/plain": [
       "<Figure size 432x288 with 1 Axes>"
      ]
     },
     "metadata": {},
     "output_type": "display_data"
    }
   ],
   "source": [
    "data_bar_categ_fav = data['nb_categ'].value_counts().sort_index()\n",
    "plt.bar(data_bar_categ_fav.index,\n",
    "    data_bar_categ_fav.values,\n",
    "        \n",
    "        color=\"#8c704d\",\n",
    "        alpha=0.7)\n",
    "plt.grid(False, axis='both')\n",
    "plt.xlabel(\"Effectifs\")\n",
    "# plt.savefig('plots/categ_fav.png',  bbox_inches='tight', dpi=360)"
   ]
  },
  {
   "cell_type": "markdown",
   "id": "8d9edde6",
   "metadata": {},
   "source": [
    "BOF: pas discriminant"
   ]
  },
  {
   "cell_type": "markdown",
   "id": "03165700",
   "metadata": {},
   "source": [
    "<a id='reviews'></a>\n",
    "## Nombre d'avis postés et note moyenne⭐\n",
    "Implication et satisfaction du client sur le site\n",
    "\n",
    "Voir la [fonction](#get_nb_reviews_and_avg)"
   ]
  },
  {
   "cell_type": "code",
   "execution_count": 59,
   "id": "70a6a890",
   "metadata": {},
   "outputs": [],
   "source": [
    "data[['nb_reviews', 'average_review_score']] = data.apply(get_nb_reviews_and_avg, axis=1, result_type='expand')"
   ]
  },
  {
   "cell_type": "code",
   "execution_count": 60,
   "id": "4b2991ce",
   "metadata": {},
   "outputs": [
    {
     "data": {
      "text/plain": [
       "1.0     93015\n",
       "2.0      2508\n",
       "3.0       405\n",
       "4.0       125\n",
       "5.0        23\n",
       "6.0        13\n",
       "7.0         5\n",
       "17.0        1\n",
       "9.0         1\n",
       "Name: nb_reviews, dtype: int64"
      ]
     },
     "execution_count": 60,
     "metadata": {},
     "output_type": "execute_result"
    }
   ],
   "source": [
    "data.nb_reviews.value_counts()"
   ]
  },
  {
   "cell_type": "code",
   "execution_count": 61,
   "id": "648f1410",
   "metadata": {},
   "outputs": [
    {
     "data": {
      "text/plain": [
       "1     93099\n",
       "2      2745\n",
       "3       203\n",
       "4        30\n",
       "5         8\n",
       "6         6\n",
       "7         3\n",
       "9         1\n",
       "17        1\n",
       "Name: nb_orders, dtype: int64"
      ]
     },
     "execution_count": 61,
     "metadata": {},
     "output_type": "execute_result"
    }
   ],
   "source": [
    "data.nb_orders.value_counts()"
   ]
  },
  {
   "cell_type": "code",
   "execution_count": 62,
   "id": "a278e88c",
   "metadata": {},
   "outputs": [
    {
     "data": {
      "text/plain": [
       "5    0.57420\n",
       "4    0.19200\n",
       "1    0.11858\n",
       "3    0.08287\n",
       "2    0.03235\n",
       "Name: review_score, dtype: float64"
      ]
     },
     "execution_count": 62,
     "metadata": {},
     "output_type": "execute_result"
    }
   ],
   "source": [
    "reviews.review_score.value_counts(normalize=True)"
   ]
  },
  {
   "cell_type": "code",
   "execution_count": null,
   "id": "5880cb6a",
   "metadata": {},
   "outputs": [],
   "source": []
  },
  {
   "cell_type": "markdown",
   "id": "6debb2f6",
   "metadata": {},
   "source": [
    "### C'est louche"
   ]
  },
  {
   "cell_type": "code",
   "execution_count": 63,
   "id": "b5a1c08d",
   "metadata": {},
   "outputs": [
    {
     "data": {
      "text/plain": [
       "count    96096.000000\n",
       "mean         4.069535\n",
       "std          1.353446\n",
       "min          1.000000\n",
       "25%          4.000000\n",
       "50%          5.000000\n",
       "75%          5.000000\n",
       "max          5.000000\n",
       "Name: average_review_score, dtype: float64"
      ]
     },
     "execution_count": 63,
     "metadata": {},
     "output_type": "execute_result"
    }
   ],
   "source": [
    "data.average_review_score.describe()"
   ]
  },
  {
   "cell_type": "code",
   "execution_count": 64,
   "id": "4896ff19",
   "metadata": {},
   "outputs": [
    {
     "data": {
      "text/plain": [
       "False    100000\n",
       "Name: review_score, dtype: int64"
      ]
     },
     "execution_count": 64,
     "metadata": {},
     "output_type": "execute_result"
    }
   ],
   "source": [
    "reviews.review_score.isnull().value_counts()"
   ]
  },
  {
   "cell_type": "markdown",
   "id": "2ab48bbb",
   "metadata": {},
   "source": [
    "On note ici que dans cette base, tous les clients écrivent des reviews et donnent des notes"
   ]
  },
  {
   "cell_type": "code",
   "execution_count": 81,
   "id": "79d250b2",
   "metadata": {},
   "outputs": [
    {
     "data": {
      "image/png": "[encoded data removed]",
      "text/plain": [
       "<Figure size 432x288 with 1 Axes>"
      ]
     },
     "metadata": {},
     "output_type": "display_data"
    }
   ],
   "source": [
    "data_bar_reviews_notes = data.average_review_score.round().value_counts()\n",
    "plt.bar(data_bar_reviews_notes.index,\n",
    "        data_bar_reviews_notes.values,\n",
    "        color=\"#8c704d\",\n",
    "        alpha=0.7)\n",
    "plt.grid(False, axis='both')\n",
    "plt.xlabel(\"Notes moyennes arrondies\")\n",
    "plt.ylabel(\"Effectifs\")\n",
    "plt.savefig('plots/note_moyenne_v2.png',  bbox_inches='tight', dpi=360)"
   ]
  },
  {
   "cell_type": "markdown",
   "id": "91eb1762",
   "metadata": {},
   "source": [
    "<a id='mode_paiement_prefere'></a>\n",
    "## Mode de paiement préféré 💳\n",
    "Relation du client avec l'argent\n",
    "\n",
    "Voir la [fonction](#get_favourite_payment_method)"
   ]
  },
  {
   "cell_type": "code",
   "execution_count": 66,
   "id": "0cc9513d",
   "metadata": {},
   "outputs": [
    {
     "data": {
      "text/plain": [
       "credit_card    76795\n",
       "boleto         19784\n",
       "voucher         5775\n",
       "debit_card      1529\n",
       "not_defined        3\n",
       "Name: payment_type, dtype: int64"
      ]
     },
     "execution_count": 66,
     "metadata": {},
     "output_type": "execute_result"
    }
   ],
   "source": [
    "payments.payment_type.value_counts()"
   ]
  },
  {
   "cell_type": "code",
   "execution_count": 67,
   "id": "97ab8684",
   "metadata": {},
   "outputs": [
    {
     "data": {
      "text/plain": [
       "False    103886\n",
       "Name: payment_type, dtype: int64"
      ]
     },
     "execution_count": 67,
     "metadata": {},
     "output_type": "execute_result"
    }
   ],
   "source": [
    "payments.payment_type.isnull().value_counts()"
   ]
  },
  {
   "cell_type": "code",
   "execution_count": 83,
   "id": "d306c029",
   "metadata": {},
   "outputs": [],
   "source": [
    "data['favourite_payment_type'] = data.apply(get_favourite_payment_method, axis=1).replace('boleto', 'cash')"
   ]
  },
  {
   "cell_type": "code",
   "execution_count": 84,
   "id": "e5eef9a2",
   "metadata": {},
   "outputs": [
    {
     "data": {
      "text/plain": [
       "credit_card    72533\n",
       "cash           19256\n",
       "voucher         2804\n",
       "debit_card      1500\n",
       "not_defined        2\n",
       "Name: favourite_payment_type, dtype: int64"
      ]
     },
     "execution_count": 84,
     "metadata": {},
     "output_type": "execute_result"
    }
   ],
   "source": [
    "data['favourite_payment_type'].value_counts()"
   ]
  },
  {
   "cell_type": "code",
   "execution_count": 94,
   "id": "39821990",
   "metadata": {},
   "outputs": [],
   "source": [
    "data['favourite_payment_type'].replace({'not_defined':'credit_card', 'debit_card':'credit_card'}, inplace=True)"
   ]
  },
  {
   "cell_type": "code",
   "execution_count": 86,
   "id": "4906acb8",
   "metadata": {},
   "outputs": [
    {
     "data": {
      "image/png": "[encoded data removed]",
      "text/plain": [
       "<Figure size 432x288 with 1 Axes>"
      ]
     },
     "metadata": {},
     "output_type": "display_data"
    }
   ],
   "source": [
    "data_bar_payments_notes = data.favourite_payment_type.value_counts().drop(index=['not_defined'])\n",
    "plt.bar(data_bar_payments_notes.index,\n",
    "        data_bar_payments_notes.values,\n",
    "        color=\"#59564c\",\n",
    "        alpha=0.7)\n",
    "plt.grid(False, axis='both')\n",
    "plt.xlabel(\"Moyen de paiement favori\")\n",
    "plt.ylabel(\"Effectifs\")\n",
    "plt.savefig('plots/paiements_v2.png',  bbox_inches='tight', dpi=360)"
   ]
  },
  {
   "cell_type": "markdown",
   "id": "f8b13b8f",
   "metadata": {},
   "source": [
    "<a id='tps_livraison'></a>\n",
    "## Temps et retards de livraison 🚚\n",
    "Expérience logistique du client. pour cette partie nous aurons besoin de créer des variables dans la table \"orders\"\n",
    "\n",
    "Nous regarderons le temps moyen de chaque livraison du client et les temps de retard/avance s'il y en a eu"
   ]
  },
  {
   "cell_type": "code",
   "execution_count": 87,
   "id": "bcaddea1",
   "metadata": {},
   "outputs": [],
   "source": [
    "orders['delivery_time'] = orders.order_delivered_customer_date - orders.order_approved_at"
   ]
  },
  {
   "cell_type": "code",
   "execution_count": 88,
   "id": "b03aaa56",
   "metadata": {},
   "outputs": [],
   "source": [
    "orders['delay'] = orders.order_delivered_customer_date - orders.order_estimated_delivery_date"
   ]
  },
  {
   "cell_type": "code",
   "execution_count": 89,
   "id": "581d7002",
   "metadata": {},
   "outputs": [],
   "source": [
    "orders['was_delayed'] = orders.delay.map(lambda x : x.days > 1)"
   ]
  },
  {
   "cell_type": "code",
   "execution_count": 90,
   "id": "443c3abb",
   "metadata": {},
   "outputs": [],
   "source": [
    "orders['was_in_advance'] = orders.delay.map(lambda x : x.days < -1)"
   ]
  },
  {
   "cell_type": "raw",
   "id": "ce0088f2",
   "metadata": {},
   "source": [
    "orders.head()"
   ]
  },
  {
   "cell_type": "raw",
   "id": "9cf17a90",
   "metadata": {},
   "source": [
    "orders[orders['delivery_time'].isnull() & (orders.order_status == 'delivered')]"
   ]
  },
  {
   "cell_type": "markdown",
   "id": "1e59d6f9",
   "metadata": {},
   "source": [
    "Voir la [fonction](#get_delivery_time_and_delays)"
   ]
  },
  {
   "cell_type": "code",
   "execution_count": 91,
   "id": "871462e1",
   "metadata": {},
   "outputs": [],
   "source": [
    "data[['average_delivery_time', 'delay_rate', 'advance_rate']] = data.apply(get_delivery_time_and_delays, axis=1, result_type='expand')"
   ]
  },
  {
   "cell_type": "code",
   "execution_count": 95,
   "id": "0c5941ce",
   "metadata": {},
   "outputs": [
    {
     "data": {
      "text/plain": [
       "False    93337\n",
       "True      2759\n",
       "Name: average_delivery_time, dtype: int64"
      ]
     },
     "execution_count": 95,
     "metadata": {},
     "output_type": "execute_result"
    }
   ],
   "source": [
    "data.average_delivery_time.isnull().value_counts()"
   ]
  },
  {
   "cell_type": "code",
   "execution_count": 93,
   "id": "ac962c85",
   "metadata": {},
   "outputs": [
    {
     "data": {
      "text/plain": [
       "False    93358\n",
       "True      2738\n",
       "Name: delay_rate, dtype: int64"
      ]
     },
     "execution_count": 93,
     "metadata": {},
     "output_type": "execute_result"
    }
   ],
   "source": [
    "data.delay_rate.isnull().value_counts()"
   ]
  },
  {
   "cell_type": "markdown",
   "id": "a35fea62",
   "metadata": {},
   "source": [
    "Pour les retards non renseignés on replit avec 0\n",
    "\n",
    "Pour les temps de livraisons non renseingés on met la moyenne des temps moyens des autres clients"
   ]
  },
  {
   "cell_type": "code",
   "execution_count": null,
   "id": "9d464dd3",
   "metadata": {},
   "outputs": [],
   "source": [
    "data.delay_rate.fillna(0, inplace=True)\n",
    "data.advance_rate.fillna(0, inplace=True)"
   ]
  },
  {
   "cell_type": "code",
   "execution_count": 97,
   "id": "38ad5573",
   "metadata": {},
   "outputs": [],
   "source": [
    "data.average_delivery_time.fillna(data.average_delivery_time.mean(), inplace=True)"
   ]
  },
  {
   "cell_type": "code",
   "execution_count": 101,
   "id": "d8d9200e",
   "metadata": {},
   "outputs": [],
   "source": [
    "data.average_delivery_time = data.average_delivery_time.map(lambda x : x.round('d').days)"
   ]
  },
  {
   "cell_type": "code",
   "execution_count": 103,
   "id": "1f7a1cf3",
   "metadata": {},
   "outputs": [
    {
     "data": {
      "image/png": "[encoded data removed]",
      "text/plain": [
       "<Figure size 432x288 with 1 Axes>"
      ]
     },
     "metadata": {},
     "output_type": "display_data"
    }
   ],
   "source": [
    "plt.hist(data.average_delivery_time, \n",
    "           bins=25,\n",
    "           color=\"#8c704d\",\n",
    "           alpha=0.7)\n",
    "\n",
    "plt.grid(False, axis='both')\n",
    "plt.xlabel(\"Tps de livraison (Jours)\")\n",
    "plt.ylabel(\"Effectifs\")\n",
    "plt.savefig('plots/tps_livraison_v2.png',  bbox_inches='tight', dpi=360)"
   ]
  },
  {
   "cell_type": "markdown",
   "id": "cef63c87",
   "metadata": {},
   "source": [
    "<a id='annulation'></a>\n",
    "## Commandes annulées ❌\n",
    "Capacité du client à aller jusqu'au bout des commandes\n",
    "Voir la [fonction](#get_cancelation_rate)"
   ]
  },
  {
   "cell_type": "code",
   "execution_count": null,
   "id": "fcb87f8d",
   "metadata": {},
   "outputs": [],
   "source": [
    "data['cancelation_rate'] = data.apply(get_cancelation_rate, axis=1)"
   ]
  },
  {
   "cell_type": "code",
   "execution_count": null,
   "id": "970c711a",
   "metadata": {},
   "outputs": [],
   "source": [
    "data['cancelation_rate'].describe()"
   ]
  },
  {
   "cell_type": "markdown",
   "id": "60f5c0da",
   "metadata": {},
   "source": [
    "<a id='model'></a>\n",
    "# Transformation pour Modélisation ✔️"
   ]
  },
  {
   "cell_type": "code",
   "execution_count": 105,
   "id": "2213b99d",
   "metadata": {},
   "outputs": [
    {
     "data": {
      "text/plain": [
       "Index(['nb_orders', 'orders_ids', 'days_since_first_order',\n",
       "       'days_since_last_order', 'sum_orders', 'favourite_category',\n",
       "       'favourite_category_english', 'nb_reviews', 'average_review_score',\n",
       "       'nb_categ', 'favourite_payment_type', 'average_delivery_time',\n",
       "       'delay_rate', 'advance_rate'],\n",
       "      dtype='object')"
      ]
     },
     "execution_count": 105,
     "metadata": {},
     "output_type": "execute_result"
    }
   ],
   "source": [
    "data.columns"
   ]
  },
  {
   "cell_type": "code",
   "execution_count": 107,
   "id": "a030900d",
   "metadata": {},
   "outputs": [],
   "source": [
    "data.drop(columns=['orders_ids', 'favourite_category',\n",
    "       'favourite_category_english', 'nb_reviews', 'delay_rate', 'advance_rate'], inplace=True)"
   ]
  },
  {
   "cell_type": "raw",
   "id": "0f4135b0",
   "metadata": {},
   "source": [
    "### Simplification de la donnée temporelle (Average delivery time)\n",
    "On arrondi au jour près"
   ]
  },
  {
   "cell_type": "raw",
   "id": "0aa8d284",
   "metadata": {},
   "source": [
    "data.average_delivery_time = data.average_delivery_time.map(lambda x : x.round('d').days)"
   ]
  },
  {
   "cell_type": "markdown",
   "id": "8823250f",
   "metadata": {},
   "source": [
    "### Conversion des données catégoriques en données numériques"
   ]
  },
  {
   "cell_type": "code",
   "execution_count": 108,
   "id": "ef86099e",
   "metadata": {},
   "outputs": [],
   "source": [
    "data = pd.concat([data, pd.get_dummies(data.favourite_payment_type)], axis=1)"
   ]
  },
  {
   "cell_type": "code",
   "execution_count": 110,
   "id": "38b14409",
   "metadata": {},
   "outputs": [],
   "source": [
    "data.drop(columns=['favourite_payment_type'], inplace=True)"
   ]
  },
  {
   "cell_type": "code",
   "execution_count": 111,
   "id": "6ab0e2aa",
   "metadata": {},
   "outputs": [
    {
     "data": {
      "text/html": [
       "<div>\n",
       "<style scoped>\n",
       "    .dataframe tbody tr th:only-of-type {\n",
       "        vertical-align: middle;\n",
       "    }\n",
       "\n",
       "    .dataframe tbody tr th {\n",
       "        vertical-align: top;\n",
       "    }\n",
       "\n",
       "    .dataframe thead th {\n",
       "        text-align: right;\n",
       "    }\n",
       "</style>\n",
       "<table border=\"1\" class=\"dataframe\">\n",
       "  <thead>\n",
       "    <tr style=\"text-align: right;\">\n",
       "      <th></th>\n",
       "      <th>nb_orders</th>\n",
       "      <th>days_since_first_order</th>\n",
       "      <th>days_since_last_order</th>\n",
       "      <th>sum_orders</th>\n",
       "      <th>average_review_score</th>\n",
       "      <th>nb_categ</th>\n",
       "      <th>average_delivery_time</th>\n",
       "      <th>cash</th>\n",
       "      <th>credit_card</th>\n",
       "      <th>voucher</th>\n",
       "    </tr>\n",
       "    <tr>\n",
       "      <th>customer_unique_id</th>\n",
       "      <th></th>\n",
       "      <th></th>\n",
       "      <th></th>\n",
       "      <th></th>\n",
       "      <th></th>\n",
       "      <th></th>\n",
       "      <th></th>\n",
       "      <th></th>\n",
       "      <th></th>\n",
       "      <th></th>\n",
       "    </tr>\n",
       "  </thead>\n",
       "  <tbody>\n",
       "    <tr>\n",
       "      <th>0000366f3b9a7992bf8c76cfdf3221e2</th>\n",
       "      <td>1</td>\n",
       "      <td>160</td>\n",
       "      <td>160</td>\n",
       "      <td>129.90</td>\n",
       "      <td>5.0</td>\n",
       "      <td>1</td>\n",
       "      <td>6</td>\n",
       "      <td>0</td>\n",
       "      <td>1</td>\n",
       "      <td>0</td>\n",
       "    </tr>\n",
       "    <tr>\n",
       "      <th>0000b849f77a49e4a4ce2b2a4ca5be3f</th>\n",
       "      <td>1</td>\n",
       "      <td>163</td>\n",
       "      <td>163</td>\n",
       "      <td>18.90</td>\n",
       "      <td>4.0</td>\n",
       "      <td>1</td>\n",
       "      <td>3</td>\n",
       "      <td>0</td>\n",
       "      <td>1</td>\n",
       "      <td>0</td>\n",
       "    </tr>\n",
       "    <tr>\n",
       "      <th>0000f46a3911fa3c0805444483337064</th>\n",
       "      <td>1</td>\n",
       "      <td>585</td>\n",
       "      <td>585</td>\n",
       "      <td>69.00</td>\n",
       "      <td>3.0</td>\n",
       "      <td>1</td>\n",
       "      <td>26</td>\n",
       "      <td>0</td>\n",
       "      <td>1</td>\n",
       "      <td>0</td>\n",
       "    </tr>\n",
       "    <tr>\n",
       "      <th>0000f6ccb0745a6a4b88665a16c9f078</th>\n",
       "      <td>1</td>\n",
       "      <td>369</td>\n",
       "      <td>369</td>\n",
       "      <td>25.99</td>\n",
       "      <td>4.0</td>\n",
       "      <td>1</td>\n",
       "      <td>20</td>\n",
       "      <td>0</td>\n",
       "      <td>1</td>\n",
       "      <td>0</td>\n",
       "    </tr>\n",
       "    <tr>\n",
       "      <th>0004aac84e0df4da2b147fca70cf8255</th>\n",
       "      <td>1</td>\n",
       "      <td>336</td>\n",
       "      <td>336</td>\n",
       "      <td>180.00</td>\n",
       "      <td>5.0</td>\n",
       "      <td>1</td>\n",
       "      <td>13</td>\n",
       "      <td>0</td>\n",
       "      <td>1</td>\n",
       "      <td>0</td>\n",
       "    </tr>\n",
       "    <tr>\n",
       "      <th>...</th>\n",
       "      <td>...</td>\n",
       "      <td>...</td>\n",
       "      <td>...</td>\n",
       "      <td>...</td>\n",
       "      <td>...</td>\n",
       "      <td>...</td>\n",
       "      <td>...</td>\n",
       "      <td>...</td>\n",
       "      <td>...</td>\n",
       "      <td>...</td>\n",
       "    </tr>\n",
       "    <tr>\n",
       "      <th>fffcf5a5ff07b0908bd4e2dbc735a684</th>\n",
       "      <td>1</td>\n",
       "      <td>495</td>\n",
       "      <td>495</td>\n",
       "      <td>1570.00</td>\n",
       "      <td>5.0</td>\n",
       "      <td>1</td>\n",
       "      <td>28</td>\n",
       "      <td>0</td>\n",
       "      <td>1</td>\n",
       "      <td>0</td>\n",
       "    </tr>\n",
       "    <tr>\n",
       "      <th>fffea47cd6d3cc0a88bd621562a9d061</th>\n",
       "      <td>1</td>\n",
       "      <td>310</td>\n",
       "      <td>310</td>\n",
       "      <td>64.89</td>\n",
       "      <td>4.0</td>\n",
       "      <td>1</td>\n",
       "      <td>30</td>\n",
       "      <td>0</td>\n",
       "      <td>1</td>\n",
       "      <td>0</td>\n",
       "    </tr>\n",
       "    <tr>\n",
       "      <th>ffff371b4d645b6ecea244b27531430a</th>\n",
       "      <td>1</td>\n",
       "      <td>617</td>\n",
       "      <td>617</td>\n",
       "      <td>89.90</td>\n",
       "      <td>5.0</td>\n",
       "      <td>1</td>\n",
       "      <td>15</td>\n",
       "      <td>0</td>\n",
       "      <td>1</td>\n",
       "      <td>0</td>\n",
       "    </tr>\n",
       "    <tr>\n",
       "      <th>ffff5962728ec6157033ef9805bacc48</th>\n",
       "      <td>1</td>\n",
       "      <td>168</td>\n",
       "      <td>168</td>\n",
       "      <td>115.00</td>\n",
       "      <td>5.0</td>\n",
       "      <td>1</td>\n",
       "      <td>12</td>\n",
       "      <td>0</td>\n",
       "      <td>1</td>\n",
       "      <td>0</td>\n",
       "    </tr>\n",
       "    <tr>\n",
       "      <th>ffffd2657e2aad2907e67c3e9daecbeb</th>\n",
       "      <td>1</td>\n",
       "      <td>532</td>\n",
       "      <td>532</td>\n",
       "      <td>56.99</td>\n",
       "      <td>5.0</td>\n",
       "      <td>1</td>\n",
       "      <td>7</td>\n",
       "      <td>0</td>\n",
       "      <td>1</td>\n",
       "      <td>0</td>\n",
       "    </tr>\n",
       "  </tbody>\n",
       "</table>\n",
       "<p>96096 rows × 10 columns</p>\n",
       "</div>"
      ],
      "text/plain": [
       "                                  nb_orders  days_since_first_order  \\\n",
       "customer_unique_id                                                    \n",
       "0000366f3b9a7992bf8c76cfdf3221e2          1                     160   \n",
       "0000b849f77a49e4a4ce2b2a4ca5be3f          1                     163   \n",
       "0000f46a3911fa3c0805444483337064          1                     585   \n",
       "0000f6ccb0745a6a4b88665a16c9f078          1                     369   \n",
       "0004aac84e0df4da2b147fca70cf8255          1                     336   \n",
       "...                                     ...                     ...   \n",
       "fffcf5a5ff07b0908bd4e2dbc735a684          1                     495   \n",
       "fffea47cd6d3cc0a88bd621562a9d061          1                     310   \n",
       "ffff371b4d645b6ecea244b27531430a          1                     617   \n",
       "ffff5962728ec6157033ef9805bacc48          1                     168   \n",
       "ffffd2657e2aad2907e67c3e9daecbeb          1                     532   \n",
       "\n",
       "                                  days_since_last_order  sum_orders  \\\n",
       "customer_unique_id                                                    \n",
       "0000366f3b9a7992bf8c76cfdf3221e2                    160      129.90   \n",
       "0000b849f77a49e4a4ce2b2a4ca5be3f                    163       18.90   \n",
       "0000f46a3911fa3c0805444483337064                    585       69.00   \n",
       "0000f6ccb0745a6a4b88665a16c9f078                    369       25.99   \n",
       "0004aac84e0df4da2b147fca70cf8255                    336      180.00   \n",
       "...                                                 ...         ...   \n",
       "fffcf5a5ff07b0908bd4e2dbc735a684                    495     1570.00   \n",
       "fffea47cd6d3cc0a88bd621562a9d061                    310       64.89   \n",
       "ffff371b4d645b6ecea244b27531430a                    617       89.90   \n",
       "ffff5962728ec6157033ef9805bacc48                    168      115.00   \n",
       "ffffd2657e2aad2907e67c3e9daecbeb                    532       56.99   \n",
       "\n",
       "                                  average_review_score  nb_categ  \\\n",
       "customer_unique_id                                                 \n",
       "0000366f3b9a7992bf8c76cfdf3221e2                   5.0         1   \n",
       "0000b849f77a49e4a4ce2b2a4ca5be3f                   4.0         1   \n",
       "0000f46a3911fa3c0805444483337064                   3.0         1   \n",
       "0000f6ccb0745a6a4b88665a16c9f078                   4.0         1   \n",
       "0004aac84e0df4da2b147fca70cf8255                   5.0         1   \n",
       "...                                                ...       ...   \n",
       "fffcf5a5ff07b0908bd4e2dbc735a684                   5.0         1   \n",
       "fffea47cd6d3cc0a88bd621562a9d061                   4.0         1   \n",
       "ffff371b4d645b6ecea244b27531430a                   5.0         1   \n",
       "ffff5962728ec6157033ef9805bacc48                   5.0         1   \n",
       "ffffd2657e2aad2907e67c3e9daecbeb                   5.0         1   \n",
       "\n",
       "                                  average_delivery_time  cash  credit_card  \\\n",
       "customer_unique_id                                                           \n",
       "0000366f3b9a7992bf8c76cfdf3221e2                      6     0            1   \n",
       "0000b849f77a49e4a4ce2b2a4ca5be3f                      3     0            1   \n",
       "0000f46a3911fa3c0805444483337064                     26     0            1   \n",
       "0000f6ccb0745a6a4b88665a16c9f078                     20     0            1   \n",
       "0004aac84e0df4da2b147fca70cf8255                     13     0            1   \n",
       "...                                                 ...   ...          ...   \n",
       "fffcf5a5ff07b0908bd4e2dbc735a684                     28     0            1   \n",
       "fffea47cd6d3cc0a88bd621562a9d061                     30     0            1   \n",
       "ffff371b4d645b6ecea244b27531430a                     15     0            1   \n",
       "ffff5962728ec6157033ef9805bacc48                     12     0            1   \n",
       "ffffd2657e2aad2907e67c3e9daecbeb                      7     0            1   \n",
       "\n",
       "                                  voucher  \n",
       "customer_unique_id                         \n",
       "0000366f3b9a7992bf8c76cfdf3221e2        0  \n",
       "0000b849f77a49e4a4ce2b2a4ca5be3f        0  \n",
       "0000f46a3911fa3c0805444483337064        0  \n",
       "0000f6ccb0745a6a4b88665a16c9f078        0  \n",
       "0004aac84e0df4da2b147fca70cf8255        0  \n",
       "...                                   ...  \n",
       "fffcf5a5ff07b0908bd4e2dbc735a684        0  \n",
       "fffea47cd6d3cc0a88bd621562a9d061        0  \n",
       "ffff371b4d645b6ecea244b27531430a        0  \n",
       "ffff5962728ec6157033ef9805bacc48        0  \n",
       "ffffd2657e2aad2907e67c3e9daecbeb        0  \n",
       "\n",
       "[96096 rows x 10 columns]"
      ]
     },
     "execution_count": 111,
     "metadata": {},
     "output_type": "execute_result"
    }
   ],
   "source": [
    "data"
   ]
  },
  {
   "cell_type": "markdown",
   "id": "51d404e4",
   "metadata": {},
   "source": [
    "### Suppression des colonnes qui ne sont pas utiles pour la modélisation"
   ]
  },
  {
   "cell_type": "code",
   "execution_count": null,
   "id": "07bd8550",
   "metadata": {},
   "outputs": [],
   "source": [
    "data.drop(columns=['orders_ids', 'favourite_category', 'favourite_category_english', 'favourite_payment_type'], inplace=True)"
   ]
  },
  {
   "cell_type": "code",
   "execution_count": null,
   "id": "a9b46cf7",
   "metadata": {},
   "outputs": [],
   "source": [
    "data.describe()"
   ]
  },
  {
   "cell_type": "code",
   "execution_count": 112,
   "id": "8a49f7da",
   "metadata": {},
   "outputs": [],
   "source": [
    "data.to_csv('data/customer_data_v_3.csv')"
   ]
  },
  {
   "cell_type": "code",
   "execution_count": null,
   "id": "4e2f45b8",
   "metadata": {},
   "outputs": [],
   "source": []
  },
  {
   "cell_type": "code",
   "execution_count": null,
   "id": "88105d0b",
   "metadata": {},
   "outputs": [],
   "source": []
  }
 ],
 "metadata": {
  "kernelspec": {
   "display_name": "OC_P05_env",
   "language": "python",
   "name": "oc_p05_env"
  },
  "language_info": {
   "codemirror_mode": {
    "name": "ipython",
    "version": 3
   },
   "file_extension": ".py",
   "mimetype": "text/x-python",
   "name": "python",
   "nbconvert_exporter": "python",
   "pygments_lexer": "ipython3",
   "version": "3.8.5"
  }
 },
 "nbformat": 4,
 "nbformat_minor": 5
}
