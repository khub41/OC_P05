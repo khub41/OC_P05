{
 "cells": [
  {
   "cell_type": "markdown",
   "id": "suspected-airline",
   "metadata": {},
   "source": [
    "<img src=\"img/Logo_OpenClassrooms.png\" width=100 />"
   ]
  },
  {
   "cell_type": "markdown",
   "id": "formal-sociology",
   "metadata": {},
   "source": [
    "# OpenClassrooms Projet 5: Segmentez des clients d'un site e-commerce\n",
    "# Analyse Exploratoire\n",
    "\n",
    "Olist souhaite que vous fournissiez à ses équipes d'e-commerce une segmentation des clients qu’elles pourront utiliser au quotidien pour leurs campagnes de communication.\n",
    "\n",
    "Votre objectif est de comprendre les différents types d’utilisateurs grâce à leur comportement et à leurs données personnelles.\n",
    "\n",
    "Vous devrez fournir à l’équipe marketing une description actionable de votre segmentation et de sa logique sous-jacente pour une utilisation optimale, ainsi qu’une proposition de contrat de maintenance basée sur une analyse de la stabilité des segments au cours du temps.\n",
    "\n",
    "### Les données\n",
    "Pour cette mission, Olist vous fournit une base de données anonymisée comportant des informations sur l’historique de commandes, les produits achetés, les commentaires de satisfaction, et la localisation des clients depuis janvier 2017.\n",
    "\n",
    "### Votre mission\n",
    "Votre mission est d’aider les équipes d’Olist à comprendre les différents types d'utilisateurs. Vous utiliserez donc des méthodes non supervisées pour regrouper ensemble des clients de profils similaires. Ces catégories pourront être utilisées par l’équipe marketing pour mieux communiquer.\n",
    "\n",
    "Pour des raisons de confidentialité, Olist ne fournit pas beaucoup de données, à vous de fouiller dans celles dont vous disposez et de créer les meilleures features pour les exploiter.\n",
    "\n",
    "Enfin, votre client, Olist, a spécifié sa demande ainsi :\n",
    "\n",
    "- La segmentation proposée doit être exploitable et facile d’utilisation pour l’équipe marketing.\n",
    "- Vous évaluerez la fréquence à laquelle la segmentation doit être mise à jour, afin de pouvoir effectuer un devis de contrat de maintenance.\n",
    "- Le code fourni doit respecter la convention PEP8, pour être utilisable par Olist.\n"
   ]
  },
  {
   "cell_type": "markdown",
   "id": "angry-charger",
   "metadata": {},
   "source": [
    "# Sommaire\n",
    "### [Bibliothèques](#1_bibli)\n",
    "### [Fonctions](#1_funcs)\n",
    "### [Données](#1_donnees)\n",
    "### [Création de la base](#1_creation_base)\n",
    "### [Transformation pour Modélisation](#model)"
   ]
  },
  {
   "cell_type": "markdown",
   "id": "rural-labor",
   "metadata": {},
   "source": [
    "<a id='1_bibli'></a>\n",
    "# Import de bibliothèques 📚"
   ]
  },
  {
   "cell_type": "code",
   "execution_count": 1,
   "id": "wireless-plaza",
   "metadata": {},
   "outputs": [],
   "source": [
    "import pandas as pd\n",
    "pd.set_option(\"mode.chained_assignment\", None)\n",
    "import numpy as np"
   ]
  },
  {
   "cell_type": "markdown",
   "id": "alpine-immunology",
   "metadata": {},
   "source": [
    "<a id='1_funcs'></a>"
   ]
  },
  {
   "cell_type": "markdown",
   "id": "loaded-alexandria",
   "metadata": {},
   "source": [
    "# Fonctions ⚙️"
   ]
  },
  {
   "cell_type": "markdown",
   "id": "capable-dominant",
   "metadata": {},
   "source": [
    "<a id='get_orders'></a>"
   ]
  },
  {
   "cell_type": "code",
   "execution_count": 2,
   "id": "effective-candy",
   "metadata": {},
   "outputs": [],
   "source": [
    "def get_orders(client_unique_id):\n",
    "    \"\"\" A partir d'un id client unique la fonction retourne la liste des commandes correspondantes,\n",
    "    La table des commandes doit au préalable être filtrée en fonction de la date virtuelle de l'étude\n",
    "    Args:\n",
    "        client_unique_id\n",
    "    \"\"\"\n",
    "    \n",
    "    # Avec l'id unique du client on récupère les id clients qui sont liés à chaque commande\n",
    "    ids_client = customers[customers['customer_unique_id'] == client_unique_id].customer_id.values\n",
    "    # On peut ensuite récupérer les id des commandes correspondant à ces ids clients\n",
    "    orders_client = orders[orders.customer_id.isin(ids_client)]\n",
    "    # On récupère juste les ids\n",
    "    ids_orders_client = orders_client.index.values\n",
    "    return ids_orders_client"
   ]
  },
  {
   "cell_type": "markdown",
   "id": "entire-equality",
   "metadata": {},
   "source": [
    "[Retour au code](#get_orders_back)"
   ]
  },
  {
   "cell_type": "markdown",
   "id": "former-status",
   "metadata": {},
   "source": [
    "<a id='get_nb_days'></a>"
   ]
  },
  {
   "cell_type": "code",
   "execution_count": 3,
   "id": "actual-saver",
   "metadata": {},
   "outputs": [],
   "source": [
    "def get_nb_days(row, virtual_date, orders):\n",
    "    \"\"\"\n",
    "    Cette fonction calcule le nombre de jours écoulés depuis la première et la dernière \n",
    "    commande en prenant pour référence la date virtuelle de l'étude.\n",
    "    Args :\n",
    "        row: Pandas DataFrame row (Series) avec un attribut \"orders_ids\"\n",
    "        Timestamp \n",
    "        Pandas DataFrame : avec les données des commandes\n",
    "    Returns :\n",
    "        Tuple\n",
    "    \"\"\"\n",
    "    orders_ids = row.orders_ids\n",
    "    \n",
    "    date_first_order = orders.loc[orders_ids[0], 'order_purchase_timestamp']\n",
    "    date_last_order = orders.loc[orders_ids[-1], 'order_purchase_timestamp']\n",
    "    \n",
    "    since_first = (virtual_date - date_first_order).days\n",
    "    since_last = (virtual_date - date_last_order).days\n",
    "    return since_first, since_last"
   ]
  },
  {
   "cell_type": "markdown",
   "id": "artistic-rachel",
   "metadata": {},
   "source": [
    "[Retour au code](#tps_last_order)"
   ]
  },
  {
   "cell_type": "markdown",
   "id": "acoustic-project",
   "metadata": {},
   "source": [
    "<a id='get_frequency'></a>"
   ]
  },
  {
   "cell_type": "code",
   "execution_count": 4,
   "id": "scheduled-alexandria",
   "metadata": {},
   "outputs": [],
   "source": [
    "def get_frequency(row):\n",
    "    \"\"\"\n",
    "    Calcul du nombre de commandes par mois entre la première commande\n",
    "    et la date virtuelle.\n",
    "    \"\"\"\n",
    "    return row.nb_orders / row.days_since_first_order * 365.25 / 12"
   ]
  },
  {
   "cell_type": "markdown",
   "id": "recreational-counter",
   "metadata": {},
   "source": [
    "[Retour au code](#frequence)"
   ]
  },
  {
   "cell_type": "markdown",
   "id": "breeding-collect",
   "metadata": {},
   "source": [
    "<a id='get_sum_orders'></a>"
   ]
  },
  {
   "cell_type": "code",
   "execution_count": 5,
   "id": "expensive-wallet",
   "metadata": {},
   "outputs": [],
   "source": [
    "def get_sum_orders(row):\n",
    "    \"\"\"\n",
    "    Calcule la somme des montants des commandes\n",
    "    \"\"\"\n",
    "    return order_items[order_items.index.isin(row.orders_ids)].price.sum()    "
   ]
  },
  {
   "cell_type": "markdown",
   "id": "structured-transformation",
   "metadata": {},
   "source": [
    "[Retour au code](#montant)"
   ]
  },
  {
   "cell_type": "markdown",
   "id": "occupied-chuck",
   "metadata": {},
   "source": [
    "<a id='get_most_frequent_categ'></a>"
   ]
  },
  {
   "cell_type": "code",
   "execution_count": 6,
   "id": "herbal-pakistan",
   "metadata": {},
   "outputs": [],
   "source": [
    "def get_most_frequent_categ(row):\n",
    "    \"\"\"\n",
    "    Retourne la catégorie qui revient le plus souvent dans les achats. \n",
    "    En cas d'égalité on prend la première donnée par value_counts()\n",
    "    \"\"\"\n",
    "    \n",
    "    orders_ids = row.orders_ids\n",
    "\n",
    "    products_ids = order_items[order_items.index.isin(row.orders_ids)].product_id\n",
    "    products_client = products[products.index.isin(products_ids)]\n",
    "\n",
    "    try:\n",
    "        return products_client.product_category_name.value_counts().index[0]\n",
    "    except:\n",
    "        print('fail')\n",
    "        if len(products_client.product_category_name.value_counts().index) > 1:\n",
    "            return products_client.product_category_name.value_counts().index[1]\n",
    "        else :\n",
    "            return np.nan"
   ]
  },
  {
   "cell_type": "markdown",
   "id": "interesting-hydrogen",
   "metadata": {},
   "source": [
    "[Retour au code](#categorie)"
   ]
  },
  {
   "cell_type": "markdown",
   "id": "scientific-teaching",
   "metadata": {},
   "source": [
    "<a id='get_nb_reviews_and_avg'></a>"
   ]
  },
  {
   "cell_type": "code",
   "execution_count": 7,
   "id": "married-pioneer",
   "metadata": {},
   "outputs": [],
   "source": [
    "def get_nb_reviews_and_avg(row):\n",
    "    \"\"\"\n",
    "    Recupère le nombre de reviews et la note moyenne\n",
    "    \"\"\"\n",
    "    orders_ids = row.orders_ids\n",
    "    client_reviews = reviews[reviews.order_id.isin(orders_ids)]\n",
    "    if len(client_reviews) > 0:\n",
    "        return len(client_reviews), client_reviews.review_score.mean()\n",
    "    else:\n",
    "        return 0, np.nan"
   ]
  },
  {
   "cell_type": "markdown",
   "id": "individual-elder",
   "metadata": {},
   "source": [
    "[Retour au code](#reviews)"
   ]
  },
  {
   "cell_type": "markdown",
   "id": "through-donna",
   "metadata": {},
   "source": [
    "<a id='get_favourite_payment_method'></a>"
   ]
  },
  {
   "cell_type": "code",
   "execution_count": 8,
   "id": "thirty-integer",
   "metadata": {},
   "outputs": [],
   "source": [
    "def get_favourite_payment_method(row):\n",
    "    \"\"\"\n",
    "    Retourne le type de paiement préféré du client\n",
    "    \"\"\"\n",
    "    orders_ids = row.orders_ids\n",
    "    payment_methods = payments[payments.order_id.isin(orders_ids)].payment_type.value_counts()\n",
    "    return payment_methods.index[0]"
   ]
  },
  {
   "cell_type": "markdown",
   "id": "overhead-popularity",
   "metadata": {},
   "source": [
    "[Retour au code](#mode_paiement_prefere)"
   ]
  },
  {
   "cell_type": "markdown",
   "id": "loved-beast",
   "metadata": {},
   "source": [
    "<a id='get_delivery_time_and_delays'></a>"
   ]
  },
  {
   "cell_type": "code",
   "execution_count": 95,
   "id": "dangerous-condition",
   "metadata": {},
   "outputs": [],
   "source": [
    "def get_delivery_time_and_delays(row):\n",
    "    \"\"\"\n",
    "    Pour les clients ayant eu des commandes ayant abouties, on calcule le taux d'avance, de retard et le temps moyen de livraison\n",
    "    \"\"\"\n",
    "    client_orders = orders[orders.index.isin(row.orders_ids)]\n",
    "    client_orders = client_orders[client_orders.order_status == 'delivered']\n",
    "    \n",
    "    if client_orders.shape[0] > 0:\n",
    "        was_delayed_counts = client_orders.was_delayed.value_counts(normalize=True)\n",
    "        if True in was_delayed_counts.index:\n",
    "            delay_rate = was_delayed_counts.loc[True]\n",
    "        else:\n",
    "            delay_rate = 0\n",
    "        was_in_advance_counts = client_orders.was_in_advance.value_counts(normalize=True)\n",
    "        if True in was_in_advance_counts.index:\n",
    "            advance_rate = was_in_advance_counts.loc[True]\n",
    "        else:\n",
    "            advance_rate = 0\n",
    "        return client_orders.delivery_time.mean(), delay_rate, advance_rate\n",
    "    else:\n",
    "        np.nan, np.nan, np.nan"
   ]
  },
  {
   "cell_type": "markdown",
   "id": "human-generic",
   "metadata": {},
   "source": [
    "[Retour au code](#tps_livraison)"
   ]
  },
  {
   "cell_type": "markdown",
   "id": "front-roommate",
   "metadata": {},
   "source": [
    "<a id='get_cancelation_rate'></a>"
   ]
  },
  {
   "cell_type": "code",
   "execution_count": 118,
   "id": "meaning-german",
   "metadata": {},
   "outputs": [],
   "source": [
    "def get_cancelation_rate(row):\n",
    "    client_orders = orders[orders.index.isin(row.orders_ids)]\n",
    "    status_counts = client_orders.order_status.value_counts(normalize=True)\n",
    "    if 'canceled' in status_counts.index:\n",
    "        return status_counts.loc['canceled']\n",
    "    else:\n",
    "        return 0"
   ]
  },
  {
   "cell_type": "markdown",
   "id": "ongoing-hardware",
   "metadata": {},
   "source": [
    "[Retour au code](#annulation)"
   ]
  },
  {
   "cell_type": "markdown",
   "id": "detected-medication",
   "metadata": {},
   "source": [
    "<a id='1_donnees'></a>"
   ]
  },
  {
   "cell_type": "markdown",
   "id": "living-monthly",
   "metadata": {},
   "source": [
    "# Données 🎁"
   ]
  },
  {
   "cell_type": "markdown",
   "id": "appreciated-burton",
   "metadata": {},
   "source": [
    "<img src=\"img/structure.png\" width=500 />"
   ]
  },
  {
   "cell_type": "code",
   "execution_count": 9,
   "id": "natural-excitement",
   "metadata": {},
   "outputs": [],
   "source": [
    "orders = pd.read_csv('data/olist_orders_dataset.csv', index_col='order_id',parse_dates=['order_purchase_timestamp', \n",
    "                                                                                        'order_approved_at',\t\n",
    "                                                                                        'order_delivered_carrier_date',\t\n",
    "                                                                                        'order_delivered_customer_date',\n",
    "                                                                                        'order_estimated_delivery_date'])\n",
    "order_items = pd.read_csv('data/olist_order_items_dataset.csv',  index_col='order_id')\n",
    "products = pd.read_csv('data/olist_products_dataset.csv', index_col='product_id', na_values=np.nan)\n",
    "customers = pd.read_csv('data/olist_customers_dataset.csv')\n",
    "reviews = pd.read_csv('data/olist_order_reviews_dataset.csv')\n",
    "geolocs = pd.read_csv('data/olist_geolocation_dataset.csv')\n",
    "payments = pd.read_csv('data/olist_order_payments_dataset.csv')\n",
    "products_categ_traduction = pd.read_csv('data/product_category_name_translation.csv')"
   ]
  },
  {
   "cell_type": "markdown",
   "id": "communist-quilt",
   "metadata": {},
   "source": [
    "Application de la traduction des catégories de produits:"
   ]
  },
  {
   "cell_type": "code",
   "execution_count": 10,
   "id": "abandoned-burner",
   "metadata": {},
   "outputs": [],
   "source": [
    "products = products.merge(products_categ_traduction, how='left').set_axis(products.index)"
   ]
  },
  {
   "cell_type": "code",
   "execution_count": 11,
   "id": "divided-liabilities",
   "metadata": {},
   "outputs": [
    {
     "data": {
      "text/plain": [
       "False"
      ]
     },
     "execution_count": 11,
     "metadata": {},
     "output_type": "execute_result"
    }
   ],
   "source": [
    "products_categ_traduction.shape[0] == len(products.product_category_name.unique())"
   ]
  },
  {
   "cell_type": "markdown",
   "id": "reduced-chair",
   "metadata": {},
   "source": [
    "On ne peut pas vraiment utiliser la table de traduction car elle génère des NaN en anglais"
   ]
  },
  {
   "cell_type": "markdown",
   "id": "danish-history",
   "metadata": {},
   "source": [
    "<a id='1_creation_base'></a>"
   ]
  },
  {
   "cell_type": "markdown",
   "id": "settled-deficit",
   "metadata": {},
   "source": [
    "# Création d'une base répondant au besoin ✅\n",
    "La base doit avoir pour index les ids des clients avec des variables en relation avec son comportement.\n",
    "\n",
    "Variables retenues:\n",
    "- [Nombre de commandes](#nb_commandes)\n",
    "- [Temps depuis la première et la dernière commande](#tps_last_order)\n",
    "- [Fréquence achats](#frequence)\n",
    "- [Montants dépensés](#montant)\n",
    "- [Catégorie de produit la plus fréquente](#categorie)\n",
    "- [Nombre d'avis postés et note moyenne](#reviews)\n",
    "- [Mode de paiement préféré](#mode_paiement_prefere)\n",
    "- [Temps de livraison et retards](#tps_livraison)\n",
    "- [Taux d'annulation des commandes](#annulation)\n",
    "\n",
    "### Important:\n",
    "Pour le bon fonctionnement du projet, les fonctions développées pour la constitution de la base prendront en paramètre la date à laquelle on veut se fixer virtuellement. En effet on cherchera plus tard dans ce projet à déterminer la fréquence de mise à jour de la base d'entrainement du modèle.\n",
    "On prendra toujours dans ce notebook la dernière date de la base de donnée."
   ]
  },
  {
   "cell_type": "code",
   "execution_count": 12,
   "id": "frozen-relay",
   "metadata": {},
   "outputs": [],
   "source": [
    "virtual_date = orders.order_purchase_timestamp.max()"
   ]
  },
  {
   "cell_type": "code",
   "execution_count": 13,
   "id": "close-found",
   "metadata": {},
   "outputs": [
    {
     "data": {
      "text/plain": [
       "Timestamp('2018-10-17 17:30:18')"
      ]
     },
     "execution_count": 13,
     "metadata": {},
     "output_type": "execute_result"
    }
   ],
   "source": [
    "orders.order_purchase_timestamp.max()"
   ]
  },
  {
   "cell_type": "markdown",
   "id": "japanese-secret",
   "metadata": {},
   "source": [
    "<a id='nb_commandes'></a>"
   ]
  },
  {
   "cell_type": "markdown",
   "id": "exclusive-oriental",
   "metadata": {},
   "source": [
    "## Nombre de commandes par client 🥰"
   ]
  },
  {
   "cell_type": "markdown",
   "id": "practical-embassy",
   "metadata": {},
   "source": [
    "Cette variable est la plus importante car va nous permettre de connaitre la taille de notre dataset. En effet, difficile de classer des clients n'ayant fait qu'une commande"
   ]
  },
  {
   "cell_type": "markdown",
   "id": "affecting-vision",
   "metadata": {},
   "source": [
    "Regardons comment fonctionnent les id des clients"
   ]
  },
  {
   "cell_type": "code",
   "execution_count": 14,
   "id": "italic-fruit",
   "metadata": {},
   "outputs": [
    {
     "data": {
      "text/html": [
       "<div>\n",
       "<style scoped>\n",
       "    .dataframe tbody tr th:only-of-type {\n",
       "        vertical-align: middle;\n",
       "    }\n",
       "\n",
       "    .dataframe tbody tr th {\n",
       "        vertical-align: top;\n",
       "    }\n",
       "\n",
       "    .dataframe thead th {\n",
       "        text-align: right;\n",
       "    }\n",
       "</style>\n",
       "<table border=\"1\" class=\"dataframe\">\n",
       "  <thead>\n",
       "    <tr style=\"text-align: right;\">\n",
       "      <th></th>\n",
       "      <th>customer_id</th>\n",
       "      <th>customer_unique_id</th>\n",
       "      <th>customer_zip_code_prefix</th>\n",
       "      <th>customer_city</th>\n",
       "      <th>customer_state</th>\n",
       "    </tr>\n",
       "  </thead>\n",
       "  <tbody>\n",
       "    <tr>\n",
       "      <th>0</th>\n",
       "      <td>06b8999e2fba1a1fbc88172c00ba8bc7</td>\n",
       "      <td>861eff4711a542e4b93843c6dd7febb0</td>\n",
       "      <td>14409</td>\n",
       "      <td>franca</td>\n",
       "      <td>SP</td>\n",
       "    </tr>\n",
       "    <tr>\n",
       "      <th>1</th>\n",
       "      <td>18955e83d337fd6b2def6b18a428ac77</td>\n",
       "      <td>290c77bc529b7ac935b93aa66c333dc3</td>\n",
       "      <td>9790</td>\n",
       "      <td>sao bernardo do campo</td>\n",
       "      <td>SP</td>\n",
       "    </tr>\n",
       "    <tr>\n",
       "      <th>2</th>\n",
       "      <td>4e7b3e00288586ebd08712fdd0374a03</td>\n",
       "      <td>060e732b5b29e8181a18229c7b0b2b5e</td>\n",
       "      <td>1151</td>\n",
       "      <td>sao paulo</td>\n",
       "      <td>SP</td>\n",
       "    </tr>\n",
       "    <tr>\n",
       "      <th>3</th>\n",
       "      <td>b2b6027bc5c5109e529d4dc6358b12c3</td>\n",
       "      <td>259dac757896d24d7702b9acbbff3f3c</td>\n",
       "      <td>8775</td>\n",
       "      <td>mogi das cruzes</td>\n",
       "      <td>SP</td>\n",
       "    </tr>\n",
       "    <tr>\n",
       "      <th>4</th>\n",
       "      <td>4f2d8ab171c80ec8364f7c12e35b23ad</td>\n",
       "      <td>345ecd01c38d18a9036ed96c73b8d066</td>\n",
       "      <td>13056</td>\n",
       "      <td>campinas</td>\n",
       "      <td>SP</td>\n",
       "    </tr>\n",
       "  </tbody>\n",
       "</table>\n",
       "</div>"
      ],
      "text/plain": [
       "                        customer_id                customer_unique_id  \\\n",
       "0  06b8999e2fba1a1fbc88172c00ba8bc7  861eff4711a542e4b93843c6dd7febb0   \n",
       "1  18955e83d337fd6b2def6b18a428ac77  290c77bc529b7ac935b93aa66c333dc3   \n",
       "2  4e7b3e00288586ebd08712fdd0374a03  060e732b5b29e8181a18229c7b0b2b5e   \n",
       "3  b2b6027bc5c5109e529d4dc6358b12c3  259dac757896d24d7702b9acbbff3f3c   \n",
       "4  4f2d8ab171c80ec8364f7c12e35b23ad  345ecd01c38d18a9036ed96c73b8d066   \n",
       "\n",
       "   customer_zip_code_prefix          customer_city customer_state  \n",
       "0                     14409                 franca             SP  \n",
       "1                      9790  sao bernardo do campo             SP  \n",
       "2                      1151              sao paulo             SP  \n",
       "3                      8775        mogi das cruzes             SP  \n",
       "4                     13056               campinas             SP  "
      ]
     },
     "execution_count": 14,
     "metadata": {},
     "output_type": "execute_result"
    }
   ],
   "source": [
    "customers.head()"
   ]
  },
  {
   "cell_type": "code",
   "execution_count": 15,
   "id": "acute-version",
   "metadata": {},
   "outputs": [
    {
     "data": {
      "text/plain": [
       "96096"
      ]
     },
     "execution_count": 15,
     "metadata": {},
     "output_type": "execute_result"
    }
   ],
   "source": [
    "len(customers.customer_unique_id.unique())"
   ]
  },
  {
   "cell_type": "code",
   "execution_count": 16,
   "id": "clinical-final",
   "metadata": {},
   "outputs": [
    {
     "data": {
      "text/plain": [
       "99441"
      ]
     },
     "execution_count": 16,
     "metadata": {},
     "output_type": "execute_result"
    }
   ],
   "source": [
    "len(customers.customer_id.unique())"
   ]
  },
  {
   "cell_type": "code",
   "execution_count": 17,
   "id": "elder-brief",
   "metadata": {},
   "outputs": [
    {
     "data": {
      "text/plain": [
       "Index(['customer_id', 'order_status', 'order_purchase_timestamp',\n",
       "       'order_approved_at', 'order_delivered_carrier_date',\n",
       "       'order_delivered_customer_date', 'order_estimated_delivery_date'],\n",
       "      dtype='object')"
      ]
     },
     "execution_count": 17,
     "metadata": {},
     "output_type": "execute_result"
    }
   ],
   "source": [
    "orders.columns"
   ]
  },
  {
   "cell_type": "markdown",
   "id": "sustainable-panama",
   "metadata": {},
   "source": [
    "On filtre ici la date virtuelle pour garder un trace mais cette commande est neutre"
   ]
  },
  {
   "cell_type": "code",
   "execution_count": 18,
   "id": "indie-algeria",
   "metadata": {},
   "outputs": [],
   "source": [
    "orders = orders[orders.order_purchase_timestamp <= virtual_date]"
   ]
  },
  {
   "cell_type": "code",
   "execution_count": 19,
   "id": "manual-vacation",
   "metadata": {},
   "outputs": [],
   "source": [
    "orders = orders.merge(customers[['customer_id', 'customer_unique_id']], how='left').set_axis(orders.index)"
   ]
  },
  {
   "cell_type": "markdown",
   "id": "damaged-potato",
   "metadata": {},
   "source": [
    "On trie par date pour conserver un ordre des commandes logique"
   ]
  },
  {
   "cell_type": "code",
   "execution_count": 20,
   "id": "afraid-accreditation",
   "metadata": {},
   "outputs": [],
   "source": [
    "orders.sort_values('order_purchase_timestamp', inplace=True)"
   ]
  },
  {
   "cell_type": "code",
   "execution_count": 21,
   "id": "cordless-liverpool",
   "metadata": {},
   "outputs": [
    {
     "data": {
      "text/plain": [
       "False    93099\n",
       "True      2997\n",
       "Name: customer_id, dtype: int64"
      ]
     },
     "execution_count": 21,
     "metadata": {},
     "output_type": "execute_result"
    }
   ],
   "source": [
    "(orders.groupby('customer_unique_id').count().customer_id > 1).value_counts()"
   ]
  },
  {
   "cell_type": "markdown",
   "id": "fewer-bachelor",
   "metadata": {},
   "source": [
    "### Il n'y a dans la base clients que 2997 clients ayant fait plus d'un commande"
   ]
  },
  {
   "cell_type": "code",
   "execution_count": 22,
   "id": "raising-antenna",
   "metadata": {},
   "outputs": [],
   "source": [
    "data = pd.DataFrame(orders.groupby('customer_unique_id').count().customer_id)"
   ]
  },
  {
   "cell_type": "code",
   "execution_count": 23,
   "id": "seven-title",
   "metadata": {},
   "outputs": [],
   "source": [
    "data.columns = ['nb_orders']"
   ]
  },
  {
   "cell_type": "markdown",
   "id": "primary-welcome",
   "metadata": {},
   "source": [
    "Nous avons besoin de clients ayant plus d'une commande pour commencer à comprendre leur comportement. Cela réduit considérablement la taille de la base"
   ]
  },
  {
   "cell_type": "code",
   "execution_count": 24,
   "id": "interim-expert",
   "metadata": {},
   "outputs": [],
   "source": [
    "data = data[data.nb_orders > 1]"
   ]
  },
  {
   "cell_type": "markdown",
   "id": "integral-inquiry",
   "metadata": {},
   "source": [
    "<a id='get_orders_back'></a>\n",
    "### Pour les autres variables nous avons besoin des ids des commandes correspondant à chaque client"
   ]
  },
  {
   "cell_type": "markdown",
   "id": "prostate-cycling",
   "metadata": {},
   "source": [
    "Voir la [fonction](#get_orders)"
   ]
  },
  {
   "cell_type": "code",
   "execution_count": 25,
   "id": "architectural-combining",
   "metadata": {},
   "outputs": [
    {
     "data": {
      "text/plain": [
       "\" A partir d'un id client unique la fonction retourne la liste des commandes correspondantes,\\n    La table des commandes doit au préalable être filtrée en fonction de la date virtuelle de l'étude\\n    Args:\\n        client_unique_id\\n    \""
      ]
     },
     "execution_count": 25,
     "metadata": {},
     "output_type": "execute_result"
    }
   ],
   "source": [
    "get_orders.__doc__"
   ]
  },
  {
   "cell_type": "code",
   "execution_count": 26,
   "id": "cooperative-neighborhood",
   "metadata": {},
   "outputs": [],
   "source": [
    "data['orders_ids'] = data.index.map(get_orders)"
   ]
  },
  {
   "cell_type": "code",
   "execution_count": 27,
   "id": "moral-equivalent",
   "metadata": {},
   "outputs": [
    {
     "data": {
      "text/html": [
       "<div>\n",
       "<style scoped>\n",
       "    .dataframe tbody tr th:only-of-type {\n",
       "        vertical-align: middle;\n",
       "    }\n",
       "\n",
       "    .dataframe tbody tr th {\n",
       "        vertical-align: top;\n",
       "    }\n",
       "\n",
       "    .dataframe thead th {\n",
       "        text-align: right;\n",
       "    }\n",
       "</style>\n",
       "<table border=\"1\" class=\"dataframe\">\n",
       "  <thead>\n",
       "    <tr style=\"text-align: right;\">\n",
       "      <th></th>\n",
       "      <th>nb_orders</th>\n",
       "      <th>orders_ids</th>\n",
       "    </tr>\n",
       "    <tr>\n",
       "      <th>customer_unique_id</th>\n",
       "      <th></th>\n",
       "      <th></th>\n",
       "    </tr>\n",
       "  </thead>\n",
       "  <tbody>\n",
       "    <tr>\n",
       "      <th>00172711b30d52eea8b313a7f2cced02</th>\n",
       "      <td>2</td>\n",
       "      <td>[bb874c45df1a3c97842d52f31efee99a, c306eca42d3...</td>\n",
       "    </tr>\n",
       "    <tr>\n",
       "      <th>004288347e5e88a27ded2bb23747066c</th>\n",
       "      <td>2</td>\n",
       "      <td>[a61d617fbe5bd006e40d3a0988fc844b, 08204559beb...</td>\n",
       "    </tr>\n",
       "    <tr>\n",
       "      <th>004b45ec5c64187465168251cd1c9c2f</th>\n",
       "      <td>2</td>\n",
       "      <td>[90ae229a4addcfead792e2564554f09c, 9392c5e7288...</td>\n",
       "    </tr>\n",
       "    <tr>\n",
       "      <th>0058f300f57d7b93c477a131a59b36c3</th>\n",
       "      <td>2</td>\n",
       "      <td>[2cfc79d9582e9135c0a9b61fa60e6b21, 81a93b2fa39...</td>\n",
       "    </tr>\n",
       "    <tr>\n",
       "      <th>00a39521eb40f7012db50455bf083460</th>\n",
       "      <td>2</td>\n",
       "      <td>[7d32c87acba91ed87ebd98310fe1c54d, cea3e6c11eb...</td>\n",
       "    </tr>\n",
       "  </tbody>\n",
       "</table>\n",
       "</div>"
      ],
      "text/plain": [
       "                                  nb_orders  \\\n",
       "customer_unique_id                            \n",
       "00172711b30d52eea8b313a7f2cced02          2   \n",
       "004288347e5e88a27ded2bb23747066c          2   \n",
       "004b45ec5c64187465168251cd1c9c2f          2   \n",
       "0058f300f57d7b93c477a131a59b36c3          2   \n",
       "00a39521eb40f7012db50455bf083460          2   \n",
       "\n",
       "                                                                         orders_ids  \n",
       "customer_unique_id                                                                   \n",
       "00172711b30d52eea8b313a7f2cced02  [bb874c45df1a3c97842d52f31efee99a, c306eca42d3...  \n",
       "004288347e5e88a27ded2bb23747066c  [a61d617fbe5bd006e40d3a0988fc844b, 08204559beb...  \n",
       "004b45ec5c64187465168251cd1c9c2f  [90ae229a4addcfead792e2564554f09c, 9392c5e7288...  \n",
       "0058f300f57d7b93c477a131a59b36c3  [2cfc79d9582e9135c0a9b61fa60e6b21, 81a93b2fa39...  \n",
       "00a39521eb40f7012db50455bf083460  [7d32c87acba91ed87ebd98310fe1c54d, cea3e6c11eb...  "
      ]
     },
     "execution_count": 27,
     "metadata": {},
     "output_type": "execute_result"
    }
   ],
   "source": [
    "data.head()"
   ]
  },
  {
   "cell_type": "markdown",
   "id": "becoming-station",
   "metadata": {},
   "source": [
    "<a id='tps_last_order'></a>\n",
    "## Temps depuis la première et la dernière commande ⏲️\n",
    "Pour représenter l'ancienneté du client et la fraicheur du client. On aura besoin ici de la date virtuelle"
   ]
  },
  {
   "cell_type": "markdown",
   "id": "naval-interest",
   "metadata": {},
   "source": [
    "Voir la [fonction](#get_nb_days)"
   ]
  },
  {
   "cell_type": "code",
   "execution_count": 28,
   "id": "overall-columbus",
   "metadata": {},
   "outputs": [],
   "source": [
    "data[['days_since_first_order', 'days_since_last_order']] = data.apply(get_nb_days, virtual_date=virtual_date, \n",
    "                                                                       orders=orders, axis=1, result_type='expand')"
   ]
  },
  {
   "cell_type": "code",
   "execution_count": 29,
   "id": "sunset-monster",
   "metadata": {},
   "outputs": [
    {
     "data": {
      "text/html": [
       "<div>\n",
       "<style scoped>\n",
       "    .dataframe tbody tr th:only-of-type {\n",
       "        vertical-align: middle;\n",
       "    }\n",
       "\n",
       "    .dataframe tbody tr th {\n",
       "        vertical-align: top;\n",
       "    }\n",
       "\n",
       "    .dataframe thead th {\n",
       "        text-align: right;\n",
       "    }\n",
       "</style>\n",
       "<table border=\"1\" class=\"dataframe\">\n",
       "  <thead>\n",
       "    <tr style=\"text-align: right;\">\n",
       "      <th></th>\n",
       "      <th>days_since_first_order</th>\n",
       "      <th>days_since_last_order</th>\n",
       "    </tr>\n",
       "  </thead>\n",
       "  <tbody>\n",
       "    <tr>\n",
       "      <th>count</th>\n",
       "      <td>2997.000000</td>\n",
       "      <td>2997.000000</td>\n",
       "    </tr>\n",
       "    <tr>\n",
       "      <th>mean</th>\n",
       "      <td>355.512846</td>\n",
       "      <td>268.206874</td>\n",
       "    </tr>\n",
       "    <tr>\n",
       "      <th>std</th>\n",
       "      <td>148.227400</td>\n",
       "      <td>145.352456</td>\n",
       "    </tr>\n",
       "    <tr>\n",
       "      <th>min</th>\n",
       "      <td>49.000000</td>\n",
       "      <td>0.000000</td>\n",
       "    </tr>\n",
       "    <tr>\n",
       "      <th>25%</th>\n",
       "      <td>239.000000</td>\n",
       "      <td>152.000000</td>\n",
       "    </tr>\n",
       "    <tr>\n",
       "      <th>50%</th>\n",
       "      <td>350.000000</td>\n",
       "      <td>248.000000</td>\n",
       "    </tr>\n",
       "    <tr>\n",
       "      <th>75%</th>\n",
       "      <td>474.000000</td>\n",
       "      <td>366.000000</td>\n",
       "    </tr>\n",
       "    <tr>\n",
       "      <th>max</th>\n",
       "      <td>744.000000</td>\n",
       "      <td>740.000000</td>\n",
       "    </tr>\n",
       "  </tbody>\n",
       "</table>\n",
       "</div>"
      ],
      "text/plain": [
       "       days_since_first_order  days_since_last_order\n",
       "count             2997.000000            2997.000000\n",
       "mean               355.512846             268.206874\n",
       "std                148.227400             145.352456\n",
       "min                 49.000000               0.000000\n",
       "25%                239.000000             152.000000\n",
       "50%                350.000000             248.000000\n",
       "75%                474.000000             366.000000\n",
       "max                744.000000             740.000000"
      ]
     },
     "execution_count": 29,
     "metadata": {},
     "output_type": "execute_result"
    }
   ],
   "source": [
    "data[['days_since_first_order', 'days_since_last_order']].describe()"
   ]
  },
  {
   "cell_type": "markdown",
   "id": "positive-newport",
   "metadata": {},
   "source": [
    "<a id='frequence'></a>\n",
    "## Fréquence des commandes\n",
    "Pour représenter la régularité du client. On se basera aussi sur la date virtuelle"
   ]
  },
  {
   "cell_type": "markdown",
   "id": "hollow-wallace",
   "metadata": {},
   "source": [
    "Voir la [fonction](#get_frequency)\n",
    "\n",
    "La fréquence est exprimée par mois"
   ]
  },
  {
   "cell_type": "code",
   "execution_count": 30,
   "id": "chronic-malawi",
   "metadata": {},
   "outputs": [],
   "source": [
    "data['frequency'] = data.apply(get_frequency, axis=1)"
   ]
  },
  {
   "cell_type": "code",
   "execution_count": 31,
   "id": "simple-average",
   "metadata": {},
   "outputs": [
    {
     "data": {
      "text/plain": [
       "count    2997.000000\n",
       "mean        0.234270\n",
       "std         0.167588\n",
       "min         0.081931\n",
       "25%         0.133206\n",
       "50%         0.183912\n",
       "75%         0.262392\n",
       "max         1.863520\n",
       "Name: frequency, dtype: float64"
      ]
     },
     "execution_count": 31,
     "metadata": {},
     "output_type": "execute_result"
    }
   ],
   "source": [
    "data['frequency'].describe()"
   ]
  },
  {
   "cell_type": "markdown",
   "id": "numerical-thanksgiving",
   "metadata": {},
   "source": [
    "<a id='montant'></a>\n",
    "## Montant total des achats 💰"
   ]
  },
  {
   "cell_type": "markdown",
   "id": "spanish-metro",
   "metadata": {},
   "source": [
    "Voir la [fonction](#get_sum_orders)"
   ]
  },
  {
   "cell_type": "code",
   "execution_count": 32,
   "id": "available-homework",
   "metadata": {},
   "outputs": [],
   "source": [
    "data['sum_orders'] = data.apply(get_sum_orders, axis=1)"
   ]
  },
  {
   "cell_type": "code",
   "execution_count": 33,
   "id": "worst-rehabilitation",
   "metadata": {},
   "outputs": [
    {
     "data": {
      "text/plain": [
       "count    2997.000000\n",
       "mean      259.867191\n",
       "std       308.511754\n",
       "min         0.000000\n",
       "25%       109.900000\n",
       "50%       179.890000\n",
       "75%       303.160000\n",
       "max      7388.000000\n",
       "Name: sum_orders, dtype: float64"
      ]
     },
     "execution_count": 33,
     "metadata": {},
     "output_type": "execute_result"
    }
   ],
   "source": [
    "data['sum_orders'].describe()"
   ]
  },
  {
   "cell_type": "markdown",
   "id": "unique-isaac",
   "metadata": {},
   "source": [
    "<a id='categorie'></a>\n",
    "## Catégogie la plus fréquente 🗂️\n",
    "On essaie ici de détecter le type de produit intéressant le plus le client en prenant la catégoie qu'il a le plus acheté\n",
    "\n",
    "Voir la [fonction](#get_most_frequent_categ)"
   ]
  },
  {
   "cell_type": "code",
   "execution_count": 34,
   "id": "strong-prospect",
   "metadata": {},
   "outputs": [
    {
     "data": {
      "text/plain": [
       "Index(['product_category_name', 'product_name_lenght',\n",
       "       'product_description_lenght', 'product_photos_qty', 'product_weight_g',\n",
       "       'product_length_cm', 'product_height_cm', 'product_width_cm',\n",
       "       'product_category_name_english'],\n",
       "      dtype='object')"
      ]
     },
     "execution_count": 34,
     "metadata": {},
     "output_type": "execute_result"
    }
   ],
   "source": [
    "products.columns"
   ]
  },
  {
   "cell_type": "code",
   "execution_count": 35,
   "id": "incorporate-geneva",
   "metadata": {},
   "outputs": [
    {
     "data": {
      "text/plain": [
       "False"
      ]
     },
     "execution_count": 35,
     "metadata": {},
     "output_type": "execute_result"
    }
   ],
   "source": [
    "len(products.product_category_name_english.unique()) == len(products.product_category_name.unique())"
   ]
  },
  {
   "cell_type": "code",
   "execution_count": 36,
   "id": "subsequent-flush",
   "metadata": {},
   "outputs": [
    {
     "data": {
      "text/plain": [
       "customer_unique_id\n",
       "34fbeb535f3ba8b34bb0f919b0ad36bb    telefonia\n",
       "dtype: object"
      ]
     },
     "execution_count": 36,
     "metadata": {},
     "output_type": "execute_result"
    }
   ],
   "source": [
    "data.sample(1).apply(get_most_frequent_categ, axis=1)"
   ]
  },
  {
   "cell_type": "code",
   "execution_count": 37,
   "id": "pregnant-vietnamese",
   "metadata": {},
   "outputs": [
    {
     "name": "stdout",
     "output_type": "stream",
     "text": [
      "fail\n",
      "fail\n",
      "fail\n",
      "fail\n",
      "fail\n",
      "fail\n",
      "fail\n",
      "fail\n",
      "fail\n",
      "fail\n",
      "fail\n",
      "fail\n",
      "fail\n"
     ]
    }
   ],
   "source": [
    "data['favourite_category'] = data.apply(get_most_frequent_categ, axis=1)"
   ]
  },
  {
   "cell_type": "code",
   "execution_count": 38,
   "id": "hollow-tucson",
   "metadata": {},
   "outputs": [
    {
     "data": {
      "text/plain": [
       "False    2984\n",
       "True       13\n",
       "Name: favourite_category, dtype: int64"
      ]
     },
     "execution_count": 38,
     "metadata": {},
     "output_type": "execute_result"
    }
   ],
   "source": [
    "data['favourite_category'].isnull().value_counts()"
   ]
  },
  {
   "cell_type": "code",
   "execution_count": 39,
   "id": "chubby-microphone",
   "metadata": {},
   "outputs": [],
   "source": [
    "data = data.merge(products_categ_traduction, how='left', \n",
    "           left_on='favourite_category', right_on='product_category_name').set_axis(data.index)"
   ]
  },
  {
   "cell_type": "code",
   "execution_count": 40,
   "id": "stone-angola",
   "metadata": {},
   "outputs": [],
   "source": [
    "data.drop(columns=['product_category_name'], inplace=True)"
   ]
  },
  {
   "cell_type": "code",
   "execution_count": 41,
   "id": "extended-mirror",
   "metadata": {},
   "outputs": [],
   "source": [
    "data.rename(columns={'product_category_name_english':'favourite_category_english'}, inplace=True)"
   ]
  },
  {
   "cell_type": "code",
   "execution_count": 42,
   "id": "amazing-discharge",
   "metadata": {},
   "outputs": [
    {
     "data": {
      "text/html": [
       "<div>\n",
       "<style scoped>\n",
       "    .dataframe tbody tr th:only-of-type {\n",
       "        vertical-align: middle;\n",
       "    }\n",
       "\n",
       "    .dataframe tbody tr th {\n",
       "        vertical-align: top;\n",
       "    }\n",
       "\n",
       "    .dataframe thead th {\n",
       "        text-align: right;\n",
       "    }\n",
       "</style>\n",
       "<table border=\"1\" class=\"dataframe\">\n",
       "  <thead>\n",
       "    <tr style=\"text-align: right;\">\n",
       "      <th></th>\n",
       "      <th>nb_orders</th>\n",
       "      <th>orders_ids</th>\n",
       "      <th>days_since_first_order</th>\n",
       "      <th>days_since_last_order</th>\n",
       "      <th>frequency</th>\n",
       "      <th>sum_orders</th>\n",
       "      <th>favourite_category</th>\n",
       "      <th>favourite_category_english</th>\n",
       "    </tr>\n",
       "    <tr>\n",
       "      <th>customer_unique_id</th>\n",
       "      <th></th>\n",
       "      <th></th>\n",
       "      <th></th>\n",
       "      <th></th>\n",
       "      <th></th>\n",
       "      <th></th>\n",
       "      <th></th>\n",
       "      <th></th>\n",
       "    </tr>\n",
       "  </thead>\n",
       "  <tbody>\n",
       "    <tr>\n",
       "      <th>00172711b30d52eea8b313a7f2cced02</th>\n",
       "      <td>2</td>\n",
       "      <td>[bb874c45df1a3c97842d52f31efee99a, c306eca42d3...</td>\n",
       "      <td>81</td>\n",
       "      <td>65</td>\n",
       "      <td>0.751543</td>\n",
       "      <td>74.50</td>\n",
       "      <td>papelaria</td>\n",
       "      <td>stationery</td>\n",
       "    </tr>\n",
       "    <tr>\n",
       "      <th>004288347e5e88a27ded2bb23747066c</th>\n",
       "      <td>2</td>\n",
       "      <td>[a61d617fbe5bd006e40d3a0988fc844b, 08204559beb...</td>\n",
       "      <td>447</td>\n",
       "      <td>276</td>\n",
       "      <td>0.136186</td>\n",
       "      <td>317.89</td>\n",
       "      <td>cool_stuff</td>\n",
       "      <td>cool_stuff</td>\n",
       "    </tr>\n",
       "    <tr>\n",
       "      <th>004b45ec5c64187465168251cd1c9c2f</th>\n",
       "      <td>2</td>\n",
       "      <td>[90ae229a4addcfead792e2564554f09c, 9392c5e7288...</td>\n",
       "      <td>411</td>\n",
       "      <td>143</td>\n",
       "      <td>0.148114</td>\n",
       "      <td>86.90</td>\n",
       "      <td>moveis_decoracao</td>\n",
       "      <td>furniture_decor</td>\n",
       "    </tr>\n",
       "    <tr>\n",
       "      <th>0058f300f57d7b93c477a131a59b36c3</th>\n",
       "      <td>2</td>\n",
       "      <td>[2cfc79d9582e9135c0a9b61fa60e6b21, 81a93b2fa39...</td>\n",
       "      <td>240</td>\n",
       "      <td>208</td>\n",
       "      <td>0.253646</td>\n",
       "      <td>132.48</td>\n",
       "      <td>malas_acessorios</td>\n",
       "      <td>luggage_accessories</td>\n",
       "    </tr>\n",
       "    <tr>\n",
       "      <th>00a39521eb40f7012db50455bf083460</th>\n",
       "      <td>2</td>\n",
       "      <td>[7d32c87acba91ed87ebd98310fe1c54d, cea3e6c11eb...</td>\n",
       "      <td>146</td>\n",
       "      <td>136</td>\n",
       "      <td>0.416952</td>\n",
       "      <td>81.45</td>\n",
       "      <td>esporte_lazer</td>\n",
       "      <td>sports_leisure</td>\n",
       "    </tr>\n",
       "    <tr>\n",
       "      <th>...</th>\n",
       "      <td>...</td>\n",
       "      <td>...</td>\n",
       "      <td>...</td>\n",
       "      <td>...</td>\n",
       "      <td>...</td>\n",
       "      <td>...</td>\n",
       "      <td>...</td>\n",
       "      <td>...</td>\n",
       "    </tr>\n",
       "    <tr>\n",
       "      <th>ff36be26206fffe1eb37afd54c70e18b</th>\n",
       "      <td>3</td>\n",
       "      <td>[b02682757340133856bfb99145dd61cd, 81b7c7bbc8e...</td>\n",
       "      <td>81</td>\n",
       "      <td>55</td>\n",
       "      <td>1.127315</td>\n",
       "      <td>77.90</td>\n",
       "      <td>casa_conforto</td>\n",
       "      <td>home_confort</td>\n",
       "    </tr>\n",
       "    <tr>\n",
       "      <th>ff44401d0d8f5b9c54a47374eb48c1b8</th>\n",
       "      <td>2</td>\n",
       "      <td>[c087855fe6f303205c09558f7f8103c8, e28a4c66f14...</td>\n",
       "      <td>515</td>\n",
       "      <td>515</td>\n",
       "      <td>0.118204</td>\n",
       "      <td>39.80</td>\n",
       "      <td>fashion_bolsas_e_acessorios</td>\n",
       "      <td>fashion_bags_accessories</td>\n",
       "    </tr>\n",
       "    <tr>\n",
       "      <th>ff8892f7c26aa0446da53d01b18df463</th>\n",
       "      <td>2</td>\n",
       "      <td>[cb6e8d89049744886ad04520d5e0b2f6, 1c308eca3f3...</td>\n",
       "      <td>511</td>\n",
       "      <td>324</td>\n",
       "      <td>0.119129</td>\n",
       "      <td>277.95</td>\n",
       "      <td>relogios_presentes</td>\n",
       "      <td>watches_gifts</td>\n",
       "    </tr>\n",
       "    <tr>\n",
       "      <th>ff922bdd6bafcdf99cb90d7f39cea5b3</th>\n",
       "      <td>3</td>\n",
       "      <td>[fd216c435fda2be27c92920a5e5dba82, 5f79e2da24a...</td>\n",
       "      <td>602</td>\n",
       "      <td>398</td>\n",
       "      <td>0.151682</td>\n",
       "      <td>94.79</td>\n",
       "      <td>utilidades_domesticas</td>\n",
       "      <td>housewares</td>\n",
       "    </tr>\n",
       "    <tr>\n",
       "      <th>ffe254cc039740e17dd15a5305035928</th>\n",
       "      <td>2</td>\n",
       "      <td>[39a0e2f723def2e12a51e963006c9242, ebe76afae92...</td>\n",
       "      <td>563</td>\n",
       "      <td>563</td>\n",
       "      <td>0.108126</td>\n",
       "      <td>51.08</td>\n",
       "      <td>cama_mesa_banho</td>\n",
       "      <td>bed_bath_table</td>\n",
       "    </tr>\n",
       "  </tbody>\n",
       "</table>\n",
       "<p>2997 rows × 8 columns</p>\n",
       "</div>"
      ],
      "text/plain": [
       "                                  nb_orders  \\\n",
       "customer_unique_id                            \n",
       "00172711b30d52eea8b313a7f2cced02          2   \n",
       "004288347e5e88a27ded2bb23747066c          2   \n",
       "004b45ec5c64187465168251cd1c9c2f          2   \n",
       "0058f300f57d7b93c477a131a59b36c3          2   \n",
       "00a39521eb40f7012db50455bf083460          2   \n",
       "...                                     ...   \n",
       "ff36be26206fffe1eb37afd54c70e18b          3   \n",
       "ff44401d0d8f5b9c54a47374eb48c1b8          2   \n",
       "ff8892f7c26aa0446da53d01b18df463          2   \n",
       "ff922bdd6bafcdf99cb90d7f39cea5b3          3   \n",
       "ffe254cc039740e17dd15a5305035928          2   \n",
       "\n",
       "                                                                         orders_ids  \\\n",
       "customer_unique_id                                                                    \n",
       "00172711b30d52eea8b313a7f2cced02  [bb874c45df1a3c97842d52f31efee99a, c306eca42d3...   \n",
       "004288347e5e88a27ded2bb23747066c  [a61d617fbe5bd006e40d3a0988fc844b, 08204559beb...   \n",
       "004b45ec5c64187465168251cd1c9c2f  [90ae229a4addcfead792e2564554f09c, 9392c5e7288...   \n",
       "0058f300f57d7b93c477a131a59b36c3  [2cfc79d9582e9135c0a9b61fa60e6b21, 81a93b2fa39...   \n",
       "00a39521eb40f7012db50455bf083460  [7d32c87acba91ed87ebd98310fe1c54d, cea3e6c11eb...   \n",
       "...                                                                             ...   \n",
       "ff36be26206fffe1eb37afd54c70e18b  [b02682757340133856bfb99145dd61cd, 81b7c7bbc8e...   \n",
       "ff44401d0d8f5b9c54a47374eb48c1b8  [c087855fe6f303205c09558f7f8103c8, e28a4c66f14...   \n",
       "ff8892f7c26aa0446da53d01b18df463  [cb6e8d89049744886ad04520d5e0b2f6, 1c308eca3f3...   \n",
       "ff922bdd6bafcdf99cb90d7f39cea5b3  [fd216c435fda2be27c92920a5e5dba82, 5f79e2da24a...   \n",
       "ffe254cc039740e17dd15a5305035928  [39a0e2f723def2e12a51e963006c9242, ebe76afae92...   \n",
       "\n",
       "                                  days_since_first_order  \\\n",
       "customer_unique_id                                         \n",
       "00172711b30d52eea8b313a7f2cced02                      81   \n",
       "004288347e5e88a27ded2bb23747066c                     447   \n",
       "004b45ec5c64187465168251cd1c9c2f                     411   \n",
       "0058f300f57d7b93c477a131a59b36c3                     240   \n",
       "00a39521eb40f7012db50455bf083460                     146   \n",
       "...                                                  ...   \n",
       "ff36be26206fffe1eb37afd54c70e18b                      81   \n",
       "ff44401d0d8f5b9c54a47374eb48c1b8                     515   \n",
       "ff8892f7c26aa0446da53d01b18df463                     511   \n",
       "ff922bdd6bafcdf99cb90d7f39cea5b3                     602   \n",
       "ffe254cc039740e17dd15a5305035928                     563   \n",
       "\n",
       "                                  days_since_last_order  frequency  \\\n",
       "customer_unique_id                                                   \n",
       "00172711b30d52eea8b313a7f2cced02                     65   0.751543   \n",
       "004288347e5e88a27ded2bb23747066c                    276   0.136186   \n",
       "004b45ec5c64187465168251cd1c9c2f                    143   0.148114   \n",
       "0058f300f57d7b93c477a131a59b36c3                    208   0.253646   \n",
       "00a39521eb40f7012db50455bf083460                    136   0.416952   \n",
       "...                                                 ...        ...   \n",
       "ff36be26206fffe1eb37afd54c70e18b                     55   1.127315   \n",
       "ff44401d0d8f5b9c54a47374eb48c1b8                    515   0.118204   \n",
       "ff8892f7c26aa0446da53d01b18df463                    324   0.119129   \n",
       "ff922bdd6bafcdf99cb90d7f39cea5b3                    398   0.151682   \n",
       "ffe254cc039740e17dd15a5305035928                    563   0.108126   \n",
       "\n",
       "                                  sum_orders           favourite_category  \\\n",
       "customer_unique_id                                                          \n",
       "00172711b30d52eea8b313a7f2cced02       74.50                    papelaria   \n",
       "004288347e5e88a27ded2bb23747066c      317.89                   cool_stuff   \n",
       "004b45ec5c64187465168251cd1c9c2f       86.90             moveis_decoracao   \n",
       "0058f300f57d7b93c477a131a59b36c3      132.48             malas_acessorios   \n",
       "00a39521eb40f7012db50455bf083460       81.45                esporte_lazer   \n",
       "...                                      ...                          ...   \n",
       "ff36be26206fffe1eb37afd54c70e18b       77.90                casa_conforto   \n",
       "ff44401d0d8f5b9c54a47374eb48c1b8       39.80  fashion_bolsas_e_acessorios   \n",
       "ff8892f7c26aa0446da53d01b18df463      277.95           relogios_presentes   \n",
       "ff922bdd6bafcdf99cb90d7f39cea5b3       94.79        utilidades_domesticas   \n",
       "ffe254cc039740e17dd15a5305035928       51.08              cama_mesa_banho   \n",
       "\n",
       "                                 favourite_category_english  \n",
       "customer_unique_id                                           \n",
       "00172711b30d52eea8b313a7f2cced02                 stationery  \n",
       "004288347e5e88a27ded2bb23747066c                 cool_stuff  \n",
       "004b45ec5c64187465168251cd1c9c2f            furniture_decor  \n",
       "0058f300f57d7b93c477a131a59b36c3        luggage_accessories  \n",
       "00a39521eb40f7012db50455bf083460             sports_leisure  \n",
       "...                                                     ...  \n",
       "ff36be26206fffe1eb37afd54c70e18b               home_confort  \n",
       "ff44401d0d8f5b9c54a47374eb48c1b8   fashion_bags_accessories  \n",
       "ff8892f7c26aa0446da53d01b18df463              watches_gifts  \n",
       "ff922bdd6bafcdf99cb90d7f39cea5b3                 housewares  \n",
       "ffe254cc039740e17dd15a5305035928             bed_bath_table  \n",
       "\n",
       "[2997 rows x 8 columns]"
      ]
     },
     "execution_count": 42,
     "metadata": {},
     "output_type": "execute_result"
    }
   ],
   "source": [
    "data"
   ]
  },
  {
   "cell_type": "code",
   "execution_count": 83,
   "id": "separated-opera",
   "metadata": {},
   "outputs": [
    {
     "data": {
      "text/plain": [
       "66"
      ]
     },
     "execution_count": 83,
     "metadata": {},
     "output_type": "execute_result"
    }
   ],
   "source": [
    "len(data['favourite_category'].unique())"
   ]
  },
  {
   "cell_type": "code",
   "execution_count": 71,
   "id": "confidential-simon",
   "metadata": {},
   "outputs": [
    {
     "data": {
      "text/plain": [
       "74"
      ]
     },
     "execution_count": 71,
     "metadata": {},
     "output_type": "execute_result"
    }
   ],
   "source": [
    "len(products.product_category_name.unique())"
   ]
  },
  {
   "cell_type": "markdown",
   "id": "limiting-craps",
   "metadata": {},
   "source": [
    "Pour réduire la cardinalité nous utilisons une bibliothèque qui permet de trouver des ressemblances entre des catégories"
   ]
  },
  {
   "cell_type": "raw",
   "id": "endless-financing",
   "metadata": {},
   "source": [
    "from fuzzywuzzy import fuzz"
   ]
  },
  {
   "cell_type": "raw",
   "id": "ceramic-hartford",
   "metadata": {},
   "source": [
    "for idx_i, i in enumerate(df['product_category_name_english'].astype('str').unique()[:-1]):\n",
    "    for idx_j, j in enumerate(df['product_category_name_english'].astype('str').unique()[idx_i+1]):\n",
    "        similarity_ij = fuzz.WRatio(i, j)\n",
    "        if similarity_ij >= 85 and similarity_ij != 100:\n",
    "            print(f'{i} vs {j}: {similarity_ij}%')"
   ]
  },
  {
   "cell_type": "markdown",
   "id": "assumed-enlargement",
   "metadata": {},
   "source": [
    "Certain produits ne sont pas reliés à une catégorie. \n",
    "### QUE FAIRE DES NaN??? : remplir avec la plus fréquente"
   ]
  },
  {
   "cell_type": "code",
   "execution_count": 46,
   "id": "corporate-power",
   "metadata": {},
   "outputs": [
    {
     "data": {
      "text/plain": [
       "furniture_decor        367\n",
       "sports_leisure         338\n",
       "health_beauty          310\n",
       "bed_bath_table         308\n",
       "housewares             236\n",
       "                      ... \n",
       "market_place             1\n",
       "diapers_and_hygiene      1\n",
       "party_supplies           1\n",
       "books_imported           1\n",
       "art                      1\n",
       "Name: favourite_category_english, Length: 65, dtype: int64"
      ]
     },
     "execution_count": 46,
     "metadata": {},
     "output_type": "execute_result"
    }
   ],
   "source": [
    "data['favourite_category_english'].value_counts()"
   ]
  },
  {
   "cell_type": "code",
   "execution_count": 49,
   "id": "opposite-fabric",
   "metadata": {},
   "outputs": [],
   "source": [
    "data['favourite_category_english'] = data['favourite_category_english'].fillna('furniture_decor')"
   ]
  },
  {
   "cell_type": "markdown",
   "id": "agricultural-willow",
   "metadata": {},
   "source": [
    "<a id='reviews'></a>\n",
    "## Nombre d'avis postés et note moyenne⭐\n",
    "Implication et satisfaction du client sur le site\n",
    "\n",
    "Voir la [fonction](#get_nb_reviews_and_avg)"
   ]
  },
  {
   "cell_type": "code",
   "execution_count": 50,
   "id": "statutory-collar",
   "metadata": {},
   "outputs": [],
   "source": [
    "data[['nb_reviews', 'average_review_score']] = data.apply(get_nb_reviews_and_avg, axis=1, result_type='expand')"
   ]
  },
  {
   "cell_type": "code",
   "execution_count": 51,
   "id": "orange-reflection",
   "metadata": {},
   "outputs": [
    {
     "data": {
      "text/plain": [
       "2.0     2424\n",
       "3.0      405\n",
       "4.0      125\n",
       "5.0       23\n",
       "6.0       13\n",
       "7.0        5\n",
       "9.0        1\n",
       "17.0       1\n",
       "Name: nb_reviews, dtype: int64"
      ]
     },
     "execution_count": 51,
     "metadata": {},
     "output_type": "execute_result"
    }
   ],
   "source": [
    "data.nb_reviews.value_counts()"
   ]
  },
  {
   "cell_type": "code",
   "execution_count": 52,
   "id": "annual-discrimination",
   "metadata": {},
   "outputs": [
    {
     "data": {
      "text/plain": [
       "2     2745\n",
       "3      203\n",
       "4       30\n",
       "5        8\n",
       "6        6\n",
       "7        3\n",
       "9        1\n",
       "17       1\n",
       "Name: nb_orders, dtype: int64"
      ]
     },
     "execution_count": 52,
     "metadata": {},
     "output_type": "execute_result"
    }
   ],
   "source": [
    "data.nb_orders.value_counts()"
   ]
  },
  {
   "cell_type": "code",
   "execution_count": 53,
   "id": "sixth-holiday",
   "metadata": {},
   "outputs": [
    {
     "data": {
      "text/plain": [
       "5    0.57420\n",
       "4    0.19200\n",
       "1    0.11858\n",
       "3    0.08287\n",
       "2    0.03235\n",
       "Name: review_score, dtype: float64"
      ]
     },
     "execution_count": 53,
     "metadata": {},
     "output_type": "execute_result"
    }
   ],
   "source": [
    "reviews.review_score.value_counts(normalize=True)"
   ]
  },
  {
   "cell_type": "markdown",
   "id": "yellow-apache",
   "metadata": {},
   "source": [
    "### C'est louche"
   ]
  },
  {
   "cell_type": "code",
   "execution_count": 54,
   "id": "restricted-weekly",
   "metadata": {},
   "outputs": [
    {
     "data": {
      "text/plain": [
       "count    2997.000000\n",
       "mean        4.098780\n",
       "std         1.150088\n",
       "min         1.000000\n",
       "25%         3.500000\n",
       "50%         4.500000\n",
       "75%         5.000000\n",
       "max         5.000000\n",
       "Name: average_review_score, dtype: float64"
      ]
     },
     "execution_count": 54,
     "metadata": {},
     "output_type": "execute_result"
    }
   ],
   "source": [
    "data.average_review_score.describe()"
   ]
  },
  {
   "cell_type": "code",
   "execution_count": 55,
   "id": "designing-seller",
   "metadata": {},
   "outputs": [
    {
     "data": {
      "text/plain": [
       "False    100000\n",
       "Name: review_score, dtype: int64"
      ]
     },
     "execution_count": 55,
     "metadata": {},
     "output_type": "execute_result"
    }
   ],
   "source": [
    "reviews.review_score.isnull().value_counts()"
   ]
  },
  {
   "cell_type": "markdown",
   "id": "preliminary-intake",
   "metadata": {},
   "source": [
    "On note ici que dans cette base, tous les clients écrivent des reviews et donnent des notes"
   ]
  },
  {
   "cell_type": "markdown",
   "id": "ahead-latex",
   "metadata": {},
   "source": [
    "<a id='mode_paiement_prefere'></a>\n",
    "## Mode de paiement préféré 💳\n",
    "Relation du client avec l'argent\n",
    "\n",
    "Voir la [fonction](#get_favourite_payment_method)"
   ]
  },
  {
   "cell_type": "code",
   "execution_count": 56,
   "id": "established-seeker",
   "metadata": {},
   "outputs": [
    {
     "data": {
      "text/plain": [
       "credit_card    76795\n",
       "boleto         19784\n",
       "voucher         5775\n",
       "debit_card      1529\n",
       "not_defined        3\n",
       "Name: payment_type, dtype: int64"
      ]
     },
     "execution_count": 56,
     "metadata": {},
     "output_type": "execute_result"
    }
   ],
   "source": [
    "payments.payment_type.value_counts()"
   ]
  },
  {
   "cell_type": "code",
   "execution_count": 57,
   "id": "fourth-album",
   "metadata": {},
   "outputs": [
    {
     "data": {
      "text/plain": [
       "False    103886\n",
       "Name: payment_type, dtype: int64"
      ]
     },
     "execution_count": 57,
     "metadata": {},
     "output_type": "execute_result"
    }
   ],
   "source": [
    "payments.payment_type.isnull().value_counts()"
   ]
  },
  {
   "cell_type": "code",
   "execution_count": 58,
   "id": "outside-neighbor",
   "metadata": {},
   "outputs": [],
   "source": [
    "data['favourite_payment_type'] = data.apply(get_favourite_payment_method, axis=1).replace('boleto', 'cash')"
   ]
  },
  {
   "cell_type": "code",
   "execution_count": 59,
   "id": "bored-amazon",
   "metadata": {},
   "outputs": [
    {
     "data": {
      "text/plain": [
       "credit_card    2208\n",
       "cash            540\n",
       "voucher         188\n",
       "debit_card       60\n",
       "not_defined       1\n",
       "Name: favourite_payment_type, dtype: int64"
      ]
     },
     "execution_count": 59,
     "metadata": {},
     "output_type": "execute_result"
    }
   ],
   "source": [
    "data['favourite_payment_type'].value_counts()"
   ]
  },
  {
   "cell_type": "markdown",
   "id": "fatal-domain",
   "metadata": {},
   "source": [
    "<a id='tps_livraison'></a>\n",
    "## Temps et retards de livraison 🚚\n",
    "Expérience logistique du client. pour cette partie nous aurons besoin de créer des variables dans la table \"orders\"\n",
    "\n",
    "Nous regarderons le temps moyen de chaque livraison du client et les temps de retard/avance s'il y en a eu"
   ]
  },
  {
   "cell_type": "code",
   "execution_count": 80,
   "id": "material-chance",
   "metadata": {},
   "outputs": [],
   "source": [
    "orders['delivery_time'] = orders.order_delivered_customer_date - orders.order_approved_at"
   ]
  },
  {
   "cell_type": "code",
   "execution_count": 81,
   "id": "curious-logic",
   "metadata": {},
   "outputs": [],
   "source": [
    "orders['delay'] = orders.order_delivered_customer_date - orders.order_estimated_delivery_date"
   ]
  },
  {
   "cell_type": "code",
   "execution_count": 82,
   "id": "straight-islam",
   "metadata": {},
   "outputs": [],
   "source": [
    "orders['was_delayed'] = orders.delay.map(lambda x : x.days > 1)"
   ]
  },
  {
   "cell_type": "code",
   "execution_count": 83,
   "id": "reserved-walnut",
   "metadata": {},
   "outputs": [],
   "source": [
    "orders['was_in_advance'] = orders.delay.map(lambda x : x.days < -1)"
   ]
  },
  {
   "cell_type": "raw",
   "id": "armed-cooper",
   "metadata": {},
   "source": [
    "orders.head()"
   ]
  },
  {
   "cell_type": "raw",
   "id": "material-hypothesis",
   "metadata": {},
   "source": [
    "orders[orders['delivery_time'].isnull() & (orders.order_status == 'delivered')]"
   ]
  },
  {
   "cell_type": "markdown",
   "id": "thousand-manner",
   "metadata": {},
   "source": [
    "Voir la [fonction](#get_delivery_time_and_delays)"
   ]
  },
  {
   "cell_type": "code",
   "execution_count": 85,
   "id": "introductory-terror",
   "metadata": {},
   "outputs": [],
   "source": [
    "data[['average_delivery_time', 'delay_rate', 'advance_rate']] = data.apply(get_delivery_time_and_delays, axis=1, result_type='expand')"
   ]
  },
  {
   "cell_type": "code",
   "execution_count": 86,
   "id": "altered-lyric",
   "metadata": {},
   "outputs": [
    {
     "data": {
      "text/plain": [
       "False    2979\n",
       "True       18\n",
       "Name: average_delivery_time, dtype: int64"
      ]
     },
     "execution_count": 86,
     "metadata": {},
     "output_type": "execute_result"
    }
   ],
   "source": [
    "data.average_delivery_time.isnull().value_counts()"
   ]
  },
  {
   "cell_type": "code",
   "execution_count": 87,
   "id": "satisfactory-board",
   "metadata": {},
   "outputs": [
    {
     "data": {
      "text/plain": [
       "False    2979\n",
       "True       18\n",
       "Name: delay_rate, dtype: int64"
      ]
     },
     "execution_count": 87,
     "metadata": {},
     "output_type": "execute_result"
    }
   ],
   "source": [
    "data.delay_rate.isnull().value_counts()"
   ]
  },
  {
   "cell_type": "markdown",
   "id": "forced-africa",
   "metadata": {},
   "source": [
    "Pour les retards non renseignés on replit avec 0\n",
    "\n",
    "Pour les temps de livraisons non renseingés on met la moyenne des temps moyens des autres clients"
   ]
  },
  {
   "cell_type": "code",
   "execution_count": 92,
   "id": "seventh-marina",
   "metadata": {},
   "outputs": [],
   "source": [
    "data.delay_rate.fillna(0, inplace=True)\n",
    "data.advance_rate.fillna(0, inplace=True)"
   ]
  },
  {
   "cell_type": "code",
   "execution_count": 93,
   "id": "complete-hobby",
   "metadata": {},
   "outputs": [],
   "source": [
    "data.average_delivery_time.fillna(data.average_delivery_time.mean(), inplace=True)"
   ]
  },
  {
   "cell_type": "markdown",
   "id": "musical-might",
   "metadata": {},
   "source": [
    "<a id='annulation'></a>\n",
    "## Commandes annulées ❌\n",
    "Capacité du client à aller jusqu'au bout des commandes\n",
    "Voir la [fonction](#get_cancelation_rate)"
   ]
  },
  {
   "cell_type": "code",
   "execution_count": 122,
   "id": "insured-recipient",
   "metadata": {},
   "outputs": [],
   "source": [
    "data['cancelation_rate'] = data.apply(get_cancelation_rate, axis=1)"
   ]
  },
  {
   "cell_type": "code",
   "execution_count": 124,
   "id": "outstanding-delight",
   "metadata": {},
   "outputs": [
    {
     "data": {
      "text/plain": [
       "count    2997.000000\n",
       "mean        0.014070\n",
       "std         0.085673\n",
       "min         0.000000\n",
       "25%         0.000000\n",
       "50%         0.000000\n",
       "75%         0.000000\n",
       "max         1.000000\n",
       "Name: cancelation_rate, dtype: float64"
      ]
     },
     "execution_count": 124,
     "metadata": {},
     "output_type": "execute_result"
    }
   ],
   "source": [
    "data['cancelation_rate'].describe()"
   ]
  },
  {
   "cell_type": "markdown",
   "id": "cloudy-ontario",
   "metadata": {},
   "source": [
    "<a id='model'></a>\n",
    "# Transformation pour Modélisation ✔️"
   ]
  },
  {
   "cell_type": "code",
   "execution_count": 125,
   "id": "significant-plaza",
   "metadata": {},
   "outputs": [
    {
     "data": {
      "text/html": [
       "<div>\n",
       "<style scoped>\n",
       "    .dataframe tbody tr th:only-of-type {\n",
       "        vertical-align: middle;\n",
       "    }\n",
       "\n",
       "    .dataframe tbody tr th {\n",
       "        vertical-align: top;\n",
       "    }\n",
       "\n",
       "    .dataframe thead th {\n",
       "        text-align: right;\n",
       "    }\n",
       "</style>\n",
       "<table border=\"1\" class=\"dataframe\">\n",
       "  <thead>\n",
       "    <tr style=\"text-align: right;\">\n",
       "      <th></th>\n",
       "      <th>nb_orders</th>\n",
       "      <th>orders_ids</th>\n",
       "      <th>days_since_first_order</th>\n",
       "      <th>days_since_last_order</th>\n",
       "      <th>frequency</th>\n",
       "      <th>sum_orders</th>\n",
       "      <th>favourite_category</th>\n",
       "      <th>favourite_category_english</th>\n",
       "      <th>nb_reviews</th>\n",
       "      <th>average_review_score</th>\n",
       "      <th>favourite_payment_type</th>\n",
       "      <th>average_delivery_time</th>\n",
       "      <th>delay_rate</th>\n",
       "      <th>advance_rate</th>\n",
       "      <th>cancelation_rate</th>\n",
       "    </tr>\n",
       "    <tr>\n",
       "      <th>customer_unique_id</th>\n",
       "      <th></th>\n",
       "      <th></th>\n",
       "      <th></th>\n",
       "      <th></th>\n",
       "      <th></th>\n",
       "      <th></th>\n",
       "      <th></th>\n",
       "      <th></th>\n",
       "      <th></th>\n",
       "      <th></th>\n",
       "      <th></th>\n",
       "      <th></th>\n",
       "      <th></th>\n",
       "      <th></th>\n",
       "      <th></th>\n",
       "    </tr>\n",
       "  </thead>\n",
       "  <tbody>\n",
       "    <tr>\n",
       "      <th>00172711b30d52eea8b313a7f2cced02</th>\n",
       "      <td>2</td>\n",
       "      <td>[bb874c45df1a3c97842d52f31efee99a, c306eca42d3...</td>\n",
       "      <td>81</td>\n",
       "      <td>65</td>\n",
       "      <td>0.751543</td>\n",
       "      <td>74.50</td>\n",
       "      <td>papelaria</td>\n",
       "      <td>stationery</td>\n",
       "      <td>2.0</td>\n",
       "      <td>4.000000</td>\n",
       "      <td>voucher</td>\n",
       "      <td>10 days 18:53:22</td>\n",
       "      <td>0.000000</td>\n",
       "      <td>1.000000</td>\n",
       "      <td>0.500000</td>\n",
       "    </tr>\n",
       "    <tr>\n",
       "      <th>004288347e5e88a27ded2bb23747066c</th>\n",
       "      <td>2</td>\n",
       "      <td>[a61d617fbe5bd006e40d3a0988fc844b, 08204559beb...</td>\n",
       "      <td>447</td>\n",
       "      <td>276</td>\n",
       "      <td>0.136186</td>\n",
       "      <td>317.89</td>\n",
       "      <td>cool_stuff</td>\n",
       "      <td>cool_stuff</td>\n",
       "      <td>2.0</td>\n",
       "      <td>5.000000</td>\n",
       "      <td>credit_card</td>\n",
       "      <td>6 days 20:13:13</td>\n",
       "      <td>0.000000</td>\n",
       "      <td>1.000000</td>\n",
       "      <td>0.000000</td>\n",
       "    </tr>\n",
       "    <tr>\n",
       "      <th>004b45ec5c64187465168251cd1c9c2f</th>\n",
       "      <td>2</td>\n",
       "      <td>[90ae229a4addcfead792e2564554f09c, 9392c5e7288...</td>\n",
       "      <td>411</td>\n",
       "      <td>143</td>\n",
       "      <td>0.148114</td>\n",
       "      <td>86.90</td>\n",
       "      <td>moveis_decoracao</td>\n",
       "      <td>furniture_decor</td>\n",
       "      <td>2.0</td>\n",
       "      <td>3.000000</td>\n",
       "      <td>cash</td>\n",
       "      <td>21 days 13:34:03</td>\n",
       "      <td>0.000000</td>\n",
       "      <td>1.000000</td>\n",
       "      <td>0.000000</td>\n",
       "    </tr>\n",
       "    <tr>\n",
       "      <th>0058f300f57d7b93c477a131a59b36c3</th>\n",
       "      <td>2</td>\n",
       "      <td>[2cfc79d9582e9135c0a9b61fa60e6b21, 81a93b2fa39...</td>\n",
       "      <td>240</td>\n",
       "      <td>208</td>\n",
       "      <td>0.253646</td>\n",
       "      <td>132.48</td>\n",
       "      <td>malas_acessorios</td>\n",
       "      <td>luggage_accessories</td>\n",
       "      <td>2.0</td>\n",
       "      <td>3.000000</td>\n",
       "      <td>voucher</td>\n",
       "      <td>13 days 04:37:59</td>\n",
       "      <td>0.000000</td>\n",
       "      <td>1.000000</td>\n",
       "      <td>0.500000</td>\n",
       "    </tr>\n",
       "    <tr>\n",
       "      <th>00a39521eb40f7012db50455bf083460</th>\n",
       "      <td>2</td>\n",
       "      <td>[7d32c87acba91ed87ebd98310fe1c54d, cea3e6c11eb...</td>\n",
       "      <td>146</td>\n",
       "      <td>136</td>\n",
       "      <td>0.416952</td>\n",
       "      <td>81.45</td>\n",
       "      <td>esporte_lazer</td>\n",
       "      <td>sports_leisure</td>\n",
       "      <td>2.0</td>\n",
       "      <td>4.000000</td>\n",
       "      <td>credit_card</td>\n",
       "      <td>17 days 14:40:32</td>\n",
       "      <td>0.000000</td>\n",
       "      <td>1.000000</td>\n",
       "      <td>0.000000</td>\n",
       "    </tr>\n",
       "    <tr>\n",
       "      <th>...</th>\n",
       "      <td>...</td>\n",
       "      <td>...</td>\n",
       "      <td>...</td>\n",
       "      <td>...</td>\n",
       "      <td>...</td>\n",
       "      <td>...</td>\n",
       "      <td>...</td>\n",
       "      <td>...</td>\n",
       "      <td>...</td>\n",
       "      <td>...</td>\n",
       "      <td>...</td>\n",
       "      <td>...</td>\n",
       "      <td>...</td>\n",
       "      <td>...</td>\n",
       "      <td>...</td>\n",
       "    </tr>\n",
       "    <tr>\n",
       "      <th>ff36be26206fffe1eb37afd54c70e18b</th>\n",
       "      <td>3</td>\n",
       "      <td>[b02682757340133856bfb99145dd61cd, 81b7c7bbc8e...</td>\n",
       "      <td>81</td>\n",
       "      <td>55</td>\n",
       "      <td>1.127315</td>\n",
       "      <td>77.90</td>\n",
       "      <td>casa_conforto</td>\n",
       "      <td>home_confort</td>\n",
       "      <td>3.0</td>\n",
       "      <td>3.000000</td>\n",
       "      <td>voucher</td>\n",
       "      <td>11 days 22:20:41.890040068</td>\n",
       "      <td>0.000000</td>\n",
       "      <td>0.000000</td>\n",
       "      <td>0.666667</td>\n",
       "    </tr>\n",
       "    <tr>\n",
       "      <th>ff44401d0d8f5b9c54a47374eb48c1b8</th>\n",
       "      <td>2</td>\n",
       "      <td>[c087855fe6f303205c09558f7f8103c8, e28a4c66f14...</td>\n",
       "      <td>515</td>\n",
       "      <td>515</td>\n",
       "      <td>0.118204</td>\n",
       "      <td>39.80</td>\n",
       "      <td>fashion_bolsas_e_acessorios</td>\n",
       "      <td>fashion_bags_accessories</td>\n",
       "      <td>2.0</td>\n",
       "      <td>3.000000</td>\n",
       "      <td>voucher</td>\n",
       "      <td>12 days 07:56:58</td>\n",
       "      <td>0.000000</td>\n",
       "      <td>1.000000</td>\n",
       "      <td>0.000000</td>\n",
       "    </tr>\n",
       "    <tr>\n",
       "      <th>ff8892f7c26aa0446da53d01b18df463</th>\n",
       "      <td>2</td>\n",
       "      <td>[cb6e8d89049744886ad04520d5e0b2f6, 1c308eca3f3...</td>\n",
       "      <td>511</td>\n",
       "      <td>324</td>\n",
       "      <td>0.119129</td>\n",
       "      <td>277.95</td>\n",
       "      <td>relogios_presentes</td>\n",
       "      <td>watches_gifts</td>\n",
       "      <td>3.0</td>\n",
       "      <td>2.666667</td>\n",
       "      <td>credit_card</td>\n",
       "      <td>36 days 13:47:51</td>\n",
       "      <td>0.500000</td>\n",
       "      <td>0.500000</td>\n",
       "      <td>0.000000</td>\n",
       "    </tr>\n",
       "    <tr>\n",
       "      <th>ff922bdd6bafcdf99cb90d7f39cea5b3</th>\n",
       "      <td>3</td>\n",
       "      <td>[fd216c435fda2be27c92920a5e5dba82, 5f79e2da24a...</td>\n",
       "      <td>602</td>\n",
       "      <td>398</td>\n",
       "      <td>0.151682</td>\n",
       "      <td>94.79</td>\n",
       "      <td>utilidades_domesticas</td>\n",
       "      <td>housewares</td>\n",
       "      <td>3.0</td>\n",
       "      <td>4.333333</td>\n",
       "      <td>credit_card</td>\n",
       "      <td>17 days 01:03:28.333333333</td>\n",
       "      <td>0.333333</td>\n",
       "      <td>0.666667</td>\n",
       "      <td>0.000000</td>\n",
       "    </tr>\n",
       "    <tr>\n",
       "      <th>ffe254cc039740e17dd15a5305035928</th>\n",
       "      <td>2</td>\n",
       "      <td>[39a0e2f723def2e12a51e963006c9242, ebe76afae92...</td>\n",
       "      <td>563</td>\n",
       "      <td>563</td>\n",
       "      <td>0.108126</td>\n",
       "      <td>51.08</td>\n",
       "      <td>cama_mesa_banho</td>\n",
       "      <td>bed_bath_table</td>\n",
       "      <td>2.0</td>\n",
       "      <td>3.000000</td>\n",
       "      <td>credit_card</td>\n",
       "      <td>17 days 08:10:50</td>\n",
       "      <td>0.000000</td>\n",
       "      <td>1.000000</td>\n",
       "      <td>0.000000</td>\n",
       "    </tr>\n",
       "  </tbody>\n",
       "</table>\n",
       "<p>2997 rows × 15 columns</p>\n",
       "</div>"
      ],
      "text/plain": [
       "                                  nb_orders  \\\n",
       "customer_unique_id                            \n",
       "00172711b30d52eea8b313a7f2cced02          2   \n",
       "004288347e5e88a27ded2bb23747066c          2   \n",
       "004b45ec5c64187465168251cd1c9c2f          2   \n",
       "0058f300f57d7b93c477a131a59b36c3          2   \n",
       "00a39521eb40f7012db50455bf083460          2   \n",
       "...                                     ...   \n",
       "ff36be26206fffe1eb37afd54c70e18b          3   \n",
       "ff44401d0d8f5b9c54a47374eb48c1b8          2   \n",
       "ff8892f7c26aa0446da53d01b18df463          2   \n",
       "ff922bdd6bafcdf99cb90d7f39cea5b3          3   \n",
       "ffe254cc039740e17dd15a5305035928          2   \n",
       "\n",
       "                                                                         orders_ids  \\\n",
       "customer_unique_id                                                                    \n",
       "00172711b30d52eea8b313a7f2cced02  [bb874c45df1a3c97842d52f31efee99a, c306eca42d3...   \n",
       "004288347e5e88a27ded2bb23747066c  [a61d617fbe5bd006e40d3a0988fc844b, 08204559beb...   \n",
       "004b45ec5c64187465168251cd1c9c2f  [90ae229a4addcfead792e2564554f09c, 9392c5e7288...   \n",
       "0058f300f57d7b93c477a131a59b36c3  [2cfc79d9582e9135c0a9b61fa60e6b21, 81a93b2fa39...   \n",
       "00a39521eb40f7012db50455bf083460  [7d32c87acba91ed87ebd98310fe1c54d, cea3e6c11eb...   \n",
       "...                                                                             ...   \n",
       "ff36be26206fffe1eb37afd54c70e18b  [b02682757340133856bfb99145dd61cd, 81b7c7bbc8e...   \n",
       "ff44401d0d8f5b9c54a47374eb48c1b8  [c087855fe6f303205c09558f7f8103c8, e28a4c66f14...   \n",
       "ff8892f7c26aa0446da53d01b18df463  [cb6e8d89049744886ad04520d5e0b2f6, 1c308eca3f3...   \n",
       "ff922bdd6bafcdf99cb90d7f39cea5b3  [fd216c435fda2be27c92920a5e5dba82, 5f79e2da24a...   \n",
       "ffe254cc039740e17dd15a5305035928  [39a0e2f723def2e12a51e963006c9242, ebe76afae92...   \n",
       "\n",
       "                                  days_since_first_order  \\\n",
       "customer_unique_id                                         \n",
       "00172711b30d52eea8b313a7f2cced02                      81   \n",
       "004288347e5e88a27ded2bb23747066c                     447   \n",
       "004b45ec5c64187465168251cd1c9c2f                     411   \n",
       "0058f300f57d7b93c477a131a59b36c3                     240   \n",
       "00a39521eb40f7012db50455bf083460                     146   \n",
       "...                                                  ...   \n",
       "ff36be26206fffe1eb37afd54c70e18b                      81   \n",
       "ff44401d0d8f5b9c54a47374eb48c1b8                     515   \n",
       "ff8892f7c26aa0446da53d01b18df463                     511   \n",
       "ff922bdd6bafcdf99cb90d7f39cea5b3                     602   \n",
       "ffe254cc039740e17dd15a5305035928                     563   \n",
       "\n",
       "                                  days_since_last_order  frequency  \\\n",
       "customer_unique_id                                                   \n",
       "00172711b30d52eea8b313a7f2cced02                     65   0.751543   \n",
       "004288347e5e88a27ded2bb23747066c                    276   0.136186   \n",
       "004b45ec5c64187465168251cd1c9c2f                    143   0.148114   \n",
       "0058f300f57d7b93c477a131a59b36c3                    208   0.253646   \n",
       "00a39521eb40f7012db50455bf083460                    136   0.416952   \n",
       "...                                                 ...        ...   \n",
       "ff36be26206fffe1eb37afd54c70e18b                     55   1.127315   \n",
       "ff44401d0d8f5b9c54a47374eb48c1b8                    515   0.118204   \n",
       "ff8892f7c26aa0446da53d01b18df463                    324   0.119129   \n",
       "ff922bdd6bafcdf99cb90d7f39cea5b3                    398   0.151682   \n",
       "ffe254cc039740e17dd15a5305035928                    563   0.108126   \n",
       "\n",
       "                                  sum_orders           favourite_category  \\\n",
       "customer_unique_id                                                          \n",
       "00172711b30d52eea8b313a7f2cced02       74.50                    papelaria   \n",
       "004288347e5e88a27ded2bb23747066c      317.89                   cool_stuff   \n",
       "004b45ec5c64187465168251cd1c9c2f       86.90             moveis_decoracao   \n",
       "0058f300f57d7b93c477a131a59b36c3      132.48             malas_acessorios   \n",
       "00a39521eb40f7012db50455bf083460       81.45                esporte_lazer   \n",
       "...                                      ...                          ...   \n",
       "ff36be26206fffe1eb37afd54c70e18b       77.90                casa_conforto   \n",
       "ff44401d0d8f5b9c54a47374eb48c1b8       39.80  fashion_bolsas_e_acessorios   \n",
       "ff8892f7c26aa0446da53d01b18df463      277.95           relogios_presentes   \n",
       "ff922bdd6bafcdf99cb90d7f39cea5b3       94.79        utilidades_domesticas   \n",
       "ffe254cc039740e17dd15a5305035928       51.08              cama_mesa_banho   \n",
       "\n",
       "                                 favourite_category_english  nb_reviews  \\\n",
       "customer_unique_id                                                        \n",
       "00172711b30d52eea8b313a7f2cced02                 stationery         2.0   \n",
       "004288347e5e88a27ded2bb23747066c                 cool_stuff         2.0   \n",
       "004b45ec5c64187465168251cd1c9c2f            furniture_decor         2.0   \n",
       "0058f300f57d7b93c477a131a59b36c3        luggage_accessories         2.0   \n",
       "00a39521eb40f7012db50455bf083460             sports_leisure         2.0   \n",
       "...                                                     ...         ...   \n",
       "ff36be26206fffe1eb37afd54c70e18b               home_confort         3.0   \n",
       "ff44401d0d8f5b9c54a47374eb48c1b8   fashion_bags_accessories         2.0   \n",
       "ff8892f7c26aa0446da53d01b18df463              watches_gifts         3.0   \n",
       "ff922bdd6bafcdf99cb90d7f39cea5b3                 housewares         3.0   \n",
       "ffe254cc039740e17dd15a5305035928             bed_bath_table         2.0   \n",
       "\n",
       "                                  average_review_score favourite_payment_type  \\\n",
       "customer_unique_id                                                              \n",
       "00172711b30d52eea8b313a7f2cced02              4.000000                voucher   \n",
       "004288347e5e88a27ded2bb23747066c              5.000000            credit_card   \n",
       "004b45ec5c64187465168251cd1c9c2f              3.000000                   cash   \n",
       "0058f300f57d7b93c477a131a59b36c3              3.000000                voucher   \n",
       "00a39521eb40f7012db50455bf083460              4.000000            credit_card   \n",
       "...                                                ...                    ...   \n",
       "ff36be26206fffe1eb37afd54c70e18b              3.000000                voucher   \n",
       "ff44401d0d8f5b9c54a47374eb48c1b8              3.000000                voucher   \n",
       "ff8892f7c26aa0446da53d01b18df463              2.666667            credit_card   \n",
       "ff922bdd6bafcdf99cb90d7f39cea5b3              4.333333            credit_card   \n",
       "ffe254cc039740e17dd15a5305035928              3.000000            credit_card   \n",
       "\n",
       "                                      average_delivery_time  delay_rate  \\\n",
       "customer_unique_id                                                        \n",
       "00172711b30d52eea8b313a7f2cced02           10 days 18:53:22    0.000000   \n",
       "004288347e5e88a27ded2bb23747066c            6 days 20:13:13    0.000000   \n",
       "004b45ec5c64187465168251cd1c9c2f           21 days 13:34:03    0.000000   \n",
       "0058f300f57d7b93c477a131a59b36c3           13 days 04:37:59    0.000000   \n",
       "00a39521eb40f7012db50455bf083460           17 days 14:40:32    0.000000   \n",
       "...                                                     ...         ...   \n",
       "ff36be26206fffe1eb37afd54c70e18b 11 days 22:20:41.890040068    0.000000   \n",
       "ff44401d0d8f5b9c54a47374eb48c1b8           12 days 07:56:58    0.000000   \n",
       "ff8892f7c26aa0446da53d01b18df463           36 days 13:47:51    0.500000   \n",
       "ff922bdd6bafcdf99cb90d7f39cea5b3 17 days 01:03:28.333333333    0.333333   \n",
       "ffe254cc039740e17dd15a5305035928           17 days 08:10:50    0.000000   \n",
       "\n",
       "                                  advance_rate  cancelation_rate  \n",
       "customer_unique_id                                                \n",
       "00172711b30d52eea8b313a7f2cced02      1.000000          0.500000  \n",
       "004288347e5e88a27ded2bb23747066c      1.000000          0.000000  \n",
       "004b45ec5c64187465168251cd1c9c2f      1.000000          0.000000  \n",
       "0058f300f57d7b93c477a131a59b36c3      1.000000          0.500000  \n",
       "00a39521eb40f7012db50455bf083460      1.000000          0.000000  \n",
       "...                                        ...               ...  \n",
       "ff36be26206fffe1eb37afd54c70e18b      0.000000          0.666667  \n",
       "ff44401d0d8f5b9c54a47374eb48c1b8      1.000000          0.000000  \n",
       "ff8892f7c26aa0446da53d01b18df463      0.500000          0.000000  \n",
       "ff922bdd6bafcdf99cb90d7f39cea5b3      0.666667          0.000000  \n",
       "ffe254cc039740e17dd15a5305035928      1.000000          0.000000  \n",
       "\n",
       "[2997 rows x 15 columns]"
      ]
     },
     "execution_count": 125,
     "metadata": {},
     "output_type": "execute_result"
    }
   ],
   "source": [
    "data"
   ]
  },
  {
   "cell_type": "markdown",
   "id": "independent-federal",
   "metadata": {},
   "source": [
    "### Simplification de la donnée temporelle (Average delivery time)\n",
    "On arrondi au jour près"
   ]
  },
  {
   "cell_type": "code",
   "execution_count": 137,
   "id": "drawn-theme",
   "metadata": {},
   "outputs": [],
   "source": [
    "data.average_delivery_time = data.average_delivery_time.map(lambda x : x.round('d').days)"
   ]
  },
  {
   "cell_type": "markdown",
   "id": "addressed-paraguay",
   "metadata": {},
   "source": [
    "### Conversion des données catégoriques en données numériques"
   ]
  },
  {
   "cell_type": "code",
   "execution_count": 143,
   "id": "irish-sailing",
   "metadata": {},
   "outputs": [],
   "source": [
    "data = pd.concat([data, pd.get_dummies(data.favourite_category_english), pd.get_dummies(data.favourite_payment_type)], axis=1)"
   ]
  },
  {
   "cell_type": "code",
   "execution_count": 147,
   "id": "given-manufacturer",
   "metadata": {},
   "outputs": [
    {
     "data": {
      "text/html": [
       "<div>\n",
       "<style scoped>\n",
       "    .dataframe tbody tr th:only-of-type {\n",
       "        vertical-align: middle;\n",
       "    }\n",
       "\n",
       "    .dataframe tbody tr th {\n",
       "        vertical-align: top;\n",
       "    }\n",
       "\n",
       "    .dataframe thead th {\n",
       "        text-align: right;\n",
       "    }\n",
       "</style>\n",
       "<table border=\"1\" class=\"dataframe\">\n",
       "  <thead>\n",
       "    <tr style=\"text-align: right;\">\n",
       "      <th></th>\n",
       "      <th>nb_orders</th>\n",
       "      <th>orders_ids</th>\n",
       "      <th>days_since_first_order</th>\n",
       "      <th>days_since_last_order</th>\n",
       "      <th>frequency</th>\n",
       "      <th>sum_orders</th>\n",
       "      <th>favourite_category</th>\n",
       "      <th>favourite_category_english</th>\n",
       "      <th>nb_reviews</th>\n",
       "      <th>average_review_score</th>\n",
       "      <th>favourite_payment_type</th>\n",
       "      <th>average_delivery_time</th>\n",
       "      <th>delay_rate</th>\n",
       "      <th>advance_rate</th>\n",
       "      <th>cancelation_rate</th>\n",
       "    </tr>\n",
       "    <tr>\n",
       "      <th>customer_unique_id</th>\n",
       "      <th></th>\n",
       "      <th></th>\n",
       "      <th></th>\n",
       "      <th></th>\n",
       "      <th></th>\n",
       "      <th></th>\n",
       "      <th></th>\n",
       "      <th></th>\n",
       "      <th></th>\n",
       "      <th></th>\n",
       "      <th></th>\n",
       "      <th></th>\n",
       "      <th></th>\n",
       "      <th></th>\n",
       "      <th></th>\n",
       "    </tr>\n",
       "  </thead>\n",
       "  <tbody>\n",
       "    <tr>\n",
       "      <th>00172711b30d52eea8b313a7f2cced02</th>\n",
       "      <td>2</td>\n",
       "      <td>[bb874c45df1a3c97842d52f31efee99a, c306eca42d3...</td>\n",
       "      <td>81</td>\n",
       "      <td>65</td>\n",
       "      <td>0.751543</td>\n",
       "      <td>74.50</td>\n",
       "      <td>papelaria</td>\n",
       "      <td>stationery</td>\n",
       "      <td>2.0</td>\n",
       "      <td>4.000000</td>\n",
       "      <td>voucher</td>\n",
       "      <td>11</td>\n",
       "      <td>0.000000</td>\n",
       "      <td>1.000000</td>\n",
       "      <td>0.500000</td>\n",
       "    </tr>\n",
       "    <tr>\n",
       "      <th>004288347e5e88a27ded2bb23747066c</th>\n",
       "      <td>2</td>\n",
       "      <td>[a61d617fbe5bd006e40d3a0988fc844b, 08204559beb...</td>\n",
       "      <td>447</td>\n",
       "      <td>276</td>\n",
       "      <td>0.136186</td>\n",
       "      <td>317.89</td>\n",
       "      <td>cool_stuff</td>\n",
       "      <td>cool_stuff</td>\n",
       "      <td>2.0</td>\n",
       "      <td>5.000000</td>\n",
       "      <td>credit_card</td>\n",
       "      <td>7</td>\n",
       "      <td>0.000000</td>\n",
       "      <td>1.000000</td>\n",
       "      <td>0.000000</td>\n",
       "    </tr>\n",
       "    <tr>\n",
       "      <th>004b45ec5c64187465168251cd1c9c2f</th>\n",
       "      <td>2</td>\n",
       "      <td>[90ae229a4addcfead792e2564554f09c, 9392c5e7288...</td>\n",
       "      <td>411</td>\n",
       "      <td>143</td>\n",
       "      <td>0.148114</td>\n",
       "      <td>86.90</td>\n",
       "      <td>moveis_decoracao</td>\n",
       "      <td>furniture_decor</td>\n",
       "      <td>2.0</td>\n",
       "      <td>3.000000</td>\n",
       "      <td>cash</td>\n",
       "      <td>22</td>\n",
       "      <td>0.000000</td>\n",
       "      <td>1.000000</td>\n",
       "      <td>0.000000</td>\n",
       "    </tr>\n",
       "    <tr>\n",
       "      <th>0058f300f57d7b93c477a131a59b36c3</th>\n",
       "      <td>2</td>\n",
       "      <td>[2cfc79d9582e9135c0a9b61fa60e6b21, 81a93b2fa39...</td>\n",
       "      <td>240</td>\n",
       "      <td>208</td>\n",
       "      <td>0.253646</td>\n",
       "      <td>132.48</td>\n",
       "      <td>malas_acessorios</td>\n",
       "      <td>luggage_accessories</td>\n",
       "      <td>2.0</td>\n",
       "      <td>3.000000</td>\n",
       "      <td>voucher</td>\n",
       "      <td>13</td>\n",
       "      <td>0.000000</td>\n",
       "      <td>1.000000</td>\n",
       "      <td>0.500000</td>\n",
       "    </tr>\n",
       "    <tr>\n",
       "      <th>00a39521eb40f7012db50455bf083460</th>\n",
       "      <td>2</td>\n",
       "      <td>[7d32c87acba91ed87ebd98310fe1c54d, cea3e6c11eb...</td>\n",
       "      <td>146</td>\n",
       "      <td>136</td>\n",
       "      <td>0.416952</td>\n",
       "      <td>81.45</td>\n",
       "      <td>esporte_lazer</td>\n",
       "      <td>sports_leisure</td>\n",
       "      <td>2.0</td>\n",
       "      <td>4.000000</td>\n",
       "      <td>credit_card</td>\n",
       "      <td>18</td>\n",
       "      <td>0.000000</td>\n",
       "      <td>1.000000</td>\n",
       "      <td>0.000000</td>\n",
       "    </tr>\n",
       "    <tr>\n",
       "      <th>...</th>\n",
       "      <td>...</td>\n",
       "      <td>...</td>\n",
       "      <td>...</td>\n",
       "      <td>...</td>\n",
       "      <td>...</td>\n",
       "      <td>...</td>\n",
       "      <td>...</td>\n",
       "      <td>...</td>\n",
       "      <td>...</td>\n",
       "      <td>...</td>\n",
       "      <td>...</td>\n",
       "      <td>...</td>\n",
       "      <td>...</td>\n",
       "      <td>...</td>\n",
       "      <td>...</td>\n",
       "    </tr>\n",
       "    <tr>\n",
       "      <th>ff36be26206fffe1eb37afd54c70e18b</th>\n",
       "      <td>3</td>\n",
       "      <td>[b02682757340133856bfb99145dd61cd, 81b7c7bbc8e...</td>\n",
       "      <td>81</td>\n",
       "      <td>55</td>\n",
       "      <td>1.127315</td>\n",
       "      <td>77.90</td>\n",
       "      <td>casa_conforto</td>\n",
       "      <td>home_confort</td>\n",
       "      <td>3.0</td>\n",
       "      <td>3.000000</td>\n",
       "      <td>voucher</td>\n",
       "      <td>12</td>\n",
       "      <td>0.000000</td>\n",
       "      <td>0.000000</td>\n",
       "      <td>0.666667</td>\n",
       "    </tr>\n",
       "    <tr>\n",
       "      <th>ff44401d0d8f5b9c54a47374eb48c1b8</th>\n",
       "      <td>2</td>\n",
       "      <td>[c087855fe6f303205c09558f7f8103c8, e28a4c66f14...</td>\n",
       "      <td>515</td>\n",
       "      <td>515</td>\n",
       "      <td>0.118204</td>\n",
       "      <td>39.80</td>\n",
       "      <td>fashion_bolsas_e_acessorios</td>\n",
       "      <td>fashion_bags_accessories</td>\n",
       "      <td>2.0</td>\n",
       "      <td>3.000000</td>\n",
       "      <td>voucher</td>\n",
       "      <td>12</td>\n",
       "      <td>0.000000</td>\n",
       "      <td>1.000000</td>\n",
       "      <td>0.000000</td>\n",
       "    </tr>\n",
       "    <tr>\n",
       "      <th>ff8892f7c26aa0446da53d01b18df463</th>\n",
       "      <td>2</td>\n",
       "      <td>[cb6e8d89049744886ad04520d5e0b2f6, 1c308eca3f3...</td>\n",
       "      <td>511</td>\n",
       "      <td>324</td>\n",
       "      <td>0.119129</td>\n",
       "      <td>277.95</td>\n",
       "      <td>relogios_presentes</td>\n",
       "      <td>watches_gifts</td>\n",
       "      <td>3.0</td>\n",
       "      <td>2.666667</td>\n",
       "      <td>credit_card</td>\n",
       "      <td>37</td>\n",
       "      <td>0.500000</td>\n",
       "      <td>0.500000</td>\n",
       "      <td>0.000000</td>\n",
       "    </tr>\n",
       "    <tr>\n",
       "      <th>ff922bdd6bafcdf99cb90d7f39cea5b3</th>\n",
       "      <td>3</td>\n",
       "      <td>[fd216c435fda2be27c92920a5e5dba82, 5f79e2da24a...</td>\n",
       "      <td>602</td>\n",
       "      <td>398</td>\n",
       "      <td>0.151682</td>\n",
       "      <td>94.79</td>\n",
       "      <td>utilidades_domesticas</td>\n",
       "      <td>housewares</td>\n",
       "      <td>3.0</td>\n",
       "      <td>4.333333</td>\n",
       "      <td>credit_card</td>\n",
       "      <td>17</td>\n",
       "      <td>0.333333</td>\n",
       "      <td>0.666667</td>\n",
       "      <td>0.000000</td>\n",
       "    </tr>\n",
       "    <tr>\n",
       "      <th>ffe254cc039740e17dd15a5305035928</th>\n",
       "      <td>2</td>\n",
       "      <td>[39a0e2f723def2e12a51e963006c9242, ebe76afae92...</td>\n",
       "      <td>563</td>\n",
       "      <td>563</td>\n",
       "      <td>0.108126</td>\n",
       "      <td>51.08</td>\n",
       "      <td>cama_mesa_banho</td>\n",
       "      <td>bed_bath_table</td>\n",
       "      <td>2.0</td>\n",
       "      <td>3.000000</td>\n",
       "      <td>credit_card</td>\n",
       "      <td>17</td>\n",
       "      <td>0.000000</td>\n",
       "      <td>1.000000</td>\n",
       "      <td>0.000000</td>\n",
       "    </tr>\n",
       "  </tbody>\n",
       "</table>\n",
       "<p>2997 rows × 15 columns</p>\n",
       "</div>"
      ],
      "text/plain": [
       "                                  nb_orders  \\\n",
       "customer_unique_id                            \n",
       "00172711b30d52eea8b313a7f2cced02          2   \n",
       "004288347e5e88a27ded2bb23747066c          2   \n",
       "004b45ec5c64187465168251cd1c9c2f          2   \n",
       "0058f300f57d7b93c477a131a59b36c3          2   \n",
       "00a39521eb40f7012db50455bf083460          2   \n",
       "...                                     ...   \n",
       "ff36be26206fffe1eb37afd54c70e18b          3   \n",
       "ff44401d0d8f5b9c54a47374eb48c1b8          2   \n",
       "ff8892f7c26aa0446da53d01b18df463          2   \n",
       "ff922bdd6bafcdf99cb90d7f39cea5b3          3   \n",
       "ffe254cc039740e17dd15a5305035928          2   \n",
       "\n",
       "                                                                         orders_ids  \\\n",
       "customer_unique_id                                                                    \n",
       "00172711b30d52eea8b313a7f2cced02  [bb874c45df1a3c97842d52f31efee99a, c306eca42d3...   \n",
       "004288347e5e88a27ded2bb23747066c  [a61d617fbe5bd006e40d3a0988fc844b, 08204559beb...   \n",
       "004b45ec5c64187465168251cd1c9c2f  [90ae229a4addcfead792e2564554f09c, 9392c5e7288...   \n",
       "0058f300f57d7b93c477a131a59b36c3  [2cfc79d9582e9135c0a9b61fa60e6b21, 81a93b2fa39...   \n",
       "00a39521eb40f7012db50455bf083460  [7d32c87acba91ed87ebd98310fe1c54d, cea3e6c11eb...   \n",
       "...                                                                             ...   \n",
       "ff36be26206fffe1eb37afd54c70e18b  [b02682757340133856bfb99145dd61cd, 81b7c7bbc8e...   \n",
       "ff44401d0d8f5b9c54a47374eb48c1b8  [c087855fe6f303205c09558f7f8103c8, e28a4c66f14...   \n",
       "ff8892f7c26aa0446da53d01b18df463  [cb6e8d89049744886ad04520d5e0b2f6, 1c308eca3f3...   \n",
       "ff922bdd6bafcdf99cb90d7f39cea5b3  [fd216c435fda2be27c92920a5e5dba82, 5f79e2da24a...   \n",
       "ffe254cc039740e17dd15a5305035928  [39a0e2f723def2e12a51e963006c9242, ebe76afae92...   \n",
       "\n",
       "                                  days_since_first_order  \\\n",
       "customer_unique_id                                         \n",
       "00172711b30d52eea8b313a7f2cced02                      81   \n",
       "004288347e5e88a27ded2bb23747066c                     447   \n",
       "004b45ec5c64187465168251cd1c9c2f                     411   \n",
       "0058f300f57d7b93c477a131a59b36c3                     240   \n",
       "00a39521eb40f7012db50455bf083460                     146   \n",
       "...                                                  ...   \n",
       "ff36be26206fffe1eb37afd54c70e18b                      81   \n",
       "ff44401d0d8f5b9c54a47374eb48c1b8                     515   \n",
       "ff8892f7c26aa0446da53d01b18df463                     511   \n",
       "ff922bdd6bafcdf99cb90d7f39cea5b3                     602   \n",
       "ffe254cc039740e17dd15a5305035928                     563   \n",
       "\n",
       "                                  days_since_last_order  frequency  \\\n",
       "customer_unique_id                                                   \n",
       "00172711b30d52eea8b313a7f2cced02                     65   0.751543   \n",
       "004288347e5e88a27ded2bb23747066c                    276   0.136186   \n",
       "004b45ec5c64187465168251cd1c9c2f                    143   0.148114   \n",
       "0058f300f57d7b93c477a131a59b36c3                    208   0.253646   \n",
       "00a39521eb40f7012db50455bf083460                    136   0.416952   \n",
       "...                                                 ...        ...   \n",
       "ff36be26206fffe1eb37afd54c70e18b                     55   1.127315   \n",
       "ff44401d0d8f5b9c54a47374eb48c1b8                    515   0.118204   \n",
       "ff8892f7c26aa0446da53d01b18df463                    324   0.119129   \n",
       "ff922bdd6bafcdf99cb90d7f39cea5b3                    398   0.151682   \n",
       "ffe254cc039740e17dd15a5305035928                    563   0.108126   \n",
       "\n",
       "                                  sum_orders           favourite_category  \\\n",
       "customer_unique_id                                                          \n",
       "00172711b30d52eea8b313a7f2cced02       74.50                    papelaria   \n",
       "004288347e5e88a27ded2bb23747066c      317.89                   cool_stuff   \n",
       "004b45ec5c64187465168251cd1c9c2f       86.90             moveis_decoracao   \n",
       "0058f300f57d7b93c477a131a59b36c3      132.48             malas_acessorios   \n",
       "00a39521eb40f7012db50455bf083460       81.45                esporte_lazer   \n",
       "...                                      ...                          ...   \n",
       "ff36be26206fffe1eb37afd54c70e18b       77.90                casa_conforto   \n",
       "ff44401d0d8f5b9c54a47374eb48c1b8       39.80  fashion_bolsas_e_acessorios   \n",
       "ff8892f7c26aa0446da53d01b18df463      277.95           relogios_presentes   \n",
       "ff922bdd6bafcdf99cb90d7f39cea5b3       94.79        utilidades_domesticas   \n",
       "ffe254cc039740e17dd15a5305035928       51.08              cama_mesa_banho   \n",
       "\n",
       "                                 favourite_category_english  nb_reviews  \\\n",
       "customer_unique_id                                                        \n",
       "00172711b30d52eea8b313a7f2cced02                 stationery         2.0   \n",
       "004288347e5e88a27ded2bb23747066c                 cool_stuff         2.0   \n",
       "004b45ec5c64187465168251cd1c9c2f            furniture_decor         2.0   \n",
       "0058f300f57d7b93c477a131a59b36c3        luggage_accessories         2.0   \n",
       "00a39521eb40f7012db50455bf083460             sports_leisure         2.0   \n",
       "...                                                     ...         ...   \n",
       "ff36be26206fffe1eb37afd54c70e18b               home_confort         3.0   \n",
       "ff44401d0d8f5b9c54a47374eb48c1b8   fashion_bags_accessories         2.0   \n",
       "ff8892f7c26aa0446da53d01b18df463              watches_gifts         3.0   \n",
       "ff922bdd6bafcdf99cb90d7f39cea5b3                 housewares         3.0   \n",
       "ffe254cc039740e17dd15a5305035928             bed_bath_table         2.0   \n",
       "\n",
       "                                  average_review_score favourite_payment_type  \\\n",
       "customer_unique_id                                                              \n",
       "00172711b30d52eea8b313a7f2cced02              4.000000                voucher   \n",
       "004288347e5e88a27ded2bb23747066c              5.000000            credit_card   \n",
       "004b45ec5c64187465168251cd1c9c2f              3.000000                   cash   \n",
       "0058f300f57d7b93c477a131a59b36c3              3.000000                voucher   \n",
       "00a39521eb40f7012db50455bf083460              4.000000            credit_card   \n",
       "...                                                ...                    ...   \n",
       "ff36be26206fffe1eb37afd54c70e18b              3.000000                voucher   \n",
       "ff44401d0d8f5b9c54a47374eb48c1b8              3.000000                voucher   \n",
       "ff8892f7c26aa0446da53d01b18df463              2.666667            credit_card   \n",
       "ff922bdd6bafcdf99cb90d7f39cea5b3              4.333333            credit_card   \n",
       "ffe254cc039740e17dd15a5305035928              3.000000            credit_card   \n",
       "\n",
       "                                  average_delivery_time  delay_rate  \\\n",
       "customer_unique_id                                                    \n",
       "00172711b30d52eea8b313a7f2cced02                     11    0.000000   \n",
       "004288347e5e88a27ded2bb23747066c                      7    0.000000   \n",
       "004b45ec5c64187465168251cd1c9c2f                     22    0.000000   \n",
       "0058f300f57d7b93c477a131a59b36c3                     13    0.000000   \n",
       "00a39521eb40f7012db50455bf083460                     18    0.000000   \n",
       "...                                                 ...         ...   \n",
       "ff36be26206fffe1eb37afd54c70e18b                     12    0.000000   \n",
       "ff44401d0d8f5b9c54a47374eb48c1b8                     12    0.000000   \n",
       "ff8892f7c26aa0446da53d01b18df463                     37    0.500000   \n",
       "ff922bdd6bafcdf99cb90d7f39cea5b3                     17    0.333333   \n",
       "ffe254cc039740e17dd15a5305035928                     17    0.000000   \n",
       "\n",
       "                                  advance_rate  cancelation_rate  \n",
       "customer_unique_id                                                \n",
       "00172711b30d52eea8b313a7f2cced02      1.000000          0.500000  \n",
       "004288347e5e88a27ded2bb23747066c      1.000000          0.000000  \n",
       "004b45ec5c64187465168251cd1c9c2f      1.000000          0.000000  \n",
       "0058f300f57d7b93c477a131a59b36c3      1.000000          0.500000  \n",
       "00a39521eb40f7012db50455bf083460      1.000000          0.000000  \n",
       "...                                        ...               ...  \n",
       "ff36be26206fffe1eb37afd54c70e18b      0.000000          0.666667  \n",
       "ff44401d0d8f5b9c54a47374eb48c1b8      1.000000          0.000000  \n",
       "ff8892f7c26aa0446da53d01b18df463      0.500000          0.000000  \n",
       "ff922bdd6bafcdf99cb90d7f39cea5b3      0.666667          0.000000  \n",
       "ffe254cc039740e17dd15a5305035928      1.000000          0.000000  \n",
       "\n",
       "[2997 rows x 15 columns]"
      ]
     },
     "execution_count": 147,
     "metadata": {},
     "output_type": "execute_result"
    }
   ],
   "source": [
    "data.iloc[:, :15]"
   ]
  },
  {
   "cell_type": "code",
   "execution_count": null,
   "id": "boring-bahamas",
   "metadata": {},
   "outputs": [],
   "source": []
  },
  {
   "cell_type": "markdown",
   "id": "banned-furniture",
   "metadata": {},
   "source": [
    "### Suppression des colonnes qui ne sont pas utiles pour la modélisation"
   ]
  },
  {
   "cell_type": "code",
   "execution_count": 149,
   "id": "other-substance",
   "metadata": {},
   "outputs": [],
   "source": [
    "data.drop(columns=['orders_ids', 'favourite_category', 'favourite_category_english', 'favourite_payment_type'], inplace=True)"
   ]
  },
  {
   "cell_type": "code",
   "execution_count": 150,
   "id": "scientific-theorem",
   "metadata": {},
   "outputs": [
    {
     "data": {
      "text/html": [
       "<div>\n",
       "<style scoped>\n",
       "    .dataframe tbody tr th:only-of-type {\n",
       "        vertical-align: middle;\n",
       "    }\n",
       "\n",
       "    .dataframe tbody tr th {\n",
       "        vertical-align: top;\n",
       "    }\n",
       "\n",
       "    .dataframe thead th {\n",
       "        text-align: right;\n",
       "    }\n",
       "</style>\n",
       "<table border=\"1\" class=\"dataframe\">\n",
       "  <thead>\n",
       "    <tr style=\"text-align: right;\">\n",
       "      <th></th>\n",
       "      <th>nb_orders</th>\n",
       "      <th>days_since_first_order</th>\n",
       "      <th>days_since_last_order</th>\n",
       "      <th>frequency</th>\n",
       "      <th>sum_orders</th>\n",
       "      <th>nb_reviews</th>\n",
       "      <th>average_review_score</th>\n",
       "      <th>average_delivery_time</th>\n",
       "      <th>delay_rate</th>\n",
       "      <th>advance_rate</th>\n",
       "      <th>...</th>\n",
       "      <th>stationery</th>\n",
       "      <th>tablets_printing_image</th>\n",
       "      <th>telephony</th>\n",
       "      <th>toys</th>\n",
       "      <th>watches_gifts</th>\n",
       "      <th>cash</th>\n",
       "      <th>credit_card</th>\n",
       "      <th>debit_card</th>\n",
       "      <th>not_defined</th>\n",
       "      <th>voucher</th>\n",
       "    </tr>\n",
       "  </thead>\n",
       "  <tbody>\n",
       "    <tr>\n",
       "      <th>count</th>\n",
       "      <td>2997.000000</td>\n",
       "      <td>2997.000000</td>\n",
       "      <td>2997.000000</td>\n",
       "      <td>2997.000000</td>\n",
       "      <td>2997.000000</td>\n",
       "      <td>2997.000000</td>\n",
       "      <td>2997.000000</td>\n",
       "      <td>2997.000000</td>\n",
       "      <td>2997.000000</td>\n",
       "      <td>2997.000000</td>\n",
       "      <td>...</td>\n",
       "      <td>2997.000000</td>\n",
       "      <td>2997.000000</td>\n",
       "      <td>2997.000000</td>\n",
       "      <td>2997.000000</td>\n",
       "      <td>2997.000000</td>\n",
       "      <td>2997.000000</td>\n",
       "      <td>2997.000000</td>\n",
       "      <td>2997.000000</td>\n",
       "      <td>2997.000000</td>\n",
       "      <td>2997.000000</td>\n",
       "    </tr>\n",
       "    <tr>\n",
       "      <th>mean</th>\n",
       "      <td>2.116116</td>\n",
       "      <td>355.512846</td>\n",
       "      <td>268.206874</td>\n",
       "      <td>0.234270</td>\n",
       "      <td>259.867191</td>\n",
       "      <td>2.274608</td>\n",
       "      <td>4.098780</td>\n",
       "      <td>11.935936</td>\n",
       "      <td>0.050804</td>\n",
       "      <td>0.908424</td>\n",
       "      <td>...</td>\n",
       "      <td>0.009009</td>\n",
       "      <td>0.000334</td>\n",
       "      <td>0.020020</td>\n",
       "      <td>0.042042</td>\n",
       "      <td>0.053053</td>\n",
       "      <td>0.180180</td>\n",
       "      <td>0.736737</td>\n",
       "      <td>0.020020</td>\n",
       "      <td>0.000334</td>\n",
       "      <td>0.062729</td>\n",
       "    </tr>\n",
       "    <tr>\n",
       "      <th>std</th>\n",
       "      <td>0.516610</td>\n",
       "      <td>148.227400</td>\n",
       "      <td>145.352456</td>\n",
       "      <td>0.167588</td>\n",
       "      <td>308.511754</td>\n",
       "      <td>0.705925</td>\n",
       "      <td>1.150088</td>\n",
       "      <td>7.135904</td>\n",
       "      <td>0.169246</td>\n",
       "      <td>0.229860</td>\n",
       "      <td>...</td>\n",
       "      <td>0.094503</td>\n",
       "      <td>0.018267</td>\n",
       "      <td>0.140092</td>\n",
       "      <td>0.200719</td>\n",
       "      <td>0.224177</td>\n",
       "      <td>0.384402</td>\n",
       "      <td>0.440478</td>\n",
       "      <td>0.140092</td>\n",
       "      <td>0.018267</td>\n",
       "      <td>0.242516</td>\n",
       "    </tr>\n",
       "    <tr>\n",
       "      <th>min</th>\n",
       "      <td>2.000000</td>\n",
       "      <td>49.000000</td>\n",
       "      <td>0.000000</td>\n",
       "      <td>0.081931</td>\n",
       "      <td>0.000000</td>\n",
       "      <td>2.000000</td>\n",
       "      <td>1.000000</td>\n",
       "      <td>0.000000</td>\n",
       "      <td>0.000000</td>\n",
       "      <td>0.000000</td>\n",
       "      <td>...</td>\n",
       "      <td>0.000000</td>\n",
       "      <td>0.000000</td>\n",
       "      <td>0.000000</td>\n",
       "      <td>0.000000</td>\n",
       "      <td>0.000000</td>\n",
       "      <td>0.000000</td>\n",
       "      <td>0.000000</td>\n",
       "      <td>0.000000</td>\n",
       "      <td>0.000000</td>\n",
       "      <td>0.000000</td>\n",
       "    </tr>\n",
       "    <tr>\n",
       "      <th>25%</th>\n",
       "      <td>2.000000</td>\n",
       "      <td>239.000000</td>\n",
       "      <td>152.000000</td>\n",
       "      <td>0.133206</td>\n",
       "      <td>109.900000</td>\n",
       "      <td>2.000000</td>\n",
       "      <td>3.500000</td>\n",
       "      <td>7.000000</td>\n",
       "      <td>0.000000</td>\n",
       "      <td>1.000000</td>\n",
       "      <td>...</td>\n",
       "      <td>0.000000</td>\n",
       "      <td>0.000000</td>\n",
       "      <td>0.000000</td>\n",
       "      <td>0.000000</td>\n",
       "      <td>0.000000</td>\n",
       "      <td>0.000000</td>\n",
       "      <td>0.000000</td>\n",
       "      <td>0.000000</td>\n",
       "      <td>0.000000</td>\n",
       "      <td>0.000000</td>\n",
       "    </tr>\n",
       "    <tr>\n",
       "      <th>50%</th>\n",
       "      <td>2.000000</td>\n",
       "      <td>350.000000</td>\n",
       "      <td>248.000000</td>\n",
       "      <td>0.183912</td>\n",
       "      <td>179.890000</td>\n",
       "      <td>2.000000</td>\n",
       "      <td>4.500000</td>\n",
       "      <td>11.000000</td>\n",
       "      <td>0.000000</td>\n",
       "      <td>1.000000</td>\n",
       "      <td>...</td>\n",
       "      <td>0.000000</td>\n",
       "      <td>0.000000</td>\n",
       "      <td>0.000000</td>\n",
       "      <td>0.000000</td>\n",
       "      <td>0.000000</td>\n",
       "      <td>0.000000</td>\n",
       "      <td>1.000000</td>\n",
       "      <td>0.000000</td>\n",
       "      <td>0.000000</td>\n",
       "      <td>0.000000</td>\n",
       "    </tr>\n",
       "    <tr>\n",
       "      <th>75%</th>\n",
       "      <td>2.000000</td>\n",
       "      <td>474.000000</td>\n",
       "      <td>366.000000</td>\n",
       "      <td>0.262392</td>\n",
       "      <td>303.160000</td>\n",
       "      <td>2.000000</td>\n",
       "      <td>5.000000</td>\n",
       "      <td>15.000000</td>\n",
       "      <td>0.000000</td>\n",
       "      <td>1.000000</td>\n",
       "      <td>...</td>\n",
       "      <td>0.000000</td>\n",
       "      <td>0.000000</td>\n",
       "      <td>0.000000</td>\n",
       "      <td>0.000000</td>\n",
       "      <td>0.000000</td>\n",
       "      <td>0.000000</td>\n",
       "      <td>1.000000</td>\n",
       "      <td>0.000000</td>\n",
       "      <td>0.000000</td>\n",
       "      <td>0.000000</td>\n",
       "    </tr>\n",
       "    <tr>\n",
       "      <th>max</th>\n",
       "      <td>17.000000</td>\n",
       "      <td>744.000000</td>\n",
       "      <td>740.000000</td>\n",
       "      <td>1.863520</td>\n",
       "      <td>7388.000000</td>\n",
       "      <td>17.000000</td>\n",
       "      <td>5.000000</td>\n",
       "      <td>74.000000</td>\n",
       "      <td>1.000000</td>\n",
       "      <td>1.000000</td>\n",
       "      <td>...</td>\n",
       "      <td>1.000000</td>\n",
       "      <td>1.000000</td>\n",
       "      <td>1.000000</td>\n",
       "      <td>1.000000</td>\n",
       "      <td>1.000000</td>\n",
       "      <td>1.000000</td>\n",
       "      <td>1.000000</td>\n",
       "      <td>1.000000</td>\n",
       "      <td>1.000000</td>\n",
       "      <td>1.000000</td>\n",
       "    </tr>\n",
       "  </tbody>\n",
       "</table>\n",
       "<p>8 rows × 81 columns</p>\n",
       "</div>"
      ],
      "text/plain": [
       "         nb_orders  days_since_first_order  days_since_last_order  \\\n",
       "count  2997.000000             2997.000000            2997.000000   \n",
       "mean      2.116116              355.512846             268.206874   \n",
       "std       0.516610              148.227400             145.352456   \n",
       "min       2.000000               49.000000               0.000000   \n",
       "25%       2.000000              239.000000             152.000000   \n",
       "50%       2.000000              350.000000             248.000000   \n",
       "75%       2.000000              474.000000             366.000000   \n",
       "max      17.000000              744.000000             740.000000   \n",
       "\n",
       "         frequency   sum_orders   nb_reviews  average_review_score  \\\n",
       "count  2997.000000  2997.000000  2997.000000           2997.000000   \n",
       "mean      0.234270   259.867191     2.274608              4.098780   \n",
       "std       0.167588   308.511754     0.705925              1.150088   \n",
       "min       0.081931     0.000000     2.000000              1.000000   \n",
       "25%       0.133206   109.900000     2.000000              3.500000   \n",
       "50%       0.183912   179.890000     2.000000              4.500000   \n",
       "75%       0.262392   303.160000     2.000000              5.000000   \n",
       "max       1.863520  7388.000000    17.000000              5.000000   \n",
       "\n",
       "       average_delivery_time   delay_rate  advance_rate  ...   stationery  \\\n",
       "count            2997.000000  2997.000000   2997.000000  ...  2997.000000   \n",
       "mean               11.935936     0.050804      0.908424  ...     0.009009   \n",
       "std                 7.135904     0.169246      0.229860  ...     0.094503   \n",
       "min                 0.000000     0.000000      0.000000  ...     0.000000   \n",
       "25%                 7.000000     0.000000      1.000000  ...     0.000000   \n",
       "50%                11.000000     0.000000      1.000000  ...     0.000000   \n",
       "75%                15.000000     0.000000      1.000000  ...     0.000000   \n",
       "max                74.000000     1.000000      1.000000  ...     1.000000   \n",
       "\n",
       "       tablets_printing_image    telephony         toys  watches_gifts  \\\n",
       "count             2997.000000  2997.000000  2997.000000    2997.000000   \n",
       "mean                 0.000334     0.020020     0.042042       0.053053   \n",
       "std                  0.018267     0.140092     0.200719       0.224177   \n",
       "min                  0.000000     0.000000     0.000000       0.000000   \n",
       "25%                  0.000000     0.000000     0.000000       0.000000   \n",
       "50%                  0.000000     0.000000     0.000000       0.000000   \n",
       "75%                  0.000000     0.000000     0.000000       0.000000   \n",
       "max                  1.000000     1.000000     1.000000       1.000000   \n",
       "\n",
       "              cash  credit_card   debit_card  not_defined      voucher  \n",
       "count  2997.000000  2997.000000  2997.000000  2997.000000  2997.000000  \n",
       "mean      0.180180     0.736737     0.020020     0.000334     0.062729  \n",
       "std       0.384402     0.440478     0.140092     0.018267     0.242516  \n",
       "min       0.000000     0.000000     0.000000     0.000000     0.000000  \n",
       "25%       0.000000     0.000000     0.000000     0.000000     0.000000  \n",
       "50%       0.000000     1.000000     0.000000     0.000000     0.000000  \n",
       "75%       0.000000     1.000000     0.000000     0.000000     0.000000  \n",
       "max       1.000000     1.000000     1.000000     1.000000     1.000000  \n",
       "\n",
       "[8 rows x 81 columns]"
      ]
     },
     "execution_count": 150,
     "metadata": {},
     "output_type": "execute_result"
    }
   ],
   "source": [
    "data.describe()"
   ]
  },
  {
   "cell_type": "code",
   "execution_count": 151,
   "id": "casual-reality",
   "metadata": {},
   "outputs": [],
   "source": [
    "# data.to_csv('data/customer_data.csv')"
   ]
  },
  {
   "cell_type": "code",
   "execution_count": null,
   "id": "recognized-shower",
   "metadata": {},
   "outputs": [],
   "source": []
  }
 ],
 "metadata": {
  "kernelspec": {
   "display_name": "OC_P05_env",
   "language": "python",
   "name": "oc_p05_env"
  },
  "language_info": {
   "codemirror_mode": {
    "name": "ipython",
    "version": 3
   },
   "file_extension": ".py",
   "mimetype": "text/x-python",
   "name": "python",
   "nbconvert_exporter": "python",
   "pygments_lexer": "ipython3",
   "version": "3.8.5"
  }
 },
 "nbformat": 4,
 "nbformat_minor": 5
}
